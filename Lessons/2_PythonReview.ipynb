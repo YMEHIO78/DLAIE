{
  "nbformat": 4,
  "nbformat_minor": 0,
  "metadata": {
    "colab": {
      "name": "2_PythonReview.ipynb",
      "provenance": [],
      "collapsed_sections": []
    },
    "kernelspec": {
      "display_name": "Python 3",
      "language": "python",
      "name": "python3"
    },
    "language_info": {
      "codemirror_mode": {
        "name": "ipython",
        "version": 3
      },
      "file_extension": ".py",
      "mimetype": "text/x-python",
      "name": "python",
      "nbconvert_exporter": "python",
      "pygments_lexer": "ipython3",
      "version": "3.8.6"
    }
  },
  "cells": [
    {
      "cell_type": "markdown",
      "metadata": {
        "id": "7QMukh9KVrge"
      },
      "source": [
        "[![Open In Colab](https://colab.research.google.com/assets/colab-badge.svg)](https://colab.research.google.com/drive/1jkVzPlJe1indZnIGzG9S45F5O27tppCs?usp=sharing)\n",
        "\n",
        "*Note: GitHub.com does not render everything when viewing these notbeook files, so click the \"Open in Colab\" button above to see everything as it's intended.*"
      ]
    },
    {
      "cell_type": "markdown",
      "metadata": {
        "id": "6q0qF7gm5Rwf"
      },
      "source": [
        "# Python/Jupyter Review\n",
        "\n",
        "This course assumes some \"basic\" familiarity with Python (cf. [\"Learn the Basics\" at LearnPython.org](https://www.learnpython.org/)).  We're not going to be doing what I'd call \"hardcore\" Python, and many \"hard\" things will be taken care of for you via utility routines so you'll often only have to \"fill in the blanks\" here and there.\n",
        "\n",
        "Still, there's likely some need for review as well as to highlight important \"tricks\", and things you maybe haven't seen before. In particular, we'll be making use of the \"science stack\" (e.g., `numpy`, `matplotlib`,a little `pandas`) but not the \"web stack\" (e.g. not Flask or Django).  So, let's make a list of things you'll see in this course...\n"
      ]
    },
    {
      "cell_type": "markdown",
      "metadata": {
        "id": "8qyzKWtruZA5"
      },
      "source": [
        "## Key Points about Python \n",
        "\n",
        "### It's superb for \"messing around\"\n",
        "> \"*Decades of programming in strongly-typed, declarative, pre- and post-allocation-based languages held me back from 'getting' this key fact about Python: It's extremely well-suited for **messing around**, ...and one of best playgrounds for messing around in is the Jupyter notebook environment.*\" - S.H.\n",
        "\n",
        "Everything is mutable, everything is overridable, everything is extendable. This is a blessing and a curse. For years I was preoccupied with the curse part, but you'll do well to remember the blessing side: you can do what you want (within limits)! \n",
        "<center><img src=\"https://d3qdvvkm3r2z1i.cloudfront.net/media/catalog/product/cache/1/thumbnail/85e4522595efc69f496374d01ef2bf13/d/o/dowhatiwant_newthumb-again.png\" width=\"25%\"></center>\n",
        "\n",
        "It's not obvious that you'd want to write production code in Python: it *can* be fast, but it's not secure *at all*; for learning things and rapid prototyping though, it's awesome. \n",
        "\n",
        "### There's a Library/Package for Everything\n",
        "I think this is another key to Python's success. Other languages have some of this (e.g. JavaScript & npm), but with Python there really is already some package that will do much of the heavy lifting for you if you want.\n",
        "\n",
        "### Writing Fast Python is a 'Habit'\n",
        "\n",
        "Speed matters for deep learning because we'll be dealing with *gajillions* of calculations, and a the difference between 10 microseconds vs. 10 milliseconds per operation will make the difference between you getting an answer to a homework problem in a few minutes vs. a few *days*.  (Again, this is a different mindset than, say, web programming in Python, where speed matters a bit but not nearly as much.)\n",
        "\n",
        "<center><img src=\"https://i2.wp.com/comicsandmemes.com/wp-content/uploads/Famous-Movie-Qoutes-1986-Top-Gun-I-feel-the-need-for-speed.jpg?resize=768%2C401&ssl=1\" width=\"40%\"></center>\n",
        "\n",
        "When you're first starting out, it's easy to accidentally write *really slow* code, particularly if you're coming from other programming languages. Learning to think in terms of \"vectorized\" operations and writing \"one-liners\" (e.g. \"list comprehensions\" which often are faster that multi-line implementations) can take some getting used to but eventually becomes a habit. So in what follows, we'll talk about few speedy ways of \"prasing\" things when writing Python code."
      ]
    },
    {
      "cell_type": "markdown",
      "metadata": {
        "id": "SSTEKf0Q50_f"
      },
      "source": [
        "## Jupyter notebooks / Colab\n",
        "\n",
        "You could write raw Python code as a text file and execute in the command-line (I used to do this), or use some IDE like PyCharm, but for this course we'll need access to **other people's computers** that give us access to GPUs (Graphics Processing Units) that we'll use for heavy number-crunching -- again, speed is key. \n",
        "\n",
        "Everything for this course is designed to be run on [Google Colab]() which is kind of a Google-Flavored version of the Jupyter environment. So, when I say \"Jupyter notebooks\", I mean like what the file I'm writing right now, regardless of whether it's hosted in an actual Jupyter environment (e.g. on Paperspace Gradient) or on Colab. Generally I'll assume Colab. \n",
        "\n",
        "(There are some special things you can do in regular-Jupyter that you can't do on Colab, and probably vice versa, but I'll try to minimize mention of those.) \n",
        "\n",
        "* REPL\n",
        "* Cell navigation\n",
        "* Special moves: \n",
        "    * `!` shell commands \n",
        "    * `%` \"magic\" \n",
        "    * `?` documentation tricks \n",
        "* Colab vs. Jupyter\n",
        "* Jupyter vs. IPython?"
      ]
    },
    {
      "cell_type": "markdown",
      "metadata": {
        "id": "BinbB-xEUEof"
      },
      "source": [
        "## Packages: NumPy and PyTorch \n",
        "We're going to use the numerical package NumPy a *lot*, and when we compute things in neural networks we'll use PyTorch, which has routines that usually the same name (though not always the same keyword arguments!) as the corresponding NumPy routines. \n"
      ]
    },
    {
      "cell_type": "code",
      "metadata": {
        "id": "2ZxbMAEEUcAI"
      },
      "source": [
        "import numpy as np  # Everybody always abbreviates numpy as np\n",
        "import torch        # the PyTorch package is called 'torch' for short. "
      ],
      "execution_count": 115,
      "outputs": []
    },
    {
      "cell_type": "markdown",
      "metadata": {
        "id": "jYKM7UM75Lqn"
      },
      "source": [
        "\n",
        "* vectorizing = speed\n",
        "* slicing \n",
        "* broadcasting\n",
        "* adding & removing axes\n",
        "* transposing\n",
        "* `random` and seeds"
      ]
    },
    {
      "cell_type": "markdown",
      "metadata": {
        "id": "HJ3o3gL1Heu3"
      },
      "source": [
        "## Functions & Methods\n",
        "\n",
        "### lambda is just a function with no name\n",
        "I'm not going to make you write \"lambda\" functions, but if you see one don't worry, it's the same as an unnamed function (e.g. there's no \"def __name__()\"). And because everything is mutable, you can *give it* name. So the following 3 snippets do the same thing:"
      ]
    },
    {
      "cell_type": "code",
      "metadata": {
        "colab": {
          "base_uri": "https://localhost:8080/"
        },
        "id": "iJYMFI6aHePH",
        "outputId": "2f601ce3-fc76-4178-ce49-ec01b5ef38a8"
      },
      "source": [
        "def a(x): return x+5\n",
        "print(\"a =\",a(4))\n",
        "\n",
        "b = lambda x: x+5 \n",
        "print(f\"b = {b(4)}\")"
      ],
      "execution_count": 4,
      "outputs": [
        {
          "output_type": "stream",
          "text": [
            "a = 9\n",
            "b = 9\n"
          ],
          "name": "stdout"
        }
      ]
    },
    {
      "cell_type": "markdown",
      "metadata": {
        "id": "OfjpNE6XH_Ak"
      },
      "source": [
        "...Oh yea, see in that last line I used a \"f-string.\" They've been a feature since Python 3.5. We'll use them a lot because I think they're great. But if you try to use an older Python interpreter (e.g. Python 2.7), you'll get a syntax error.  Actually everything we'll be doing will assume at least Python 3.6. Let's see what version we're running:"
      ]
    },
    {
      "cell_type": "code",
      "metadata": {
        "colab": {
          "base_uri": "https://localhost:8080/"
        },
        "id": "UmCHWygOIT83",
        "outputId": "bbf0d3f3-c81c-4fa8-ca54-3615e7cc19d1"
      },
      "source": [
        "import sys\n",
        "print(f\"Python version is {sys.version}\")"
      ],
      "execution_count": 7,
      "outputs": [
        {
          "output_type": "stream",
          "text": [
            "Python version is 3.7.10 (default, Feb 20 2021, 21:17:23) \n",
            "[GCC 7.5.0]\n"
          ],
          "name": "stdout"
        }
      ]
    },
    {
      "cell_type": "markdown",
      "metadata": {
        "id": "0aFZDmAEJV8C"
      },
      "source": [
        "### Generators are not that bad\n",
        "A [generator](https://www.learnpython.org/en/Generators) is just a function with the word \"yield\" in it (which functions kind of like \"return\") and they can be used as iterators (e.g. for for loops & list comprehensions).  Here's a generator. "
      ]
    },
    {
      "cell_type": "code",
      "metadata": {
        "colab": {
          "base_uri": "https://localhost:8080/"
        },
        "id": "HIG1hdfDJS87",
        "outputId": "ada75316-52a8-4144-9ddf-87ce7a5159f4"
      },
      "source": [
        "def gen(z, step=1):\n",
        "    count = 0\n",
        "    for i in range(z):\n",
        "        count += step\n",
        "        yield(count)\n",
        "\n",
        "print([x for x in gen(10)])\n",
        "print([x for x in gen(10,step=-2)])"
      ],
      "execution_count": 13,
      "outputs": [
        {
          "output_type": "stream",
          "text": [
            "[1, 2, 3, 4, 5, 6, 7, 8, 9, 10]\n",
            "[-2, -4, -6, -8, -10, -12, -14, -16, -18, -20]\n"
          ],
          "name": "stdout"
        }
      ]
    },
    {
      "cell_type": "markdown",
      "metadata": {
        "id": "yU6uor8fLCOm"
      },
      "source": [
        "They are often use to supply the next batch of data to something, like we'll do when training our neural networks.  But this will mostly be done for us by our library routines; I don't think you'll need to write your own generators. "
      ]
    },
    {
      "cell_type": "markdown",
      "metadata": {
        "id": "ZKKk6AQ75VS5"
      },
      "source": [
        "\n",
        "\n",
        "## Classes \n",
        "and namespaces\n",
        "\n",
        "## Imports\n",
        "\n",
        "## Modules vs. Packages?\n",
        "\n",
        "\"How do I make my own Python package?\" is something we can cover later. "
      ]
    },
    {
      "cell_type": "markdown",
      "metadata": {
        "id": "X8o-3bvI04ch"
      },
      "source": [
        " \n",
        "\n",
        "## Data types & Function types\n",
        "\n",
        "\n",
        "### Lists \n",
        "\n",
        " \n",
        "\n",
        "### Dictionaries \n",
        "[Dictionaries](https://www.learnpython.org/en/Dictionaries) are great, especially as fast \"[hashes](https://en.wikipedia.org/wiki/Hash_function)\", i.e. as fast look-up-functions between two sets of data.  The Pandas data science library is largely based on dictionaries. \n",
        "\n",
        "\n"
      ]
    },
    {
      "cell_type": "markdown",
      "metadata": {
        "id": "JPsI9sdTSVc5"
      },
      "source": [
        "## Loops\n",
        "Different ways of writing loops can be faster or slower than others, and it depends on the application and the number of iterations. Generally,\n",
        "* Try avoid loops for simple things, instead prefer vectorized numpy operations, e.g. use `.mean()` on a NumPy array instead of  looping over all elements and keeping a running sum and then dividing by the number of iterations."
      ]
    },
    {
      "cell_type": "code",
      "metadata": {
        "id": "6YMdDm88Sbsk"
      },
      "source": [
        "arr = np.random.rand(99999999)  # generate lots o' numbers"
      ],
      "execution_count": 112,
      "outputs": []
    },
    {
      "cell_type": "code",
      "metadata": {
        "colab": {
          "base_uri": "https://localhost:8080/"
        },
        "id": "fIAwpTOhSbgn",
        "outputId": "85e26622-b291-4e26-ae70-915aafabbed3"
      },
      "source": [
        "%%timeit\n",
        "arr.mean()"
      ],
      "execution_count": 113,
      "outputs": [
        {
          "output_type": "stream",
          "text": [
            "10 loops, best of 5: 69.4 ms per loop\n"
          ],
          "name": "stdout"
        }
      ]
    },
    {
      "cell_type": "code",
      "metadata": {
        "colab": {
          "base_uri": "https://localhost:8080/"
        },
        "id": "JNQQ3inrSbTj",
        "outputId": "2d49c985-6dde-451d-e187-1fd00803d305"
      },
      "source": [
        "%%timeit \n",
        "sum, n = 0, len(arr)\n",
        "for i in range(n):\n",
        "    sum += arr[i]\n",
        "mean = sum/n"
      ],
      "execution_count": 114,
      "outputs": [
        {
          "output_type": "stream",
          "text": [
            "1 loop, best of 5: 28 s per loop\n"
          ],
          "name": "stdout"
        }
      ]
    },
    {
      "cell_type": "markdown",
      "metadata": {
        "id": "CxcZZBcnTwHD"
      },
      "source": [
        "...yeah.  Which one is faster?"
      ]
    },
    {
      "cell_type": "markdown",
      "metadata": {
        "id": "3lVlObd35cAu"
      },
      "source": [
        "\n",
        "* When we write loops, there are 3 main ways we do it. Letting y denone some iterator such as `range(n)` or a list, then these 3 ways are:\n",
        "   1. standard loops: `for x in y: _somthing_involving_x` (and yes, loops can be one-liners or they can span multiple lines)\n",
        "   2. list comprehensions: `[_somthing_involving_x for x in y]`\n",
        "   3. (more advanced) `map` operations: `_some_list_ = list(map(func, y))`\n",
        "\n",
        "Handy loop iterators:\n",
        "* range \n",
        "* enumerate() & zip() \n",
        "\n",
        "If you're looping in order to build up a bunch of data or do a bunch of single operations, then [List comprehensions](https://www.learnpython.org/en/List_Comprehensions) usually preferable.  \n",
        "\n",
        "Let's do a comparison:"
      ]
    },
    {
      "cell_type": "markdown",
      "metadata": {
        "id": "C5P2II5D5EhC"
      },
      "source": [
        "## Plotting:\n",
        "* matplotlib \n",
        "* Others"
      ]
    },
    {
      "cell_type": "code",
      "metadata": {
        "id": "Pq05ryRN00JH"
      },
      "source": [
        ""
      ],
      "execution_count": null,
      "outputs": []
    },
    {
      "cell_type": "markdown",
      "metadata": {
        "id": "FDduonc45HkJ"
      },
      "source": [
        "## Pandas stuff:\n"
      ]
    }
  ]
}