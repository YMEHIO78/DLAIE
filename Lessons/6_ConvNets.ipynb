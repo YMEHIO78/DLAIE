{
  "nbformat": 4,
  "nbformat_minor": 0,
  "metadata": {
    "colab": {
      "name": "6_ConvNets.ipynb",
      "provenance": [],
      "collapsed_sections": []
    },
    "kernelspec": {
      "name": "python3",
      "display_name": "Python 3"
    },
    "accelerator": "GPU"
  },
  "cells": [
    {
      "cell_type": "markdown",
      "metadata": {
        "id": "8STqvwWtosEm"
      },
      "source": [
        "# Convolutional Networks\n",
        "\n",
        "We've talked about the \"MLP\" architecture in previous lessons, in which inputs to the next layer of neurons are \"fully connected\" (everything is conntected to everything else). \n",
        "\n",
        "It turns out that for many applications in computer vision and signal processing, one can make great use of layers that look at only \"local\" (or \"nearby\") information, and then have the outpouts of those be combined at successively larger spatial (or temporal) scales.  This is what's known as a *local receptive field*, and is based directly on the biology of neurons in the visual cortex:\n",
        "\n",
        "![neuron receptive field](https://i.imgur.com/KC4PsPc.png)\n",
        "(Image source: http://neuroclusterbrain.com/neuron_model.html)\n",
        "\n",
        "This idea was exploided in the [\"Neocognitron\" model](https://link.springer.com/article/10.1007/BF00344251) which built off the Nobel-prize winning work of Hubel & Weisel with cat vision, and how the different neurons in the cat brain learn to function as \"pattern recognizers\" for things like edges:\n",
        "\n",
        "<iframe width=\"560\" height=\"315\" src=\"https://www.youtube.com/embed/IOHayh06LJ4\" title=\"YouTube video player\" frameborder=\"0\" allow=\"accelerometer; autoplay; clipboard-write; encrypted-media; gyroscope; picture-in-picture\" allowfullscreen></iframe>\n",
        "\n",
        "\n",
        "\n"
      ]
    },
    {
      "cell_type": "code",
      "metadata": {
        "colab": {
          "base_uri": "https://localhost:8080/",
          "height": 321
        },
        "id": "5kN1ZYerpRFn",
        "outputId": "9b53d184-6338-4ac3-dd2d-e7bab72d55d0"
      },
      "source": [
        "from IPython.display import YouTubeVideo\n",
        "YouTubeVideo('IOHayh06LJ4')"
      ],
      "execution_count": 1,
      "outputs": [
        {
          "output_type": "execute_result",
          "data": {
            "text/html": [
              "\n",
              "        <iframe\n",
              "            width=\"400\"\n",
              "            height=\"300\"\n",
              "            src=\"https://www.youtube.com/embed/IOHayh06LJ4\"\n",
              "            frameborder=\"0\"\n",
              "            allowfullscreen\n",
              "        ></iframe>\n",
              "        "
            ],
            "text/plain": [
              "<IPython.lib.display.YouTubeVideo at 0x7f4117f26a90>"
            ],
            "image/jpeg": "[encoded data removed]"
          },
          "metadata": {},
          "execution_count": 1
        }
      ]
    },
    {
      "cell_type": "markdown",
      "metadata": {
        "id": "nm3rp0qCpNdc"
      },
      "source": [
        "\n",
        "This work led to the development of the important \"LeNet\" architecture used by Yann LeCun and collaborators at Bell Labs, where this \"local receptive field\" is extendended though multiple layers that \"stack up\" a increasingly \"zoomed out\" version of the image.  \n",
        "![lenet arch](https://cdn.inblog.in/user/uploads/b4b07bff68d8edf68622a0bb31b8aacd.png) Source: LeCun et al. \n",
        "\n",
        "At each stage, multiple \"filter banks\" exist, which filter different parts of the image.  As an illustration of this effect, consider this visualization of layer activations or \"feature maps\" at successive stages of a convolutional neural network being used for facial recognition:\n",
        "![layer feature maps](https://hedges.belmont.edu/scottergories/images/lee_et_all_faces.png) \n",
        "(Image source: Lee et al, 2009) \n",
        "\n",
        "Notice how the low-level features detect various kinds of edges (as with the cat neurons), which are combined via later layers in to \"mid-level features\" such as eyes and noses, and finally later layers for full face images.\n",
        "\n",
        "\n",
        "\n",
        "\n"
      ]
    },
    {
      "cell_type": "markdown",
      "metadata": {
        "id": "51Q5accvql7Q"
      },
      "source": [
        "## So what's convolution?\n",
        "Convolution is a \"running\" dot product of a (typically smaller) vector or matrix called the \"kernel\" that is \"run over\" a larger vector or matrix representing a signal or image.  The important point is that it's the SAME set of weights being applied *all over* the image.  This is closely related to the notion that we often want our networks to be invariant to translations in space or time.  An example you're probably familiar with is  \"running average\", in which the kernel is a set of constant weights.  A different example would be a \"blur\" filter used in photo editing, in which a weighted local average of nearby points becomes the next point.\n",
        "\n",
        "The convolution kernel functions as a filter.  In the interactive demo below, convolution kernel in the middle is \"run over\" each point of the input image, and then the dot product of the (local) image pixels and the kernel becomes the new pixel in the new image. Try clicking on the point in the 3x3 kernel, and notice how the shape of the kernel tends to match whats \"allowed to pass through\" the filter to make up the output image:\n",
        "\n",
        "<iframe type=\"text/html\" src=\"https://hedges.belmont.edu/~shawley/acts/demo/demo_draw.html\" width=\"700px\" height=\"280px\" frameborder=\"0\">\n",
        " </iframe>"
      ]
    },
    {
      "cell_type": "code",
      "metadata": {
        "colab": {
          "base_uri": "https://localhost:8080/",
          "height": 317
        },
        "id": "8wZKPFe6r9Y_",
        "outputId": "b14c8385-4308-4d68-92db-180b32c2946c"
      },
      "source": [
        "from IPython.display import HTML, IFrame \n",
        "print(\"Choose a kernel preset from the drop-down or click on the squares to create your own kernel.\")\n",
        "HTML('<iframe type=\"text/html\" src=\"https://hedges.belmont.edu/~shawley/acts/demo/demo_draw.html\" width=\"700px\" height=\"280px\" frameborder=\"0\"></iframe>')\n",
        "#IFrame('https://hedges.belmont.edu/~shawley/acts/demo/demo_draw.html', width=700, height=280)"
      ],
      "execution_count": 8,
      "outputs": [
        {
          "output_type": "stream",
          "name": "stdout",
          "text": [
            "Choose a kernel preset from the drop-down or click on the squares to create your own kernel.\n"
          ]
        },
        {
          "output_type": "execute_result",
          "data": {
            "text/html": [
              "<iframe type=\"text/html\" src=\"https://hedges.belmont.edu/~shawley/acts/demo/demo_draw.html\" width=\"700px\" height=\"280px\" frameborder=\"0\"></iframe>"
            ],
            "text/plain": [
              "<IPython.core.display.HTML object>"
            ]
          },
          "metadata": {},
          "execution_count": 8
        }
      ]
    },
    {
      "cell_type": "markdown",
      "metadata": {
        "id": "TCJHhbUetAJ3"
      },
      "source": [
        "With this conceptual understanding under your belt, take a look at [this great medium post by Daphne Cornelisse](https://www.freecodecamp.org/news/an-intuitive-guide-to-convolutional-neural-networks-260c2de0a050/) \n",
        "to fill in more details of how convolution works -- note that we're going to use PyTorch code instead of Keras. \n",
        "\n",
        "## Convolutions and Correlations\n",
        "As another way to think about convolutions -- and to give a 1D example (\"signal processing\") instead the 2D (\"computer vision\") exercises we've been doing, here's another interactive Javascript demo you can try, in the input signal is \"convolved\" with the second \"kernel\" signal.  The remainder of the demo shows the resulting filtered signal as well as the \"correlation cofficient\"  -- which is the familiar correlation coefficient \"R\" from other areas of statistics & science!  Notice that signals that \"make it through\" the kernel-filter are highly correlated, and vice versa."
      ]
    },
    {
      "cell_type": "code",
      "metadata": {
        "colab": {
          "base_uri": "https://localhost:8080/",
          "height": 670
        },
        "id": "onGdz4Qgsyd8",
        "outputId": "5dfb1eb8-73e7-451a-cb18-53f9853a6a80"
      },
      "source": [
        "IFrame('https://hedges.belmont.edu/signal_corr_trans.html', width=800, height=650)"
      ],
      "execution_count": 10,
      "outputs": [
        {
          "output_type": "execute_result",
          "data": {
            "text/html": [
              "\n",
              "        <iframe\n",
              "            width=\"800\"\n",
              "            height=\"650\"\n",
              "            src=\"https://hedges.belmont.edu/signal_corr_trans.html\"\n",
              "            frameborder=\"0\"\n",
              "            allowfullscreen\n",
              "        ></iframe>\n",
              "        "
            ],
            "text/plain": [
              "<IPython.lib.display.IFrame at 0x7f410f032510>"
            ]
          },
          "metadata": {},
          "execution_count": 10
        }
      ]
    },
    {
      "cell_type": "markdown",
      "metadata": {
        "id": "iyABQEw7pJ9H"
      },
      "source": [
        "# MNIST MLP & CNN Demo\n",
        "\n",
        "[MNIST](http://yann.lecun.com/exdb/mnist/) is a classic dataset of handwritten digits, which has been the testing ground for a [a variety of methods](https://en.wikipedia.org/wiki/MNIST_database)(Wikipedia) in machine learning.\n",
        "\n",
        "![MNIST example](https://upload.wikimedia.org/wikipedia/commons/2/27/MnistExamples.png)\n",
        "\n",
        "While Convolutional Neural Networks -- which we'll get to below -- tend to be most effective and for image processing, the 24x24-pixel images in MNIST are small enough that we can apply the 'single hidden layer' model  (also known as a Multi-Layer Perceptron or MLP)  to it.  \n",
        "\n",
        "Essentially, we will 'graduate' from the 7-segment display of digits from the previous lesson, to handwritten digits.  Then we'll move on to larger, more diverse image datasets."
      ]
    },
    {
      "cell_type": "markdown",
      "metadata": {
        "id": "5Q4wrna4uxae"
      },
      "source": [
        "## ~~First, check that we can use a GPU (runs faster)~~ From here down it's currently broken!  Workin' on it! Update soon!"
      ]
    },
    {
      "cell_type": "code",
      "metadata": {
        "id": "DP8B5I2Lpqv6",
        "colab": {
          "base_uri": "https://localhost:8080/",
          "height": 229
        },
        "outputId": "a8b5de1a-68e1-4da4-e875-115bd2197a2b"
      },
      "source": [
        "# First, confirm that Keras sees the GPU. Just execute this cell. \n",
        "from keras import backend as K\n",
        "assert len(K.tensorflow_backend._get_available_gpus()) > 0, \\\n",
        "  \"No GPU found. Go to Edit > Notebook Settings > Hardware Accelerator > GPU\"\n",
        "print(\"We're good: GPU found!\")"
      ],
      "execution_count": 11,
      "outputs": [
        {
          "output_type": "error",
          "ename": "AttributeError",
          "evalue": "ignored",
          "traceback": [
            "\u001b[0;31m---------------------------------------------------------------------------\u001b[0m",
            "\u001b[0;31mAttributeError\u001b[0m                            Traceback (most recent call last)",
            "\u001b[0;32m<ipython-input-11-4d9dcdf3b49c>\u001b[0m in \u001b[0;36m<module>\u001b[0;34m()\u001b[0m\n\u001b[1;32m      1\u001b[0m \u001b[0;31m# First, confirm that Keras sees the GPU. Just execute this cell.\u001b[0m\u001b[0;34m\u001b[0m\u001b[0;34m\u001b[0m\u001b[0;34m\u001b[0m\u001b[0m\n\u001b[1;32m      2\u001b[0m \u001b[0;32mfrom\u001b[0m \u001b[0mkeras\u001b[0m \u001b[0;32mimport\u001b[0m \u001b[0mbackend\u001b[0m \u001b[0;32mas\u001b[0m \u001b[0mK\u001b[0m\u001b[0;34m\u001b[0m\u001b[0;34m\u001b[0m\u001b[0m\n\u001b[0;32m----> 3\u001b[0;31m \u001b[0;32massert\u001b[0m \u001b[0mlen\u001b[0m\u001b[0;34m(\u001b[0m\u001b[0mK\u001b[0m\u001b[0;34m.\u001b[0m\u001b[0mtensorflow_backend\u001b[0m\u001b[0;34m.\u001b[0m\u001b[0m_get_available_gpus\u001b[0m\u001b[0;34m(\u001b[0m\u001b[0;34m)\u001b[0m\u001b[0;34m)\u001b[0m \u001b[0;34m>\u001b[0m \u001b[0;36m0\u001b[0m\u001b[0;34m,\u001b[0m   \u001b[0;34m\"No GPU found. Go to Edit > Notebook Settings > Hardware Accelerator > GPU\"\u001b[0m\u001b[0;34m\u001b[0m\u001b[0;34m\u001b[0m\u001b[0m\n\u001b[0m\u001b[1;32m      4\u001b[0m \u001b[0mprint\u001b[0m\u001b[0;34m(\u001b[0m\u001b[0;34m\"We're good: GPU found!\"\u001b[0m\u001b[0;34m)\u001b[0m\u001b[0;34m\u001b[0m\u001b[0;34m\u001b[0m\u001b[0m\n",
            "\u001b[0;31mAttributeError\u001b[0m: module 'keras.backend' has no attribute 'tensorflow_backend'"
          ]
        }
      ]
    },
    {
      "cell_type": "markdown",
      "metadata": {
        "id": "TcAkkUJiqcKr"
      },
      "source": [
        "## Download and prepare the data:\n",
        "\n",
        "We're going to write our neural networks using [Keras](http://keras.io), which also provides handy utility for downloading and setting up common ML datasets."
      ]
    },
    {
      "cell_type": "code",
      "metadata": {
        "id": "cKNyCH7hq-M5",
        "colab": {
          "base_uri": "https://localhost:8080/",
          "height": 85
        },
        "outputId": "cea0f5d4-7893-494b-d6f7-5a912b471e30"
      },
      "source": [
        "import keras\n",
        "from keras.datasets import mnist\n",
        "\n",
        "# load the data, split between train and test sets\n",
        "(x_train, y_train), (x_val, y_val) = mnist.load_data()\n",
        "print(x_train.shape[0], 'train samples, ',x_val.shape[0], 'test samples')\n",
        "print('x_train.shape     = ',x_train.shape)\n",
        "img_rows, img_cols = x_train.shape[1], x_train.shape[2]  # save these for later\n",
        "\n",
        "# recast floating-point bits, and make pixel go from 0..1\n",
        "x_train = x_train.astype('float32') / 255\n",
        "x_val = x_val.astype('float32')  / 255\n",
        "\n",
        "# convert target class vectors to binary class matrices\n",
        "num_classes = 10              # ten classes: digts 0 to 9.\n",
        "y_train = keras.utils.to_categorical(y_train, num_classes)\n",
        "y_val = keras.utils.to_categorical(y_val, num_classes)"
      ],
      "execution_count": null,
      "outputs": [
        {
          "output_type": "stream",
          "text": [
            "Downloading data from https://s3.amazonaws.com/img-datasets/mnist.npz\n",
            "11493376/11490434 [==============================] - 1s 0us/step\n",
            "60000 train samples,  10000 test samples\n",
            "x_train.shape     =  (60000, 28, 28)\n"
          ],
          "name": "stdout"
        }
      ]
    },
    {
      "cell_type": "markdown",
      "metadata": {
        "id": "Dh2AjzzurFB9"
      },
      "source": [
        "## Setup the MLP model:"
      ]
    },
    {
      "cell_type": "code",
      "metadata": {
        "id": "tSjduXjQoHMr",
        "colab": {
          "base_uri": "https://localhost:8080/",
          "height": 326
        },
        "outputId": "1e445522-3e3b-4807-9481-502ba34ca825"
      },
      "source": [
        "from keras.models import Sequential\n",
        "from keras.layers import Dense, Dropout\n",
        "from keras.optimizers import RMSprop, Adam\n",
        "\n",
        "\n",
        "# For MLP model, we should reshape the input 24x24 images to 784x1 arrays \n",
        "# i.e., we will \"flatten\" each square image into a long line of pixels.\n",
        "# This will be our imput.\n",
        "x_train = x_train.reshape(x_train.shape[0], -1) # -1 just means make numpy figure out the rest of the shape\n",
        "x_val = x_val.reshape(x_val.shape[0], -1)\n",
        "print('new x_train.shape = ',x_train.shape)\n",
        "\n",
        "\n",
        "# Now define the Model \n",
        "mlp = Sequential()\n",
        "mlp.add(Dense(256, activation='relu', input_shape=(784,)))\n",
        "mlp.add(Dense(256, activation='relu'))\n",
        "mlp.add(Dense(num_classes, activation='softmax')) # softmax is like sigmoid but for when you want probabilities\n",
        "\n",
        "mlp.summary()  # print a summary\n",
        "\n",
        "mlp.compile(loss='categorical_crossentropy',\n",
        "              optimizer=Adam(),\n",
        "              metrics=['accuracy'])"
      ],
      "execution_count": null,
      "outputs": [
        {
          "output_type": "stream",
          "text": [
            "new x_train.shape =  (60000, 784)\n",
            "WARNING:tensorflow:From /usr/local/lib/python3.6/dist-packages/tensorflow/python/framework/op_def_library.py:263: colocate_with (from tensorflow.python.framework.ops) is deprecated and will be removed in a future version.\n",
            "Instructions for updating:\n",
            "Colocations handled automatically by placer.\n",
            "_________________________________________________________________\n",
            "Layer (type)                 Output Shape              Param #   \n",
            "=================================================================\n",
            "dense_1 (Dense)              (None, 256)               200960    \n",
            "_________________________________________________________________\n",
            "dense_2 (Dense)              (None, 256)               65792     \n",
            "_________________________________________________________________\n",
            "dense_3 (Dense)              (None, 10)                2570      \n",
            "=================================================================\n",
            "Total params: 269,322\n",
            "Trainable params: 269,322\n",
            "Non-trainable params: 0\n",
            "_________________________________________________________________\n"
          ],
          "name": "stdout"
        }
      ]
    },
    {
      "cell_type": "markdown",
      "metadata": {
        "id": "Q1qrqfciovZ2"
      },
      "source": [
        "## Train:"
      ]
    },
    {
      "cell_type": "code",
      "metadata": {
        "id": "1LEGihUpocvU",
        "colab": {
          "base_uri": "https://localhost:8080/",
          "height": 1159
        },
        "outputId": "a7c0a5d2-c2ea-4203-d56a-a2a08c19a443"
      },
      "source": [
        "batch_size = 128\n",
        "epochs = 20\n",
        "\n",
        "model = mlp \n",
        "history = model.fit(x_train, y_train,\n",
        "                    batch_size=batch_size,\n",
        "                    epochs=epochs,\n",
        "                    verbose=1,\n",
        "                    validation_data=(x_val, y_val))\n",
        "score = model.evaluate(x_val, y_val, verbose=0)\n",
        "print('Val loss:', score[0])\n",
        "print('Val accuracy:', score[1])"
      ],
      "execution_count": null,
      "outputs": [
        {
          "output_type": "stream",
          "text": [
            "WARNING:tensorflow:From /usr/local/lib/python3.6/dist-packages/tensorflow/python/ops/math_ops.py:3066: to_int32 (from tensorflow.python.ops.math_ops) is deprecated and will be removed in a future version.\n",
            "Instructions for updating:\n",
            "Use tf.cast instead.\n",
            "Train on 60000 samples, validate on 10000 samples\n",
            "Epoch 1/30\n",
            "60000/60000 [==============================] - 3s 57us/step - loss: 0.2620 - acc: 0.9250 - val_loss: 0.1272 - val_acc: 0.9606\n",
            "Epoch 2/30\n",
            "60000/60000 [==============================] - 3s 47us/step - loss: 0.0958 - acc: 0.9705 - val_loss: 0.0897 - val_acc: 0.9715\n",
            "Epoch 3/30\n",
            "60000/60000 [==============================] - 3s 48us/step - loss: 0.0624 - acc: 0.9803 - val_loss: 0.0695 - val_acc: 0.9774\n",
            "Epoch 4/30\n",
            "60000/60000 [==============================] - 3s 47us/step - loss: 0.0426 - acc: 0.9867 - val_loss: 0.0768 - val_acc: 0.9755\n",
            "Epoch 5/30\n",
            "60000/60000 [==============================] - 3s 47us/step - loss: 0.0333 - acc: 0.9895 - val_loss: 0.0832 - val_acc: 0.9750\n",
            "Epoch 6/30\n",
            "60000/60000 [==============================] - 3s 46us/step - loss: 0.0243 - acc: 0.9924 - val_loss: 0.0650 - val_acc: 0.9795\n",
            "Epoch 7/30\n",
            "60000/60000 [==============================] - 3s 47us/step - loss: 0.0198 - acc: 0.9935 - val_loss: 0.0659 - val_acc: 0.9811\n",
            "Epoch 8/30\n",
            "60000/60000 [==============================] - 3s 47us/step - loss: 0.0156 - acc: 0.9946 - val_loss: 0.0756 - val_acc: 0.9792\n",
            "Epoch 9/30\n",
            "60000/60000 [==============================] - 3s 47us/step - loss: 0.0134 - acc: 0.9956 - val_loss: 0.0771 - val_acc: 0.9811\n",
            "Epoch 10/30\n",
            "60000/60000 [==============================] - 3s 45us/step - loss: 0.0114 - acc: 0.9963 - val_loss: 0.0843 - val_acc: 0.9776\n",
            "Epoch 11/30\n",
            "60000/60000 [==============================] - 3s 45us/step - loss: 0.0125 - acc: 0.9961 - val_loss: 0.0893 - val_acc: 0.9770\n",
            "Epoch 12/30\n",
            "60000/60000 [==============================] - 3s 44us/step - loss: 0.0129 - acc: 0.9955 - val_loss: 0.0907 - val_acc: 0.9785\n",
            "Epoch 13/30\n",
            "60000/60000 [==============================] - 3s 42us/step - loss: 0.0103 - acc: 0.9965 - val_loss: 0.0811 - val_acc: 0.9808\n",
            "Epoch 14/30\n",
            "60000/60000 [==============================] - 2s 42us/step - loss: 0.0080 - acc: 0.9974 - val_loss: 0.0837 - val_acc: 0.9825\n",
            "Epoch 15/30\n",
            "60000/60000 [==============================] - 2s 41us/step - loss: 0.0098 - acc: 0.9966 - val_loss: 0.0769 - val_acc: 0.9818\n",
            "Epoch 16/30\n",
            "60000/60000 [==============================] - 2s 41us/step - loss: 0.0098 - acc: 0.9966 - val_loss: 0.1009 - val_acc: 0.9790\n",
            "Epoch 17/30\n",
            "60000/60000 [==============================] - 2s 41us/step - loss: 0.0082 - acc: 0.9974 - val_loss: 0.0989 - val_acc: 0.9795\n",
            "Epoch 18/30\n",
            "60000/60000 [==============================] - 2s 41us/step - loss: 0.0087 - acc: 0.9972 - val_loss: 0.0933 - val_acc: 0.9808\n",
            "Epoch 19/30\n",
            "60000/60000 [==============================] - 2s 41us/step - loss: 0.0047 - acc: 0.9983 - val_loss: 0.0928 - val_acc: 0.9819\n",
            "Epoch 20/30\n",
            "60000/60000 [==============================] - 2s 41us/step - loss: 0.0073 - acc: 0.9977 - val_loss: 0.1020 - val_acc: 0.9788\n",
            "Epoch 21/30\n",
            "60000/60000 [==============================] - 2s 41us/step - loss: 0.0087 - acc: 0.9970 - val_loss: 0.1038 - val_acc: 0.9782\n",
            "Epoch 22/30\n",
            "60000/60000 [==============================] - 2s 40us/step - loss: 0.0066 - acc: 0.9979 - val_loss: 0.1031 - val_acc: 0.9793\n",
            "Epoch 23/30\n",
            "60000/60000 [==============================] - 2s 41us/step - loss: 0.0061 - acc: 0.9982 - val_loss: 0.1052 - val_acc: 0.9814\n",
            "Epoch 24/30\n",
            "60000/60000 [==============================] - 2s 41us/step - loss: 0.0071 - acc: 0.9977 - val_loss: 0.1000 - val_acc: 0.9789\n",
            "Epoch 25/30\n",
            "60000/60000 [==============================] - 3s 42us/step - loss: 0.0028 - acc: 0.9992 - val_loss: 0.0960 - val_acc: 0.9814\n",
            "Epoch 26/30\n",
            "60000/60000 [==============================] - 3s 42us/step - loss: 0.0046 - acc: 0.9987 - val_loss: 0.1129 - val_acc: 0.9808\n",
            "Epoch 27/30\n",
            "60000/60000 [==============================] - 3s 42us/step - loss: 0.0092 - acc: 0.9971 - val_loss: 0.1002 - val_acc: 0.9788\n",
            "Epoch 28/30\n",
            "60000/60000 [==============================] - 3s 42us/step - loss: 0.0029 - acc: 0.9991 - val_loss: 0.0985 - val_acc: 0.9821\n",
            "Epoch 29/30\n",
            "60000/60000 [==============================] - 2s 41us/step - loss: 0.0018 - acc: 0.9993 - val_loss: 0.1046 - val_acc: 0.9824\n",
            "Epoch 30/30\n",
            "60000/60000 [==============================] - 2s 41us/step - loss: 0.0074 - acc: 0.9977 - val_loss: 0.1016 - val_acc: 0.9819\n",
            "Val loss: 0.10162490810970662\n",
            "Val accuracy: 0.9819\n"
          ],
          "name": "stdout"
        }
      ]
    },
    {
      "cell_type": "markdown",
      "metadata": {
        "id": "h40-nlgZw_mV"
      },
      "source": [
        "So we get an accuracy of around 98% with the MLP.    Let's try a Convolutional Neural Network (CNN or 'ConvNet') instead.\n",
        "\n",
        "# What is a CNN?\n",
        "\n",
        "Watch \n",
        "[this video by Luis Serrano](https://www.youtube.com/watch?v=2-Ol7ZB0MmU).\n",
        "\n",
        "The CNN is based on the visual cortex of the mamial brain, specifically cats.  Read this [writeup on ConvNets](https://ml4a.github.io/ml4a/convnets/).\n",
        "\n",
        "## Coding\n",
        "\n",
        "Writing your own CNN by hand in numpy can be a bit involved (if you want to try, you can [watch Siraj Raval explain how](https://www.youtube.com/watch?v=FTr3n7uBIuE), but not now), so we're going to rely on Keras. \n",
        "\n",
        "First we need to un-flatten the images that we flattened above for the MLP model. "
      ]
    },
    {
      "cell_type": "markdown",
      "metadata": {
        "id": "BoLuM_nvsA-t"
      },
      "source": [
        "## Reshape the data 'back' for CNN model\n",
        "For the CNN model, we will use the images in their 24x24 form, but the Conv layers in Keras expect a 'color channel' as well, and it makes a difference what *order* the color channels are in, `channels_first` or `channels_last`... "
      ]
    },
    {
      "cell_type": "code",
      "metadata": {
        "id": "NVTHJ_kiuBS7"
      },
      "source": [
        "if K.image_data_format() == 'channels_first':\n",
        "  input_shape = (1, img_rows, img_cols)   # '1' for greyscale images, 3 for RGB\n",
        "else:\n",
        "  input_shape = (img_rows, img_cols, 1)\n",
        "\n",
        "x_train = x_train.reshape(x_train.shape[0], input_shape[0], input_shape[1], input_shape[2])\n",
        "x_val = x_val.reshape(x_val.shape[0], input_shape[0], input_shape[1], input_shape[2])  "
      ],
      "execution_count": null,
      "outputs": []
    },
    {
      "cell_type": "markdown",
      "metadata": {
        "id": "Hv5MlknRu3Se"
      },
      "source": [
        "## Define the CNN model"
      ]
    },
    {
      "cell_type": "code",
      "metadata": {
        "id": "dg_NCufApax1",
        "colab": {
          "base_uri": "https://localhost:8080/",
          "height": 374
        },
        "outputId": "26e19993-7092-478e-f117-c5f481eb8587"
      },
      "source": [
        "from keras.layers import Conv2D, MaxPooling2D, Flatten, BatchNormalization\n",
        "\n",
        "cnn = Sequential()\n",
        "cnn.add(Conv2D(32, kernel_size=(3, 3),activation='relu', input_shape=input_shape))\n",
        "cnn.add(MaxPooling2D(pool_size=(2, 2)))\n",
        "cnn.add(Conv2D(32, (3, 3), activation='relu'))\n",
        "cnn.add(MaxPooling2D(pool_size=(2, 2)))\n",
        "cnn.add(Flatten())\n",
        "cnn.add(Dense(32, activation='relu'))\n",
        "cnn.add(Dense(num_classes, activation='softmax'))\n",
        "\n",
        "cnn.summary()  # print a summary\n",
        "\n",
        "cnn.compile(loss='categorical_crossentropy',\n",
        "              optimizer=Adam(),\n",
        "              metrics=['accuracy'])"
      ],
      "execution_count": null,
      "outputs": [
        {
          "output_type": "stream",
          "text": [
            "_________________________________________________________________\n",
            "Layer (type)                 Output Shape              Param #   \n",
            "=================================================================\n",
            "conv2d_44 (Conv2D)           (None, 26, 26, 32)        320       \n",
            "_________________________________________________________________\n",
            "max_pooling2d_26 (MaxPooling (None, 13, 13, 32)        0         \n",
            "_________________________________________________________________\n",
            "conv2d_45 (Conv2D)           (None, 11, 11, 32)        9248      \n",
            "_________________________________________________________________\n",
            "max_pooling2d_27 (MaxPooling (None, 5, 5, 32)          0         \n",
            "_________________________________________________________________\n",
            "flatten_19 (Flatten)         (None, 800)               0         \n",
            "_________________________________________________________________\n",
            "dense_79 (Dense)             (None, 32)                25632     \n",
            "_________________________________________________________________\n",
            "dense_80 (Dense)             (None, 10)                330       \n",
            "=================================================================\n",
            "Total params: 35,530\n",
            "Trainable params: 35,530\n",
            "Non-trainable params: 0\n",
            "_________________________________________________________________\n"
          ],
          "name": "stdout"
        }
      ]
    },
    {
      "cell_type": "markdown",
      "metadata": {
        "id": "3QYTsFIbwUio"
      },
      "source": [
        "*^ Compare the number of parameters in this model to that of the MLP model *\n",
        "\n",
        "## And train as before..."
      ]
    },
    {
      "cell_type": "code",
      "metadata": {
        "id": "vwzyD9IDsbtR",
        "colab": {
          "base_uri": "https://localhost:8080/",
          "height": 578
        },
        "outputId": "304a9eb6-64c7-4afb-a51f-36a0a4db8ac6"
      },
      "source": [
        "model = cnn \n",
        "epochs = 20\n",
        "history = model.fit(x_train, y_train,\n",
        "                    batch_size=batch_size,\n",
        "                    epochs=epochs,\n",
        "                    verbose=1,\n",
        "                    validation_data=(x_val, y_val))\n",
        "score = model.evaluate(x_val, y_val, verbose=0)\n",
        "print('Val loss:', score[0])\n",
        "print('Val accuracy:', score[1])"
      ],
      "execution_count": null,
      "outputs": [
        {
          "output_type": "stream",
          "text": [
            "Train on 60000 samples, validate on 10000 samples\n",
            "Epoch 1/15\n",
            "60000/60000 [==============================] - 9s 152us/step - loss: 0.3113 - acc: 0.9020 - val_loss: 0.0835 - val_acc: 0.9718\n",
            "Epoch 2/15\n",
            "60000/60000 [==============================] - 6s 95us/step - loss: 0.0822 - acc: 0.9744 - val_loss: 0.0565 - val_acc: 0.9812\n",
            "Epoch 3/15\n",
            "60000/60000 [==============================] - 6s 95us/step - loss: 0.0580 - acc: 0.9818 - val_loss: 0.0409 - val_acc: 0.9864\n",
            "Epoch 4/15\n",
            "60000/60000 [==============================] - 6s 95us/step - loss: 0.0473 - acc: 0.9852 - val_loss: 0.0530 - val_acc: 0.9830\n",
            "Epoch 5/15\n",
            "60000/60000 [==============================] - 6s 96us/step - loss: 0.0391 - acc: 0.9878 - val_loss: 0.0350 - val_acc: 0.9884\n",
            "Epoch 6/15\n",
            "60000/60000 [==============================] - 6s 96us/step - loss: 0.0330 - acc: 0.9898 - val_loss: 0.0307 - val_acc: 0.9892\n",
            "Epoch 7/15\n",
            "60000/60000 [==============================] - 6s 95us/step - loss: 0.0278 - acc: 0.9918 - val_loss: 0.0318 - val_acc: 0.9893\n",
            "Epoch 8/15\n",
            "60000/60000 [==============================] - 6s 97us/step - loss: 0.0253 - acc: 0.9920 - val_loss: 0.0401 - val_acc: 0.9870\n",
            "Epoch 9/15\n",
            "60000/60000 [==============================] - 6s 101us/step - loss: 0.0224 - acc: 0.9928 - val_loss: 0.0367 - val_acc: 0.9878\n",
            "Epoch 10/15\n",
            "60000/60000 [==============================] - 6s 101us/step - loss: 0.0200 - acc: 0.9938 - val_loss: 0.0284 - val_acc: 0.9917\n",
            "Epoch 11/15\n",
            "60000/60000 [==============================] - 6s 100us/step - loss: 0.0181 - acc: 0.9945 - val_loss: 0.0363 - val_acc: 0.9888\n",
            "Epoch 12/15\n",
            "60000/60000 [==============================] - 6s 96us/step - loss: 0.0151 - acc: 0.9953 - val_loss: 0.0362 - val_acc: 0.9897\n",
            "Epoch 13/15\n",
            "60000/60000 [==============================] - 6s 96us/step - loss: 0.0128 - acc: 0.9962 - val_loss: 0.0352 - val_acc: 0.9891\n",
            "Epoch 14/15\n",
            "60000/60000 [==============================] - 6s 96us/step - loss: 0.0128 - acc: 0.9958 - val_loss: 0.0348 - val_acc: 0.9900\n",
            "Epoch 15/15\n",
            "60000/60000 [==============================] - 6s 95us/step - loss: 0.0117 - acc: 0.9962 - val_loss: 0.0328 - val_acc: 0.9898\n",
            "Val loss: 0.03280220323135509\n",
            "Val accuracy: 0.9898\n"
          ],
          "name": "stdout"
        }
      ]
    },
    {
      "cell_type": "markdown",
      "metadata": {
        "id": "MXxoym-401Ko"
      },
      "source": [
        "There are many variations we can apply to this model, adding layers with names such as \"Dropout\" and \"Batch Normalization\" too.  For now this will suffice.\n",
        "\n",
        "\n",
        "**Questions for in-class discussion:**\n",
        "1. If the CNN is supposed to be faster than the MLP for most applications, why is it *slower* on the MNIST dataset?\n",
        "2. ..."
      ]
    },
    {
      "cell_type": "code",
      "metadata": {
        "id": "TVX3f_NXvNaL"
      },
      "source": [
        ""
      ],
      "execution_count": null,
      "outputs": []
    }
  ]
}