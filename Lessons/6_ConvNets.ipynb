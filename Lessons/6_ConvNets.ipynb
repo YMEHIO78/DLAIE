{
  "nbformat": 4,
  "nbformat_minor": 0,
  "metadata": {
    "colab": {
      "name": "6_ConvNets.ipynb",
      "provenance": [],
      "collapsed_sections": []
    },
    "kernelspec": {
      "name": "python3",
      "display_name": "Python 3"
    },
    "accelerator": "GPU"
  },
  "cells": [
    {
      "cell_type": "markdown",
      "metadata": {
        "id": "_x96fhjdvL0S"
      },
      "source": [
        "[![Open In Colab](https://colab.research.google.com/assets/colab-badge.svg)](https://colab.research.google.com/drive/1NxTAjQA3N9AQzS4VD_QlvDCOBm3by__u?usp=sharing)"
      ]
    },
    {
      "cell_type": "markdown",
      "metadata": {
        "id": "8STqvwWtosEm"
      },
      "source": [
        "# Convolutional Networks\n",
        "\n",
        "We've talked about the \"MLP\" architecture in previous lessons, in which inputs to the next layer of neurons are \"fully connected\" (everything is conntected to everything else). \n",
        "\n",
        "It turns out that for many applications in computer vision and signal processing, one can make great use of layers that look at only \"local\" (or \"nearby\") information, and then have the outpouts of those be combined at successively larger spatial (or temporal) scales.  This is what's known as a *local receptive field*, and is based directly on the biology of neurons in the visual cortex:\n",
        "\n",
        "![neuron receptive field](https://i.imgur.com/KC4PsPc.png)\n",
        "(Image source: http://neuroclusterbrain.com/neuron_model.html)\n",
        "\n",
        "This idea was exploided in the [\"Neocognitron\" model](https://link.springer.com/article/10.1007/BF00344251) which built off the Nobel-prize winning work of Hubel & Weisel with cat vision, and how the different neurons in the cat brain learn to function as \"pattern recognizers\" for things like edges:\n",
        "\n",
        "<iframe width=\"560\" height=\"315\" src=\"https://www.youtube.com/embed/IOHayh06LJ4\" title=\"YouTube video player\" frameborder=\"0\" allow=\"accelerometer; autoplay; clipboard-write; encrypted-media; gyroscope; picture-in-picture\" allowfullscreen></iframe>\n",
        "\n",
        "\n",
        "\n"
      ]
    },
    {
      "cell_type": "code",
      "metadata": {
        "colab": {
          "base_uri": "https://localhost:8080/",
          "height": 321
        },
        "id": "5kN1ZYerpRFn",
        "outputId": "533148d2-0a7c-4358-97a8-70bbb1fc0bf2"
      },
      "source": [
        "from IPython.display import YouTubeVideo\n",
        "YouTubeVideo('IOHayh06LJ4')"
      ],
      "execution_count": 1,
      "outputs": [
        {
          "output_type": "execute_result",
          "data": {
            "text/html": [
              "\n",
              "        <iframe\n",
              "            width=\"400\"\n",
              "            height=\"300\"\n",
              "            src=\"https://www.youtube.com/embed/IOHayh06LJ4\"\n",
              "            frameborder=\"0\"\n",
              "            allowfullscreen\n",
              "        ></iframe>\n",
              "        "
            ],
            "text/plain": [
              "<IPython.lib.display.YouTubeVideo at 0x7f6585a16b90>"
            ],
            "image/jpeg": "[encoded data removed]"
          },
          "metadata": {},
          "execution_count": 1
        }
      ]
    },
    {
      "cell_type": "markdown",
      "metadata": {
        "id": "nm3rp0qCpNdc"
      },
      "source": [
        "\n",
        "This work led to the development of the important \"LeNet\" architecture used by Yann LeCun and collaborators at Bell Labs, where this \"local receptive field\" is extendended though multiple layers that \"stack up\" a increasingly \"zoomed out\" version of the image.  \n",
        "![lenet arch](https://cdn.inblog.in/user/uploads/b4b07bff68d8edf68622a0bb31b8aacd.png) Source: LeCun et al. \n",
        "\n",
        "At each stage, multiple \"filter banks\" exist, which filter different parts of the image.  As an illustration of this effect, consider this visualization of layer activations or \"feature maps\" at successive stages of a convolutional neural network being used for facial recognition:\n",
        "![layer feature maps](https://hedges.belmont.edu/scottergories/images/lee_et_all_faces.png) \n",
        "(Image source: Lee et al, 2009) \n",
        "\n",
        "Notice how the low-level features detect various kinds of edges (as with the cat neurons), which are combined via later layers in to \"mid-level features\" such as eyes and noses, and finally later layers for full face images.\n",
        "\n",
        "\n",
        "\n",
        "\n"
      ]
    },
    {
      "cell_type": "markdown",
      "metadata": {
        "id": "51Q5accvql7Q"
      },
      "source": [
        "## So what's convolution?\n",
        "Convolution is a \"running\" dot product of a (typically smaller) vector or matrix called the \"kernel\" that is \"run over\" a larger vector or matrix representing a signal or image.  The important point is that it's the SAME set of weights being applied *all over* the image.  This is closely related to the notion that we often want our networks to be invariant to translations in space or time.  An example you're probably familiar with is  \"running average\", in which the kernel is a set of constant weights.  A different example would be a \"blur\" filter used in photo editing, in which a weighted local average of nearby points becomes the next point.\n",
        "\n",
        "The convolution kernel functions as a filter.  In the interactive demo below, convolution kernel in the middle is \"run over\" each point of the input image, and then the dot product of the (local) image pixels and the kernel becomes the new pixel in the new image. Try clicking on the point in the 3x3 kernel, and notice how the shape of the kernel tends to match whats \"allowed to pass through\" the filter to make up the output image:\n",
        "\n",
        "<iframe type=\"text/html\" src=\"https://hedges.belmont.edu/~shawley/acts/demo/demo_draw.html\" width=\"700px\" height=\"280px\" frameborder=\"0\">\n",
        " </iframe>"
      ]
    },
    {
      "cell_type": "code",
      "metadata": {
        "colab": {
          "base_uri": "https://localhost:8080/",
          "height": 317
        },
        "id": "8wZKPFe6r9Y_",
        "outputId": "f7245453-91a5-4978-f1c8-7a0b45e333a0"
      },
      "source": [
        "from IPython.display import HTML, IFrame \n",
        "print(\"Choose a kernel preset from the drop-down or click on the squares to create your own kernel.\")\n",
        "HTML('<iframe type=\"text/html\" src=\"https://hedges.belmont.edu/~shawley/acts/demo/demo_draw.html\" width=\"700px\" height=\"280px\" frameborder=\"0\"></iframe>')\n",
        "#IFrame('https://hedges.belmont.edu/~shawley/acts/demo/demo_draw.html', width=700, height=280)"
      ],
      "execution_count": 2,
      "outputs": [
        {
          "output_type": "stream",
          "name": "stdout",
          "text": [
            "Choose a kernel preset from the drop-down or click on the squares to create your own kernel.\n"
          ]
        },
        {
          "output_type": "execute_result",
          "data": {
            "text/html": [
              "<iframe type=\"text/html\" src=\"https://hedges.belmont.edu/~shawley/acts/demo/demo_draw.html\" width=\"700px\" height=\"280px\" frameborder=\"0\"></iframe>"
            ],
            "text/plain": [
              "<IPython.core.display.HTML object>"
            ]
          },
          "metadata": {},
          "execution_count": 2
        }
      ]
    },
    {
      "cell_type": "markdown",
      "metadata": {
        "id": "TCJHhbUetAJ3"
      },
      "source": [
        "With this conceptual understanding under your belt, take a look at [this great medium post by Daphne Cornelisse](https://www.freecodecamp.org/news/an-intuitive-guide-to-convolutional-neural-networks-260c2de0a050/) \n",
        "to fill in more details of how convolution works -- note that we're going to use PyTorch code instead of Keras. \n",
        "\n",
        "## Convolutions and Correlations\n",
        "As another way to think about convolutions -- and to give a 1D example (\"signal processing\") instead the 2D (\"computer vision\") exercises we've been doing, here's another interactive Javascript demo you can try, in the input signal is \"convolved\" with the second \"kernel\" signal.  The remainder of the demo shows the resulting filtered signal as well as the \"correlation cofficient\"  -- which is the familiar correlation coefficient \"R\" from other areas of statistics & science!  Notice that signals that \"make it through\" the kernel-filter are highly correlated, and vice versa."
      ]
    },
    {
      "cell_type": "code",
      "metadata": {
        "colab": {
          "base_uri": "https://localhost:8080/",
          "height": 670
        },
        "id": "onGdz4Qgsyd8",
        "outputId": "08a4fd38-2318-49fd-cb5a-9169c34837dd"
      },
      "source": [
        "IFrame('https://hedges.belmont.edu/signal_corr_trans.html', width=800, height=650)"
      ],
      "execution_count": 3,
      "outputs": [
        {
          "output_type": "execute_result",
          "data": {
            "text/html": [
              "\n",
              "        <iframe\n",
              "            width=\"800\"\n",
              "            height=\"650\"\n",
              "            src=\"https://hedges.belmont.edu/signal_corr_trans.html\"\n",
              "            frameborder=\"0\"\n",
              "            allowfullscreen\n",
              "        ></iframe>\n",
              "        "
            ],
            "text/plain": [
              "<IPython.lib.display.IFrame at 0x7f6582fefc50>"
            ]
          },
          "metadata": {},
          "execution_count": 3
        }
      ]
    },
    {
      "cell_type": "markdown",
      "metadata": {
        "id": "iyABQEw7pJ9H"
      },
      "source": [
        "# MNIST MLP & CNN Demo\n",
        "\n",
        "[MNIST](http://yann.lecun.com/exdb/mnist/) is a classic dataset of handwritten digits, which has been the testing ground for a [a variety of methods](https://en.wikipedia.org/wiki/MNIST_database)(Wikipedia) in machine learning.\n",
        "\n",
        "![MNIST example](https://upload.wikimedia.org/wikipedia/commons/2/27/MnistExamples.png)\n",
        "\n",
        "While Convolutional Neural Networks -- which we'll get to below -- tend to be most effective and for image processing, the 24x24-pixel images in MNIST are small enough that we can apply the 'single hidden layer' model  (also known as a Multi-Layer Perceptron or MLP)  to it.  \n",
        "\n",
        "Essentially, we will 'graduate' from the 7-segment display of digits from the previous lesson, to handwritten digits.  Then we'll move on to larger, more diverse image datasets."
      ]
    },
    {
      "cell_type": "markdown",
      "metadata": {
        "id": "5Q4wrna4uxae"
      },
      "source": [
        "## First, check that we can use a GPU (runs faster)"
      ]
    },
    {
      "cell_type": "code",
      "metadata": {
        "id": "DP8B5I2Lpqv6",
        "colab": {
          "base_uri": "https://localhost:8080/"
        },
        "outputId": "feedda6f-0101-4a0a-d23b-65bd07a4c7bd"
      },
      "source": [
        "# First, confirm that we can see the GPU. Just execute this cell. \n",
        "import torch\n",
        "torch.cuda.is_available()   # If False, go up to Edit > Notebook Settings > Hardware Accelerator > GPU"
      ],
      "execution_count": 4,
      "outputs": [
        {
          "output_type": "execute_result",
          "data": {
            "text/plain": [
              "True"
            ]
          },
          "metadata": {},
          "execution_count": 4
        }
      ]
    },
    {
      "cell_type": "code",
      "metadata": {
        "id": "zW-mrUJUGUEv"
      },
      "source": [
        "# install some things\n",
        "! [ -e /content ] && pip install -Uqq fastai   # install upgrade fastai on colab\n",
        "! pip install mrspuff -Uq"
      ],
      "execution_count": 5,
      "outputs": []
    },
    {
      "cell_type": "code",
      "metadata": {
        "id": "RPqMSqYKF0xk"
      },
      "source": [
        "# let's import a bunch of other stuff\n",
        "import numpy as np \n",
        "import torch\n",
        "import torch.nn as nn\n",
        "import torch.nn.functional as F\n",
        "from torch.utils.data import Dataset\n",
        "from torch import optim\n",
        "from fastai.vision.all import *\n",
        "import torchvision\n",
        "import torchvision.transforms as transforms\n",
        "from fastai.learner import Learner\n",
        "from fastai.optimizer import OptimWrapper\n",
        "from fastai.callback.progress import *\n",
        "from functools import partial \n",
        "from IPython.display import display, HTML"
      ],
      "execution_count": 6,
      "outputs": []
    },
    {
      "cell_type": "markdown",
      "metadata": {
        "id": "TcAkkUJiqcKr"
      },
      "source": [
        "## Download and prepare the data:\n",
        "\n",
        "We're going to write our neural networks using [Keras](http://keras.io), which also provides handy utility for downloading and setting up common ML datasets."
      ]
    },
    {
      "cell_type": "code",
      "metadata": {
        "colab": {
          "base_uri": "https://localhost:8080/"
        },
        "id": "1m80aqS6HAhc",
        "outputId": "90c9fe75-8b9c-49e1-bf99-98f410c57b5a"
      },
      "source": [
        "# Download the data\n",
        "path = untar_data(URLs.MNIST)  # fastai stores the url in URLs.MNIST\n",
        "\n",
        "path.ls()  # let's see what's there. Note we could just as easily run \"! ls {path}\" instead"
      ],
      "execution_count": 7,
      "outputs": [
        {
          "output_type": "execute_result",
          "data": {
            "text/plain": [
              "(#3) [Path('/root/.fastai/data/mnist_png/models'),Path('/root/.fastai/data/mnist_png/training'),Path('/root/.fastai/data/mnist_png/testing')]"
            ]
          },
          "metadata": {},
          "execution_count": 7
        }
      ]
    },
    {
      "cell_type": "markdown",
      "metadata": {
        "id": "6keSLpYHHFmL"
      },
      "source": [
        "So, there's a training set and a testing set.  Let's take a look in testing:"
      ]
    },
    {
      "cell_type": "code",
      "metadata": {
        "colab": {
          "base_uri": "https://localhost:8080/"
        },
        "id": "GsJLZi5aHJyZ",
        "outputId": "66f58510-afd2-46f8-d201-55cf8dd71050"
      },
      "source": [
        "(path/\"testing\").ls()"
      ],
      "execution_count": 8,
      "outputs": [
        {
          "output_type": "execute_result",
          "data": {
            "text/plain": [
              "(#10) [Path('/root/.fastai/data/mnist_png/testing/8'),Path('/root/.fastai/data/mnist_png/testing/9'),Path('/root/.fastai/data/mnist_png/testing/5'),Path('/root/.fastai/data/mnist_png/testing/4'),Path('/root/.fastai/data/mnist_png/testing/2'),Path('/root/.fastai/data/mnist_png/testing/6'),Path('/root/.fastai/data/mnist_png/testing/7'),Path('/root/.fastai/data/mnist_png/testing/1'),Path('/root/.fastai/data/mnist_png/testing/0'),Path('/root/.fastai/data/mnist_png/testing/3')]"
            ]
          },
          "metadata": {},
          "execution_count": 8
        }
      ]
    },
    {
      "cell_type": "markdown",
      "metadata": {
        "id": "-v-3eaOQHPGX"
      },
      "source": [
        "...So there's a seperate directory for each digit (0 to 9).  Each digit will be regarded as a category for our classifier. And then in one of the digit directories:"
      ]
    },
    {
      "cell_type": "code",
      "metadata": {
        "colab": {
          "base_uri": "https://localhost:8080/"
        },
        "id": "z3gYrvHsHxcN",
        "outputId": "67f038f2-abad-4d52-fbdb-4c1cdd6c75f0"
      },
      "source": [
        "(path/\"testing/8\").ls()"
      ],
      "execution_count": 9,
      "outputs": [
        {
          "output_type": "execute_result",
          "data": {
            "text/plain": [
              "(#974) [Path('/root/.fastai/data/mnist_png/testing/8/373.png'),Path('/root/.fastai/data/mnist_png/testing/8/3829.png'),Path('/root/.fastai/data/mnist_png/testing/8/3954.png'),Path('/root/.fastai/data/mnist_png/testing/8/8266.png'),Path('/root/.fastai/data/mnist_png/testing/8/9596.png'),Path('/root/.fastai/data/mnist_png/testing/8/8135.png'),Path('/root/.fastai/data/mnist_png/testing/8/8919.png'),Path('/root/.fastai/data/mnist_png/testing/8/7035.png'),Path('/root/.fastai/data/mnist_png/testing/8/1052.png'),Path('/root/.fastai/data/mnist_png/testing/8/2667.png')...]"
            ]
          },
          "metadata": {},
          "execution_count": 9
        }
      ]
    },
    {
      "cell_type": "markdown",
      "metadata": {
        "id": "upZtr7-lH5Cw"
      },
      "source": [
        "If we and to take a look at one, we go do..."
      ]
    },
    {
      "cell_type": "code",
      "metadata": {
        "colab": {
          "base_uri": "https://localhost:8080/",
          "height": 45
        },
        "id": "hU_9pv4XH7cz",
        "outputId": "f910beac-dc0f-4819-a44e-6d7b599f61fe"
      },
      "source": [
        "image = Image.open((path/\"testing/8\").ls()[0]) # this will take the first filename in the list and open it as an Image\n",
        "image   # have the notebook display the image -- it's an 8! (or it should be)"
      ],
      "execution_count": 10,
      "outputs": [
        {
          "output_type": "execute_result",
          "data": {
            "image/png": "[encoded data removed]",
            "text/plain": [
              "<PIL.PngImagePlugin.PngImageFile image mode=L size=28x28 at 0x7F64FCE8A1D0>"
            ]
          },
          "metadata": {},
          "execution_count": 10
        }
      ]
    },
    {
      "cell_type": "code",
      "metadata": {
        "colab": {
          "base_uri": "https://localhost:8080/"
        },
        "id": "BeDowATlIJZ6",
        "outputId": "1e798eef-c483-489f-eaff-378b9ecde63d"
      },
      "source": [
        "image.size, image.mode   #  dimesions of image are 28x28.  'L' mode means grayscale"
      ],
      "execution_count": 11,
      "outputs": [
        {
          "output_type": "execute_result",
          "data": {
            "text/plain": [
              "((28, 28), 'L')"
            ]
          },
          "metadata": {},
          "execution_count": 11
        }
      ]
    },
    {
      "cell_type": "markdown",
      "metadata": {
        "id": "2sFxwpbPJi-u"
      },
      "source": [
        "## Define the DataSets\n",
        "We're going to use fastai, which has various built-in methods for reading categorical data. Most of these methods assume our images are RGB rather than grayscale. In order to keep our image grayscale, we'll have to do a little extra work by defining a DataBlock, that will store our images, their categories, and how to load them."
      ]
    },
    {
      "cell_type": "code",
      "metadata": {
        "id": "S99X54RpKH_w"
      },
      "source": [
        "mnist = DataBlock(blocks = (ImageBlock(cls=PILImageBW),CategoryBlock),\n",
        "                  get_items = get_image_files,\n",
        "                  splitter = GrandparentSplitter(train_name='training', valid_name='testing'),\n",
        "                  get_y = parent_label)"
      ],
      "execution_count": 12,
      "outputs": []
    },
    {
      "cell_type": "code",
      "metadata": {
        "id": "oGGtidCqbPvx"
      },
      "source": [
        "batch_size = 64  # they're tiny, black & white images\n",
        "dls = mnist.dataloaders(path, bs=batch_size)"
      ],
      "execution_count": null,
      "outputs": []
    },
    {
      "cell_type": "code",
      "metadata": {
        "id": "SEhquivnLEri"
      },
      "source": [
        "dls.show_batch()  "
      ],
      "execution_count": null,
      "outputs": []
    },
    {
      "cell_type": "code",
      "metadata": {
        "id": "SACE7jaaSrfC"
      },
      "source": [
        "# let's check to make sure we're still grayscale:\n",
        "print(dls.train_ds[0][0].shape)   # should be (28,28)\n",
        "print(dls.one_batch()[0].shape)   # should have a 1 not a 3 for the second dimension"
      ],
      "execution_count": null,
      "outputs": []
    },
    {
      "cell_type": "markdown",
      "metadata": {
        "id": "XU1EJBH5JcFx"
      },
      "source": [
        "## Define a Model & Learner\n",
        "First we'll start with a *non*-convolutional model, an MLP:"
      ]
    },
    {
      "cell_type": "code",
      "metadata": {
        "id": "8pZuNQtSj1Dx"
      },
      "source": [
        "# i want to use torchinfo.summary so we can see how many parameters are in our model\n",
        "!pip install torchinfo \n",
        "from torchinfo import summary"
      ],
      "execution_count": null,
      "outputs": []
    },
    {
      "cell_type": "code",
      "metadata": {
        "id": "ZX23ID7ZIYgW"
      },
      "source": [
        "# fastai does moves our model to the gpu automatically, but I want to use \n",
        "# torchinfo.summary first to see what our models' \"made of\", so we need to \n",
        "# know what device we're on.\n",
        "device = torch.device(\"cuda\" if torch.cuda.is_available() else \"cpu\")\n",
        "\n",
        "# The PyTorch model looks similar:\n",
        "net = nn.Sequential(   # Sequential is a simplified interface that defines our .__init__() and .forward() method for us\n",
        "    nn.Flatten(),     # convert the data from being square to one big long line\n",
        "    nn.Linear(784, 256),  # 784 = 28x28  \n",
        "    nn.ReLU(),\n",
        "    nn.Linear(256, 128),   \n",
        "    nn.ReLU(),\n",
        "    nn.Linear(128,10),     # ten categories for digits 0-9 on the output\n",
        "    nn.LogSoftmax(dim=1) # softmax is like sigmoid for multi-class. Log-softmax is more accurate as our \"Santa\" example indicated\n",
        "    ).to(device)\n",
        "\n",
        "summary(net, input_size=(batch_size, 1, 28, 28))"
      ],
      "execution_count": null,
      "outputs": []
    },
    {
      "cell_type": "markdown",
      "metadata": {
        "id": "5yO0WIcgkE77"
      },
      "source": [
        "Note (for later) that there's 235,000 trainable parameters in this model."
      ]
    },
    {
      "cell_type": "markdown",
      "metadata": {
        "id": "hfeKkT45L3xa"
      },
      "source": [
        "Oh, remember WandB!  Yea, we should use it!\n"
      ]
    },
    {
      "cell_type": "code",
      "metadata": {
        "id": "rfs8Ubl0Lq36"
      },
      "source": [
        "use_wandb = False\n",
        "if use_wandb:\n",
        "    !pip install wandb -qqq\n",
        "    import wandb\n",
        "    from fastai.callback.wandb import *\n",
        "    wandb.login()"
      ],
      "execution_count": null,
      "outputs": []
    },
    {
      "cell_type": "code",
      "metadata": {
        "id": "5xjp9NJnKvTF"
      },
      "source": [
        "if use_wandb:\n",
        "    wandb.finish()  # stop any aborted previous runs (I made a lot of mistake preparing this!)\n",
        "    wandb.init(project='mnist_lesson6')\n",
        "    cbs = WandbCallback()\n",
        "else:\n",
        "    cbs = []\n",
        "\n",
        "opt_func = partial(OptimWrapper, opt=optim.Adam)  # Optimizer method\n",
        "\n",
        "\n",
        "# NLLLoss is negative log-likelihood, and it pairs with our LogSoftMax activation\n",
        "learn = Learner(dls, net, metrics=accuracy, opt_func=opt_func, loss_func=nn.NLLLoss(), cbs=cbs)"
      ],
      "execution_count": null,
      "outputs": []
    },
    {
      "cell_type": "code",
      "metadata": {
        "id": "1nIYu5u6M5pD"
      },
      "source": [
        "#what learning rate to use?  Let's let the LR Finder tell us:\n",
        "learn.lr_find()"
      ],
      "execution_count": null,
      "outputs": []
    },
    {
      "cell_type": "code",
      "metadata": {
        "id": "0djTMvGBeEX5"
      },
      "source": [
        "learn.fit(10, lr=1e-3)\n",
        "if use_wandb: wandb.finish()"
      ],
      "execution_count": null,
      "outputs": []
    },
    {
      "cell_type": "markdown",
      "metadata": {
        "id": "h40-nlgZw_mV"
      },
      "source": [
        "So we get an accuracy of around 97% with our MLP, along with a validation loss of 0.13, and a much lower training loss -- indicating that our model is significantly *overfitting*.  \n",
        "\n",
        " Let's try a Convolutional Neural Network (CNN or 'ConvNet') instead.\n",
        "\n",
        "The standard fastai convnet architectures are known as ResNets, which come in different sizes (e.g. resnet18, resnet34).  \n",
        "\n",
        "But we're going to define our own convnet..."
      ]
    },
    {
      "cell_type": "markdown",
      "metadata": {
        "id": "Hv5MlknRu3Se"
      },
      "source": [
        "## Define the CNN model"
      ]
    },
    {
      "cell_type": "code",
      "metadata": {
        "id": "kXajcaI5ivSG"
      },
      "source": [
        "class ConvNet(nn.Module):\n",
        "    # from PyTorch tutorial, https://github.com/yunjey/pytorch-tutorial/blob/master/tutorials/02-intermediate/convolutional_neural_network/main.py#L36\n",
        "    def __init__(self, num_classes=10):\n",
        "        super(ConvNet, self).__init__()\n",
        "        # We have the option to build our network in \"blocks\". \n",
        "        #   We don't have to, but let's try it\n",
        "        self.block1 = nn.Sequential(\n",
        "            nn.Conv2d(1, 16, kernel_size=5, stride=1, padding=2),\n",
        "            #nn.BatchNorm2d(16),  # Try coming back and uncommenting these BatchNorm lines and re-training! ;-) \n",
        "            nn.ReLU(),\n",
        "            nn.MaxPool2d(kernel_size=2, stride=2))\n",
        "        self.block2 = nn.Sequential(\n",
        "            nn.Conv2d(16, 32, kernel_size=5, stride=1, padding=2),\n",
        "            #nn.BatchNorm2d(32),\n",
        "            nn.ReLU(),\n",
        "            nn.MaxPool2d(kernel_size=2, stride=2))\n",
        "        self.fc = nn.Linear(7*7*32, num_classes)  #  a final fully connected layer\n",
        "        self.act = nn.LogSoftmax(dim=1) # as I was writing this I forgot the softmax and nothing converged. ;-) \n",
        "\n",
        "    def forward(self, x, pretrained=False):\n",
        "        out = self.block1(x)\n",
        "        out = self.block2(out)\n",
        "        out = out.reshape(out.size(0), -1) # this is like nn.Flatten()\n",
        "        out = self.fc(out)\n",
        "        out = self.act(out)\n",
        "        return out\n",
        "\n",
        "cnn = ConvNet().to(device)\n",
        "summary(cnn, input_size=(batch_size, 1, 28, 28))"
      ],
      "execution_count": null,
      "outputs": []
    },
    {
      "cell_type": "markdown",
      "metadata": {
        "id": "4z-sJe5QkTDU"
      },
      "source": [
        "...So, only 29,000 parameters instead of the MLP's 230,000!. "
      ]
    },
    {
      "cell_type": "markdown",
      "metadata": {
        "id": "3QYTsFIbwUio"
      },
      "source": [
        "\n",
        "## And train as before..."
      ]
    },
    {
      "cell_type": "code",
      "metadata": {
        "id": "lM1ZSLLZiAGf"
      },
      "source": [
        "if use_wandb:\n",
        "    wandb.finish() \n",
        "    wandb.init(project='mnist_lesson6')\n",
        "\n",
        "learn = Learner(dls, cnn, metrics=accuracy, opt_func=opt_func, loss_func=nn.NLLLoss(), cbs=cbs)"
      ],
      "execution_count": null,
      "outputs": []
    },
    {
      "cell_type": "code",
      "metadata": {
        "id": "Zd2wYjpZlDOI"
      },
      "source": [
        "learn.lr_find()"
      ],
      "execution_count": null,
      "outputs": []
    },
    {
      "cell_type": "code",
      "metadata": {
        "id": "VyrDeg9xh7br"
      },
      "source": [
        "learn.fit(10, lr=1e-3)\n",
        "if use_wandb: wandb.finish()"
      ],
      "execution_count": null,
      "outputs": []
    },
    {
      "cell_type": "markdown",
      "metadata": {
        "id": "rYFtYA_opu0S"
      },
      "source": [
        "The loss values with the CNN were quite a bit lower than they were with the MLP, yes?  Correspondingly, we scored higher in accuracy too. And while training loss validation losses remained more commensurate -- less overfitting!  "
      ]
    },
    {
      "cell_type": "markdown",
      "metadata": {
        "id": "MXxoym-401Ko"
      },
      "source": [
        "There are many variations we can apply to this model, adding layers with names such as \"Dropout\" and \"Batch Normalization\" too.  For now this will suffice.\n",
        "\n",
        "\n",
        "**Questions for in-class discussion:**\n",
        "1. If the CNN is supposed to be faster than the MLP for *most* applications, why is it *no faster* on the MNIST dataset?\n",
        "2. Did you try the BatchNorm?  What did it do?"
      ]
    },
    {
      "cell_type": "code",
      "metadata": {
        "id": "TVX3f_NXvNaL"
      },
      "source": [
        ""
      ],
      "execution_count": null,
      "outputs": []
    }
  ]
}