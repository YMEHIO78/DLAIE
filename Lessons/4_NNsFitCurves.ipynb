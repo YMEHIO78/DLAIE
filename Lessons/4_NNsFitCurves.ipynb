{
  "nbformat": 4,
  "nbformat_minor": 0,
  "metadata": {
    "colab": {
      "name": "4_NNsFitCurves.ipynb",
      "provenance": [],
      "collapsed_sections": []
    },
    "kernelspec": {
      "name": "python3",
      "display_name": "Python 3"
    },
    "language_info": {
      "name": "python"
    },
    "accelerator": "GPU",
    "widgets": {
      "application/vnd.jupyter.widget-state+json": {
        "6cbb58783d404b9fad6c058f117f352d": {
          "model_module": "@jupyter-widgets/controls",
          "model_name": "VBoxModel",
          "model_module_version": "1.5.0",
          "state": {
            "_view_name": "VBoxView",
            "_dom_classes": [],
            "_model_name": "VBoxModel",
            "_view_module": "@jupyter-widgets/controls",
            "_model_module_version": "1.5.0",
            "_view_count": null,
            "_view_module_version": "1.5.0",
            "box_style": "",
            "layout": "IPY_MODEL_a05918d641b445e5944369aa53bea24b",
            "_model_module": "@jupyter-widgets/controls",
            "children": [
              "IPY_MODEL_45ff3dcad10e42c6870da8980d38f3b0",
              "IPY_MODEL_7e5c3ff4dd9f425fa666e2bb58580a97"
            ]
          }
        },
        "a05918d641b445e5944369aa53bea24b": {
          "model_module": "@jupyter-widgets/base",
          "model_name": "LayoutModel",
          "model_module_version": "1.2.0",
          "state": {
            "_view_name": "LayoutView",
            "grid_template_rows": null,
            "right": null,
            "justify_content": null,
            "_view_module": "@jupyter-widgets/base",
            "overflow": null,
            "_model_module_version": "1.2.0",
            "_view_count": null,
            "flex_flow": null,
            "width": null,
            "min_width": null,
            "border": null,
            "align_items": null,
            "bottom": null,
            "_model_module": "@jupyter-widgets/base",
            "top": null,
            "grid_column": null,
            "overflow_y": null,
            "overflow_x": null,
            "grid_auto_flow": null,
            "grid_area": null,
            "grid_template_columns": null,
            "flex": null,
            "_model_name": "LayoutModel",
            "justify_items": null,
            "grid_row": null,
            "max_height": null,
            "align_content": null,
            "visibility": null,
            "align_self": null,
            "height": null,
            "min_height": null,
            "padding": null,
            "grid_auto_rows": null,
            "grid_gap": null,
            "max_width": null,
            "order": null,
            "_view_module_version": "1.2.0",
            "grid_template_areas": null,
            "object_position": null,
            "object_fit": null,
            "grid_auto_columns": null,
            "margin": null,
            "display": null,
            "left": null
          }
        },
        "45ff3dcad10e42c6870da8980d38f3b0": {
          "model_module": "@jupyter-widgets/controls",
          "model_name": "LabelModel",
          "model_module_version": "1.5.0",
          "state": {
            "_view_name": "LabelView",
            "style": "IPY_MODEL_321b9147dcd24c6fbecb6ec5bd9e1c97",
            "_dom_classes": [],
            "description": "",
            "_model_name": "LabelModel",
            "placeholder": "​",
            "_view_module": "@jupyter-widgets/controls",
            "_model_module_version": "1.5.0",
            "value": " 0.01MB of 0.01MB uploaded (0.00MB deduped)\r",
            "_view_count": null,
            "_view_module_version": "1.5.0",
            "description_tooltip": null,
            "_model_module": "@jupyter-widgets/controls",
            "layout": "IPY_MODEL_35605661e0104fd9862321cba1cf315c"
          }
        },
        "7e5c3ff4dd9f425fa666e2bb58580a97": {
          "model_module": "@jupyter-widgets/controls",
          "model_name": "FloatProgressModel",
          "model_module_version": "1.5.0",
          "state": {
            "_view_name": "ProgressView",
            "style": "IPY_MODEL_bae76bdc95034dab91e766e464097fec",
            "_dom_classes": [],
            "description": "",
            "_model_name": "FloatProgressModel",
            "bar_style": "",
            "max": 1,
            "_view_module": "@jupyter-widgets/controls",
            "_model_module_version": "1.5.0",
            "value": 1,
            "_view_count": null,
            "_view_module_version": "1.5.0",
            "orientation": "horizontal",
            "min": 0,
            "description_tooltip": null,
            "_model_module": "@jupyter-widgets/controls",
            "layout": "IPY_MODEL_73955cd672e941c8bcd838b7b321367c"
          }
        },
        "321b9147dcd24c6fbecb6ec5bd9e1c97": {
          "model_module": "@jupyter-widgets/controls",
          "model_name": "DescriptionStyleModel",
          "model_module_version": "1.5.0",
          "state": {
            "_view_name": "StyleView",
            "_model_name": "DescriptionStyleModel",
            "description_width": "",
            "_view_module": "@jupyter-widgets/base",
            "_model_module_version": "1.5.0",
            "_view_count": null,
            "_view_module_version": "1.2.0",
            "_model_module": "@jupyter-widgets/controls"
          }
        },
        "35605661e0104fd9862321cba1cf315c": {
          "model_module": "@jupyter-widgets/base",
          "model_name": "LayoutModel",
          "model_module_version": "1.2.0",
          "state": {
            "_view_name": "LayoutView",
            "grid_template_rows": null,
            "right": null,
            "justify_content": null,
            "_view_module": "@jupyter-widgets/base",
            "overflow": null,
            "_model_module_version": "1.2.0",
            "_view_count": null,
            "flex_flow": null,
            "width": null,
            "min_width": null,
            "border": null,
            "align_items": null,
            "bottom": null,
            "_model_module": "@jupyter-widgets/base",
            "top": null,
            "grid_column": null,
            "overflow_y": null,
            "overflow_x": null,
            "grid_auto_flow": null,
            "grid_area": null,
            "grid_template_columns": null,
            "flex": null,
            "_model_name": "LayoutModel",
            "justify_items": null,
            "grid_row": null,
            "max_height": null,
            "align_content": null,
            "visibility": null,
            "align_self": null,
            "height": null,
            "min_height": null,
            "padding": null,
            "grid_auto_rows": null,
            "grid_gap": null,
            "max_width": null,
            "order": null,
            "_view_module_version": "1.2.0",
            "grid_template_areas": null,
            "object_position": null,
            "object_fit": null,
            "grid_auto_columns": null,
            "margin": null,
            "display": null,
            "left": null
          }
        },
        "bae76bdc95034dab91e766e464097fec": {
          "model_module": "@jupyter-widgets/controls",
          "model_name": "ProgressStyleModel",
          "model_module_version": "1.5.0",
          "state": {
            "_view_name": "StyleView",
            "_model_name": "ProgressStyleModel",
            "description_width": "",
            "_view_module": "@jupyter-widgets/base",
            "_model_module_version": "1.5.0",
            "_view_count": null,
            "_view_module_version": "1.2.0",
            "bar_color": null,
            "_model_module": "@jupyter-widgets/controls"
          }
        },
        "73955cd672e941c8bcd838b7b321367c": {
          "model_module": "@jupyter-widgets/base",
          "model_name": "LayoutModel",
          "model_module_version": "1.2.0",
          "state": {
            "_view_name": "LayoutView",
            "grid_template_rows": null,
            "right": null,
            "justify_content": null,
            "_view_module": "@jupyter-widgets/base",
            "overflow": null,
            "_model_module_version": "1.2.0",
            "_view_count": null,
            "flex_flow": null,
            "width": null,
            "min_width": null,
            "border": null,
            "align_items": null,
            "bottom": null,
            "_model_module": "@jupyter-widgets/base",
            "top": null,
            "grid_column": null,
            "overflow_y": null,
            "overflow_x": null,
            "grid_auto_flow": null,
            "grid_area": null,
            "grid_template_columns": null,
            "flex": null,
            "_model_name": "LayoutModel",
            "justify_items": null,
            "grid_row": null,
            "max_height": null,
            "align_content": null,
            "visibility": null,
            "align_self": null,
            "height": null,
            "min_height": null,
            "padding": null,
            "grid_auto_rows": null,
            "grid_gap": null,
            "max_width": null,
            "order": null,
            "_view_module_version": "1.2.0",
            "grid_template_areas": null,
            "object_position": null,
            "object_fit": null,
            "grid_auto_columns": null,
            "margin": null,
            "display": null,
            "left": null
          }
        },
        "c90673a05ade419d998221cdfb01624c": {
          "model_module": "@jupyter-widgets/controls",
          "model_name": "VBoxModel",
          "model_module_version": "1.5.0",
          "state": {
            "_view_name": "VBoxView",
            "_dom_classes": [],
            "_model_name": "VBoxModel",
            "_view_module": "@jupyter-widgets/controls",
            "_model_module_version": "1.5.0",
            "_view_count": null,
            "_view_module_version": "1.5.0",
            "box_style": "",
            "layout": "IPY_MODEL_a2cee5ac21ba4900a77e6b8e76e04b7a",
            "_model_module": "@jupyter-widgets/controls",
            "children": [
              "IPY_MODEL_f1c2abea7673481cad95b65710627d8a",
              "IPY_MODEL_73e4c6c5fea34cbd8a73e9f4ba4c0910"
            ]
          }
        },
        "a2cee5ac21ba4900a77e6b8e76e04b7a": {
          "model_module": "@jupyter-widgets/base",
          "model_name": "LayoutModel",
          "model_module_version": "1.2.0",
          "state": {
            "_view_name": "LayoutView",
            "grid_template_rows": null,
            "right": null,
            "justify_content": null,
            "_view_module": "@jupyter-widgets/base",
            "overflow": null,
            "_model_module_version": "1.2.0",
            "_view_count": null,
            "flex_flow": null,
            "width": null,
            "min_width": null,
            "border": null,
            "align_items": null,
            "bottom": null,
            "_model_module": "@jupyter-widgets/base",
            "top": null,
            "grid_column": null,
            "overflow_y": null,
            "overflow_x": null,
            "grid_auto_flow": null,
            "grid_area": null,
            "grid_template_columns": null,
            "flex": null,
            "_model_name": "LayoutModel",
            "justify_items": null,
            "grid_row": null,
            "max_height": null,
            "align_content": null,
            "visibility": null,
            "align_self": null,
            "height": null,
            "min_height": null,
            "padding": null,
            "grid_auto_rows": null,
            "grid_gap": null,
            "max_width": null,
            "order": null,
            "_view_module_version": "1.2.0",
            "grid_template_areas": null,
            "object_position": null,
            "object_fit": null,
            "grid_auto_columns": null,
            "margin": null,
            "display": null,
            "left": null
          }
        },
        "f1c2abea7673481cad95b65710627d8a": {
          "model_module": "@jupyter-widgets/controls",
          "model_name": "LabelModel",
          "model_module_version": "1.5.0",
          "state": {
            "_view_name": "LabelView",
            "style": "IPY_MODEL_f55dc4146fc2424a925644d1ca779292",
            "_dom_classes": [],
            "description": "",
            "_model_name": "LabelModel",
            "placeholder": "​",
            "_view_module": "@jupyter-widgets/controls",
            "_model_module_version": "1.5.0",
            "value": " 0.01MB of 0.01MB uploaded (0.00MB deduped)\r",
            "_view_count": null,
            "_view_module_version": "1.5.0",
            "description_tooltip": null,
            "_model_module": "@jupyter-widgets/controls",
            "layout": "IPY_MODEL_056de0e1a1a14c33bda1bbaf1ec26167"
          }
        },
        "73e4c6c5fea34cbd8a73e9f4ba4c0910": {
          "model_module": "@jupyter-widgets/controls",
          "model_name": "FloatProgressModel",
          "model_module_version": "1.5.0",
          "state": {
            "_view_name": "ProgressView",
            "style": "IPY_MODEL_7b11a5f3b88540d6a2b40886a34d1d3a",
            "_dom_classes": [],
            "description": "",
            "_model_name": "FloatProgressModel",
            "bar_style": "",
            "max": 1,
            "_view_module": "@jupyter-widgets/controls",
            "_model_module_version": "1.5.0",
            "value": 1,
            "_view_count": null,
            "_view_module_version": "1.5.0",
            "orientation": "horizontal",
            "min": 0,
            "description_tooltip": null,
            "_model_module": "@jupyter-widgets/controls",
            "layout": "IPY_MODEL_843f55af712d442dbc8f7672aaec07a8"
          }
        },
        "f55dc4146fc2424a925644d1ca779292": {
          "model_module": "@jupyter-widgets/controls",
          "model_name": "DescriptionStyleModel",
          "model_module_version": "1.5.0",
          "state": {
            "_view_name": "StyleView",
            "_model_name": "DescriptionStyleModel",
            "description_width": "",
            "_view_module": "@jupyter-widgets/base",
            "_model_module_version": "1.5.0",
            "_view_count": null,
            "_view_module_version": "1.2.0",
            "_model_module": "@jupyter-widgets/controls"
          }
        },
        "056de0e1a1a14c33bda1bbaf1ec26167": {
          "model_module": "@jupyter-widgets/base",
          "model_name": "LayoutModel",
          "model_module_version": "1.2.0",
          "state": {
            "_view_name": "LayoutView",
            "grid_template_rows": null,
            "right": null,
            "justify_content": null,
            "_view_module": "@jupyter-widgets/base",
            "overflow": null,
            "_model_module_version": "1.2.0",
            "_view_count": null,
            "flex_flow": null,
            "width": null,
            "min_width": null,
            "border": null,
            "align_items": null,
            "bottom": null,
            "_model_module": "@jupyter-widgets/base",
            "top": null,
            "grid_column": null,
            "overflow_y": null,
            "overflow_x": null,
            "grid_auto_flow": null,
            "grid_area": null,
            "grid_template_columns": null,
            "flex": null,
            "_model_name": "LayoutModel",
            "justify_items": null,
            "grid_row": null,
            "max_height": null,
            "align_content": null,
            "visibility": null,
            "align_self": null,
            "height": null,
            "min_height": null,
            "padding": null,
            "grid_auto_rows": null,
            "grid_gap": null,
            "max_width": null,
            "order": null,
            "_view_module_version": "1.2.0",
            "grid_template_areas": null,
            "object_position": null,
            "object_fit": null,
            "grid_auto_columns": null,
            "margin": null,
            "display": null,
            "left": null
          }
        },
        "7b11a5f3b88540d6a2b40886a34d1d3a": {
          "model_module": "@jupyter-widgets/controls",
          "model_name": "ProgressStyleModel",
          "model_module_version": "1.5.0",
          "state": {
            "_view_name": "StyleView",
            "_model_name": "ProgressStyleModel",
            "description_width": "",
            "_view_module": "@jupyter-widgets/base",
            "_model_module_version": "1.5.0",
            "_view_count": null,
            "_view_module_version": "1.2.0",
            "bar_color": null,
            "_model_module": "@jupyter-widgets/controls"
          }
        },
        "843f55af712d442dbc8f7672aaec07a8": {
          "model_module": "@jupyter-widgets/base",
          "model_name": "LayoutModel",
          "model_module_version": "1.2.0",
          "state": {
            "_view_name": "LayoutView",
            "grid_template_rows": null,
            "right": null,
            "justify_content": null,
            "_view_module": "@jupyter-widgets/base",
            "overflow": null,
            "_model_module_version": "1.2.0",
            "_view_count": null,
            "flex_flow": null,
            "width": null,
            "min_width": null,
            "border": null,
            "align_items": null,
            "bottom": null,
            "_model_module": "@jupyter-widgets/base",
            "top": null,
            "grid_column": null,
            "overflow_y": null,
            "overflow_x": null,
            "grid_auto_flow": null,
            "grid_area": null,
            "grid_template_columns": null,
            "flex": null,
            "_model_name": "LayoutModel",
            "justify_items": null,
            "grid_row": null,
            "max_height": null,
            "align_content": null,
            "visibility": null,
            "align_self": null,
            "height": null,
            "min_height": null,
            "padding": null,
            "grid_auto_rows": null,
            "grid_gap": null,
            "max_width": null,
            "order": null,
            "_view_module_version": "1.2.0",
            "grid_template_areas": null,
            "object_position": null,
            "object_fit": null,
            "grid_auto_columns": null,
            "margin": null,
            "display": null,
            "left": null
          }
        }
      }
    }
  },
  "cells": [
    {
      "cell_type": "markdown",
      "metadata": {
        "id": "5IDOIpj0tyF-"
      },
      "source": [
        "[![Open In Colab](https://colab.research.google.com/assets/colab-badge.svg)](https://colab.research.google.com/drive/11K8e51vPwsVyuAvxlpyTIb65HDkBCJdG?usp=sharing)\n",
        "\n",
        "*Note: GitHub.com does not render everything when viewing these notbeook files, so click the \"Open in Colab\" button above to see everything as it's intended.*"
      ]
    },
    {
      "cell_type": "markdown",
      "metadata": {
        "id": "WRJvg5zUtEkm"
      },
      "source": [
        "# Still working on this Lesson!  \n",
        "Not ready for prime time just yet, but getting there.\n",
        "\n",
        "Check back later. "
      ]
    },
    {
      "cell_type": "markdown",
      "metadata": {
        "id": "kgTBz-b_xzGd"
      },
      "source": [
        "\n",
        "# What is Deep Learning (DL)?\n",
        "\n",
        "\"Deep Learning\" involves the Machine Learning (ML) approach to Artificial Intelligence (AI) in which multiple \"layers\" of \"artificial neurons\" are trained (via \"gradient descent\") to produce outputs that minimize a loss (or cost) function.\n",
        "\n",
        "The term \"Deep Learning\" was coined by Geoffrey Hinton in the 200s as a way of \"repranding the study of artificial neural networks (NNs) which ahd for sometime not been taken seriously outside a small community of researchers.  The \"deep\" part refers to the use of multiple successive \"layers\" of neuron connections in a \"compositional\" (e.g. $g(f(x))$) way.\n",
        "\n",
        "\"Machine Learning,\" a term coined by Arthur Samuels in the 1950s, differs from \"classic\" \"symbolic\" AI in that it (ML) involves the successive optimization of a system's behavior, rather than having (static) \"expertise\" programmed by humans.  Example: curve-fitting by successive adjustment of the curve parameters.  (Instead of a series of if-thens hard-coded by a person.)\n",
        "\n",
        "TODO: add picture of MLP, mention universal approximation theorem,\n",
        "define layers, show multiple layers"
      ]
    },
    {
      "cell_type": "markdown",
      "metadata": {
        "id": "YUPaMSOUx9ME"
      },
      "source": [
        "# Neural Networks Fit Curves\n",
        "\n",
        "*Now that you've seen a bit of what artificial neural networks (ANN or just NN for short) **can** do, let's back up and look at what's going on under the hood.*\n",
        "\n",
        "NNs fit \"curves\" to data. NNs are function-approximators. There is even something called the \"universal approximation theorem\" for which it's shown that any function can be approximated to any arbitrary accuracy by a single \"layer\" of arbitrarily many neurons. \n",
        "\n",
        "Let's look at how that plays out for a simple example. \n",
        "\n",
        "Again, since this course has an \"AI Ethics\" flavor, we're not going to just use any old function such as $f(x)=x^2$; instead we're goint to use some data (that I made up) involving *people.*"
      ]
    },
    {
      "cell_type": "markdown",
      "metadata": {
        "id": "X5aslZiHYXrV"
      },
      "source": [
        "## Our Dataset: Your Risk of Death!\n",
        "\n",
        "Let's pretend we've got some data on your risk of death before some age, based on...well, there are lots of factors we could imagine collecting:\n",
        "  * your age\n",
        "  * your driving habits\n",
        "  * your diet \n",
        "  * how often you smoke\n",
        "  * how often you engage in risky behavior\n",
        "  * health outcomes for members of your family\n",
        "  * whether you live in a \"bad neighborhood\"\n",
        "  \n",
        "...and that data on you is probably already available from [data brokers]().  \n",
        "\n",
        "This particular problem has been handled by the insurance industry for hundreds of years. In fact it was [Francis Galton](https://en.wikipedia.org/wiki/Francis_Galton) \"the father of statistics (and eugenics)\" who petitioned the Institue of Actuaries to do more tracking of people in the UK in order to improve risk assessments! \n",
        "\n",
        "> Stop by Dr. Hawley's office sometime to try out a desktop \"[Galton Board](https://galtonboard.com/)\" toy: "
      ]
    },
    {
      "cell_type": "code",
      "metadata": {
        "colab": {
          "base_uri": "https://localhost:8080/",
          "height": 262
        },
        "cellView": "form",
        "id": "am2cUKsKYa0m",
        "outputId": "27cd216d-f187-4e8a-b4e9-51fc7a2bf880"
      },
      "source": [
        "#@title Galton Board Video\n",
        "from IPython.display import display, HTML\n",
        "display(HTML('<video controls width=\"320\" height=\"240\"><source src=\"https://galtonboard.com/Content/Videos/galton-board-large_1_mobile_1.mp4\" type=\"video/mp4\"> </video>'))"
      ],
      "execution_count": 8,
      "outputs": [
        {
          "output_type": "display_data",
          "data": {
            "text/html": [
              "<video controls width=\"320\" height=\"240\"><source src=\"https://galtonboard.com/Content/Videos/galton-board-large_1_mobile_1.mp4\" type=\"video/mp4\"> </video>"
            ],
            "text/plain": [
              "<IPython.core.display.HTML object>"
            ]
          },
          "metadata": {}
        }
      ]
    },
    {
      "cell_type": "markdown",
      "metadata": {
        "id": "numblv39zQWA"
      },
      "source": [
        "\n",
        "\n",
        "The science of making these kinds of estimates is a branch of applied mathematics called Actuarial Science, and it involves a lot careful statistical modeling. Actuaries are typically highly trained and highly paid. \n",
        "\n",
        "But now we've got machine learning! And without hardly knowing any statistics, someone can come along and build a model and start \"disrupting\" the insurance industry!  (Note: for one accessible introduction to how insurance companies model risk, see [this white paper by Deloitte Consulting on \"Predictive Modeling for Life Insurance\"](https://www.soa.org/globalassets/assets/files/research/projects/research-pred-mod-life-batty.pdf)).\n",
        "\n",
        "Even though ML models *can* be good at finding meaningful realtionships in data, if we just throw in \"all the data we have\" on someone, the model might not learn well, or it may waste lots of time and resources trying to fit to spurious things we're not interested.  So let's focus down to just two input features. \n",
        "\n",
        "For today's problem, let's say we have data on risk of death for certain people (presumably obtained by parsing some other data), as a function of their calori intake. I made up some numbers that sort of U-shaped (with some noise), to capture the idea that you don't want to each too much or two little. \n",
        "\n",
        "Also, to add another feature to the data, let's imagine that this company is offering a fitness-tracking app whereby we have some of your exercise frequency data! But not everyone has opted in to this exciting opportunity, so there are some blanks in our datatable. \n",
        "\n",
        "I'll show a graph of the data below, but first we need to import modules we'll need for todays code..."
      ]
    },
    {
      "cell_type": "code",
      "metadata": {
        "id": "BGD0TqUgtAn3"
      },
      "source": [
        "# install packages we'll use\n",
        "!pip install plotly | grep -v already         # we'll use plotly for 3d graphs\n",
        "! [ -e /content ] && pip install -Uqq fastai   # install upgrade fastai on colab\n",
        "!pip install mrspuff | grep -v already"
      ],
      "execution_count": 17,
      "outputs": []
    },
    {
      "cell_type": "code",
      "metadata": {
        "id": "9Ts6lqPGoRhK"
      },
      "source": [
        "import pandas as pd \n",
        "import plotly.express as px\n",
        "import plotly.graph_objects as go\n",
        "import matplotlib.pyplot as plt \n",
        "import numpy as np \n",
        "import torch\n",
        "import torch.nn as nn\n",
        "import torch.nn.functional as F\n",
        "from torch.utils.data import Dataset\n",
        "from torch import optim\n",
        "from fastai.tabular.all import *\n",
        "from fastai.learner import Learner\n",
        "from fastai.optimizer import OptimWrapper\n",
        "from fastai.callback.progress import *\n",
        "from functools import partial "
      ],
      "execution_count": 10,
      "outputs": []
    },
    {
      "cell_type": "markdown",
      "metadata": {
        "id": "ljgUIP3OyyQN"
      },
      "source": [
        "Pretend that we've actually bought people's data with or without their consent, or invaded everyone's privacy or something, to obtain a set of data.   ...But really we're just going to generate a set of triplets of data that follow some wonky U-shapes, to show that doing things in moderation tends to lead to healthier outcomes. ;-) \n",
        "\n",
        "As follows...\n",
        "\n",
        "## Our Data\n",
        "\n",
        "First we're going to \"get\" some data. But actually I'm going to \"make up\" some data via a function that we can then *add noise* to, to better control and illustrate how the *curve-fitting* properties of neural networks manifest.  The following is a function that will serve as our \"dataset-generator\":"
      ]
    },
    {
      "cell_type": "code",
      "metadata": {
        "colab": {
          "base_uri": "https://localhost:8080/"
        },
        "cellView": "code",
        "id": "pFu70JD1Kwue",
        "outputId": "253d4c2c-64d3-41bf-f37f-effb964d05f9"
      },
      "source": [
        "# I just made this up.  Generates a Pandas dataframe of some data.\n",
        "# Don't worry about the specifics too much. You can skip down to look at the \n",
        "# 3D plot of the data, coming up after this.\n",
        "def gen_df(n=50, noise_amp=0.15, seed=0, drop_frac=0.9):\n",
        "    ''' \n",
        "    n = number of data points in each \"direction\"\n",
        "    drop_frac = fraction of total points to randomly \"drop\"\n",
        "\n",
        "    Output: a Pandas DataFrame object.  (Rows & columns)\n",
        "    '''\n",
        "    \n",
        "    if seed is not None: np.random.seed(seed)\n",
        "    uint = np.linspace(0,1,n)\n",
        "    # some \"wonky-u-shape\" I made up\n",
        "    d_vs_c = np.clip( 0.5+ 0.4*np.cos(uint**0.5 *2*np.pi) + noise_amp*(2*np.random.rand(n)-1), 0.05, 0.95) \n",
        "    d_vs_e = 0.5+ 0.3*np.cos(uint**1.6 *2*np.pi) # another wonky-u-shape\n",
        "    data = []\n",
        "    for i in range(len(d_vs_c)):   # nested loops in Python are slow, but we're only going to run this a couple times so :shrug:\n",
        "        for j in range(len(d_vs_e)):\n",
        "            data.append([ uint[i], uint[j], (d_vs_c[i]+0.3)*d_vs_e[j] + noise_amp*(2*np.random.rand()-1) ])\n",
        "    data = np.clip( np.array(data), 0.05, 0.95 )  # make sure we don't go above or below zero\n",
        "    # at this point, data is a numpy array\n",
        "\n",
        "    if drop_frac > 0:    # randomly lose a fraction of the points, for \"fun\" ;-) \n",
        "        ndrop = int(data.shape[0] * drop_frac)  # how many to drop\n",
        "        for i in range(ndrop):\n",
        "            drop_row = np.random.randint(0, data.shape[0])  # pick a row\n",
        "            data = np.delete(data, drop_row, 0)\n",
        "\n",
        "    return pd.DataFrame(data, columns=[\"calories\",\"exercise\", \"death_prob\"])  # convert to pandas\n",
        "\n",
        "df = gen_df(noise_amp=0, seed=0)  # start with a noise_amplitude of zero, we'll add noise later\n",
        "print(\"We have\", len(df),\"data points\")"
      ],
      "execution_count": 2,
      "outputs": [
        {
          "output_type": "stream",
          "name": "stdout",
          "text": [
            "We have 250 data points\n"
          ]
        }
      ]
    },
    {
      "cell_type": "markdown",
      "metadata": {
        "id": "ld_FJC3prtMN"
      },
      "source": [
        "And then let's plot what the data looks like in 3D:"
      ]
    },
    {
      "cell_type": "code",
      "metadata": {
        "colab": {
          "base_uri": "https://localhost:8080/",
          "height": 417
        },
        "id": "ud12JtHkVpVw",
        "outputId": "ece900be-f7f3-40db-8e83-f1172e92c39f"
      },
      "source": [
        "# 3D scatter plots in matplotlib aren't interactive in Colab, so \n",
        "#  instead we'll use Plotly, which I like a lot: https://plotly.com/python/3d-scatter-plots/\n",
        "def plot_df(df):\n",
        "    fig = px.scatter_3d(data_frame=df, x=\"calories\", y=\"exercise\", z=\"death_prob\", \n",
        "        color='death_prob', width=600, height=400)\n",
        "    fig.update_traces(marker=dict(size=5))           # the dots are too big for my taste, by default\n",
        "    fig.update_layout(margin=dict(l=20, r=20, t=20, b=20))  # default margins are way too big\n",
        "    fig.show()\n",
        "\n",
        "plot_df(df)"
      ],
      "execution_count": 3,
      "outputs": [
        {
          "output_type": "display_data",
          "data": {
            "text/html": [
              "<html>\n",
              "<head><meta charset=\"utf-8\" /></head>\n",
              "<body>\n",
              "    <div>\n",
              "            <script src=\"https://cdnjs.cloudflare.com/ajax/libs/mathjax/2.7.5/MathJax.js?config=TeX-AMS-MML_SVG\"></script><script type=\"text/javascript\">if (window.MathJax) {MathJax.Hub.Config({SVG: {font: \"STIX-Web\"}});}</script>\n",
              "                <script type=\"text/javascript\">window.PlotlyConfig = {MathJaxConfig: 'local'};</script>\n",
              "        <script src=\"https://cdn.plot.ly/plotly-latest.min.js\"></script>    \n",
              "            <div id=\"8ad6c1df-d210-4d9e-b65a-4b55e27ecfbd\" class=\"plotly-graph-div\" style=\"height:400px; width:600px;\"></div>\n",
              "            <script type=\"text/javascript\">\n",
              "                \n",
              "                    window.PLOTLYENV=window.PLOTLYENV || {};\n",
              "                    \n",
              "                if (document.getElementById(\"8ad6c1df-d210-4d9e-b65a-4b55e27ecfbd\")) {\n",
              "                    Plotly.newPlot(\n",
              "                        '8ad6c1df-d210-4d9e-b65a-4b55e27ecfbd',\n",
              "                        [{\"hoverlabel\": {\"namelength\": 0}, \"hovertemplate\": \"calories=%{x}<br>exercise=%{y}<br>death_prob=%{marker.color}\", \"legendgroup\": \"\", \"marker\": {\"color\": [0.7963289218726609, 0.95, 0.8374708388010617, 0.7731047938634492, 0.2100838187468362, 0.4710397198901133, 0.7243163094450482, 0.6606796531188589, 0.6419841678995071, 0.47941613448851245, 0.41165745068563425, 0.2476853629404794, 0.3613400127865251, 0.45067600214602677, 0.41958416635903906, 0.21746291791063213, 0.5040498995285058, 0.504773384885581, 0.5022639721258529, 0.48851458236007833, 0.32924930572590644, 0.44800701419191535, 0.4317484959939039, 0.19695851301433911, 0.22414477485627474, 0.3463033691212989, 0.4095506663031099, 0.3771521991725676, 0.28509793226393076, 0.10534091075258313, 0.11221824540931948, 0.37630007916845437, 0.37452877175700927, 0.37093144018138735, 0.2283592317762059, 0.12916008945763557, 0.09513764047344998, 0.23690485519414214, 0.3508328957155223, 0.32386870199679363, 0.3342656867888549, 0.3238134606942762, 0.16591198481823763, 0.25182772029704825, 0.08341993225071011, 0.09751867333235635, 0.14131572251465765, 0.3027998218782933, 0.3218053605832753, 0.30082225701146814, 0.20883523696738804, 0.12196896250668506, 0.26558076377893425, 0.3198371404982752, 0.3185762928253492, 0.31676511951795505, 0.3020145879755322, 0.2960072324921016, 0.23711440191764752, 0.18003007783546893, 0.13585328650527365, 0.31893794260881425, 0.32741166846664543, 0.31280638526438004, 0.21361801273747638, 0.1384159968492536, 0.08195447923875288, 0.3173592788606252, 0.24916165839694304, 0.1427556904623841, 0.1048253785814643, 0.09581493045898555, 0.11382370327317366, 0.29931994329325445, 0.35159660712388946, 0.3304414955277893, 0.24481972388563775, 0.13445925829806166, 0.17439093980468798, 0.3568813865606345, 0.29949269221570385, 0.38755466924367227, 0.3577681261181445, 0.25340843026037674, 0.19939731000214436, 0.32226555936573753, 0.36271695194167075, 0.41047939777792586, 0.41046753956235843, 0.37800746116329864, 0.3028000779559857, 0.2299021955736589, 0.12342375301307147, 0.21534894988858305, 0.45943583074134203, 0.4591114705293844, 0.3568315882397822, 0.21465991615952637, 0.11615634251866201, 0.12592037168727904, 0.48592944462834625, 0.48352768045984823, 0.478883419394282, 0.4751571060303649, 0.3946655134073982, 0.3169670968372219, 0.22698468605808836, 0.13315013136646284, 0.3058511488565124, 0.3394578794758633, 0.45369184881681607, 0.2873960363312139, 0.21687318326811375, 0.13198313862356453, 0.25444443974364866, 0.5403105357101123, 0.5381471337854108, 0.5329782553902612, 0.1855855602628826, 0.26818185934380784, 0.5366341738891165, 0.5659656220006253, 0.5605295483094423, 0.2919316146661785, 0.14629985811591067, 0.24783609379239013, 0.5039895842176705, 0.1576428383106277, 0.29591585207402427, 0.33483624054663913, 0.6154656475973453, 0.5274448480659834, 0.3789036119484683, 0.2721258895699153, 0.648677173424424, 0.4809031864608978, 0.18493096275209575, 0.2492434618488904, 0.4103149969411732, 0.45540014905793363, 0.6321143036732222, 0.6726918360366193, 0.663662814068564, 0.6250359904036967, 0.5512383628900841, 0.21064243309346548, 0.29573729773324847, 0.5630115104346897, 0.6014715327709574, 0.6336817976294686, 0.7041301908209088, 0.6731954024710819, 0.6156233365140265, 0.19993626567793182, 0.17637548731241537, 0.23751503099835655, 0.3954605387254439, 0.6834040740243644, 0.7298455756832299, 0.719432935269202, 0.5385312323080607, 0.44290975262770294, 0.27811233250437645, 0.21950967204135485, 0.7243678236068333, 0.7542810213297924, 0.7475725044346073, 0.6370161689031669, 0.5856744975773706, 0.4747418682439142, 0.7313676753388335, 0.32857943894256836, 0.29616758202164034, 0.22053633021956728, 0.5564863486072538, 0.37340392604018513, 0.20561628882456826, 0.3056319993305796, 0.793706863751425, 0.7552453487629456, 0.3466218101613633, 0.2072916558123502, 0.22471646215417804, 0.3573461720572264, 0.8018544020429924, 0.7090006511537061, 0.43087968153772316, 0.3921391058854304, 0.21008381874683618, 0.2524275442536908, 0.5864479743332263, 0.6431635166047076, 0.8554452534710889, 0.8450763043571082, 0.6658478767039009, 0.5202604976296853, 0.21674777844995574, 0.32785561360126153, 0.23951617934061184, 0.3342025477554307, 0.7746367161665838, 0.8741360237947211, 0.8884240416153631, 0.7510339928767338, 0.6560046789616308, 0.26739279599309973, 0.8898490735766664, 0.7333574879715831, 0.6660961636154645, 0.6307720571156268, 0.8001867831671221, 0.8948491378590934, 0.4274734567756147, 0.2353898811009079, 0.8699276975065906, 0.45910550213432394, 0.519489440229377, 0.8977411526561268, 0.9304334163472624, 0.9049629617607762, 0.3575036323323012, 0.46367498389598366, 0.5246599239449228, 0.5885374112474016, 0.9428169867066626, 0.5280549923854406, 0.39847789343645873, 0.2583349917248565, 0.2834880667184344, 0.7820754526534869, 0.9490592246702769, 0.9280199823878809, 0.26005289828866074, 0.4706193787311008, 0.805611084062272, 0.24535651223506413, 0.95, 0.5807980185279384, 0.36469526960834386, 0.9453979567427928, 0.916298087276931, 0.6678163561382314, 0.6257473814475161, 0.24675164289142357, 0.901998549114212, 0.7081672707847128, 0.4484169585194513, 0.32942000003132704, 0.8507271491817123, 0.95], \"coloraxis\": \"coloraxis\", \"size\": 5, \"symbol\": \"circle\"}, \"mode\": \"markers\", \"name\": \"\", \"scene\": \"scene\", \"showlegend\": false, \"type\": \"scatter3d\", \"x\": [0.05, 0.05, 0.05, 0.05, 0.05, 0.05, 0.05, 0.05, 0.05, 0.05, 0.05, 0.05, 0.061224489795918366, 0.061224489795918366, 0.08163265306122448, 0.08163265306122448, 0.08163265306122448, 0.1020408163265306, 0.1020408163265306, 0.1020408163265306, 0.1020408163265306, 0.12244897959183673, 0.12244897959183673, 0.12244897959183673, 0.12244897959183673, 0.12244897959183673, 0.14285714285714285, 0.14285714285714285, 0.14285714285714285, 0.14285714285714285, 0.14285714285714285, 0.16326530612244897, 0.16326530612244897, 0.16326530612244897, 0.16326530612244897, 0.16326530612244897, 0.16326530612244897, 0.16326530612244897, 0.18367346938775508, 0.18367346938775508, 0.2040816326530612, 0.2040816326530612, 0.2040816326530612, 0.22448979591836732, 0.22448979591836732, 0.22448979591836732, 0.22448979591836732, 0.22448979591836732, 0.22448979591836732, 0.24489795918367346, 0.24489795918367346, 0.24489795918367346, 0.24489795918367346, 0.26530612244897955, 0.26530612244897955, 0.26530612244897955, 0.26530612244897955, 0.26530612244897955, 0.26530612244897955, 0.26530612244897955, 0.26530612244897955, 0.26530612244897955, 0.2857142857142857, 0.2857142857142857, 0.2857142857142857, 0.2857142857142857, 0.2857142857142857, 0.3061224489795918, 0.3061224489795918, 0.3061224489795918, 0.3061224489795918, 0.3061224489795918, 0.3061224489795918, 0.3061224489795918, 0.32653061224489793, 0.32653061224489793, 0.32653061224489793, 0.32653061224489793, 0.32653061224489793, 0.3469387755102041, 0.3469387755102041, 0.36734693877551017, 0.36734693877551017, 0.36734693877551017, 0.36734693877551017, 0.36734693877551017, 0.36734693877551017, 0.3877551020408163, 0.3877551020408163, 0.3877551020408163, 0.3877551020408163, 0.3877551020408163, 0.3877551020408163, 0.4081632653061224, 0.42857142857142855, 0.42857142857142855, 0.42857142857142855, 0.42857142857142855, 0.42857142857142855, 0.42857142857142855, 0.44897959183673464, 0.44897959183673464, 0.44897959183673464, 0.44897959183673464, 0.44897959183673464, 0.44897959183673464, 0.44897959183673464, 0.44897959183673464, 0.44897959183673464, 0.44897959183673464, 0.44897959183673464, 0.4693877551020408, 0.4693877551020408, 0.4693877551020408, 0.4693877551020408, 0.4897959183673469, 0.4897959183673469, 0.4897959183673469, 0.4897959183673469, 0.4897959183673469, 0.4897959183673469, 0.5102040816326531, 0.5102040816326531, 0.5102040816326531, 0.5102040816326531, 0.5102040816326531, 0.5306122448979591, 0.5306122448979591, 0.5306122448979591, 0.5306122448979591, 0.5510204081632653, 0.5510204081632653, 0.5510204081632653, 0.5510204081632653, 0.5714285714285714, 0.5714285714285714, 0.5714285714285714, 0.5714285714285714, 0.5714285714285714, 0.5714285714285714, 0.5714285714285714, 0.5918367346938775, 0.5918367346938775, 0.5918367346938775, 0.5918367346938775, 0.5918367346938775, 0.5918367346938775, 0.5918367346938775, 0.5918367346938775, 0.5918367346938775, 0.6122448979591836, 0.6122448979591836, 0.6122448979591836, 0.6122448979591836, 0.6122448979591836, 0.6122448979591836, 0.6122448979591836, 0.6122448979591836, 0.6326530612244897, 0.6326530612244897, 0.6326530612244897, 0.6326530612244897, 0.6326530612244897, 0.6326530612244897, 0.6326530612244897, 0.6530612244897959, 0.6530612244897959, 0.6530612244897959, 0.6530612244897959, 0.6530612244897959, 0.6530612244897959, 0.673469387755102, 0.673469387755102, 0.673469387755102, 0.6938775510204082, 0.6938775510204082, 0.6938775510204082, 0.6938775510204082, 0.7142857142857142, 0.7142857142857142, 0.7142857142857142, 0.7142857142857142, 0.7142857142857142, 0.7142857142857142, 0.7346938775510203, 0.7346938775510203, 0.7346938775510203, 0.7346938775510203, 0.7346938775510203, 0.7346938775510203, 0.7346938775510203, 0.7346938775510203, 0.7551020408163265, 0.7551020408163265, 0.7551020408163265, 0.7551020408163265, 0.7551020408163265, 0.7551020408163265, 0.7755102040816326, 0.7755102040816326, 0.7755102040816326, 0.7755102040816326, 0.7959183673469387, 0.7959183673469387, 0.7959183673469387, 0.7959183673469387, 0.8163265306122448, 0.8163265306122448, 0.8163265306122448, 0.8163265306122448, 0.8163265306122448, 0.836734693877551, 0.836734693877551, 0.836734693877551, 0.8571428571428571, 0.8571428571428571, 0.8571428571428571, 0.8571428571428571, 0.8775510204081632, 0.8775510204081632, 0.8775510204081632, 0.8775510204081632, 0.8775510204081632, 0.8775510204081632, 0.8979591836734693, 0.8979591836734693, 0.8979591836734693, 0.8979591836734693, 0.8979591836734693, 0.8979591836734693, 0.9183673469387754, 0.9183673469387754, 0.9183673469387754, 0.9183673469387754, 0.9387755102040816, 0.9387755102040816, 0.95, 0.95, 0.95, 0.95, 0.95, 0.95, 0.95, 0.95, 0.95, 0.95, 0.95, 0.95, 0.95, 0.95], \"y\": [0.8979591836734693, 0.95, 0.08163265306122448, 0.24489795918367346, 0.6530612244897959, 0.8163265306122448, 0.14285714285714285, 0.26530612244897955, 0.2857142857142857, 0.4081632653061224, 0.44897959183673464, 0.7346938775510203, 0.44897959183673464, 0.8571428571428571, 0.36734693877551017, 0.7551020408163265, 0.9183673469387754, 0.05, 0.1020408163265306, 0.18367346938775508, 0.4081632653061224, 0.12244897959183673, 0.2040816326530612, 0.7755102040816326, 0.7959183673469387, 0.8775510204081632, 0.05, 0.24489795918367346, 0.3877551020408163, 0.673469387755102, 0.6938775510204082, 0.05, 0.1020408163265306, 0.14285714285714285, 0.42857142857142855, 0.5510204081632653, 0.6326530612244897, 0.836734693877551, 0.08163265306122448, 0.24489795918367346, 0.061224489795918366, 0.18367346938775508, 0.7959183673469387, 0.3469387755102041, 0.673469387755102, 0.7142857142857142, 0.7755102040816326, 0.9387755102040816, 0.95, 0.22448979591836732, 0.4081632653061224, 0.5306122448979591, 0.8979591836734693, 0.1020408163265306, 0.12244897959183673, 0.14285714285714285, 0.22448979591836732, 0.24489795918367346, 0.36734693877551017, 0.44897959183673464, 0.5102040816326531, 0.95, 0.05, 0.2040816326530612, 0.4081632653061224, 0.5102040816326531, 0.6530612244897959, 0.22448979591836732, 0.36734693877551017, 0.5102040816326531, 0.5714285714285714, 0.5918367346938775, 0.7346938775510203, 0.9183673469387754, 0.05, 0.22448979591836732, 0.3877551020408163, 0.7551020408163265, 0.7959183673469387, 0.18367346938775508, 0.32653061224489793, 0.08163265306122448, 0.24489795918367346, 0.4081632653061224, 0.4693877551020408, 0.8979591836734693, 0.9387755102040816, 0.05, 0.05, 0.24489795918367346, 0.36734693877551017, 0.44897959183673464, 0.7142857142857142, 0.7959183673469387, 0.05, 0.061224489795918366, 0.3469387755102041, 0.4897959183673469, 0.6326530612244897, 0.6938775510204082, 0.05, 0.1020408163265306, 0.14285714285714285, 0.16326530612244897, 0.32653061224489793, 0.4081632653061224, 0.4897959183673469, 0.6938775510204082, 0.836734693877551, 0.8571428571428571, 0.9387755102040816, 0.44897959183673464, 0.5102040816326531, 0.673469387755102, 0.7959183673469387, 0.061224489795918366, 0.1020408163265306, 0.14285714285714285, 0.5510204081632653, 0.7959183673469387, 0.95, 0.1020408163265306, 0.14285714285714285, 0.4693877551020408, 0.673469387755102, 0.7755102040816326, 0.3061224489795918, 0.6122448979591836, 0.7959183673469387, 0.8163265306122448, 0.14285714285714285, 0.3061224489795918, 0.42857142857142855, 0.7755102040816326, 0.1020408163265306, 0.36734693877551017, 0.5918367346938775, 0.7551020408163265, 0.836734693877551, 0.8571428571428571, 0.95, 0.12244897959183673, 0.16326530612244897, 0.24489795918367346, 0.32653061224489793, 0.5714285714285714, 0.7755102040816326, 0.8979591836734693, 0.9183673469387754, 0.9387755102040816, 0.061224489795918366, 0.2040816326530612, 0.2857142857142857, 0.5918367346938775, 0.6530612244897959, 0.7346938775510203, 0.8163265306122448, 0.95, 0.05, 0.14285714285714285, 0.36734693877551017, 0.42857142857142855, 0.5306122448979591, 0.7142857142857142, 0.95, 0.05, 0.12244897959183673, 0.3061224489795918, 0.3469387755102041, 0.836734693877551, 0.95, 0.5102040816326531, 0.5306122448979591, 0.5918367346938775, 0.3877551020408163, 0.4897959183673469, 0.673469387755102, 0.7551020408163265, 0.18367346938775508, 0.24489795918367346, 0.5102040816326531, 0.6326530612244897, 0.6938775510204082, 0.7755102040816326, 0.2040816326530612, 0.3061224489795918, 0.4693877551020408, 0.4897959183673469, 0.6530612244897959, 0.7142857142857142, 0.8571428571428571, 0.8775510204081632, 0.08163265306122448, 0.14285714285714285, 0.3469387755102041, 0.42857142857142855, 0.6326530612244897, 0.7551020408163265, 0.6938775510204082, 0.7551020408163265, 0.9183673469387754, 0.95, 0.061224489795918366, 0.3061224489795918, 0.36734693877551017, 0.7142857142857142, 0.14285714285714285, 0.32653061224489793, 0.36734693877551017, 0.8571428571428571, 0.9183673469387754, 0.16326530612244897, 0.4897959183673469, 0.673469387755102, 0.22448979591836732, 0.7959183673469387, 0.8163265306122448, 0.95, 0.1020408163265306, 0.18367346938775508, 0.7551020408163265, 0.7959183673469387, 0.8163265306122448, 0.836734693877551, 0.05, 0.44897959183673464, 0.5102040816326531, 0.6938775510204082, 0.7142857142857142, 0.8979591836734693, 0.05, 0.16326530612244897, 0.6938775510204082, 0.7959183673469387, 0.3061224489795918, 0.673469387755102, 0.08163265306122448, 0.42857142857142855, 0.5306122448979591, 0.14285714285714285, 0.2040816326530612, 0.3877551020408163, 0.4081632653061224, 0.673469387755102, 0.22448979591836732, 0.36734693877551017, 0.4897959183673469, 0.5510204081632653, 0.9183673469387754, 0.95], \"z\": [0.7963289218726609, 0.95, 0.8374708388010617, 0.7731047938634492, 0.2100838187468362, 0.4710397198901133, 0.7243163094450482, 0.6606796531188589, 0.6419841678995071, 0.47941613448851245, 0.41165745068563425, 0.2476853629404794, 0.3613400127865251, 0.45067600214602677, 0.41958416635903906, 0.21746291791063213, 0.5040498995285058, 0.504773384885581, 0.5022639721258529, 0.48851458236007833, 0.32924930572590644, 0.44800701419191535, 0.4317484959939039, 0.19695851301433911, 0.22414477485627474, 0.3463033691212989, 0.4095506663031099, 0.3771521991725676, 0.28509793226393076, 0.10534091075258313, 0.11221824540931948, 0.37630007916845437, 0.37452877175700927, 0.37093144018138735, 0.2283592317762059, 0.12916008945763557, 0.09513764047344998, 0.23690485519414214, 0.3508328957155223, 0.32386870199679363, 0.3342656867888549, 0.3238134606942762, 0.16591198481823763, 0.25182772029704825, 0.08341993225071011, 0.09751867333235635, 0.14131572251465765, 0.3027998218782933, 0.3218053605832753, 0.30082225701146814, 0.20883523696738804, 0.12196896250668506, 0.26558076377893425, 0.3198371404982752, 0.3185762928253492, 0.31676511951795505, 0.3020145879755322, 0.2960072324921016, 0.23711440191764752, 0.18003007783546893, 0.13585328650527365, 0.31893794260881425, 0.32741166846664543, 0.31280638526438004, 0.21361801273747638, 0.1384159968492536, 0.08195447923875288, 0.3173592788606252, 0.24916165839694304, 0.1427556904623841, 0.1048253785814643, 0.09581493045898555, 0.11382370327317366, 0.29931994329325445, 0.35159660712388946, 0.3304414955277893, 0.24481972388563775, 0.13445925829806166, 0.17439093980468798, 0.3568813865606345, 0.29949269221570385, 0.38755466924367227, 0.3577681261181445, 0.25340843026037674, 0.19939731000214436, 0.32226555936573753, 0.36271695194167075, 0.41047939777792586, 0.41046753956235843, 0.37800746116329864, 0.3028000779559857, 0.2299021955736589, 0.12342375301307147, 0.21534894988858305, 0.45943583074134203, 0.4591114705293844, 0.3568315882397822, 0.21465991615952637, 0.11615634251866201, 0.12592037168727904, 0.48592944462834625, 0.48352768045984823, 0.478883419394282, 0.4751571060303649, 0.3946655134073982, 0.3169670968372219, 0.22698468605808836, 0.13315013136646284, 0.3058511488565124, 0.3394578794758633, 0.45369184881681607, 0.2873960363312139, 0.21687318326811375, 0.13198313862356453, 0.25444443974364866, 0.5403105357101123, 0.5381471337854108, 0.5329782553902612, 0.1855855602628826, 0.26818185934380784, 0.5366341738891165, 0.5659656220006253, 0.5605295483094423, 0.2919316146661785, 0.14629985811591067, 0.24783609379239013, 0.5039895842176705, 0.1576428383106277, 0.29591585207402427, 0.33483624054663913, 0.6154656475973453, 0.5274448480659834, 0.3789036119484683, 0.2721258895699153, 0.648677173424424, 0.4809031864608978, 0.18493096275209575, 0.2492434618488904, 0.4103149969411732, 0.45540014905793363, 0.6321143036732222, 0.6726918360366193, 0.663662814068564, 0.6250359904036967, 0.5512383628900841, 0.21064243309346548, 0.29573729773324847, 0.5630115104346897, 0.6014715327709574, 0.6336817976294686, 0.7041301908209088, 0.6731954024710819, 0.6156233365140265, 0.19993626567793182, 0.17637548731241537, 0.23751503099835655, 0.3954605387254439, 0.6834040740243644, 0.7298455756832299, 0.719432935269202, 0.5385312323080607, 0.44290975262770294, 0.27811233250437645, 0.21950967204135485, 0.7243678236068333, 0.7542810213297924, 0.7475725044346073, 0.6370161689031669, 0.5856744975773706, 0.4747418682439142, 0.7313676753388335, 0.32857943894256836, 0.29616758202164034, 0.22053633021956728, 0.5564863486072538, 0.37340392604018513, 0.20561628882456826, 0.3056319993305796, 0.793706863751425, 0.7552453487629456, 0.3466218101613633, 0.2072916558123502, 0.22471646215417804, 0.3573461720572264, 0.8018544020429924, 0.7090006511537061, 0.43087968153772316, 0.3921391058854304, 0.21008381874683618, 0.2524275442536908, 0.5864479743332263, 0.6431635166047076, 0.8554452534710889, 0.8450763043571082, 0.6658478767039009, 0.5202604976296853, 0.21674777844995574, 0.32785561360126153, 0.23951617934061184, 0.3342025477554307, 0.7746367161665838, 0.8741360237947211, 0.8884240416153631, 0.7510339928767338, 0.6560046789616308, 0.26739279599309973, 0.8898490735766664, 0.7333574879715831, 0.6660961636154645, 0.6307720571156268, 0.8001867831671221, 0.8948491378590934, 0.4274734567756147, 0.2353898811009079, 0.8699276975065906, 0.45910550213432394, 0.519489440229377, 0.8977411526561268, 0.9304334163472624, 0.9049629617607762, 0.3575036323323012, 0.46367498389598366, 0.5246599239449228, 0.5885374112474016, 0.9428169867066626, 0.5280549923854406, 0.39847789343645873, 0.2583349917248565, 0.2834880667184344, 0.7820754526534869, 0.9490592246702769, 0.9280199823878809, 0.26005289828866074, 0.4706193787311008, 0.805611084062272, 0.24535651223506413, 0.95, 0.5807980185279384, 0.36469526960834386, 0.9453979567427928, 0.916298087276931, 0.6678163561382314, 0.6257473814475161, 0.24675164289142357, 0.901998549114212, 0.7081672707847128, 0.4484169585194513, 0.32942000003132704, 0.8507271491817123, 0.95]}],\n",
              "                        {\"coloraxis\": {\"colorbar\": {\"title\": {\"text\": \"death_prob\"}}, \"colorscale\": [[0.0, \"#0d0887\"], [0.1111111111111111, \"#46039f\"], [0.2222222222222222, \"#7201a8\"], [0.3333333333333333, \"#9c179e\"], [0.4444444444444444, \"#bd3786\"], [0.5555555555555556, \"#d8576b\"], [0.6666666666666666, \"#ed7953\"], [0.7777777777777778, \"#fb9f3a\"], [0.8888888888888888, \"#fdca26\"], [1.0, \"#f0f921\"]]}, \"height\": 400, \"legend\": {\"tracegroupgap\": 0}, \"margin\": {\"b\": 20, \"l\": 20, \"r\": 20, \"t\": 20}, \"scene\": {\"domain\": {\"x\": [0.0, 1.0], \"y\": [0.0, 1.0]}, \"xaxis\": {\"title\": {\"text\": \"calories\"}}, \"yaxis\": {\"title\": {\"text\": \"exercise\"}}, \"zaxis\": {\"title\": {\"text\": \"death_prob\"}}}, \"template\": {\"data\": {\"bar\": [{\"error_x\": {\"color\": \"#2a3f5f\"}, \"error_y\": {\"color\": \"#2a3f5f\"}, \"marker\": {\"line\": {\"color\": \"#E5ECF6\", \"width\": 0.5}}, \"type\": \"bar\"}], \"barpolar\": [{\"marker\": {\"line\": {\"color\": \"#E5ECF6\", \"width\": 0.5}}, \"type\": \"barpolar\"}], \"carpet\": [{\"aaxis\": {\"endlinecolor\": \"#2a3f5f\", \"gridcolor\": \"white\", \"linecolor\": \"white\", \"minorgridcolor\": \"white\", \"startlinecolor\": \"#2a3f5f\"}, \"baxis\": {\"endlinecolor\": \"#2a3f5f\", \"gridcolor\": \"white\", \"linecolor\": \"white\", \"minorgridcolor\": \"white\", \"startlinecolor\": \"#2a3f5f\"}, \"type\": \"carpet\"}], \"choropleth\": [{\"colorbar\": {\"outlinewidth\": 0, \"ticks\": \"\"}, \"type\": \"choropleth\"}], \"contour\": [{\"colorbar\": {\"outlinewidth\": 0, \"ticks\": \"\"}, \"colorscale\": [[0.0, \"#0d0887\"], [0.1111111111111111, \"#46039f\"], [0.2222222222222222, \"#7201a8\"], [0.3333333333333333, \"#9c179e\"], [0.4444444444444444, \"#bd3786\"], [0.5555555555555556, \"#d8576b\"], [0.6666666666666666, \"#ed7953\"], [0.7777777777777778, \"#fb9f3a\"], [0.8888888888888888, \"#fdca26\"], [1.0, \"#f0f921\"]], \"type\": \"contour\"}], \"contourcarpet\": [{\"colorbar\": {\"outlinewidth\": 0, \"ticks\": \"\"}, \"type\": \"contourcarpet\"}], \"heatmap\": [{\"colorbar\": {\"outlinewidth\": 0, \"ticks\": \"\"}, \"colorscale\": [[0.0, \"#0d0887\"], [0.1111111111111111, \"#46039f\"], [0.2222222222222222, \"#7201a8\"], [0.3333333333333333, \"#9c179e\"], [0.4444444444444444, \"#bd3786\"], [0.5555555555555556, \"#d8576b\"], [0.6666666666666666, \"#ed7953\"], [0.7777777777777778, \"#fb9f3a\"], [0.8888888888888888, \"#fdca26\"], [1.0, \"#f0f921\"]], \"type\": \"heatmap\"}], \"heatmapgl\": [{\"colorbar\": {\"outlinewidth\": 0, \"ticks\": \"\"}, \"colorscale\": [[0.0, \"#0d0887\"], [0.1111111111111111, \"#46039f\"], [0.2222222222222222, \"#7201a8\"], [0.3333333333333333, \"#9c179e\"], [0.4444444444444444, \"#bd3786\"], [0.5555555555555556, \"#d8576b\"], [0.6666666666666666, \"#ed7953\"], [0.7777777777777778, \"#fb9f3a\"], [0.8888888888888888, \"#fdca26\"], [1.0, \"#f0f921\"]], \"type\": \"heatmapgl\"}], \"histogram\": [{\"marker\": {\"colorbar\": {\"outlinewidth\": 0, \"ticks\": \"\"}}, \"type\": \"histogram\"}], \"histogram2d\": [{\"colorbar\": {\"outlinewidth\": 0, \"ticks\": \"\"}, \"colorscale\": [[0.0, \"#0d0887\"], [0.1111111111111111, \"#46039f\"], [0.2222222222222222, \"#7201a8\"], [0.3333333333333333, \"#9c179e\"], [0.4444444444444444, \"#bd3786\"], [0.5555555555555556, \"#d8576b\"], [0.6666666666666666, \"#ed7953\"], [0.7777777777777778, \"#fb9f3a\"], [0.8888888888888888, \"#fdca26\"], [1.0, \"#f0f921\"]], \"type\": \"histogram2d\"}], \"histogram2dcontour\": [{\"colorbar\": {\"outlinewidth\": 0, \"ticks\": \"\"}, \"colorscale\": [[0.0, \"#0d0887\"], [0.1111111111111111, \"#46039f\"], [0.2222222222222222, \"#7201a8\"], [0.3333333333333333, \"#9c179e\"], [0.4444444444444444, \"#bd3786\"], [0.5555555555555556, \"#d8576b\"], [0.6666666666666666, \"#ed7953\"], [0.7777777777777778, \"#fb9f3a\"], [0.8888888888888888, \"#fdca26\"], [1.0, \"#f0f921\"]], \"type\": \"histogram2dcontour\"}], \"mesh3d\": [{\"colorbar\": {\"outlinewidth\": 0, \"ticks\": \"\"}, \"type\": \"mesh3d\"}], \"parcoords\": [{\"line\": {\"colorbar\": {\"outlinewidth\": 0, \"ticks\": \"\"}}, \"type\": \"parcoords\"}], \"pie\": [{\"automargin\": true, \"type\": \"pie\"}], \"scatter\": [{\"marker\": {\"colorbar\": {\"outlinewidth\": 0, \"ticks\": \"\"}}, \"type\": \"scatter\"}], \"scatter3d\": [{\"line\": {\"colorbar\": {\"outlinewidth\": 0, \"ticks\": \"\"}}, \"marker\": {\"colorbar\": {\"outlinewidth\": 0, \"ticks\": \"\"}}, \"type\": \"scatter3d\"}], \"scattercarpet\": [{\"marker\": {\"colorbar\": {\"outlinewidth\": 0, \"ticks\": \"\"}}, \"type\": \"scattercarpet\"}], \"scattergeo\": [{\"marker\": {\"colorbar\": {\"outlinewidth\": 0, \"ticks\": \"\"}}, \"type\": \"scattergeo\"}], \"scattergl\": [{\"marker\": {\"colorbar\": {\"outlinewidth\": 0, \"ticks\": \"\"}}, \"type\": \"scattergl\"}], \"scattermapbox\": [{\"marker\": {\"colorbar\": {\"outlinewidth\": 0, \"ticks\": \"\"}}, \"type\": \"scattermapbox\"}], \"scatterpolar\": [{\"marker\": {\"colorbar\": {\"outlinewidth\": 0, \"ticks\": \"\"}}, \"type\": \"scatterpolar\"}], \"scatterpolargl\": [{\"marker\": {\"colorbar\": {\"outlinewidth\": 0, \"ticks\": \"\"}}, \"type\": \"scatterpolargl\"}], \"scatterternary\": [{\"marker\": {\"colorbar\": {\"outlinewidth\": 0, \"ticks\": \"\"}}, \"type\": \"scatterternary\"}], \"surface\": [{\"colorbar\": {\"outlinewidth\": 0, \"ticks\": \"\"}, \"colorscale\": [[0.0, \"#0d0887\"], [0.1111111111111111, \"#46039f\"], [0.2222222222222222, \"#7201a8\"], [0.3333333333333333, \"#9c179e\"], [0.4444444444444444, \"#bd3786\"], [0.5555555555555556, \"#d8576b\"], [0.6666666666666666, \"#ed7953\"], [0.7777777777777778, \"#fb9f3a\"], [0.8888888888888888, \"#fdca26\"], [1.0, \"#f0f921\"]], \"type\": \"surface\"}], \"table\": [{\"cells\": {\"fill\": {\"color\": \"#EBF0F8\"}, \"line\": {\"color\": \"white\"}}, \"header\": {\"fill\": {\"color\": \"#C8D4E3\"}, \"line\": {\"color\": \"white\"}}, \"type\": \"table\"}]}, \"layout\": {\"annotationdefaults\": {\"arrowcolor\": \"#2a3f5f\", \"arrowhead\": 0, \"arrowwidth\": 1}, \"coloraxis\": {\"colorbar\": {\"outlinewidth\": 0, \"ticks\": \"\"}}, \"colorscale\": {\"diverging\": [[0, \"#8e0152\"], [0.1, \"#c51b7d\"], [0.2, \"#de77ae\"], [0.3, \"#f1b6da\"], [0.4, \"#fde0ef\"], [0.5, \"#f7f7f7\"], [0.6, \"#e6f5d0\"], [0.7, \"#b8e186\"], [0.8, \"#7fbc41\"], [0.9, \"#4d9221\"], [1, \"#276419\"]], \"sequential\": [[0.0, \"#0d0887\"], [0.1111111111111111, \"#46039f\"], [0.2222222222222222, \"#7201a8\"], [0.3333333333333333, \"#9c179e\"], [0.4444444444444444, \"#bd3786\"], [0.5555555555555556, \"#d8576b\"], [0.6666666666666666, \"#ed7953\"], [0.7777777777777778, \"#fb9f3a\"], [0.8888888888888888, \"#fdca26\"], [1.0, \"#f0f921\"]], \"sequentialminus\": [[0.0, \"#0d0887\"], [0.1111111111111111, \"#46039f\"], [0.2222222222222222, \"#7201a8\"], [0.3333333333333333, \"#9c179e\"], [0.4444444444444444, \"#bd3786\"], [0.5555555555555556, \"#d8576b\"], [0.6666666666666666, \"#ed7953\"], [0.7777777777777778, \"#fb9f3a\"], [0.8888888888888888, \"#fdca26\"], [1.0, \"#f0f921\"]]}, \"colorway\": [\"#636efa\", \"#EF553B\", \"#00cc96\", \"#ab63fa\", \"#FFA15A\", \"#19d3f3\", \"#FF6692\", \"#B6E880\", \"#FF97FF\", \"#FECB52\"], \"font\": {\"color\": \"#2a3f5f\"}, \"geo\": {\"bgcolor\": \"white\", \"lakecolor\": \"white\", \"landcolor\": \"#E5ECF6\", \"showlakes\": true, \"showland\": true, \"subunitcolor\": \"white\"}, \"hoverlabel\": {\"align\": \"left\"}, \"hovermode\": \"closest\", \"mapbox\": {\"style\": \"light\"}, \"paper_bgcolor\": \"white\", \"plot_bgcolor\": \"#E5ECF6\", \"polar\": {\"angularaxis\": {\"gridcolor\": \"white\", \"linecolor\": \"white\", \"ticks\": \"\"}, \"bgcolor\": \"#E5ECF6\", \"radialaxis\": {\"gridcolor\": \"white\", \"linecolor\": \"white\", \"ticks\": \"\"}}, \"scene\": {\"xaxis\": {\"backgroundcolor\": \"#E5ECF6\", \"gridcolor\": \"white\", \"gridwidth\": 2, \"linecolor\": \"white\", \"showbackground\": true, \"ticks\": \"\", \"zerolinecolor\": \"white\"}, \"yaxis\": {\"backgroundcolor\": \"#E5ECF6\", \"gridcolor\": \"white\", \"gridwidth\": 2, \"linecolor\": \"white\", \"showbackground\": true, \"ticks\": \"\", \"zerolinecolor\": \"white\"}, \"zaxis\": {\"backgroundcolor\": \"#E5ECF6\", \"gridcolor\": \"white\", \"gridwidth\": 2, \"linecolor\": \"white\", \"showbackground\": true, \"ticks\": \"\", \"zerolinecolor\": \"white\"}}, \"shapedefaults\": {\"line\": {\"color\": \"#2a3f5f\"}}, \"ternary\": {\"aaxis\": {\"gridcolor\": \"white\", \"linecolor\": \"white\", \"ticks\": \"\"}, \"baxis\": {\"gridcolor\": \"white\", \"linecolor\": \"white\", \"ticks\": \"\"}, \"bgcolor\": \"#E5ECF6\", \"caxis\": {\"gridcolor\": \"white\", \"linecolor\": \"white\", \"ticks\": \"\"}}, \"title\": {\"x\": 0.05}, \"xaxis\": {\"automargin\": true, \"gridcolor\": \"white\", \"linecolor\": \"white\", \"ticks\": \"\", \"title\": {\"standoff\": 15}, \"zerolinecolor\": \"white\", \"zerolinewidth\": 2}, \"yaxis\": {\"automargin\": true, \"gridcolor\": \"white\", \"linecolor\": \"white\", \"ticks\": \"\", \"title\": {\"standoff\": 15}, \"zerolinecolor\": \"white\", \"zerolinewidth\": 2}}}, \"width\": 600},\n",
              "                        {\"responsive\": true}\n",
              "                    ).then(function(){\n",
              "                            \n",
              "var gd = document.getElementById('8ad6c1df-d210-4d9e-b65a-4b55e27ecfbd');\n",
              "var x = new MutationObserver(function (mutations, observer) {{\n",
              "        var display = window.getComputedStyle(gd).display;\n",
              "        if (!display || display === 'none') {{\n",
              "            console.log([gd, 'removed!']);\n",
              "            Plotly.purge(gd);\n",
              "            observer.disconnect();\n",
              "        }}\n",
              "}});\n",
              "\n",
              "// Listen for the removal of the full notebook cells\n",
              "var notebookContainer = gd.closest('#notebook-container');\n",
              "if (notebookContainer) {{\n",
              "    x.observe(notebookContainer, {childList: true});\n",
              "}}\n",
              "\n",
              "// Listen for the clearing of the current output cell\n",
              "var outputEl = gd.closest('.output');\n",
              "if (outputEl) {{\n",
              "    x.observe(outputEl, {childList: true});\n",
              "}}\n",
              "\n",
              "                        })\n",
              "                };\n",
              "                \n",
              "            </script>\n",
              "        </div>\n",
              "</body>\n",
              "</html>"
            ]
          },
          "metadata": {}
        }
      ]
    },
    {
      "cell_type": "markdown",
      "metadata": {
        "id": "PbDVeJ31zcqv"
      },
      "source": [
        "*^^ You can move this 3D plot around with your mouse (or finger if you're on a mobile device).* \n",
        "\n",
        "> DISCLAIMER: Any similarity between this data and actual health informatics and/or insurace data is purely coincidental!  (TODO: Replace this data with *real* data?)\n",
        "\n",
        ".\n",
        "\n",
        "Alternatively, if we were to ignore the fitness tracking info completely, that would be like projecting along the \"exercise\" axis and just looking at `calories`, which would look like this."
      ]
    },
    {
      "cell_type": "code",
      "metadata": {
        "colab": {
          "base_uri": "https://localhost:8080/",
          "height": 296
        },
        "id": "tJEA_OkKzm6C",
        "outputId": "65635ced-4770-47aa-9ee6-442fd4a13c82"
      },
      "source": [
        "plt.plot(df['calories'], df['death_prob'], 'o')\n",
        "plt.xlabel('calories')\n",
        "plt.ylabel('your risk of death!')"
      ],
      "execution_count": 4,
      "outputs": [
        {
          "output_type": "execute_result",
          "data": {
            "text/plain": [
              "Text(0, 0.5, 'your risk of death!')"
            ]
          },
          "metadata": {},
          "execution_count": 4
        },
        {
          "output_type": "display_data",
          "data": {
            "image/png": "[encoded data removed]",
            "text/plain": [
              "<Figure size 432x288 with 1 Axes>"
            ]
          },
          "metadata": {
            "needs_background": "light"
          }
        }
      ]
    },
    {
      "cell_type": "markdown",
      "metadata": {
        "id": "7slRVaBdzg-W"
      },
      "source": [
        "\"Training a model\" on this data will mean that, given a value of \"calories\" (and maybe \"exercise\" too), we will get a number for your risk of death.  And that can be sent downstream to a different algorithm that decides how much to charge you for insurance. ;-) \n",
        "\n",
        "You don't \"need\" a neural network to fit a curve to this data!  But doing so will illustrate many of the core concepts we'll use as we progress in the course. \n",
        "\n",
        "To train a model on this simple dataset, we're going to use \"raw\" PyTorch with a little fastai thrown in.* \n",
        "\n",
        ">\\**following [this post by Zach Mueller](https://muellerzr.github.io/fastblog/2021/02/14/Pytorchtofastai.html) who showed how to \"minimally\" integrate fastai.* "
      ]
    },
    {
      "cell_type": "markdown",
      "metadata": {
        "id": "8Y3vX01lemui"
      },
      "source": [
        "## Define Datasets & DataLoaders\n",
        "\n",
        "What follows is a bunch of \"Pandas\" dataframe work, which we then use to set up *datasets* & *dataloaders*.\n",
        "\n",
        "\n",
        "Also, let's decide if we're going to include `exercise` or not:"
      ]
    },
    {
      "cell_type": "code",
      "metadata": {
        "id": "YkaKk4GKYTaz"
      },
      "source": [
        "with_exercise = True  # are we going to include the exercise info or not?\n",
        "\n",
        "# What follows just sets up which parts of df we're going to use \n",
        "\n",
        "df2 = df.copy() # make a copy of df for what happens below, just so we don't have to reload it after we 'break' it\n",
        "input_cols = [0,1]\n",
        "\n",
        "if not with_exercise:\n",
        "    df2 = df2[['calories','death_prob']]\n",
        "    input_cols = [0]"
      ],
      "execution_count": 5,
      "outputs": []
    },
    {
      "cell_type": "code",
      "metadata": {
        "id": "sp4JzN1R2b4Z"
      },
      "source": [
        "# Aside: we COULD use fastai TabularDataLoaders, as in...\n",
        "#     dls = TabularDataLoaders.from_df(df, cont_names=['calories'], #, 'exercise'], \n",
        "#           y_names='death_prob',  valid_idx=list(range(40,50)), bs=10)\n",
        "# But Nahhhh. Let's define our own using raw PyTorch\n",
        "\n",
        "\n",
        "# Define a PyTorch dataset\n",
        "class myDataset(Dataset):\n",
        "    # got this from https://pytorch.org/tutorials/beginner/basics/data_tutorial.html\n",
        "    def __init__(self, df, input_cols=[0,1]):\n",
        "        self.df = df\n",
        "        self.ic = input_cols\n",
        "\n",
        "    def __len__(self):   # required: method to return how many items are in the Dataset\n",
        "        return len(self.df)\n",
        "\n",
        "    def __getitem__(self, idx): # serve up a new x,y pair\n",
        "        return Tensor(self.df.iloc[idx, self.ic].to_numpy() ), Tensor([self.df.iloc[idx,-1]])\n",
        "\n",
        "\n",
        "batch_size = 5      # size of each mini-batch when we train\n",
        "assert len(df) % batch_size == 0,\"Batch size needs to divide evenly into length of dataset\"  # sanity check\n",
        "\n",
        "\n",
        "\n",
        "def df_to_dls(df): # produce fastai dataloaders from the pandas dataframe\n",
        "    \n",
        "    shuf_df = df2.sample(frac=1)   # \"shuffled df\": shuffle the order of rows\n",
        "    n = len(shuf_df)\n",
        "\n",
        "    # Manually split into train & val subsets\n",
        "    split_ind = int(n*0.8)  # 80-20 split\n",
        "    # split_ind = n-batch_size  # other option: all but one batch are training data\n",
        "\n",
        "    train_df, val_df = shuf_df.iloc[0:split_ind], shuf_df.iloc[split_ind:]  # these are still pandas dataframes\n",
        "    assert len(train_df) % batch_size == 0, f'{len(train_df)} mod {batch_size} = {len(train_df) % batch_size} != 0'   # otherwise you're gonna have a bad time\n",
        "    assert len(val_df) % batch_size == 0, f'{len(val_df)} mod {batch_size} = {len(train_df) % batch_size} != 0'    # same\n",
        "\n",
        "    train_ds, val_ds = myDataset(train_df, input_cols=input_cols), myDataset(val_df,input_cols=input_cols)\n",
        "    train_dl, val_dl = DataLoader(train_ds, bs=batch_size), DataLoader(val_ds, bs=batch_size)\n",
        "\n",
        "    dls = DataLoaders(train_dl,val_dl)  # fastai generic DataLoaders class\n",
        "    return dls \n",
        "\n",
        "dls = df_to_dls(df)"
      ],
      "execution_count": 12,
      "outputs": []
    },
    {
      "cell_type": "markdown",
      "metadata": {
        "id": "MWqA-QGw1wJN"
      },
      "source": [
        "Now let's define a neural network in raw PyTorch.  To do this we use the `nn.Module` class.  We can name the class of our network anything we want; let's call it `Net`.   We'll make it a single-hidden-layer neural network.\n",
        "\n",
        "TODO: add a picture?"
      ]
    },
    {
      "cell_type": "code",
      "metadata": {
        "id": "rowaWYvyJKaq"
      },
      "source": [
        "class Net(nn.Module): \n",
        "    # every PyTorch model class needs an __init__() and a forward()\n",
        "    def __init__(self, \n",
        "        hidden_dim, # how many neurons in the hidden layer \n",
        "        in_dim=2,   # dimenisions of input \n",
        "        out_dim=1): # dimensions of output\n",
        "        super().__init__()    # you always need this super() call for class inheritance\n",
        "        # below is where we define our layers, thereby \"allocating memory\" in a sense\n",
        "        self.layer_in = nn.Linear(in_dim, hidden_dim)   # Linear is just a matrix\n",
        "        self.layer_out = nn.Linear(hidden_dim, out_dim)\n",
        "\n",
        "    # forward() is where the actual computation is performed, x is the input\n",
        "    def forward(self, x):           # for our raw, non-fastai-Tabular version\n",
        "        x = self.layer_in(x)        # first set of weights\n",
        "        x = F.relu(x)               # ReLU is nonlinear activation: max(0, x)\n",
        "        return self.layer_out(x)    \n",
        "         \n",
        "# That was really a single-layer network: inputs, hidden, output\n",
        "\n",
        "hidden_dim=15  # how many neurons in the hidden layer\n",
        "\n",
        "torch.manual_seed(0)  # for reproducability \n",
        "net = Net(hidden_dim=hidden_dim, in_dim=df2.shape[1]-1)"
      ],
      "execution_count": 60,
      "outputs": []
    },
    {
      "cell_type": "markdown",
      "metadata": {
        "id": "DRUj2heVdGlb"
      },
      "source": [
        "# Let's integrate with \"WandB\" too!\n",
        "TODO: Despite following explicit instructions, cannot get this to work! :-( \n",
        "\n",
        "*The following is totally optional but we'll use it now just to show off some of the tools that are available*\n",
        "\n",
        "There's a great ML helper platform company called [Weights and Biases](https://wandb.ai/site) or \"WandB\".  It can keep track of all kinds of things about your training runs, and [it integrates with FastAI](https://docs.wandb.ai/guides/integrations/fastai) among other things.\n",
        "\n",
        "> (Note: Link to [Full WandB-FastAI Walkthrough](https://wandb.ai/borisd13/demo_config/reports/Visualize-Track-Compare-Fastai-Models--Vmlldzo4MzAyNA), that I based this on, except things have CHANGED there since they wrote that!)\n",
        "\n",
        "So, first go to WandB and create yourself a free account before going on. You can either create via username & password, or via an integration such as GitHub or...whatever else. (I use my GitHub account)\n",
        "\n",
        " Then come back..."
      ]
    },
    {
      "cell_type": "code",
      "metadata": {
        "colab": {
          "base_uri": "https://localhost:8080/"
        },
        "id": "lzVlmJpudnl4",
        "outputId": "09a59b33-9d11-4b7e-a0a6-9bab660e4f8f"
      },
      "source": [
        "# Don't need to (re-)run this every time. Just once per Colab session.\n",
        "!pip install wandb | grep -v already\n",
        "! wandb login"
      ],
      "execution_count": 8,
      "outputs": [
        {
          "output_type": "stream",
          "name": "stdout",
          "text": [
            "\u001b[34m\u001b[1mwandb\u001b[0m: You can find your API key in your browser here: https://wandb.ai/authorize\n",
            "\u001b[34m\u001b[1mwandb\u001b[0m: Paste an API key from your profile and hit enter: \n",
            "\u001b[34m\u001b[1mwandb\u001b[0m: Appending key for api.wandb.ai to your netrc file: /root/.netrc\n"
          ]
        }
      ]
    },
    {
      "cell_type": "markdown",
      "metadata": {
        "id": "H0FExfYUeaL0"
      },
      "source": [
        "And then after the follow two lines of code, you'll get this giant white screen but just ignore if for now and keep going on..."
      ]
    },
    {
      "cell_type": "code",
      "metadata": {
        "id": "9KJWzjA6eRG7"
      },
      "source": [
        "import wandb\n",
        "from fastai.callback.wandb import *"
      ],
      "execution_count": null,
      "outputs": []
    },
    {
      "cell_type": "markdown",
      "metadata": {
        "id": "J4hHANabnpDX"
      },
      "source": [
        "## Train the model"
      ]
    },
    {
      "cell_type": "code",
      "metadata": {
        "colab": {
          "base_uri": "https://localhost:8080/",
          "height": 118
        },
        "id": "sHC5omBb5Hqz",
        "outputId": "88524b3e-31b6-4c35-9348-ec9932499c6e"
      },
      "source": [
        "opt_func = partial(OptimWrapper, opt=optim.Adam)  # Optimizer method\n",
        "\n",
        "# note that we'll use the WandB callback for fastai:\n",
        "wandb.init(project='4_nnsfitcurves')  # seems we gotta do this before every setup\n",
        "learn = Learner(dls, net, loss_func=nn.MSELoss(), opt_func=opt_func, wd=0, cbs=WandbCallback())"
      ],
      "execution_count": 67,
      "outputs": [
        {
          "output_type": "display_data",
          "data": {
            "text/html": [
              "\n",
              "                Tracking run with wandb version 0.12.1<br/>\n",
              "                Syncing run <strong style=\"color:#cdcd00\">youthful-hill-3</strong> to <a href=\"https://wandb.ai\" target=\"_blank\">Weights & Biases</a> <a href=\"https://docs.wandb.com/integrations/jupyter.html\" target=\"_blank\">(Documentation)</a>.<br/>\n",
              "                Project page: <a href=\"https://wandb.ai/drscotthawley/4_nnsfitcurves\" target=\"_blank\">https://wandb.ai/drscotthawley/4_nnsfitcurves</a><br/>\n",
              "                Run page: <a href=\"https://wandb.ai/drscotthawley/4_nnsfitcurves/runs/2kd1o0py\" target=\"_blank\">https://wandb.ai/drscotthawley/4_nnsfitcurves/runs/2kd1o0py</a><br/>\n",
              "                Run data is saved locally in <code>/content/wandb/run-20210908_060004-2kd1o0py</code><br/><br/>\n",
              "            "
            ],
            "text/plain": [
              "<IPython.core.display.HTML object>"
            ]
          },
          "metadata": {}
        }
      ]
    },
    {
      "cell_type": "code",
      "metadata": {
        "colab": {
          "base_uri": "https://localhost:8080/",
          "height": 300
        },
        "id": "IRh1pk5ue0PH",
        "outputId": "d166faa4-8d3b-491f-8167-f8f40ba12f84"
      },
      "source": [
        "# fastai features a \"Learning Rate Finder\" that will suggest what learning rate to use\n",
        "lr = learn.lr_find().valley\n",
        "print(\"Suggested learning rate = \",lr)"
      ],
      "execution_count": 68,
      "outputs": [
        {
          "output_type": "display_data",
          "data": {
            "text/html": [
              ""
            ],
            "text/plain": [
              "<IPython.core.display.HTML object>"
            ]
          },
          "metadata": {}
        },
        {
          "output_type": "stream",
          "name": "stdout",
          "text": [
            "Suggested learning rate =  0.005248074419796467\n"
          ]
        },
        {
          "output_type": "display_data",
          "data": {
            "image/png": "[encoded data removed]",
            "text/plain": [
              "<Figure size 432x288 with 1 Axes>"
            ]
          },
          "metadata": {
            "needs_background": "light"
          }
        }
      ]
    },
    {
      "cell_type": "markdown",
      "metadata": {
        "id": "ZJl5LTFy3O3x"
      },
      "source": [
        "Now we'll fit the model to the data points.  Watch both the training loss and the validation loss decrease as we train:"
      ]
    },
    {
      "cell_type": "code",
      "metadata": {
        "colab": {
          "base_uri": "https://localhost:8080/",
          "height": 1000,
          "referenced_widgets": [
            "6cbb58783d404b9fad6c058f117f352d",
            "a05918d641b445e5944369aa53bea24b",
            "45ff3dcad10e42c6870da8980d38f3b0",
            "7e5c3ff4dd9f425fa666e2bb58580a97",
            "321b9147dcd24c6fbecb6ec5bd9e1c97",
            "35605661e0104fd9862321cba1cf315c",
            "bae76bdc95034dab91e766e464097fec",
            "73955cd672e941c8bcd838b7b321367c"
          ]
        },
        "id": "7lN_ukQb50xX",
        "outputId": "5e7ca51e-8775-42b7-be59-aeb5d2ba5fb0"
      },
      "source": [
        "epochs = 50\n",
        "learn.fit(epochs, lr=lr)\n",
        "wandb.finish()  # they say finish is \"optional\" but...??"
      ],
      "execution_count": 69,
      "outputs": [
        {
          "output_type": "stream",
          "name": "stdout",
          "text": [
            "Could not gather input dimensions\n",
            "WandbCallback requires use of \"SaveModelCallback\" to log best model\n",
            "WandbCallback was not able to prepare a DataLoader for logging prediction samples -> 'myDataset' object has no attribute 'items'\n"
          ]
        },
        {
          "output_type": "display_data",
          "data": {
            "text/html": [
              "<table border=\"1\" class=\"dataframe\">\n",
              "  <thead>\n",
              "    <tr style=\"text-align: left;\">\n",
              "      <th>epoch</th>\n",
              "      <th>train_loss</th>\n",
              "      <th>valid_loss</th>\n",
              "      <th>time</th>\n",
              "    </tr>\n",
              "  </thead>\n",
              "  <tbody>\n",
              "    <tr>\n",
              "      <td>0</td>\n",
              "      <td>0.037359</td>\n",
              "      <td>0.021339</td>\n",
              "      <td>00:00</td>\n",
              "    </tr>\n",
              "    <tr>\n",
              "      <td>1</td>\n",
              "      <td>0.029267</td>\n",
              "      <td>0.017453</td>\n",
              "      <td>00:00</td>\n",
              "    </tr>\n",
              "    <tr>\n",
              "      <td>2</td>\n",
              "      <td>0.023791</td>\n",
              "      <td>0.016083</td>\n",
              "      <td>00:00</td>\n",
              "    </tr>\n",
              "    <tr>\n",
              "      <td>3</td>\n",
              "      <td>0.020096</td>\n",
              "      <td>0.015468</td>\n",
              "      <td>00:00</td>\n",
              "    </tr>\n",
              "    <tr>\n",
              "      <td>4</td>\n",
              "      <td>0.017274</td>\n",
              "      <td>0.014269</td>\n",
              "      <td>00:00</td>\n",
              "    </tr>\n",
              "    <tr>\n",
              "      <td>5</td>\n",
              "      <td>0.015064</td>\n",
              "      <td>0.013137</td>\n",
              "      <td>00:00</td>\n",
              "    </tr>\n",
              "    <tr>\n",
              "      <td>6</td>\n",
              "      <td>0.013245</td>\n",
              "      <td>0.012339</td>\n",
              "      <td>00:00</td>\n",
              "    </tr>\n",
              "    <tr>\n",
              "      <td>7</td>\n",
              "      <td>0.011734</td>\n",
              "      <td>0.011376</td>\n",
              "      <td>00:00</td>\n",
              "    </tr>\n",
              "    <tr>\n",
              "      <td>8</td>\n",
              "      <td>0.010442</td>\n",
              "      <td>0.010513</td>\n",
              "      <td>00:00</td>\n",
              "    </tr>\n",
              "    <tr>\n",
              "      <td>9</td>\n",
              "      <td>0.009346</td>\n",
              "      <td>0.009590</td>\n",
              "      <td>00:00</td>\n",
              "    </tr>\n",
              "    <tr>\n",
              "      <td>10</td>\n",
              "      <td>0.008458</td>\n",
              "      <td>0.008901</td>\n",
              "      <td>00:00</td>\n",
              "    </tr>\n",
              "    <tr>\n",
              "      <td>11</td>\n",
              "      <td>0.007701</td>\n",
              "      <td>0.008473</td>\n",
              "      <td>00:00</td>\n",
              "    </tr>\n",
              "    <tr>\n",
              "      <td>12</td>\n",
              "      <td>0.007085</td>\n",
              "      <td>0.007976</td>\n",
              "      <td>00:00</td>\n",
              "    </tr>\n",
              "    <tr>\n",
              "      <td>13</td>\n",
              "      <td>0.006568</td>\n",
              "      <td>0.007638</td>\n",
              "      <td>00:00</td>\n",
              "    </tr>\n",
              "    <tr>\n",
              "      <td>14</td>\n",
              "      <td>0.006171</td>\n",
              "      <td>0.007398</td>\n",
              "      <td>00:00</td>\n",
              "    </tr>\n",
              "    <tr>\n",
              "      <td>15</td>\n",
              "      <td>0.005834</td>\n",
              "      <td>0.007272</td>\n",
              "      <td>00:00</td>\n",
              "    </tr>\n",
              "    <tr>\n",
              "      <td>16</td>\n",
              "      <td>0.005571</td>\n",
              "      <td>0.006990</td>\n",
              "      <td>00:00</td>\n",
              "    </tr>\n",
              "    <tr>\n",
              "      <td>17</td>\n",
              "      <td>0.005281</td>\n",
              "      <td>0.007030</td>\n",
              "      <td>00:00</td>\n",
              "    </tr>\n",
              "    <tr>\n",
              "      <td>18</td>\n",
              "      <td>0.005100</td>\n",
              "      <td>0.006930</td>\n",
              "      <td>00:00</td>\n",
              "    </tr>\n",
              "    <tr>\n",
              "      <td>19</td>\n",
              "      <td>0.004901</td>\n",
              "      <td>0.006999</td>\n",
              "      <td>00:00</td>\n",
              "    </tr>\n",
              "    <tr>\n",
              "      <td>20</td>\n",
              "      <td>0.004768</td>\n",
              "      <td>0.006908</td>\n",
              "      <td>00:00</td>\n",
              "    </tr>\n",
              "    <tr>\n",
              "      <td>21</td>\n",
              "      <td>0.004620</td>\n",
              "      <td>0.006851</td>\n",
              "      <td>00:00</td>\n",
              "    </tr>\n",
              "    <tr>\n",
              "      <td>22</td>\n",
              "      <td>0.004530</td>\n",
              "      <td>0.006753</td>\n",
              "      <td>00:00</td>\n",
              "    </tr>\n",
              "    <tr>\n",
              "      <td>23</td>\n",
              "      <td>0.004404</td>\n",
              "      <td>0.006587</td>\n",
              "      <td>00:00</td>\n",
              "    </tr>\n",
              "    <tr>\n",
              "      <td>24</td>\n",
              "      <td>0.004319</td>\n",
              "      <td>0.006446</td>\n",
              "      <td>00:00</td>\n",
              "    </tr>\n",
              "    <tr>\n",
              "      <td>25</td>\n",
              "      <td>0.004232</td>\n",
              "      <td>0.006474</td>\n",
              "      <td>00:00</td>\n",
              "    </tr>\n",
              "    <tr>\n",
              "      <td>26</td>\n",
              "      <td>0.004126</td>\n",
              "      <td>0.006431</td>\n",
              "      <td>00:00</td>\n",
              "    </tr>\n",
              "    <tr>\n",
              "      <td>27</td>\n",
              "      <td>0.004050</td>\n",
              "      <td>0.006226</td>\n",
              "      <td>00:00</td>\n",
              "    </tr>\n",
              "    <tr>\n",
              "      <td>28</td>\n",
              "      <td>0.003984</td>\n",
              "      <td>0.006130</td>\n",
              "      <td>00:00</td>\n",
              "    </tr>\n",
              "    <tr>\n",
              "      <td>29</td>\n",
              "      <td>0.003920</td>\n",
              "      <td>0.006205</td>\n",
              "      <td>00:00</td>\n",
              "    </tr>\n",
              "    <tr>\n",
              "      <td>30</td>\n",
              "      <td>0.003856</td>\n",
              "      <td>0.006044</td>\n",
              "      <td>00:00</td>\n",
              "    </tr>\n",
              "    <tr>\n",
              "      <td>31</td>\n",
              "      <td>0.003826</td>\n",
              "      <td>0.006076</td>\n",
              "      <td>00:00</td>\n",
              "    </tr>\n",
              "    <tr>\n",
              "      <td>32</td>\n",
              "      <td>0.003732</td>\n",
              "      <td>0.005836</td>\n",
              "      <td>00:00</td>\n",
              "    </tr>\n",
              "    <tr>\n",
              "      <td>33</td>\n",
              "      <td>0.003704</td>\n",
              "      <td>0.005769</td>\n",
              "      <td>00:00</td>\n",
              "    </tr>\n",
              "    <tr>\n",
              "      <td>34</td>\n",
              "      <td>0.003629</td>\n",
              "      <td>0.005639</td>\n",
              "      <td>00:00</td>\n",
              "    </tr>\n",
              "    <tr>\n",
              "      <td>35</td>\n",
              "      <td>0.003609</td>\n",
              "      <td>0.005674</td>\n",
              "      <td>00:00</td>\n",
              "    </tr>\n",
              "    <tr>\n",
              "      <td>36</td>\n",
              "      <td>0.003536</td>\n",
              "      <td>0.005519</td>\n",
              "      <td>00:00</td>\n",
              "    </tr>\n",
              "    <tr>\n",
              "      <td>37</td>\n",
              "      <td>0.003503</td>\n",
              "      <td>0.005646</td>\n",
              "      <td>00:00</td>\n",
              "    </tr>\n",
              "    <tr>\n",
              "      <td>38</td>\n",
              "      <td>0.003460</td>\n",
              "      <td>0.005400</td>\n",
              "      <td>00:00</td>\n",
              "    </tr>\n",
              "    <tr>\n",
              "      <td>39</td>\n",
              "      <td>0.003411</td>\n",
              "      <td>0.005355</td>\n",
              "      <td>00:00</td>\n",
              "    </tr>\n",
              "    <tr>\n",
              "      <td>40</td>\n",
              "      <td>0.003352</td>\n",
              "      <td>0.005243</td>\n",
              "      <td>00:00</td>\n",
              "    </tr>\n",
              "    <tr>\n",
              "      <td>41</td>\n",
              "      <td>0.003332</td>\n",
              "      <td>0.005153</td>\n",
              "      <td>00:00</td>\n",
              "    </tr>\n",
              "    <tr>\n",
              "      <td>42</td>\n",
              "      <td>0.003284</td>\n",
              "      <td>0.005055</td>\n",
              "      <td>00:00</td>\n",
              "    </tr>\n",
              "    <tr>\n",
              "      <td>43</td>\n",
              "      <td>0.003202</td>\n",
              "      <td>0.004946</td>\n",
              "      <td>00:00</td>\n",
              "    </tr>\n",
              "    <tr>\n",
              "      <td>44</td>\n",
              "      <td>0.003173</td>\n",
              "      <td>0.004857</td>\n",
              "      <td>00:00</td>\n",
              "    </tr>\n",
              "    <tr>\n",
              "      <td>45</td>\n",
              "      <td>0.003096</td>\n",
              "      <td>0.004648</td>\n",
              "      <td>00:00</td>\n",
              "    </tr>\n",
              "    <tr>\n",
              "      <td>46</td>\n",
              "      <td>0.003096</td>\n",
              "      <td>0.004674</td>\n",
              "      <td>00:00</td>\n",
              "    </tr>\n",
              "    <tr>\n",
              "      <td>47</td>\n",
              "      <td>0.003061</td>\n",
              "      <td>0.004534</td>\n",
              "      <td>00:00</td>\n",
              "    </tr>\n",
              "    <tr>\n",
              "      <td>48</td>\n",
              "      <td>0.003033</td>\n",
              "      <td>0.004380</td>\n",
              "      <td>00:00</td>\n",
              "    </tr>\n",
              "    <tr>\n",
              "      <td>49</td>\n",
              "      <td>0.002970</td>\n",
              "      <td>0.004370</td>\n",
              "      <td>00:00</td>\n",
              "    </tr>\n",
              "  </tbody>\n",
              "</table>"
            ],
            "text/plain": [
              "<IPython.core.display.HTML object>"
            ]
          },
          "metadata": {}
        },
        {
          "output_type": "display_data",
          "data": {
            "text/html": [
              "<br/>Waiting for W&B process to finish, PID 1292<br/>Program ended successfully."
            ],
            "text/plain": [
              "<IPython.core.display.HTML object>"
            ]
          },
          "metadata": {}
        },
        {
          "output_type": "display_data",
          "data": {
            "application/vnd.jupyter.widget-view+json": {
              "model_id": "6cbb58783d404b9fad6c058f117f352d",
              "version_minor": 0,
              "version_major": 2
            },
            "text/plain": [
              "VBox(children=(Label(value=' 0.00MB of 0.00MB uploaded (0.00MB deduped)\\r'), FloatProgress(value=1.0, max=1.0)…"
            ]
          },
          "metadata": {}
        },
        {
          "output_type": "display_data",
          "data": {
            "text/html": [
              "Find user logs for this run at: <code>/content/wandb/run-20210908_060004-2kd1o0py/logs/debug.log</code>"
            ],
            "text/plain": [
              "<IPython.core.display.HTML object>"
            ]
          },
          "metadata": {}
        },
        {
          "output_type": "display_data",
          "data": {
            "text/html": [
              "Find internal logs for this run at: <code>/content/wandb/run-20210908_060004-2kd1o0py/logs/debug-internal.log</code>"
            ],
            "text/plain": [
              "<IPython.core.display.HTML object>"
            ]
          },
          "metadata": {}
        },
        {
          "output_type": "display_data",
          "data": {
            "text/html": [
              "<h3>Run summary:</h3><br/><style>\n",
              "    table.wandb td:nth-child(1) { padding: 0 10px; text-align: right }\n",
              "    </style><table class=\"wandb\">\n",
              "<tr><td>epoch</td><td>50</td></tr><tr><td>train_loss</td><td>0.00297</td></tr><tr><td>raw_loss</td><td>0.00364</td></tr><tr><td>lr_0</td><td>0.00525</td></tr><tr><td>mom_0</td><td>0.9</td></tr><tr><td>sqr_mom_0</td><td>0.999</td></tr><tr><td>eps_0</td><td>0.0</td></tr><tr><td>wd_0</td><td>0</td></tr><tr><td>amsgrad_0</td><td>False</td></tr><tr><td>lr_1</td><td>0.00525</td></tr><tr><td>mom_1</td><td>0.9</td></tr><tr><td>sqr_mom_1</td><td>0.999</td></tr><tr><td>eps_1</td><td>0.0</td></tr><tr><td>wd_1</td><td>0</td></tr><tr><td>amsgrad_1</td><td>False</td></tr><tr><td>lr_2</td><td>0.00525</td></tr><tr><td>mom_2</td><td>0.9</td></tr><tr><td>sqr_mom_2</td><td>0.999</td></tr><tr><td>eps_2</td><td>0.0</td></tr><tr><td>wd_2</td><td>0</td></tr><tr><td>amsgrad_2</td><td>False</td></tr><tr><td>lr_3</td><td>0.00525</td></tr><tr><td>mom_3</td><td>0.9</td></tr><tr><td>sqr_mom_3</td><td>0.999</td></tr><tr><td>eps_3</td><td>0.0</td></tr><tr><td>wd_3</td><td>0</td></tr><tr><td>amsgrad_3</td><td>False</td></tr><tr><td>_runtime</td><td>26</td></tr><tr><td>_timestamp</td><td>1631080830</td></tr><tr><td>_step</td><td>1999</td></tr><tr><td>valid_loss</td><td>0.00437</td></tr></table>"
            ],
            "text/plain": [
              "<IPython.core.display.HTML object>"
            ]
          },
          "metadata": {}
        },
        {
          "output_type": "display_data",
          "data": {
            "text/html": [
              "<h3>Run history:</h3><br/><style>\n",
              "    table.wandb td:nth-child(1) { padding: 0 10px; text-align: right }\n",
              "    </style><table class=\"wandb\">\n",
              "<tr><td>epoch</td><td>▁▁▁▂▂▂▂▂▂▃▃▃▃▃▄▄▄▄▄▄▅▅▅▅▅▅▆▆▆▆▆▇▇▇▇▇▇███</td></tr><tr><td>train_loss</td><td>█▅▄▄▃▃▂▂▂▂▂▂▂▁▁▁▁▁▁▁▁▁▁▁▁▁▁▁▁▁▁▁▁▁▁▁▁▁▁▁</td></tr><tr><td>raw_loss</td><td>▄▃█▅▃▃▃▂▂▂▃▃▂▂▂▂▁▂▂▁▂▂▂▂▂▂▂▁▂▁▁▂▂▂▂▂▂▁▁▂</td></tr><tr><td>lr_0</td><td>▁▁▁▁▁▁▁▁▁▁▁▁▁▁▁▁▁▁▁▁▁▁▁▁▁▁▁▁▁▁▁▁▁▁▁▁▁▁▁▁</td></tr><tr><td>mom_0</td><td>▁▁▁▁▁▁▁▁▁▁▁▁▁▁▁▁▁▁▁▁▁▁▁▁▁▁▁▁▁▁▁▁▁▁▁▁▁▁▁▁</td></tr><tr><td>sqr_mom_0</td><td>▁▁▁▁▁▁▁▁▁▁▁▁▁▁▁▁▁▁▁▁▁▁▁▁▁▁▁▁▁▁▁▁▁▁▁▁▁▁▁▁</td></tr><tr><td>eps_0</td><td>▁▁▁▁▁▁▁▁▁▁▁▁▁▁▁▁▁▁▁▁▁▁▁▁▁▁▁▁▁▁▁▁▁▁▁▁▁▁▁▁</td></tr><tr><td>wd_0</td><td>▁▁▁▁▁▁▁▁▁▁▁▁▁▁▁▁▁▁▁▁▁▁▁▁▁▁▁▁▁▁▁▁▁▁▁▁▁▁▁▁</td></tr><tr><td>amsgrad_0</td><td>▁▁▁▁▁▁▁▁▁▁▁▁▁▁▁▁▁▁▁▁▁▁▁▁▁▁▁▁▁▁▁▁▁▁▁▁▁▁▁▁</td></tr><tr><td>lr_1</td><td>▁▁▁▁▁▁▁▁▁▁▁▁▁▁▁▁▁▁▁▁▁▁▁▁▁▁▁▁▁▁▁▁▁▁▁▁▁▁▁▁</td></tr><tr><td>mom_1</td><td>▁▁▁▁▁▁▁▁▁▁▁▁▁▁▁▁▁▁▁▁▁▁▁▁▁▁▁▁▁▁▁▁▁▁▁▁▁▁▁▁</td></tr><tr><td>sqr_mom_1</td><td>▁▁▁▁▁▁▁▁▁▁▁▁▁▁▁▁▁▁▁▁▁▁▁▁▁▁▁▁▁▁▁▁▁▁▁▁▁▁▁▁</td></tr><tr><td>eps_1</td><td>▁▁▁▁▁▁▁▁▁▁▁▁▁▁▁▁▁▁▁▁▁▁▁▁▁▁▁▁▁▁▁▁▁▁▁▁▁▁▁▁</td></tr><tr><td>wd_1</td><td>▁▁▁▁▁▁▁▁▁▁▁▁▁▁▁▁▁▁▁▁▁▁▁▁▁▁▁▁▁▁▁▁▁▁▁▁▁▁▁▁</td></tr><tr><td>amsgrad_1</td><td>▁▁▁▁▁▁▁▁▁▁▁▁▁▁▁▁▁▁▁▁▁▁▁▁▁▁▁▁▁▁▁▁▁▁▁▁▁▁▁▁</td></tr><tr><td>lr_2</td><td>▁▁▁▁▁▁▁▁▁▁▁▁▁▁▁▁▁▁▁▁▁▁▁▁▁▁▁▁▁▁▁▁▁▁▁▁▁▁▁▁</td></tr><tr><td>mom_2</td><td>▁▁▁▁▁▁▁▁▁▁▁▁▁▁▁▁▁▁▁▁▁▁▁▁▁▁▁▁▁▁▁▁▁▁▁▁▁▁▁▁</td></tr><tr><td>sqr_mom_2</td><td>▁▁▁▁▁▁▁▁▁▁▁▁▁▁▁▁▁▁▁▁▁▁▁▁▁▁▁▁▁▁▁▁▁▁▁▁▁▁▁▁</td></tr><tr><td>eps_2</td><td>▁▁▁▁▁▁▁▁▁▁▁▁▁▁▁▁▁▁▁▁▁▁▁▁▁▁▁▁▁▁▁▁▁▁▁▁▁▁▁▁</td></tr><tr><td>wd_2</td><td>▁▁▁▁▁▁▁▁▁▁▁▁▁▁▁▁▁▁▁▁▁▁▁▁▁▁▁▁▁▁▁▁▁▁▁▁▁▁▁▁</td></tr><tr><td>amsgrad_2</td><td>▁▁▁▁▁▁▁▁▁▁▁▁▁▁▁▁▁▁▁▁▁▁▁▁▁▁▁▁▁▁▁▁▁▁▁▁▁▁▁▁</td></tr><tr><td>lr_3</td><td>▁▁▁▁▁▁▁▁▁▁▁▁▁▁▁▁▁▁▁▁▁▁▁▁▁▁▁▁▁▁▁▁▁▁▁▁▁▁▁▁</td></tr><tr><td>mom_3</td><td>▁▁▁▁▁▁▁▁▁▁▁▁▁▁▁▁▁▁▁▁▁▁▁▁▁▁▁▁▁▁▁▁▁▁▁▁▁▁▁▁</td></tr><tr><td>sqr_mom_3</td><td>▁▁▁▁▁▁▁▁▁▁▁▁▁▁▁▁▁▁▁▁▁▁▁▁▁▁▁▁▁▁▁▁▁▁▁▁▁▁▁▁</td></tr><tr><td>eps_3</td><td>▁▁▁▁▁▁▁▁▁▁▁▁▁▁▁▁▁▁▁▁▁▁▁▁▁▁▁▁▁▁▁▁▁▁▁▁▁▁▁▁</td></tr><tr><td>wd_3</td><td>▁▁▁▁▁▁▁▁▁▁▁▁▁▁▁▁▁▁▁▁▁▁▁▁▁▁▁▁▁▁▁▁▁▁▁▁▁▁▁▁</td></tr><tr><td>amsgrad_3</td><td>▁▁▁▁▁▁▁▁▁▁▁▁▁▁▁▁▁▁▁▁▁▁▁▁▁▁▁▁▁▁▁▁▁▁▁▁▁▁▁▁</td></tr><tr><td>_runtime</td><td>▁▁▁▁▂▂▂▂▂▃▃▃▃▃▃▃▄▄▄▄▄▅▅▅▅▆▆▆▆▆▆▆▇▇▇▇▇███</td></tr><tr><td>_timestamp</td><td>▁▁▁▁▂▂▂▂▂▃▃▃▃▃▃▃▄▄▄▄▄▅▅▅▅▆▆▆▆▆▆▆▇▇▇▇▇███</td></tr><tr><td>_step</td><td>▁▁▁▂▂▂▂▂▂▃▃▃▃▃▄▄▄▄▄▄▅▅▅▅▅▅▆▆▆▆▆▇▇▇▇▇▇███</td></tr><tr><td>valid_loss</td><td>█▆▆▆▅▄▄▄▃▃▂▂▂▂▂▂▂▂▂▂▂▂▂▂▂▂▂▂▂▁▂▁▁▁▁▁▁▁▁▁</td></tr></table><br/>"
            ],
            "text/plain": [
              "<IPython.core.display.HTML object>"
            ]
          },
          "metadata": {}
        },
        {
          "output_type": "display_data",
          "data": {
            "text/html": [
              "Synced 5 W&B file(s), 0 media file(s), 0 artifact file(s) and 0 other file(s)"
            ],
            "text/plain": [
              "<IPython.core.display.HTML object>"
            ]
          },
          "metadata": {}
        },
        {
          "output_type": "display_data",
          "data": {
            "text/html": [
              "\n",
              "                    <br/>Synced <strong style=\"color:#cdcd00\">youthful-hill-3</strong>: <a href=\"https://wandb.ai/drscotthawley/4_nnsfitcurves/runs/2kd1o0py\" target=\"_blank\">https://wandb.ai/drscotthawley/4_nnsfitcurves/runs/2kd1o0py</a><br/>\n",
              "                "
            ],
            "text/plain": [
              "<IPython.core.display.HTML object>"
            ]
          },
          "metadata": {}
        }
      ]
    },
    {
      "cell_type": "markdown",
      "metadata": {
        "id": "qFvBuAY1D5nf"
      },
      "source": [
        ""
      ]
    },
    {
      "cell_type": "markdown",
      "metadata": {
        "id": "NyOpWQBs3lzi"
      },
      "source": [
        "...and if the `valid_loss` was still decreasing by the time that stopped, we may want to re-run the training but with more epochs.\n",
        "\n",
        "OK! NOW go to your WandB page in another brower tab and check out all the data it generated!  In particular, see if you can find the graph for \"valid_loss\" as a function of time.  (Might have to press the down-arrrow in the bottom right in the WandB page)"
      ]
    },
    {
      "cell_type": "markdown",
      "metadata": {
        "id": "g5auOGai32SQ"
      },
      "source": [
        "And use this model to predict the death-probability for a wide range of possibile input values, and then plot the results:"
      ]
    },
    {
      "cell_type": "code",
      "metadata": {
        "colab": {
          "base_uri": "https://localhost:8080/",
          "height": 517
        },
        "id": "o0EbBQpLGmTX",
        "outputId": "fe842eef-e4c1-4cfe-a76b-183b219b9849"
      },
      "source": [
        "def predict(model, c, e=-0.5):  # one prediction from the model\n",
        "    # e=-0.5 means, if we weren't given a value for exercise, just assume it's -0.5\n",
        "    if df2.shape[1] > 2:  # for two different cases of whether we included exercise or not\n",
        "        return model.forward(Tensor([[c,e]])).item()\n",
        "    else:\n",
        "        return model.forward(Tensor([[c]])).item()\n",
        "\n",
        "\n",
        "def predict_surface(model, show_points=True):\n",
        "    # do a whole bunch of predictions across an entire surface\n",
        "    outs = []\n",
        "    ins_c = np.arange(0,1,0.05)  # calorie range\n",
        "    ins_e = np.arange(df['exercise'].min(),1,0.05)  # exercise range\n",
        "    for e in ins_e:\n",
        "        outs_c = []\n",
        "        for c in ins_c:\n",
        "            outs_c.append(predict(model, c, e))\n",
        "        outs.append(outs_c)\n",
        "\n",
        "    # draw the surface\n",
        "    if show_points: \n",
        "        fig = go.Figure(data=[\n",
        "            go.Surface(x=ins_c, y=ins_e, z=np.array(outs), opacity=0.65, colorscale='Viridis'),    # fit\n",
        "            go.Scatter3d(x=df['calories'], y=df['exercise'], z=df['death_prob'], mode='markers',  # points\n",
        "            marker=dict( size=5, color=df['death_prob'],  opacity=0.8) ) ])\n",
        "    else:\n",
        "        fig = go.Figure(data=[go.Surface(x=ins_c, y=ins_e, z=np.array(outs), opacity=0.65, colorscale='Viridis')])\n",
        "    fig.update_layout(scene = dict(xaxis_title='calories', yaxis_title=\"exercise\", zaxis_title=\"risk of death!\" ),\n",
        "        autosize=False, width=600, height=500, margin=dict(l=20, r=20, b=25, t=20))\n",
        "    fig.show()\n",
        "\n",
        "predict_surface(learn.model, show_points=True)"
      ],
      "execution_count": 70,
      "outputs": [
        {
          "output_type": "display_data",
          "data": {
            "text/html": [
              "<html>\n",
              "<head><meta charset=\"utf-8\" /></head>\n",
              "<body>\n",
              "    <div>\n",
              "            <script src=\"https://cdnjs.cloudflare.com/ajax/libs/mathjax/2.7.5/MathJax.js?config=TeX-AMS-MML_SVG\"></script><script type=\"text/javascript\">if (window.MathJax) {MathJax.Hub.Config({SVG: {font: \"STIX-Web\"}});}</script>\n",
              "                <script type=\"text/javascript\">window.PlotlyConfig = {MathJaxConfig: 'local'};</script>\n",
              "        <script src=\"https://cdn.plot.ly/plotly-latest.min.js\"></script>    \n",
              "            <div id=\"fb25cb92-6717-434f-9e9b-669ef090e97f\" class=\"plotly-graph-div\" style=\"height:500px; width:600px;\"></div>\n",
              "            <script type=\"text/javascript\">\n",
              "                \n",
              "                    window.PLOTLYENV=window.PLOTLYENV || {};\n",
              "                    \n",
              "                if (document.getElementById(\"fb25cb92-6717-434f-9e9b-669ef090e97f\")) {\n",
              "                    Plotly.newPlot(\n",
              "                        'fb25cb92-6717-434f-9e9b-669ef090e97f',\n",
              "                        [{\"colorscale\": [[0.0, \"#440154\"], [0.1111111111111111, \"#482878\"], [0.2222222222222222, \"#3e4989\"], [0.3333333333333333, \"#31688e\"], [0.4444444444444444, \"#26828e\"], [0.5555555555555556, \"#1f9e89\"], [0.6666666666666666, \"#35b779\"], [0.7777777777777778, \"#6ece58\"], [0.8888888888888888, \"#b5de2b\"], [1.0, \"#fde725\"]], \"opacity\": 0.65, \"type\": \"surface\", \"x\": [0.0, 0.05, 0.1, 0.15000000000000002, 0.2, 0.25, 0.30000000000000004, 0.35000000000000003, 0.4, 0.45, 0.5, 0.55, 0.6000000000000001, 0.65, 0.7000000000000001, 0.75, 0.8, 0.8500000000000001, 0.9, 0.9500000000000001], \"y\": [0.05, 0.1, 0.15000000000000002, 0.2, 0.25, 0.3, 0.35000000000000003, 0.4, 0.45, 0.5, 0.55, 0.6000000000000001, 0.6500000000000001, 0.7000000000000001, 0.7500000000000001, 0.8, 0.8500000000000001, 0.9000000000000001, 0.9500000000000001], \"z\": [[1.1021472215652466, 0.8316748142242432, 0.5612024664878845, 0.41132864356040955, 0.36493057012557983, 0.39377561211586, 0.42662397027015686, 0.45944711565971375, 0.4967122972011566, 0.5526671409606934, 0.6085578799247742, 0.664448618888855, 0.7203393578529358, 0.7762300968170166, 0.8316212296485901, 0.8852359652519226, 0.9303222298622131, 0.969738781452179, 1.0091824531555176, 1.0425269603729248], [1.0558693408966064, 0.7853969931602478, 0.5149247646331787, 0.38541752099990845, 0.33688437938690186, 0.3496934473514557, 0.3798411786556244, 0.41251930594444275, 0.4523535966873169, 0.5078792572021484, 0.5637699961662292, 0.6196607351303101, 0.6755514740943909, 0.7314421534538269, 0.7870591878890991, 0.8405434489250183, 0.8823035955429077, 0.9217202067375183, 0.9543326497077942, 0.9852474331855774], [1.0095915794372559, 0.7391192317008972, 0.46871498227119446, 0.3594476878643036, 0.3113196790218353, 0.3184530436992645, 0.33539649844169617, 0.36935552954673767, 0.4098416864871979, 0.4630914032459259, 0.5189821720123291, 0.5748728513717651, 0.630763590335846, 0.6866543292999268, 0.7424300909042358, 0.7948684096336365, 0.8342849612236023, 0.8666490912437439, 0.8975372910499573, 0.9284256100654602], [0.9632577896118164, 0.6926493048667908, 0.4229430854320526, 0.333070307970047, 0.2855047583580017, 0.2899357080459595, 0.3058672845363617, 0.3296140432357788, 0.36732974648475647, 0.4202890992164612, 0.4741942584514618, 0.5300850868225098, 0.5859758257865906, 0.6418663859367371, 0.6975595355033875, 0.7468498349189758, 0.7789655327796936, 0.8098537921905518, 0.8406631350517273, 0.8710007071495056], [0.9165502190589905, 0.6459504961967468, 0.3841998875141144, 0.3065938651561737, 0.2596898078918457, 0.26233261823654175, 0.28186091780662537, 0.30282464623451233, 0.32765600085258484, 0.37777721881866455, 0.43073657155036926, 0.48529717326164246, 0.5411878824234009, 0.5970785617828369, 0.6526411175727844, 0.6912819743156433, 0.7221484780311584, 0.7524860501289368, 0.7828236222267151, 0.8131612539291382], [0.8684844374656677, 0.5978758335113525, 0.35635221004486084, 0.2787429094314575, 0.2324972003698349, 0.23576682806015015, 0.25664034485816956, 0.2774982154369354, 0.2994178831577301, 0.3367835581302643, 0.3868274986743927, 0.43978360295295715, 0.4949963390827179, 0.5508837103843689, 0.5985148549079895, 0.6325579285621643, 0.6628922820091248, 0.6932266354560852, 0.7235609292984009, 0.7538952827453613], [0.8156034350395203, 0.5448804497718811, 0.3236936330795288, 0.2460842728614807, 0.20329952239990234, 0.2057482898235321, 0.22662173211574554, 0.24747851490974426, 0.26926788687705994, 0.3037022352218628, 0.3411196768283844, 0.391089528799057, 0.44404569268226624, 0.49140962958335876, 0.5373464226722717, 0.5685363411903381, 0.5988706946372986, 0.629205048084259, 0.6595393419265747, 0.6898737549781799], [0.7626920342445374, 0.4918464124202728, 0.2910270392894745, 0.215251162648201, 0.17505010962486267, 0.17572970688343048, 0.19660314917564392, 0.21745875477790833, 0.23923912644386292, 0.2735522389411926, 0.30798661708831787, 0.3450547754764557, 0.38610565662384033, 0.43061867356300354, 0.47309890389442444, 0.5045146942138672, 0.5348491072654724, 0.5651834607124329, 0.5955178141593933, 0.6258521676063538], [0.7085199356079102, 0.43972644209861755, 0.25921130180358887, 0.1855023354291916, 0.14768318831920624, 0.14571112394332886, 0.1665845513343811, 0.18743905425071716, 0.20921309292316437, 0.24315428733825684, 0.27692779898643494, 0.30228322744369507, 0.33072516322135925, 0.3714257776737213, 0.4088515043258667, 0.4404931962490082, 0.47082754969596863, 0.5011618733406067, 0.5314961671829224, 0.5618305802345276], [0.6542657613754272, 0.40095385909080505, 0.22891661524772644, 0.15704914927482605, 0.12031629681587219, 0.11569249629974365, 0.13656596839427948, 0.1571325659751892, 0.17834968864917755, 0.21182146668434143, 0.23702755570411682, 0.2623123526573181, 0.28766778111457825, 0.3159887492656708, 0.3455885648727417, 0.3764715790748596, 0.4068059027194977, 0.43714025616645813, 0.4674745798110962, 0.49780896306037903], [0.619860827922821, 0.36746689677238464, 0.19605425000190735, 0.1273510605096817, 0.09294936060905457, 0.085444375872612, 0.1057671308517456, 0.12606868147850037, 0.14676843583583832, 0.1719745248556137, 0.1971806287765503, 0.22238676249980927, 0.2476969063282013, 0.27274906635284424, 0.2868996262550354, 0.312681645154953, 0.3427842855453491, 0.37311863899230957, 0.40345296263694763, 0.4337873160839081], [0.5876728296279907, 0.33567574620246887, 0.16718652844429016, 0.09831097722053528, 0.06438995897769928, 0.05595048516988754, 0.07696666568517685, 0.09554865956306458, 0.10726463794708252, 0.13212764263153076, 0.15733377635478973, 0.1825399100780487, 0.20774602890014648, 0.22973935306072235, 0.24028217792510986, 0.25406673550605774, 0.27876266837120056, 0.3090970516204834, 0.3394313454627991, 0.36975765228271484], [0.5565809607505798, 0.3147135078907013, 0.1376529186964035, 0.06839913129806519, 0.03513965755701065, 0.024057181552052498, 0.04540009796619415, 0.05920351296663284, 0.07163148373365402, 0.09587740898132324, 0.12012337148189545, 0.14436931908130646, 0.16861531138420105, 0.18631194531917572, 0.19685478508472443, 0.20739763975143433, 0.22012154757976532, 0.24507547914981842, 0.2754098176956177, 0.3057100772857666], [0.5913649201393127, 0.35572803020477295, 0.1588110625743866, 0.08761647343635559, 0.05328220874071121, 0.036556024104356766, 0.04864905774593353, 0.06071605905890465, 0.07367339730262756, 0.09895522892475128, 0.121464803814888, 0.1439744234085083, 0.1664840131998062, 0.1793961226940155, 0.18817391991615295, 0.19707024097442627, 0.2050800323486328, 0.21568645536899567, 0.24055099487304688, 0.27039381861686707], [0.6396623253822327, 0.40513134002685547, 0.191275492310524, 0.12079542875289917, 0.08666827529668808, 0.061068177223205566, 0.07421877980232239, 0.08733578026294708, 0.10133682191371918, 0.12788675725460052, 0.15443669259548187, 0.17983219027519226, 0.20337489247322083, 0.21878919005393982, 0.2340267300605774, 0.24932023882865906, 0.26404646039009094, 0.2777716815471649, 0.3094892203807831, 0.3570179045200348], [0.7002903819084167, 0.46647709608078003, 0.2520020008087158, 0.16206398606300354, 0.12157443165779114, 0.09332266449928284, 0.1109708845615387, 0.13058674335479736, 0.1510719507932663, 0.18411239981651306, 0.21715284883975983, 0.2501932680606842, 0.28087788820266724, 0.2970149517059326, 0.3122524619102478, 0.33676785230636597, 0.36767229437828064, 0.3974178731441498, 0.4286259710788727, 0.46338313817977905], [0.7714915871620178, 0.544251024723053, 0.3358038365840912, 0.22600068151950836, 0.19238033890724182, 0.16796737909317017, 0.18760648369789124, 0.20723100006580353, 0.22772611677646637, 0.26075032353401184, 0.2937907874584198, 0.32683125138282776, 0.3579960763454437, 0.3922441899776459, 0.42645543813705444, 0.45771342515945435, 0.4895676374435425, 0.5208664536476135, 0.5521584153175354, 0.5834505558013916], [0.8769842982292175, 0.6477242112159729, 0.43429362773895264, 0.3097408711910248, 0.2716687321662903, 0.24460408091545105, 0.264242023229599, 0.283866822719574, 0.304408997297287, 0.3373883366584778, 0.38504454493522644, 0.4341053068637848, 0.47389712929725647, 0.508145272731781, 0.5424915552139282, 0.5783489346504211, 0.6132330298423767, 0.644416093826294, 0.6756908297538757, 0.7069770693778992], [0.9787206053733826, 0.7437671422958374, 0.5319429636001587, 0.4073759615421295, 0.35012707114219666, 0.3203573226928711, 0.33997976779937744, 0.36886468529701233, 0.4054602086544037, 0.45440053939819336, 0.5034468770027161, 0.5524932742118835, 0.5888141393661499, 0.6240480542182922, 0.6598910689353943, 0.6957339644432068, 0.7315743565559387, 0.7658589482307434, 0.7978982329368591, 0.8280633091926575]]}, {\"marker\": {\"color\": [0.7963289218726609, 0.95, 0.8374708388010617, 0.7731047938634492, 0.2100838187468362, 0.4710397198901133, 0.7243163094450482, 0.6606796531188589, 0.6419841678995071, 0.47941613448851245, 0.41165745068563425, 0.2476853629404794, 0.3613400127865251, 0.45067600214602677, 0.41958416635903906, 0.21746291791063213, 0.5040498995285058, 0.504773384885581, 0.5022639721258529, 0.48851458236007833, 0.32924930572590644, 0.44800701419191535, 0.4317484959939039, 0.19695851301433911, 0.22414477485627474, 0.3463033691212989, 0.4095506663031099, 0.3771521991725676, 0.28509793226393076, 0.10534091075258313, 0.11221824540931948, 0.37630007916845437, 0.37452877175700927, 0.37093144018138735, 0.2283592317762059, 0.12916008945763557, 0.09513764047344998, 0.23690485519414214, 0.3508328957155223, 0.32386870199679363, 0.3342656867888549, 0.3238134606942762, 0.16591198481823763, 0.25182772029704825, 0.08341993225071011, 0.09751867333235635, 0.14131572251465765, 0.3027998218782933, 0.3218053605832753, 0.30082225701146814, 0.20883523696738804, 0.12196896250668506, 0.26558076377893425, 0.3198371404982752, 0.3185762928253492, 0.31676511951795505, 0.3020145879755322, 0.2960072324921016, 0.23711440191764752, 0.18003007783546893, 0.13585328650527365, 0.31893794260881425, 0.32741166846664543, 0.31280638526438004, 0.21361801273747638, 0.1384159968492536, 0.08195447923875288, 0.3173592788606252, 0.24916165839694304, 0.1427556904623841, 0.1048253785814643, 0.09581493045898555, 0.11382370327317366, 0.29931994329325445, 0.35159660712388946, 0.3304414955277893, 0.24481972388563775, 0.13445925829806166, 0.17439093980468798, 0.3568813865606345, 0.29949269221570385, 0.38755466924367227, 0.3577681261181445, 0.25340843026037674, 0.19939731000214436, 0.32226555936573753, 0.36271695194167075, 0.41047939777792586, 0.41046753956235843, 0.37800746116329864, 0.3028000779559857, 0.2299021955736589, 0.12342375301307147, 0.21534894988858305, 0.45943583074134203, 0.4591114705293844, 0.3568315882397822, 0.21465991615952637, 0.11615634251866201, 0.12592037168727904, 0.48592944462834625, 0.48352768045984823, 0.478883419394282, 0.4751571060303649, 0.3946655134073982, 0.3169670968372219, 0.22698468605808836, 0.13315013136646284, 0.3058511488565124, 0.3394578794758633, 0.45369184881681607, 0.2873960363312139, 0.21687318326811375, 0.13198313862356453, 0.25444443974364866, 0.5403105357101123, 0.5381471337854108, 0.5329782553902612, 0.1855855602628826, 0.26818185934380784, 0.5366341738891165, 0.5659656220006253, 0.5605295483094423, 0.2919316146661785, 0.14629985811591067, 0.24783609379239013, 0.5039895842176705, 0.1576428383106277, 0.29591585207402427, 0.33483624054663913, 0.6154656475973453, 0.5274448480659834, 0.3789036119484683, 0.2721258895699153, 0.648677173424424, 0.4809031864608978, 0.18493096275209575, 0.2492434618488904, 0.4103149969411732, 0.45540014905793363, 0.6321143036732222, 0.6726918360366193, 0.663662814068564, 0.6250359904036967, 0.5512383628900841, 0.21064243309346548, 0.29573729773324847, 0.5630115104346897, 0.6014715327709574, 0.6336817976294686, 0.7041301908209088, 0.6731954024710819, 0.6156233365140265, 0.19993626567793182, 0.17637548731241537, 0.23751503099835655, 0.3954605387254439, 0.6834040740243644, 0.7298455756832299, 0.719432935269202, 0.5385312323080607, 0.44290975262770294, 0.27811233250437645, 0.21950967204135485, 0.7243678236068333, 0.7542810213297924, 0.7475725044346073, 0.6370161689031669, 0.5856744975773706, 0.4747418682439142, 0.7313676753388335, 0.32857943894256836, 0.29616758202164034, 0.22053633021956728, 0.5564863486072538, 0.37340392604018513, 0.20561628882456826, 0.3056319993305796, 0.793706863751425, 0.7552453487629456, 0.3466218101613633, 0.2072916558123502, 0.22471646215417804, 0.3573461720572264, 0.8018544020429924, 0.7090006511537061, 0.43087968153772316, 0.3921391058854304, 0.21008381874683618, 0.2524275442536908, 0.5864479743332263, 0.6431635166047076, 0.8554452534710889, 0.8450763043571082, 0.6658478767039009, 0.5202604976296853, 0.21674777844995574, 0.32785561360126153, 0.23951617934061184, 0.3342025477554307, 0.7746367161665838, 0.8741360237947211, 0.8884240416153631, 0.7510339928767338, 0.6560046789616308, 0.26739279599309973, 0.8898490735766664, 0.7333574879715831, 0.6660961636154645, 0.6307720571156268, 0.8001867831671221, 0.8948491378590934, 0.4274734567756147, 0.2353898811009079, 0.8699276975065906, 0.45910550213432394, 0.519489440229377, 0.8977411526561268, 0.9304334163472624, 0.9049629617607762, 0.3575036323323012, 0.46367498389598366, 0.5246599239449228, 0.5885374112474016, 0.9428169867066626, 0.5280549923854406, 0.39847789343645873, 0.2583349917248565, 0.2834880667184344, 0.7820754526534869, 0.9490592246702769, 0.9280199823878809, 0.26005289828866074, 0.4706193787311008, 0.805611084062272, 0.24535651223506413, 0.95, 0.5807980185279384, 0.36469526960834386, 0.9453979567427928, 0.916298087276931, 0.6678163561382314, 0.6257473814475161, 0.24675164289142357, 0.901998549114212, 0.7081672707847128, 0.4484169585194513, 0.32942000003132704, 0.8507271491817123, 0.95], \"opacity\": 0.8, \"size\": 5}, \"mode\": \"markers\", \"type\": \"scatter3d\", \"x\": [0.05, 0.05, 0.05, 0.05, 0.05, 0.05, 0.05, 0.05, 0.05, 0.05, 0.05, 0.05, 0.061224489795918366, 0.061224489795918366, 0.08163265306122448, 0.08163265306122448, 0.08163265306122448, 0.1020408163265306, 0.1020408163265306, 0.1020408163265306, 0.1020408163265306, 0.12244897959183673, 0.12244897959183673, 0.12244897959183673, 0.12244897959183673, 0.12244897959183673, 0.14285714285714285, 0.14285714285714285, 0.14285714285714285, 0.14285714285714285, 0.14285714285714285, 0.16326530612244897, 0.16326530612244897, 0.16326530612244897, 0.16326530612244897, 0.16326530612244897, 0.16326530612244897, 0.16326530612244897, 0.18367346938775508, 0.18367346938775508, 0.2040816326530612, 0.2040816326530612, 0.2040816326530612, 0.22448979591836732, 0.22448979591836732, 0.22448979591836732, 0.22448979591836732, 0.22448979591836732, 0.22448979591836732, 0.24489795918367346, 0.24489795918367346, 0.24489795918367346, 0.24489795918367346, 0.26530612244897955, 0.26530612244897955, 0.26530612244897955, 0.26530612244897955, 0.26530612244897955, 0.26530612244897955, 0.26530612244897955, 0.26530612244897955, 0.26530612244897955, 0.2857142857142857, 0.2857142857142857, 0.2857142857142857, 0.2857142857142857, 0.2857142857142857, 0.3061224489795918, 0.3061224489795918, 0.3061224489795918, 0.3061224489795918, 0.3061224489795918, 0.3061224489795918, 0.3061224489795918, 0.32653061224489793, 0.32653061224489793, 0.32653061224489793, 0.32653061224489793, 0.32653061224489793, 0.3469387755102041, 0.3469387755102041, 0.36734693877551017, 0.36734693877551017, 0.36734693877551017, 0.36734693877551017, 0.36734693877551017, 0.36734693877551017, 0.3877551020408163, 0.3877551020408163, 0.3877551020408163, 0.3877551020408163, 0.3877551020408163, 0.3877551020408163, 0.4081632653061224, 0.42857142857142855, 0.42857142857142855, 0.42857142857142855, 0.42857142857142855, 0.42857142857142855, 0.42857142857142855, 0.44897959183673464, 0.44897959183673464, 0.44897959183673464, 0.44897959183673464, 0.44897959183673464, 0.44897959183673464, 0.44897959183673464, 0.44897959183673464, 0.44897959183673464, 0.44897959183673464, 0.44897959183673464, 0.4693877551020408, 0.4693877551020408, 0.4693877551020408, 0.4693877551020408, 0.4897959183673469, 0.4897959183673469, 0.4897959183673469, 0.4897959183673469, 0.4897959183673469, 0.4897959183673469, 0.5102040816326531, 0.5102040816326531, 0.5102040816326531, 0.5102040816326531, 0.5102040816326531, 0.5306122448979591, 0.5306122448979591, 0.5306122448979591, 0.5306122448979591, 0.5510204081632653, 0.5510204081632653, 0.5510204081632653, 0.5510204081632653, 0.5714285714285714, 0.5714285714285714, 0.5714285714285714, 0.5714285714285714, 0.5714285714285714, 0.5714285714285714, 0.5714285714285714, 0.5918367346938775, 0.5918367346938775, 0.5918367346938775, 0.5918367346938775, 0.5918367346938775, 0.5918367346938775, 0.5918367346938775, 0.5918367346938775, 0.5918367346938775, 0.6122448979591836, 0.6122448979591836, 0.6122448979591836, 0.6122448979591836, 0.6122448979591836, 0.6122448979591836, 0.6122448979591836, 0.6122448979591836, 0.6326530612244897, 0.6326530612244897, 0.6326530612244897, 0.6326530612244897, 0.6326530612244897, 0.6326530612244897, 0.6326530612244897, 0.6530612244897959, 0.6530612244897959, 0.6530612244897959, 0.6530612244897959, 0.6530612244897959, 0.6530612244897959, 0.673469387755102, 0.673469387755102, 0.673469387755102, 0.6938775510204082, 0.6938775510204082, 0.6938775510204082, 0.6938775510204082, 0.7142857142857142, 0.7142857142857142, 0.7142857142857142, 0.7142857142857142, 0.7142857142857142, 0.7142857142857142, 0.7346938775510203, 0.7346938775510203, 0.7346938775510203, 0.7346938775510203, 0.7346938775510203, 0.7346938775510203, 0.7346938775510203, 0.7346938775510203, 0.7551020408163265, 0.7551020408163265, 0.7551020408163265, 0.7551020408163265, 0.7551020408163265, 0.7551020408163265, 0.7755102040816326, 0.7755102040816326, 0.7755102040816326, 0.7755102040816326, 0.7959183673469387, 0.7959183673469387, 0.7959183673469387, 0.7959183673469387, 0.8163265306122448, 0.8163265306122448, 0.8163265306122448, 0.8163265306122448, 0.8163265306122448, 0.836734693877551, 0.836734693877551, 0.836734693877551, 0.8571428571428571, 0.8571428571428571, 0.8571428571428571, 0.8571428571428571, 0.8775510204081632, 0.8775510204081632, 0.8775510204081632, 0.8775510204081632, 0.8775510204081632, 0.8775510204081632, 0.8979591836734693, 0.8979591836734693, 0.8979591836734693, 0.8979591836734693, 0.8979591836734693, 0.8979591836734693, 0.9183673469387754, 0.9183673469387754, 0.9183673469387754, 0.9183673469387754, 0.9387755102040816, 0.9387755102040816, 0.95, 0.95, 0.95, 0.95, 0.95, 0.95, 0.95, 0.95, 0.95, 0.95, 0.95, 0.95, 0.95, 0.95], \"y\": [0.8979591836734693, 0.95, 0.08163265306122448, 0.24489795918367346, 0.6530612244897959, 0.8163265306122448, 0.14285714285714285, 0.26530612244897955, 0.2857142857142857, 0.4081632653061224, 0.44897959183673464, 0.7346938775510203, 0.44897959183673464, 0.8571428571428571, 0.36734693877551017, 0.7551020408163265, 0.9183673469387754, 0.05, 0.1020408163265306, 0.18367346938775508, 0.4081632653061224, 0.12244897959183673, 0.2040816326530612, 0.7755102040816326, 0.7959183673469387, 0.8775510204081632, 0.05, 0.24489795918367346, 0.3877551020408163, 0.673469387755102, 0.6938775510204082, 0.05, 0.1020408163265306, 0.14285714285714285, 0.42857142857142855, 0.5510204081632653, 0.6326530612244897, 0.836734693877551, 0.08163265306122448, 0.24489795918367346, 0.061224489795918366, 0.18367346938775508, 0.7959183673469387, 0.3469387755102041, 0.673469387755102, 0.7142857142857142, 0.7755102040816326, 0.9387755102040816, 0.95, 0.22448979591836732, 0.4081632653061224, 0.5306122448979591, 0.8979591836734693, 0.1020408163265306, 0.12244897959183673, 0.14285714285714285, 0.22448979591836732, 0.24489795918367346, 0.36734693877551017, 0.44897959183673464, 0.5102040816326531, 0.95, 0.05, 0.2040816326530612, 0.4081632653061224, 0.5102040816326531, 0.6530612244897959, 0.22448979591836732, 0.36734693877551017, 0.5102040816326531, 0.5714285714285714, 0.5918367346938775, 0.7346938775510203, 0.9183673469387754, 0.05, 0.22448979591836732, 0.3877551020408163, 0.7551020408163265, 0.7959183673469387, 0.18367346938775508, 0.32653061224489793, 0.08163265306122448, 0.24489795918367346, 0.4081632653061224, 0.4693877551020408, 0.8979591836734693, 0.9387755102040816, 0.05, 0.05, 0.24489795918367346, 0.36734693877551017, 0.44897959183673464, 0.7142857142857142, 0.7959183673469387, 0.05, 0.061224489795918366, 0.3469387755102041, 0.4897959183673469, 0.6326530612244897, 0.6938775510204082, 0.05, 0.1020408163265306, 0.14285714285714285, 0.16326530612244897, 0.32653061224489793, 0.4081632653061224, 0.4897959183673469, 0.6938775510204082, 0.836734693877551, 0.8571428571428571, 0.9387755102040816, 0.44897959183673464, 0.5102040816326531, 0.673469387755102, 0.7959183673469387, 0.061224489795918366, 0.1020408163265306, 0.14285714285714285, 0.5510204081632653, 0.7959183673469387, 0.95, 0.1020408163265306, 0.14285714285714285, 0.4693877551020408, 0.673469387755102, 0.7755102040816326, 0.3061224489795918, 0.6122448979591836, 0.7959183673469387, 0.8163265306122448, 0.14285714285714285, 0.3061224489795918, 0.42857142857142855, 0.7755102040816326, 0.1020408163265306, 0.36734693877551017, 0.5918367346938775, 0.7551020408163265, 0.836734693877551, 0.8571428571428571, 0.95, 0.12244897959183673, 0.16326530612244897, 0.24489795918367346, 0.32653061224489793, 0.5714285714285714, 0.7755102040816326, 0.8979591836734693, 0.9183673469387754, 0.9387755102040816, 0.061224489795918366, 0.2040816326530612, 0.2857142857142857, 0.5918367346938775, 0.6530612244897959, 0.7346938775510203, 0.8163265306122448, 0.95, 0.05, 0.14285714285714285, 0.36734693877551017, 0.42857142857142855, 0.5306122448979591, 0.7142857142857142, 0.95, 0.05, 0.12244897959183673, 0.3061224489795918, 0.3469387755102041, 0.836734693877551, 0.95, 0.5102040816326531, 0.5306122448979591, 0.5918367346938775, 0.3877551020408163, 0.4897959183673469, 0.673469387755102, 0.7551020408163265, 0.18367346938775508, 0.24489795918367346, 0.5102040816326531, 0.6326530612244897, 0.6938775510204082, 0.7755102040816326, 0.2040816326530612, 0.3061224489795918, 0.4693877551020408, 0.4897959183673469, 0.6530612244897959, 0.7142857142857142, 0.8571428571428571, 0.8775510204081632, 0.08163265306122448, 0.14285714285714285, 0.3469387755102041, 0.42857142857142855, 0.6326530612244897, 0.7551020408163265, 0.6938775510204082, 0.7551020408163265, 0.9183673469387754, 0.95, 0.061224489795918366, 0.3061224489795918, 0.36734693877551017, 0.7142857142857142, 0.14285714285714285, 0.32653061224489793, 0.36734693877551017, 0.8571428571428571, 0.9183673469387754, 0.16326530612244897, 0.4897959183673469, 0.673469387755102, 0.22448979591836732, 0.7959183673469387, 0.8163265306122448, 0.95, 0.1020408163265306, 0.18367346938775508, 0.7551020408163265, 0.7959183673469387, 0.8163265306122448, 0.836734693877551, 0.05, 0.44897959183673464, 0.5102040816326531, 0.6938775510204082, 0.7142857142857142, 0.8979591836734693, 0.05, 0.16326530612244897, 0.6938775510204082, 0.7959183673469387, 0.3061224489795918, 0.673469387755102, 0.08163265306122448, 0.42857142857142855, 0.5306122448979591, 0.14285714285714285, 0.2040816326530612, 0.3877551020408163, 0.4081632653061224, 0.673469387755102, 0.22448979591836732, 0.36734693877551017, 0.4897959183673469, 0.5510204081632653, 0.9183673469387754, 0.95], \"z\": [0.7963289218726609, 0.95, 0.8374708388010617, 0.7731047938634492, 0.2100838187468362, 0.4710397198901133, 0.7243163094450482, 0.6606796531188589, 0.6419841678995071, 0.47941613448851245, 0.41165745068563425, 0.2476853629404794, 0.3613400127865251, 0.45067600214602677, 0.41958416635903906, 0.21746291791063213, 0.5040498995285058, 0.504773384885581, 0.5022639721258529, 0.48851458236007833, 0.32924930572590644, 0.44800701419191535, 0.4317484959939039, 0.19695851301433911, 0.22414477485627474, 0.3463033691212989, 0.4095506663031099, 0.3771521991725676, 0.28509793226393076, 0.10534091075258313, 0.11221824540931948, 0.37630007916845437, 0.37452877175700927, 0.37093144018138735, 0.2283592317762059, 0.12916008945763557, 0.09513764047344998, 0.23690485519414214, 0.3508328957155223, 0.32386870199679363, 0.3342656867888549, 0.3238134606942762, 0.16591198481823763, 0.25182772029704825, 0.08341993225071011, 0.09751867333235635, 0.14131572251465765, 0.3027998218782933, 0.3218053605832753, 0.30082225701146814, 0.20883523696738804, 0.12196896250668506, 0.26558076377893425, 0.3198371404982752, 0.3185762928253492, 0.31676511951795505, 0.3020145879755322, 0.2960072324921016, 0.23711440191764752, 0.18003007783546893, 0.13585328650527365, 0.31893794260881425, 0.32741166846664543, 0.31280638526438004, 0.21361801273747638, 0.1384159968492536, 0.08195447923875288, 0.3173592788606252, 0.24916165839694304, 0.1427556904623841, 0.1048253785814643, 0.09581493045898555, 0.11382370327317366, 0.29931994329325445, 0.35159660712388946, 0.3304414955277893, 0.24481972388563775, 0.13445925829806166, 0.17439093980468798, 0.3568813865606345, 0.29949269221570385, 0.38755466924367227, 0.3577681261181445, 0.25340843026037674, 0.19939731000214436, 0.32226555936573753, 0.36271695194167075, 0.41047939777792586, 0.41046753956235843, 0.37800746116329864, 0.3028000779559857, 0.2299021955736589, 0.12342375301307147, 0.21534894988858305, 0.45943583074134203, 0.4591114705293844, 0.3568315882397822, 0.21465991615952637, 0.11615634251866201, 0.12592037168727904, 0.48592944462834625, 0.48352768045984823, 0.478883419394282, 0.4751571060303649, 0.3946655134073982, 0.3169670968372219, 0.22698468605808836, 0.13315013136646284, 0.3058511488565124, 0.3394578794758633, 0.45369184881681607, 0.2873960363312139, 0.21687318326811375, 0.13198313862356453, 0.25444443974364866, 0.5403105357101123, 0.5381471337854108, 0.5329782553902612, 0.1855855602628826, 0.26818185934380784, 0.5366341738891165, 0.5659656220006253, 0.5605295483094423, 0.2919316146661785, 0.14629985811591067, 0.24783609379239013, 0.5039895842176705, 0.1576428383106277, 0.29591585207402427, 0.33483624054663913, 0.6154656475973453, 0.5274448480659834, 0.3789036119484683, 0.2721258895699153, 0.648677173424424, 0.4809031864608978, 0.18493096275209575, 0.2492434618488904, 0.4103149969411732, 0.45540014905793363, 0.6321143036732222, 0.6726918360366193, 0.663662814068564, 0.6250359904036967, 0.5512383628900841, 0.21064243309346548, 0.29573729773324847, 0.5630115104346897, 0.6014715327709574, 0.6336817976294686, 0.7041301908209088, 0.6731954024710819, 0.6156233365140265, 0.19993626567793182, 0.17637548731241537, 0.23751503099835655, 0.3954605387254439, 0.6834040740243644, 0.7298455756832299, 0.719432935269202, 0.5385312323080607, 0.44290975262770294, 0.27811233250437645, 0.21950967204135485, 0.7243678236068333, 0.7542810213297924, 0.7475725044346073, 0.6370161689031669, 0.5856744975773706, 0.4747418682439142, 0.7313676753388335, 0.32857943894256836, 0.29616758202164034, 0.22053633021956728, 0.5564863486072538, 0.37340392604018513, 0.20561628882456826, 0.3056319993305796, 0.793706863751425, 0.7552453487629456, 0.3466218101613633, 0.2072916558123502, 0.22471646215417804, 0.3573461720572264, 0.8018544020429924, 0.7090006511537061, 0.43087968153772316, 0.3921391058854304, 0.21008381874683618, 0.2524275442536908, 0.5864479743332263, 0.6431635166047076, 0.8554452534710889, 0.8450763043571082, 0.6658478767039009, 0.5202604976296853, 0.21674777844995574, 0.32785561360126153, 0.23951617934061184, 0.3342025477554307, 0.7746367161665838, 0.8741360237947211, 0.8884240416153631, 0.7510339928767338, 0.6560046789616308, 0.26739279599309973, 0.8898490735766664, 0.7333574879715831, 0.6660961636154645, 0.6307720571156268, 0.8001867831671221, 0.8948491378590934, 0.4274734567756147, 0.2353898811009079, 0.8699276975065906, 0.45910550213432394, 0.519489440229377, 0.8977411526561268, 0.9304334163472624, 0.9049629617607762, 0.3575036323323012, 0.46367498389598366, 0.5246599239449228, 0.5885374112474016, 0.9428169867066626, 0.5280549923854406, 0.39847789343645873, 0.2583349917248565, 0.2834880667184344, 0.7820754526534869, 0.9490592246702769, 0.9280199823878809, 0.26005289828866074, 0.4706193787311008, 0.805611084062272, 0.24535651223506413, 0.95, 0.5807980185279384, 0.36469526960834386, 0.9453979567427928, 0.916298087276931, 0.6678163561382314, 0.6257473814475161, 0.24675164289142357, 0.901998549114212, 0.7081672707847128, 0.4484169585194513, 0.32942000003132704, 0.8507271491817123, 0.95]}],\n",
              "                        {\"autosize\": false, \"height\": 500, \"margin\": {\"b\": 25, \"l\": 20, \"r\": 20, \"t\": 20}, \"scene\": {\"xaxis\": {\"title\": {\"text\": \"calories\"}}, \"yaxis\": {\"title\": {\"text\": \"exercise\"}}, \"zaxis\": {\"title\": {\"text\": \"risk of death!\"}}}, \"template\": {\"data\": {\"bar\": [{\"error_x\": {\"color\": \"#2a3f5f\"}, \"error_y\": {\"color\": \"#2a3f5f\"}, \"marker\": {\"line\": {\"color\": \"#E5ECF6\", \"width\": 0.5}}, \"type\": \"bar\"}], \"barpolar\": [{\"marker\": {\"line\": {\"color\": \"#E5ECF6\", \"width\": 0.5}}, \"type\": \"barpolar\"}], \"carpet\": [{\"aaxis\": {\"endlinecolor\": \"#2a3f5f\", \"gridcolor\": \"white\", \"linecolor\": \"white\", \"minorgridcolor\": \"white\", \"startlinecolor\": \"#2a3f5f\"}, \"baxis\": {\"endlinecolor\": \"#2a3f5f\", \"gridcolor\": \"white\", \"linecolor\": \"white\", \"minorgridcolor\": \"white\", \"startlinecolor\": \"#2a3f5f\"}, \"type\": \"carpet\"}], \"choropleth\": [{\"colorbar\": {\"outlinewidth\": 0, \"ticks\": \"\"}, \"type\": \"choropleth\"}], \"contour\": [{\"colorbar\": {\"outlinewidth\": 0, \"ticks\": \"\"}, \"colorscale\": [[0.0, \"#0d0887\"], [0.1111111111111111, \"#46039f\"], [0.2222222222222222, \"#7201a8\"], [0.3333333333333333, \"#9c179e\"], [0.4444444444444444, \"#bd3786\"], [0.5555555555555556, \"#d8576b\"], [0.6666666666666666, \"#ed7953\"], [0.7777777777777778, \"#fb9f3a\"], [0.8888888888888888, \"#fdca26\"], [1.0, \"#f0f921\"]], \"type\": \"contour\"}], \"contourcarpet\": [{\"colorbar\": {\"outlinewidth\": 0, \"ticks\": \"\"}, \"type\": \"contourcarpet\"}], \"heatmap\": [{\"colorbar\": {\"outlinewidth\": 0, \"ticks\": \"\"}, \"colorscale\": [[0.0, \"#0d0887\"], [0.1111111111111111, \"#46039f\"], [0.2222222222222222, \"#7201a8\"], [0.3333333333333333, \"#9c179e\"], [0.4444444444444444, \"#bd3786\"], [0.5555555555555556, \"#d8576b\"], [0.6666666666666666, \"#ed7953\"], [0.7777777777777778, \"#fb9f3a\"], [0.8888888888888888, \"#fdca26\"], [1.0, \"#f0f921\"]], \"type\": \"heatmap\"}], \"heatmapgl\": [{\"colorbar\": {\"outlinewidth\": 0, \"ticks\": \"\"}, \"colorscale\": [[0.0, \"#0d0887\"], [0.1111111111111111, \"#46039f\"], [0.2222222222222222, \"#7201a8\"], [0.3333333333333333, \"#9c179e\"], [0.4444444444444444, \"#bd3786\"], [0.5555555555555556, \"#d8576b\"], [0.6666666666666666, \"#ed7953\"], [0.7777777777777778, \"#fb9f3a\"], [0.8888888888888888, \"#fdca26\"], [1.0, \"#f0f921\"]], \"type\": \"heatmapgl\"}], \"histogram\": [{\"marker\": {\"colorbar\": {\"outlinewidth\": 0, \"ticks\": \"\"}}, \"type\": \"histogram\"}], \"histogram2d\": [{\"colorbar\": {\"outlinewidth\": 0, \"ticks\": \"\"}, \"colorscale\": [[0.0, \"#0d0887\"], [0.1111111111111111, \"#46039f\"], [0.2222222222222222, \"#7201a8\"], [0.3333333333333333, \"#9c179e\"], [0.4444444444444444, \"#bd3786\"], [0.5555555555555556, \"#d8576b\"], [0.6666666666666666, \"#ed7953\"], [0.7777777777777778, \"#fb9f3a\"], [0.8888888888888888, \"#fdca26\"], [1.0, \"#f0f921\"]], \"type\": \"histogram2d\"}], \"histogram2dcontour\": [{\"colorbar\": {\"outlinewidth\": 0, \"ticks\": \"\"}, \"colorscale\": [[0.0, \"#0d0887\"], [0.1111111111111111, \"#46039f\"], [0.2222222222222222, \"#7201a8\"], [0.3333333333333333, \"#9c179e\"], [0.4444444444444444, \"#bd3786\"], [0.5555555555555556, \"#d8576b\"], [0.6666666666666666, \"#ed7953\"], [0.7777777777777778, \"#fb9f3a\"], [0.8888888888888888, \"#fdca26\"], [1.0, \"#f0f921\"]], \"type\": \"histogram2dcontour\"}], \"mesh3d\": [{\"colorbar\": {\"outlinewidth\": 0, \"ticks\": \"\"}, \"type\": \"mesh3d\"}], \"parcoords\": [{\"line\": {\"colorbar\": {\"outlinewidth\": 0, \"ticks\": \"\"}}, \"type\": \"parcoords\"}], \"pie\": [{\"automargin\": true, \"type\": \"pie\"}], \"scatter\": [{\"marker\": {\"colorbar\": {\"outlinewidth\": 0, \"ticks\": \"\"}}, \"type\": \"scatter\"}], \"scatter3d\": [{\"line\": {\"colorbar\": {\"outlinewidth\": 0, \"ticks\": \"\"}}, \"marker\": {\"colorbar\": {\"outlinewidth\": 0, \"ticks\": \"\"}}, \"type\": \"scatter3d\"}], \"scattercarpet\": [{\"marker\": {\"colorbar\": {\"outlinewidth\": 0, \"ticks\": \"\"}}, \"type\": \"scattercarpet\"}], \"scattergeo\": [{\"marker\": {\"colorbar\": {\"outlinewidth\": 0, \"ticks\": \"\"}}, \"type\": \"scattergeo\"}], \"scattergl\": [{\"marker\": {\"colorbar\": {\"outlinewidth\": 0, \"ticks\": \"\"}}, \"type\": \"scattergl\"}], \"scattermapbox\": [{\"marker\": {\"colorbar\": {\"outlinewidth\": 0, \"ticks\": \"\"}}, \"type\": \"scattermapbox\"}], \"scatterpolar\": [{\"marker\": {\"colorbar\": {\"outlinewidth\": 0, \"ticks\": \"\"}}, \"type\": \"scatterpolar\"}], \"scatterpolargl\": [{\"marker\": {\"colorbar\": {\"outlinewidth\": 0, \"ticks\": \"\"}}, \"type\": \"scatterpolargl\"}], \"scatterternary\": [{\"marker\": {\"colorbar\": {\"outlinewidth\": 0, \"ticks\": \"\"}}, \"type\": \"scatterternary\"}], \"surface\": [{\"colorbar\": {\"outlinewidth\": 0, \"ticks\": \"\"}, \"colorscale\": [[0.0, \"#0d0887\"], [0.1111111111111111, \"#46039f\"], [0.2222222222222222, \"#7201a8\"], [0.3333333333333333, \"#9c179e\"], [0.4444444444444444, \"#bd3786\"], [0.5555555555555556, \"#d8576b\"], [0.6666666666666666, \"#ed7953\"], [0.7777777777777778, \"#fb9f3a\"], [0.8888888888888888, \"#fdca26\"], [1.0, \"#f0f921\"]], \"type\": \"surface\"}], \"table\": [{\"cells\": {\"fill\": {\"color\": \"#EBF0F8\"}, \"line\": {\"color\": \"white\"}}, \"header\": {\"fill\": {\"color\": \"#C8D4E3\"}, \"line\": {\"color\": \"white\"}}, \"type\": \"table\"}]}, \"layout\": {\"annotationdefaults\": {\"arrowcolor\": \"#2a3f5f\", \"arrowhead\": 0, \"arrowwidth\": 1}, \"coloraxis\": {\"colorbar\": {\"outlinewidth\": 0, \"ticks\": \"\"}}, \"colorscale\": {\"diverging\": [[0, \"#8e0152\"], [0.1, \"#c51b7d\"], [0.2, \"#de77ae\"], [0.3, \"#f1b6da\"], [0.4, \"#fde0ef\"], [0.5, \"#f7f7f7\"], [0.6, \"#e6f5d0\"], [0.7, \"#b8e186\"], [0.8, \"#7fbc41\"], [0.9, \"#4d9221\"], [1, \"#276419\"]], \"sequential\": [[0.0, \"#0d0887\"], [0.1111111111111111, \"#46039f\"], [0.2222222222222222, \"#7201a8\"], [0.3333333333333333, \"#9c179e\"], [0.4444444444444444, \"#bd3786\"], [0.5555555555555556, \"#d8576b\"], [0.6666666666666666, \"#ed7953\"], [0.7777777777777778, \"#fb9f3a\"], [0.8888888888888888, \"#fdca26\"], [1.0, \"#f0f921\"]], \"sequentialminus\": [[0.0, \"#0d0887\"], [0.1111111111111111, \"#46039f\"], [0.2222222222222222, \"#7201a8\"], [0.3333333333333333, \"#9c179e\"], [0.4444444444444444, \"#bd3786\"], [0.5555555555555556, \"#d8576b\"], [0.6666666666666666, \"#ed7953\"], [0.7777777777777778, \"#fb9f3a\"], [0.8888888888888888, \"#fdca26\"], [1.0, \"#f0f921\"]]}, \"colorway\": [\"#636efa\", \"#EF553B\", \"#00cc96\", \"#ab63fa\", \"#FFA15A\", \"#19d3f3\", \"#FF6692\", \"#B6E880\", \"#FF97FF\", \"#FECB52\"], \"font\": {\"color\": \"#2a3f5f\"}, \"geo\": {\"bgcolor\": \"white\", \"lakecolor\": \"white\", \"landcolor\": \"#E5ECF6\", \"showlakes\": true, \"showland\": true, \"subunitcolor\": \"white\"}, \"hoverlabel\": {\"align\": \"left\"}, \"hovermode\": \"closest\", \"mapbox\": {\"style\": \"light\"}, \"paper_bgcolor\": \"white\", \"plot_bgcolor\": \"#E5ECF6\", \"polar\": {\"angularaxis\": {\"gridcolor\": \"white\", \"linecolor\": \"white\", \"ticks\": \"\"}, \"bgcolor\": \"#E5ECF6\", \"radialaxis\": {\"gridcolor\": \"white\", \"linecolor\": \"white\", \"ticks\": \"\"}}, \"scene\": {\"xaxis\": {\"backgroundcolor\": \"#E5ECF6\", \"gridcolor\": \"white\", \"gridwidth\": 2, \"linecolor\": \"white\", \"showbackground\": true, \"ticks\": \"\", \"zerolinecolor\": \"white\"}, \"yaxis\": {\"backgroundcolor\": \"#E5ECF6\", \"gridcolor\": \"white\", \"gridwidth\": 2, \"linecolor\": \"white\", \"showbackground\": true, \"ticks\": \"\", \"zerolinecolor\": \"white\"}, \"zaxis\": {\"backgroundcolor\": \"#E5ECF6\", \"gridcolor\": \"white\", \"gridwidth\": 2, \"linecolor\": \"white\", \"showbackground\": true, \"ticks\": \"\", \"zerolinecolor\": \"white\"}}, \"shapedefaults\": {\"line\": {\"color\": \"#2a3f5f\"}}, \"ternary\": {\"aaxis\": {\"gridcolor\": \"white\", \"linecolor\": \"white\", \"ticks\": \"\"}, \"baxis\": {\"gridcolor\": \"white\", \"linecolor\": \"white\", \"ticks\": \"\"}, \"bgcolor\": \"#E5ECF6\", \"caxis\": {\"gridcolor\": \"white\", \"linecolor\": \"white\", \"ticks\": \"\"}}, \"title\": {\"x\": 0.05}, \"xaxis\": {\"automargin\": true, \"gridcolor\": \"white\", \"linecolor\": \"white\", \"ticks\": \"\", \"title\": {\"standoff\": 15}, \"zerolinecolor\": \"white\", \"zerolinewidth\": 2}, \"yaxis\": {\"automargin\": true, \"gridcolor\": \"white\", \"linecolor\": \"white\", \"ticks\": \"\", \"title\": {\"standoff\": 15}, \"zerolinecolor\": \"white\", \"zerolinewidth\": 2}}}, \"width\": 600},\n",
              "                        {\"responsive\": true}\n",
              "                    ).then(function(){\n",
              "                            \n",
              "var gd = document.getElementById('fb25cb92-6717-434f-9e9b-669ef090e97f');\n",
              "var x = new MutationObserver(function (mutations, observer) {{\n",
              "        var display = window.getComputedStyle(gd).display;\n",
              "        if (!display || display === 'none') {{\n",
              "            console.log([gd, 'removed!']);\n",
              "            Plotly.purge(gd);\n",
              "            observer.disconnect();\n",
              "        }}\n",
              "}});\n",
              "\n",
              "// Listen for the removal of the full notebook cells\n",
              "var notebookContainer = gd.closest('#notebook-container');\n",
              "if (notebookContainer) {{\n",
              "    x.observe(notebookContainer, {childList: true});\n",
              "}}\n",
              "\n",
              "// Listen for the clearing of the current output cell\n",
              "var outputEl = gd.closest('.output');\n",
              "if (outputEl) {{\n",
              "    x.observe(outputEl, {childList: true});\n",
              "}}\n",
              "\n",
              "                        })\n",
              "                };\n",
              "                \n",
              "            </script>\n",
              "        </div>\n",
              "</body>\n",
              "</html>"
            ]
          },
          "metadata": {}
        }
      ]
    },
    {
      "cell_type": "markdown",
      "metadata": {
        "id": "VUMsGDCZ46TW"
      },
      "source": [
        "Now it's still really blocky.  What if we went back and added lots more neurons?   \n",
        "\n",
        "\n",
        "## Exercise 1: Add more neurons to the hidden layer\n",
        "Try this yourself: Scroll up to the line `hidden_dim=15`, and change the 20 to something larger, such as 100, and re-train."
      ]
    },
    {
      "cell_type": "code",
      "metadata": {
        "id": "GDWJXYEInYPB"
      },
      "source": [
        "# Or you can run this code here and THEN scroll up and re-train \n",
        "\n",
        "hidden_dim=100  # how many neurons in the hidden layer\n",
        "\n",
        "torch.manual_seed(0)  # for reproducability \n",
        "net = Net(hidden_dim=hidden_dim, in_dim=df2.shape[1]-1)\n",
        "\n",
        "# now scroll up and re-train (\"Train the Model\"), and re-plot the surface...then come back here and keep reading"
      ],
      "execution_count": 65,
      "outputs": []
    },
    {
      "cell_type": "markdown",
      "metadata": {
        "id": "TuDV7uywnhb1"
      },
      "source": [
        "...then re-run all the code from that point up to the surface plot we just made.  Notice any difference?  \n",
        "* Is the surface more curvier than before?\n",
        "* Are the loss values lower than before?"
      ]
    },
    {
      "cell_type": "markdown",
      "metadata": {
        "id": "hrBYkqeAEsp0"
      },
      "source": [
        "## Exercise 2: Add more layers\n",
        "We can define a neural network in terms of a list of layers that feed into one another.  We'll just use a list `hidden_dims = [..,..,..]` to specify the number of neurons in each layer, and we'll put ReLUs on all of them except the output:"
      ]
    },
    {
      "cell_type": "code",
      "metadata": {
        "id": "LzgQwGzWr779"
      },
      "source": [
        "class Net2(nn.Module): \n",
        "    # every PyTorch model class needs an __init__() and a forward()\n",
        "    def __init__(self, \n",
        "        hidden_dims=[], # list of how many neurons in each hidden layers[] \n",
        "        in_dim=2,   # dimenisions of input \n",
        "        out_dim=1): # dimensions of output\n",
        "        super().__init__()    # you always need this super() call for class inheritance\n",
        "\n",
        "        self.activation = F.relu    # we'll use ReLU activations, but feel free to try others, see \"Non-linear activation functions\", https://pytorch.org/docs/stable/nn.functional.html\n",
        "\n",
        "        # below is where we define our layers, thereby \"allocating memory\" in a sense\n",
        "        self.layers = nn.ModuleList()                       # special kind of list [] for pytorch layers\n",
        "        self.layers.append ( nn.Linear(in_dim, hidden_dims[0]) )  # first hidden layer\n",
        "        for i in range(len(hidden_dims)-1):\n",
        "            self.layers.append( nn.Linear(hidden_dims[i], hidden_dims[i+1])  )\n",
        "        self.layers.append( nn.Linear(hidden_dims[-1], out_dim) )\n",
        " \n",
        "    # forward() is where the actual computation is performed, x is the input\n",
        "    def forward(self, x):           # for our raw, non-fastai-Tabular version\n",
        "        for i, layer in enumerate(self.layers):\n",
        "            x = layer(x)\n",
        "            if i < len(self.layers)-1: x = self.activation(x)    # do activations for all layers except the output           \n",
        "        return x   \n",
        "         \n",
        "# That was really a single-layer network: inputs, hidden, output\n",
        "\n",
        "hidden_dims=[40,40,40]  # how many neurons in the hidden layer\n",
        "\n",
        "torch.manual_seed(0)  # for reproducability \n",
        "net2 = Net2(hidden_dims=hidden_dims, in_dim=df2.shape[1]-1)"
      ],
      "execution_count": 57,
      "outputs": []
    },
    {
      "cell_type": "code",
      "metadata": {
        "colab": {
          "base_uri": "https://localhost:8080/",
          "height": 300
        },
        "id": "7Z38hQMGGkRO",
        "outputId": "99809d3c-cac0-49aa-a2df-50b1334ad2a1"
      },
      "source": [
        "learn = Learner(dls, net2, loss_func=nn.MSELoss(), opt_func=opt_func, cbs=WandbCallback())\n",
        "lr = learn.lr_find().valley\n",
        "print(\"Suggested LR = \",lr)"
      ],
      "execution_count": 58,
      "outputs": [
        {
          "output_type": "display_data",
          "data": {
            "text/html": [
              ""
            ],
            "text/plain": [
              "<IPython.core.display.HTML object>"
            ]
          },
          "metadata": {}
        },
        {
          "output_type": "stream",
          "name": "stdout",
          "text": [
            "Suggested LR =  0.009120108559727669\n"
          ]
        },
        {
          "output_type": "display_data",
          "data": {
            "image/png": "[encoded data removed]",
            "text/plain": [
              "<Figure size 432x288 with 1 Axes>"
            ]
          },
          "metadata": {
            "needs_background": "light"
          }
        }
      ]
    },
    {
      "cell_type": "code",
      "metadata": {
        "colab": {
          "base_uri": "https://localhost:8080/",
          "height": 1000,
          "referenced_widgets": [
            "c90673a05ade419d998221cdfb01624c",
            "a2cee5ac21ba4900a77e6b8e76e04b7a",
            "f1c2abea7673481cad95b65710627d8a",
            "73e4c6c5fea34cbd8a73e9f4ba4c0910",
            "f55dc4146fc2424a925644d1ca779292",
            "056de0e1a1a14c33bda1bbaf1ec26167",
            "7b11a5f3b88540d6a2b40886a34d1d3a",
            "843f55af712d442dbc8f7672aaec07a8"
          ]
        },
        "id": "0e9Aney7HYft",
        "outputId": "e6d3b71f-9830-4be4-932d-009653a3f85f"
      },
      "source": [
        "wandb.init(project=\"4_nnsfitcurves\")\n",
        "learn.fit(epochs, lr=lr)\n",
        "wandb.finish()"
      ],
      "execution_count": 59,
      "outputs": [
        {
          "output_type": "display_data",
          "data": {
            "text/html": [
              "Finishing last run (ID:331athjz) before initializing another..."
            ],
            "text/plain": [
              "<IPython.core.display.HTML object>"
            ]
          },
          "metadata": {}
        },
        {
          "output_type": "display_data",
          "data": {
            "text/html": [
              "<br/>Waiting for W&B process to finish, PID 1065<br/>Program ended successfully."
            ],
            "text/plain": [
              "<IPython.core.display.HTML object>"
            ]
          },
          "metadata": {}
        },
        {
          "output_type": "display_data",
          "data": {
            "application/vnd.jupyter.widget-view+json": {
              "model_id": "c90673a05ade419d998221cdfb01624c",
              "version_minor": 0,
              "version_major": 2
            },
            "text/plain": [
              "VBox(children=(Label(value=' 0.00MB of 0.00MB uploaded (0.00MB deduped)\\r'), FloatProgress(value=1.0, max=1.0)…"
            ]
          },
          "metadata": {}
        },
        {
          "output_type": "display_data",
          "data": {
            "text/html": [
              "Find user logs for this run at: <code>/content/wandb/run-20210908_042647-331athjz/logs/debug.log</code>"
            ],
            "text/plain": [
              "<IPython.core.display.HTML object>"
            ]
          },
          "metadata": {}
        },
        {
          "output_type": "display_data",
          "data": {
            "text/html": [
              "Find internal logs for this run at: <code>/content/wandb/run-20210908_042647-331athjz/logs/debug-internal.log</code>"
            ],
            "text/plain": [
              "<IPython.core.display.HTML object>"
            ]
          },
          "metadata": {}
        },
        {
          "output_type": "display_data",
          "data": {
            "text/html": [
              "<h3>Run summary:</h3><br/><style>\n",
              "    table.wandb td:nth-child(1) { padding: 0 10px; text-align: right }\n",
              "    </style><table class=\"wandb\">\n",
              "<tr><td>epoch</td><td>250</td></tr><tr><td>train_loss</td><td>0.00297</td></tr><tr><td>raw_loss</td><td>0.00364</td></tr><tr><td>lr_0</td><td>0.00525</td></tr><tr><td>mom_0</td><td>0.9</td></tr><tr><td>sqr_mom_0</td><td>0.999</td></tr><tr><td>eps_0</td><td>0.0</td></tr><tr><td>wd_0</td><td>0</td></tr><tr><td>amsgrad_0</td><td>False</td></tr><tr><td>lr_1</td><td>0.00525</td></tr><tr><td>mom_1</td><td>0.9</td></tr><tr><td>sqr_mom_1</td><td>0.999</td></tr><tr><td>eps_1</td><td>0.0</td></tr><tr><td>wd_1</td><td>0</td></tr><tr><td>amsgrad_1</td><td>False</td></tr><tr><td>lr_2</td><td>0.00525</td></tr><tr><td>mom_2</td><td>0.9</td></tr><tr><td>sqr_mom_2</td><td>0.999</td></tr><tr><td>eps_2</td><td>0.0</td></tr><tr><td>wd_2</td><td>0</td></tr><tr><td>amsgrad_2</td><td>False</td></tr><tr><td>lr_3</td><td>0.00525</td></tr><tr><td>mom_3</td><td>0.9</td></tr><tr><td>sqr_mom_3</td><td>0.999</td></tr><tr><td>eps_3</td><td>0.0</td></tr><tr><td>wd_3</td><td>0</td></tr><tr><td>amsgrad_3</td><td>False</td></tr><tr><td>_runtime</td><td>19</td></tr><tr><td>_timestamp</td><td>1631075229</td></tr><tr><td>_step</td><td>9999</td></tr><tr><td>valid_loss</td><td>0.00437</td></tr></table>"
            ],
            "text/plain": [
              "<IPython.core.display.HTML object>"
            ]
          },
          "metadata": {}
        },
        {
          "output_type": "display_data",
          "data": {
            "text/html": [
              "<h3>Run history:</h3><br/><style>\n",
              "    table.wandb td:nth-child(1) { padding: 0 10px; text-align: right }\n",
              "    </style><table class=\"wandb\">\n",
              "<tr><td>epoch</td><td>▁▁▁▂▂▂▂▂▂▃▃▃▃▃▄▄▄▄▄▄▅▅▅▅▅▅▆▆▆▆▆▇▇▇▇▇▇███</td></tr><tr><td>train_loss</td><td>█▅▄▄▃▃▂▂▂▂▂▂▂▁▁▁▁▁▁▁▁▁▁▁▁▁▁▁▁▁▁▁▁▁▁▁▁▁▁▁</td></tr><tr><td>raw_loss</td><td>▄▃█▅▃▃▃▂▂▂▃▃▂▂▂▂▁▂▂▁▂▂▂▂▂▂▂▁▂▁▁▂▂▂▂▂▂▁▁▂</td></tr><tr><td>lr_0</td><td>▁▁▁▁▁▁▁▁▁▁▁▁▁▁▁▁▁▁▁▁▁▁▁▁▁▁▁▁▁▁▁▁▁▁▁▁▁▁▁▁</td></tr><tr><td>mom_0</td><td>▁▁▁▁▁▁▁▁▁▁▁▁▁▁▁▁▁▁▁▁▁▁▁▁▁▁▁▁▁▁▁▁▁▁▁▁▁▁▁▁</td></tr><tr><td>sqr_mom_0</td><td>▁▁▁▁▁▁▁▁▁▁▁▁▁▁▁▁▁▁▁▁▁▁▁▁▁▁▁▁▁▁▁▁▁▁▁▁▁▁▁▁</td></tr><tr><td>eps_0</td><td>▁▁▁▁▁▁▁▁▁▁▁▁▁▁▁▁▁▁▁▁▁▁▁▁▁▁▁▁▁▁▁▁▁▁▁▁▁▁▁▁</td></tr><tr><td>wd_0</td><td>▁▁▁▁▁▁▁▁▁▁▁▁▁▁▁▁▁▁▁▁▁▁▁▁▁▁▁▁▁▁▁▁▁▁▁▁▁▁▁▁</td></tr><tr><td>amsgrad_0</td><td>▁▁▁▁▁▁▁▁▁▁▁▁▁▁▁▁▁▁▁▁▁▁▁▁▁▁▁▁▁▁▁▁▁▁▁▁▁▁▁▁</td></tr><tr><td>lr_1</td><td>▁▁▁▁▁▁▁▁▁▁▁▁▁▁▁▁▁▁▁▁▁▁▁▁▁▁▁▁▁▁▁▁▁▁▁▁▁▁▁▁</td></tr><tr><td>mom_1</td><td>▁▁▁▁▁▁▁▁▁▁▁▁▁▁▁▁▁▁▁▁▁▁▁▁▁▁▁▁▁▁▁▁▁▁▁▁▁▁▁▁</td></tr><tr><td>sqr_mom_1</td><td>▁▁▁▁▁▁▁▁▁▁▁▁▁▁▁▁▁▁▁▁▁▁▁▁▁▁▁▁▁▁▁▁▁▁▁▁▁▁▁▁</td></tr><tr><td>eps_1</td><td>▁▁▁▁▁▁▁▁▁▁▁▁▁▁▁▁▁▁▁▁▁▁▁▁▁▁▁▁▁▁▁▁▁▁▁▁▁▁▁▁</td></tr><tr><td>wd_1</td><td>▁▁▁▁▁▁▁▁▁▁▁▁▁▁▁▁▁▁▁▁▁▁▁▁▁▁▁▁▁▁▁▁▁▁▁▁▁▁▁▁</td></tr><tr><td>amsgrad_1</td><td>▁▁▁▁▁▁▁▁▁▁▁▁▁▁▁▁▁▁▁▁▁▁▁▁▁▁▁▁▁▁▁▁▁▁▁▁▁▁▁▁</td></tr><tr><td>lr_2</td><td>▁▁▁▁▁▁▁▁▁▁▁▁▁▁▁▁▁▁▁▁▁▁▁▁▁▁▁▁▁▁▁▁▁▁▁▁▁▁▁▁</td></tr><tr><td>mom_2</td><td>▁▁▁▁▁▁▁▁▁▁▁▁▁▁▁▁▁▁▁▁▁▁▁▁▁▁▁▁▁▁▁▁▁▁▁▁▁▁▁▁</td></tr><tr><td>sqr_mom_2</td><td>▁▁▁▁▁▁▁▁▁▁▁▁▁▁▁▁▁▁▁▁▁▁▁▁▁▁▁▁▁▁▁▁▁▁▁▁▁▁▁▁</td></tr><tr><td>eps_2</td><td>▁▁▁▁▁▁▁▁▁▁▁▁▁▁▁▁▁▁▁▁▁▁▁▁▁▁▁▁▁▁▁▁▁▁▁▁▁▁▁▁</td></tr><tr><td>wd_2</td><td>▁▁▁▁▁▁▁▁▁▁▁▁▁▁▁▁▁▁▁▁▁▁▁▁▁▁▁▁▁▁▁▁▁▁▁▁▁▁▁▁</td></tr><tr><td>amsgrad_2</td><td>▁▁▁▁▁▁▁▁▁▁▁▁▁▁▁▁▁▁▁▁▁▁▁▁▁▁▁▁▁▁▁▁▁▁▁▁▁▁▁▁</td></tr><tr><td>lr_3</td><td>▁▁▁▁▁▁▁▁▁▁▁▁▁▁▁▁▁▁▁▁▁▁▁▁▁▁▁▁▁▁▁▁▁▁▁▁▁▁▁▁</td></tr><tr><td>mom_3</td><td>▁▁▁▁▁▁▁▁▁▁▁▁▁▁▁▁▁▁▁▁▁▁▁▁▁▁▁▁▁▁▁▁▁▁▁▁▁▁▁▁</td></tr><tr><td>sqr_mom_3</td><td>▁▁▁▁▁▁▁▁▁▁▁▁▁▁▁▁▁▁▁▁▁▁▁▁▁▁▁▁▁▁▁▁▁▁▁▁▁▁▁▁</td></tr><tr><td>eps_3</td><td>▁▁▁▁▁▁▁▁▁▁▁▁▁▁▁▁▁▁▁▁▁▁▁▁▁▁▁▁▁▁▁▁▁▁▁▁▁▁▁▁</td></tr><tr><td>wd_3</td><td>▁▁▁▁▁▁▁▁▁▁▁▁▁▁▁▁▁▁▁▁▁▁▁▁▁▁▁▁▁▁▁▁▁▁▁▁▁▁▁▁</td></tr><tr><td>amsgrad_3</td><td>▁▁▁▁▁▁▁▁▁▁▁▁▁▁▁▁▁▁▁▁▁▁▁▁▁▁▁▁▁▁▁▁▁▁▁▁▁▁▁▁</td></tr><tr><td>_runtime</td><td>▁▁▁▂▂▂▂▂▃▃▃▃▃▃▃▄▄▄▄▄▅▅▅▅▅▆▆▆▆▆▆▆▇▇▇▇████</td></tr><tr><td>_timestamp</td><td>▁▁▁▂▂▂▂▂▃▃▃▃▃▃▃▄▄▄▄▄▅▅▅▅▅▆▆▆▆▆▆▆▇▇▇▇████</td></tr><tr><td>_step</td><td>▁▁▁▂▂▂▂▂▂▃▃▃▃▃▄▄▄▄▄▄▅▅▅▅▅▅▆▆▆▆▆▇▇▇▇▇▇███</td></tr><tr><td>valid_loss</td><td>█▆▆▆▅▄▄▄▃▃▂▂▂▂▂▂▂▂▂▂▂▂▂▂▂▂▂▂▂▁▂▁▁▁▁▁▁▁▁▁</td></tr></table><br/>"
            ],
            "text/plain": [
              "<IPython.core.display.HTML object>"
            ]
          },
          "metadata": {}
        },
        {
          "output_type": "display_data",
          "data": {
            "text/html": [
              "Synced 5 W&B file(s), 0 media file(s), 0 artifact file(s) and 0 other file(s)"
            ],
            "text/plain": [
              "<IPython.core.display.HTML object>"
            ]
          },
          "metadata": {}
        },
        {
          "output_type": "display_data",
          "data": {
            "text/html": [
              "\n",
              "                    <br/>Synced <strong style=\"color:#cdcd00\">effortless-shape-3</strong>: <a href=\"https://wandb.ai/drscotthawley/4_nnsfitcurves/runs/331athjz\" target=\"_blank\">https://wandb.ai/drscotthawley/4_nnsfitcurves/runs/331athjz</a><br/>\n",
              "                "
            ],
            "text/plain": [
              "<IPython.core.display.HTML object>"
            ]
          },
          "metadata": {}
        },
        {
          "output_type": "display_data",
          "data": {
            "text/html": [
              "...Successfully finished last run (ID:331athjz). Initializing new run:<br/><br/>"
            ],
            "text/plain": [
              "<IPython.core.display.HTML object>"
            ]
          },
          "metadata": {}
        },
        {
          "output_type": "display_data",
          "data": {
            "text/html": [
              "\n",
              "                Tracking run with wandb version 0.12.1<br/>\n",
              "                Syncing run <strong style=\"color:#cdcd00\">silvery-bird-4</strong> to <a href=\"https://wandb.ai\" target=\"_blank\">Weights & Biases</a> <a href=\"https://docs.wandb.com/integrations/jupyter.html\" target=\"_blank\">(Documentation)</a>.<br/>\n",
              "                Project page: <a href=\"https://wandb.ai/drscotthawley/4_nnsfitcurves\" target=\"_blank\">https://wandb.ai/drscotthawley/4_nnsfitcurves</a><br/>\n",
              "                Run page: <a href=\"https://wandb.ai/drscotthawley/4_nnsfitcurves/runs/2ih19g34\" target=\"_blank\">https://wandb.ai/drscotthawley/4_nnsfitcurves/runs/2ih19g34</a><br/>\n",
              "                Run data is saved locally in <code>/content/wandb/run-20210908_051115-2ih19g34</code><br/><br/>\n",
              "            "
            ],
            "text/plain": [
              "<IPython.core.display.HTML object>"
            ]
          },
          "metadata": {}
        },
        {
          "output_type": "stream",
          "name": "stdout",
          "text": [
            "Could not gather input dimensions\n",
            "WandbCallback requires use of \"SaveModelCallback\" to log best model\n",
            "WandbCallback was not able to prepare a DataLoader for logging prediction samples -> 'myDataset' object has no attribute 'items'\n"
          ]
        },
        {
          "output_type": "display_data",
          "data": {
            "text/html": [
              "<table border=\"1\" class=\"dataframe\">\n",
              "  <thead>\n",
              "    <tr style=\"text-align: left;\">\n",
              "      <th>epoch</th>\n",
              "      <th>train_loss</th>\n",
              "      <th>valid_loss</th>\n",
              "      <th>time</th>\n",
              "    </tr>\n",
              "  </thead>\n",
              "  <tbody>\n",
              "    <tr>\n",
              "      <td>0</td>\n",
              "      <td>0.052814</td>\n",
              "      <td>0.034421</td>\n",
              "      <td>00:00</td>\n",
              "    </tr>\n",
              "    <tr>\n",
              "      <td>1</td>\n",
              "      <td>0.038425</td>\n",
              "      <td>0.023857</td>\n",
              "      <td>00:00</td>\n",
              "    </tr>\n",
              "    <tr>\n",
              "      <td>2</td>\n",
              "      <td>0.031064</td>\n",
              "      <td>0.024279</td>\n",
              "      <td>00:00</td>\n",
              "    </tr>\n",
              "    <tr>\n",
              "      <td>3</td>\n",
              "      <td>0.025596</td>\n",
              "      <td>0.018431</td>\n",
              "      <td>00:00</td>\n",
              "    </tr>\n",
              "    <tr>\n",
              "      <td>4</td>\n",
              "      <td>0.019548</td>\n",
              "      <td>0.012058</td>\n",
              "      <td>00:00</td>\n",
              "    </tr>\n",
              "    <tr>\n",
              "      <td>5</td>\n",
              "      <td>0.015021</td>\n",
              "      <td>0.007363</td>\n",
              "      <td>00:00</td>\n",
              "    </tr>\n",
              "    <tr>\n",
              "      <td>6</td>\n",
              "      <td>0.011083</td>\n",
              "      <td>0.004744</td>\n",
              "      <td>00:00</td>\n",
              "    </tr>\n",
              "    <tr>\n",
              "      <td>7</td>\n",
              "      <td>0.008573</td>\n",
              "      <td>0.004200</td>\n",
              "      <td>00:00</td>\n",
              "    </tr>\n",
              "    <tr>\n",
              "      <td>8</td>\n",
              "      <td>0.007074</td>\n",
              "      <td>0.003000</td>\n",
              "      <td>00:00</td>\n",
              "    </tr>\n",
              "    <tr>\n",
              "      <td>9</td>\n",
              "      <td>0.005674</td>\n",
              "      <td>0.002921</td>\n",
              "      <td>00:00</td>\n",
              "    </tr>\n",
              "    <tr>\n",
              "      <td>10</td>\n",
              "      <td>0.005077</td>\n",
              "      <td>0.002441</td>\n",
              "      <td>00:00</td>\n",
              "    </tr>\n",
              "    <tr>\n",
              "      <td>11</td>\n",
              "      <td>0.004298</td>\n",
              "      <td>0.002112</td>\n",
              "      <td>00:00</td>\n",
              "    </tr>\n",
              "    <tr>\n",
              "      <td>12</td>\n",
              "      <td>0.004381</td>\n",
              "      <td>0.001735</td>\n",
              "      <td>00:00</td>\n",
              "    </tr>\n",
              "    <tr>\n",
              "      <td>13</td>\n",
              "      <td>0.003541</td>\n",
              "      <td>0.001667</td>\n",
              "      <td>00:00</td>\n",
              "    </tr>\n",
              "    <tr>\n",
              "      <td>14</td>\n",
              "      <td>0.003913</td>\n",
              "      <td>0.001563</td>\n",
              "      <td>00:00</td>\n",
              "    </tr>\n",
              "    <tr>\n",
              "      <td>15</td>\n",
              "      <td>0.003011</td>\n",
              "      <td>0.001280</td>\n",
              "      <td>00:00</td>\n",
              "    </tr>\n",
              "    <tr>\n",
              "      <td>16</td>\n",
              "      <td>0.003018</td>\n",
              "      <td>0.001059</td>\n",
              "      <td>00:00</td>\n",
              "    </tr>\n",
              "    <tr>\n",
              "      <td>17</td>\n",
              "      <td>0.002158</td>\n",
              "      <td>0.002005</td>\n",
              "      <td>00:00</td>\n",
              "    </tr>\n",
              "    <tr>\n",
              "      <td>18</td>\n",
              "      <td>0.004889</td>\n",
              "      <td>0.001551</td>\n",
              "      <td>00:00</td>\n",
              "    </tr>\n",
              "    <tr>\n",
              "      <td>19</td>\n",
              "      <td>0.004996</td>\n",
              "      <td>0.001569</td>\n",
              "      <td>00:00</td>\n",
              "    </tr>\n",
              "    <tr>\n",
              "      <td>20</td>\n",
              "      <td>0.004483</td>\n",
              "      <td>0.001765</td>\n",
              "      <td>00:00</td>\n",
              "    </tr>\n",
              "    <tr>\n",
              "      <td>21</td>\n",
              "      <td>0.003705</td>\n",
              "      <td>0.001406</td>\n",
              "      <td>00:00</td>\n",
              "    </tr>\n",
              "    <tr>\n",
              "      <td>22</td>\n",
              "      <td>0.003094</td>\n",
              "      <td>0.001377</td>\n",
              "      <td>00:00</td>\n",
              "    </tr>\n",
              "    <tr>\n",
              "      <td>23</td>\n",
              "      <td>0.002551</td>\n",
              "      <td>0.001080</td>\n",
              "      <td>00:00</td>\n",
              "    </tr>\n",
              "    <tr>\n",
              "      <td>24</td>\n",
              "      <td>0.002138</td>\n",
              "      <td>0.001848</td>\n",
              "      <td>00:00</td>\n",
              "    </tr>\n",
              "    <tr>\n",
              "      <td>25</td>\n",
              "      <td>0.002363</td>\n",
              "      <td>0.001230</td>\n",
              "      <td>00:00</td>\n",
              "    </tr>\n",
              "    <tr>\n",
              "      <td>26</td>\n",
              "      <td>0.001983</td>\n",
              "      <td>0.001049</td>\n",
              "      <td>00:00</td>\n",
              "    </tr>\n",
              "    <tr>\n",
              "      <td>27</td>\n",
              "      <td>0.001833</td>\n",
              "      <td>0.001227</td>\n",
              "      <td>00:00</td>\n",
              "    </tr>\n",
              "    <tr>\n",
              "      <td>28</td>\n",
              "      <td>0.001806</td>\n",
              "      <td>0.001035</td>\n",
              "      <td>00:00</td>\n",
              "    </tr>\n",
              "    <tr>\n",
              "      <td>29</td>\n",
              "      <td>0.001706</td>\n",
              "      <td>0.001007</td>\n",
              "      <td>00:00</td>\n",
              "    </tr>\n",
              "    <tr>\n",
              "      <td>30</td>\n",
              "      <td>0.001611</td>\n",
              "      <td>0.000943</td>\n",
              "      <td>00:00</td>\n",
              "    </tr>\n",
              "    <tr>\n",
              "      <td>31</td>\n",
              "      <td>0.001680</td>\n",
              "      <td>0.000959</td>\n",
              "      <td>00:00</td>\n",
              "    </tr>\n",
              "    <tr>\n",
              "      <td>32</td>\n",
              "      <td>0.001660</td>\n",
              "      <td>0.000925</td>\n",
              "      <td>00:00</td>\n",
              "    </tr>\n",
              "    <tr>\n",
              "      <td>33</td>\n",
              "      <td>0.001582</td>\n",
              "      <td>0.000903</td>\n",
              "      <td>00:00</td>\n",
              "    </tr>\n",
              "    <tr>\n",
              "      <td>34</td>\n",
              "      <td>0.001565</td>\n",
              "      <td>0.001052</td>\n",
              "      <td>00:00</td>\n",
              "    </tr>\n",
              "    <tr>\n",
              "      <td>35</td>\n",
              "      <td>0.001715</td>\n",
              "      <td>0.000949</td>\n",
              "      <td>00:00</td>\n",
              "    </tr>\n",
              "    <tr>\n",
              "      <td>36</td>\n",
              "      <td>0.001824</td>\n",
              "      <td>0.000989</td>\n",
              "      <td>00:00</td>\n",
              "    </tr>\n",
              "    <tr>\n",
              "      <td>37</td>\n",
              "      <td>0.001756</td>\n",
              "      <td>0.001273</td>\n",
              "      <td>00:00</td>\n",
              "    </tr>\n",
              "    <tr>\n",
              "      <td>38</td>\n",
              "      <td>0.002237</td>\n",
              "      <td>0.000984</td>\n",
              "      <td>00:00</td>\n",
              "    </tr>\n",
              "    <tr>\n",
              "      <td>39</td>\n",
              "      <td>0.002270</td>\n",
              "      <td>0.003118</td>\n",
              "      <td>00:00</td>\n",
              "    </tr>\n",
              "    <tr>\n",
              "      <td>40</td>\n",
              "      <td>0.002846</td>\n",
              "      <td>0.000974</td>\n",
              "      <td>00:00</td>\n",
              "    </tr>\n",
              "    <tr>\n",
              "      <td>41</td>\n",
              "      <td>0.002688</td>\n",
              "      <td>0.004441</td>\n",
              "      <td>00:00</td>\n",
              "    </tr>\n",
              "    <tr>\n",
              "      <td>42</td>\n",
              "      <td>0.002943</td>\n",
              "      <td>0.001732</td>\n",
              "      <td>00:00</td>\n",
              "    </tr>\n",
              "    <tr>\n",
              "      <td>43</td>\n",
              "      <td>0.002420</td>\n",
              "      <td>0.002336</td>\n",
              "      <td>00:00</td>\n",
              "    </tr>\n",
              "    <tr>\n",
              "      <td>44</td>\n",
              "      <td>0.002857</td>\n",
              "      <td>0.001381</td>\n",
              "      <td>00:00</td>\n",
              "    </tr>\n",
              "    <tr>\n",
              "      <td>45</td>\n",
              "      <td>0.002578</td>\n",
              "      <td>0.001786</td>\n",
              "      <td>00:00</td>\n",
              "    </tr>\n",
              "    <tr>\n",
              "      <td>46</td>\n",
              "      <td>0.002977</td>\n",
              "      <td>0.001381</td>\n",
              "      <td>00:00</td>\n",
              "    </tr>\n",
              "    <tr>\n",
              "      <td>47</td>\n",
              "      <td>0.002632</td>\n",
              "      <td>0.001843</td>\n",
              "      <td>00:00</td>\n",
              "    </tr>\n",
              "    <tr>\n",
              "      <td>48</td>\n",
              "      <td>0.002867</td>\n",
              "      <td>0.001506</td>\n",
              "      <td>00:00</td>\n",
              "    </tr>\n",
              "    <tr>\n",
              "      <td>49</td>\n",
              "      <td>0.002613</td>\n",
              "      <td>0.001463</td>\n",
              "      <td>00:00</td>\n",
              "    </tr>\n",
              "  </tbody>\n",
              "</table>"
            ],
            "text/plain": [
              "<IPython.core.display.HTML object>"
            ]
          },
          "metadata": {}
        }
      ]
    },
    {
      "cell_type": "code",
      "metadata": {
        "colab": {
          "base_uri": "https://localhost:8080/",
          "height": 517
        },
        "id": "BCs8ji5lJl8Y",
        "outputId": "2f709812-d7e6-4c7b-d057-6e5c52a93795"
      },
      "source": [
        "predict_surface(learn.model, show_points=True)"
      ],
      "execution_count": 31,
      "outputs": [
        {
          "output_type": "display_data",
          "data": {
            "text/html": [
              "<html>\n",
              "<head><meta charset=\"utf-8\" /></head>\n",
              "<body>\n",
              "    <div>\n",
              "            <script src=\"https://cdnjs.cloudflare.com/ajax/libs/mathjax/2.7.5/MathJax.js?config=TeX-AMS-MML_SVG\"></script><script type=\"text/javascript\">if (window.MathJax) {MathJax.Hub.Config({SVG: {font: \"STIX-Web\"}});}</script>\n",
              "                <script type=\"text/javascript\">window.PlotlyConfig = {MathJaxConfig: 'local'};</script>\n",
              "        <script src=\"https://cdn.plot.ly/plotly-latest.min.js\"></script>    \n",
              "            <div id=\"61d20f86-4905-4e50-97db-faa0b5bb6f88\" class=\"plotly-graph-div\" style=\"height:500px; width:600px;\"></div>\n",
              "            <script type=\"text/javascript\">\n",
              "                \n",
              "                    window.PLOTLYENV=window.PLOTLYENV || {};\n",
              "                    \n",
              "                if (document.getElementById(\"61d20f86-4905-4e50-97db-faa0b5bb6f88\")) {\n",
              "                    Plotly.newPlot(\n",
              "                        '61d20f86-4905-4e50-97db-faa0b5bb6f88',\n",
              "                        [{\"colorscale\": [[0.0, \"#440154\"], [0.1111111111111111, \"#482878\"], [0.2222222222222222, \"#3e4989\"], [0.3333333333333333, \"#31688e\"], [0.4444444444444444, \"#26828e\"], [0.5555555555555556, \"#1f9e89\"], [0.6666666666666666, \"#35b779\"], [0.7777777777777778, \"#6ece58\"], [0.8888888888888888, \"#b5de2b\"], [1.0, \"#fde725\"]], \"opacity\": 0.65, \"type\": \"surface\", \"x\": [0.0, 0.05, 0.1, 0.15000000000000002, 0.2, 0.25, 0.30000000000000004, 0.35000000000000003, 0.4, 0.45, 0.5, 0.55, 0.6000000000000001, 0.65, 0.7000000000000001, 0.75, 0.8, 0.8500000000000001, 0.9, 0.9500000000000001], \"y\": [0.05, 0.1, 0.15000000000000002, 0.2, 0.25, 0.3, 0.35000000000000003, 0.4, 0.45, 0.5, 0.55, 0.6000000000000001, 0.6500000000000001, 0.7000000000000001, 0.7500000000000001, 0.8, 0.8500000000000001, 0.9000000000000001, 0.9500000000000001], \"z\": [[0.9171833992004395, 0.6745824217796326, 0.3740999102592468, 0.30698680877685547, 0.3047955334186554, 0.30788010358810425, 0.3302012085914612, 0.3585822582244873, 0.3918745517730713, 0.44348734617233276, 0.49639183282852173, 0.5740476846694946, 0.6578487157821655, 0.7325482964515686, 0.8042089939117432, 0.839928388595581, 0.8700034618377686, 0.9000784158706665, 0.930153489112854, 0.9602285623550415], [0.8960258960723877, 0.6581888794898987, 0.35921934247016907, 0.3050987720489502, 0.3009026348590851, 0.30507659912109375, 0.31687620282173157, 0.3452455699443817, 0.38940536975860596, 0.44106438755989075, 0.48980048298835754, 0.5614193677902222, 0.6452205181121826, 0.7204058170318604, 0.7862772941589355, 0.816352367401123, 0.8464273810386658, 0.8765024542808533, 0.906577467918396, 0.9366525411605835], [0.8782037496566772, 0.643364429473877, 0.36928242444992065, 0.2973289489746094, 0.2904299199581146, 0.2966882586479187, 0.30285656452178955, 0.3357556462287903, 0.386982798576355, 0.43787655234336853, 0.48590683937072754, 0.5487914681434631, 0.63233882188797, 0.7081616520881653, 0.7627012729644775, 0.792776346206665, 0.8228514194488525, 0.8529263734817505, 0.883001446723938, 0.9130764603614807], [0.8603188395500183, 0.6304671168327332, 0.3848297894001007, 0.28961867094039917, 0.2799893617630005, 0.28612014651298523, 0.2929365038871765, 0.32672250270843506, 0.38180312514305115, 0.43411168456077576, 0.48311853408813477, 0.5366412997245789, 0.6189033389091492, 0.6958818435668945, 0.7390947341918945, 0.769200325012207, 0.7992753386497498, 0.829350471496582, 0.85942542552948, 0.8895003795623779], [0.828011155128479, 0.6108589172363281, 0.39606595039367676, 0.2815383970737457, 0.269421249628067, 0.27555203437805176, 0.28473100066185, 0.3163434863090515, 0.37115392088890076, 0.4260091185569763, 0.4803301990032196, 0.5283181071281433, 0.6054679155349731, 0.6836021542549133, 0.7153132557868958, 0.7455204725265503, 0.7756993770599365, 0.8057743906974792, 0.835849404335022, 0.8659244179725647], [0.742926299571991, 0.5370762348175049, 0.35032084584236145, 0.2526942789554596, 0.24239595234394073, 0.25145965814590454, 0.262937068939209, 0.2911144196987152, 0.3459203243255615, 0.40503954887390137, 0.4641749858856201, 0.5179674625396729, 0.5941110849380493, 0.6613246202468872, 0.6915318965911865, 0.7217390537261963, 0.7519463300704956, 0.7821536064147949, 0.8125007152557373, 0.839684784412384], [0.6568330526351929, 0.46387970447540283, 0.30997204780578613, 0.22440935671329498, 0.21183480322360992, 0.22303196787834167, 0.23416583240032196, 0.24503600597381592, 0.28901341557502747, 0.34898877143859863, 0.40900421142578125, 0.4614751935005188, 0.5125433206558228, 0.576462984085083, 0.6150950789451599, 0.6550623178482056, 0.6935411691665649, 0.731366753578186, 0.7631700038909912, 0.7879730463027954], [0.5693596601486206, 0.3957359790802002, 0.27455610036849976, 0.19534486532211304, 0.17714834213256836, 0.19339123368263245, 0.2053714245557785, 0.2168600708246231, 0.23506487905979156, 0.2913961708545685, 0.34731239080429077, 0.3995714783668518, 0.4507104754447937, 0.4859161376953125, 0.5123739242553711, 0.5478381514549255, 0.5878053903579712, 0.6197258830070496, 0.6479133367538452, 0.668656587600708], [0.4816873073577881, 0.3241615891456604, 0.22319626808166504, 0.15507809817790985, 0.14686928689479828, 0.15740114450454712, 0.16840916872024536, 0.18007516860961914, 0.19686226546764374, 0.2378547042608261, 0.28358498215675354, 0.33004820346832275, 0.3753722608089447, 0.4051033556461334, 0.43192368745803833, 0.45796680450439453, 0.476293683052063, 0.4970170259475708, 0.5130788087844849, 0.5289038419723511], [0.3907445967197418, 0.2515745460987091, 0.15722021460533142, 0.1261194944381714, 0.1190044954419136, 0.12670274078845978, 0.1352889984846115, 0.1445670872926712, 0.1552390158176422, 0.18315458297729492, 0.22048066556453705, 0.25433266162872314, 0.29367101192474365, 0.3227725327014923, 0.34809646010398865, 0.3626505136489868, 0.3776577115058899, 0.39309197664260864, 0.4087173342704773, 0.42434269189834595], [0.29914146661758423, 0.18032479286193848, 0.11481563746929169, 0.11111082881689072, 0.11210629343986511, 0.1114666610956192, 0.1108270213007927, 0.11450081318616867, 0.12273433059453964, 0.14581452310085297, 0.17545370757579803, 0.2114291787147522, 0.23640763759613037, 0.2556709051132202, 0.27298104763031006, 0.28785908222198486, 0.30087172985076904, 0.31742921471595764, 0.3347240090370178, 0.350955069065094], [0.20775467157363892, 0.11147205531597137, 0.09303206205368042, 0.1115095466375351, 0.11263203620910645, 0.11199241131544113, 0.11135277152061462, 0.11071313917636871, 0.11089463531970978, 0.12045443803071976, 0.13783617317676544, 0.16567493975162506, 0.18755188584327698, 0.20579978823661804, 0.22124743461608887, 0.23321036994457245, 0.24598005414009094, 0.2623327672481537, 0.2783696949481964, 0.2941644787788391], [0.1379866898059845, 0.09027786552906036, 0.09287311136722565, 0.11190826445817947, 0.11315526068210602, 0.11251814663410187, 0.11187852174043655, 0.11123888194561005, 0.11190381646156311, 0.12152785062789917, 0.13524386286735535, 0.1545490026473999, 0.16576628386974335, 0.17900167405605316, 0.19265200197696686, 0.2038399875164032, 0.21494588255882263, 0.230112686753273, 0.24771074950695038, 0.2652249336242676], [0.17286770045757294, 0.09235721081495285, 0.09173642098903656, 0.1116284728050232, 0.11314629018306732, 0.11264745891094208, 0.11211337149143219, 0.1114748865365982, 0.11772520840167999, 0.12725307047367096, 0.14581334590911865, 0.16284285485744476, 0.1741875410079956, 0.1858663558959961, 0.1988573670387268, 0.2104063183069229, 0.2257525771856308, 0.24303361773490906, 0.2599252164363861, 0.2750592529773712], [0.3239143192768097, 0.1639815866947174, 0.09540301561355591, 0.11111079156398773, 0.1127551794052124, 0.11225634813308716, 0.11175751686096191, 0.1176263764500618, 0.12620270252227783, 0.1405695527791977, 0.1694311499595642, 0.20042684674263, 0.2278381884098053, 0.2571612000465393, 0.29069262742996216, 0.31522461771965027, 0.3339936435222626, 0.35082679986953735, 0.3671776354312897, 0.3835285007953644], [0.4715030789375305, 0.28796783089637756, 0.1761198341846466, 0.11952243000268936, 0.11236406862735748, 0.11191865801811218, 0.12278591096401215, 0.14804787933826447, 0.18578234314918518, 0.2260826975107193, 0.2650821805000305, 0.29702824354171753, 0.32598358392715454, 0.3563230037689209, 0.3863542973995209, 0.41281330585479736, 0.44123584032058716, 0.4638718366622925, 0.4862872064113617, 0.5085139274597168], [0.6153579354286194, 0.43506568670272827, 0.26734116673469543, 0.19337047636508942, 0.145798459649086, 0.17031408846378326, 0.2040555626153946, 0.23737964034080505, 0.2699667811393738, 0.304951548576355, 0.34451863169670105, 0.37488120794296265, 0.40524381399154663, 0.4526093006134033, 0.5024851560592651, 0.5408157110214233, 0.5773490071296692, 0.6082499027252197, 0.6308567523956299, 0.6534734964370728], [0.7592127323150635, 0.5784569382667542, 0.37678658962249756, 0.257396936416626, 0.22008933126926422, 0.24503061175346375, 0.26908665895462036, 0.30015379190444946, 0.3405425250530243, 0.3863059878349304, 0.43503832817077637, 0.48553240299224854, 0.536422848701477, 0.5836089849472046, 0.6266392469406128, 0.6653382182121277, 0.7015465497970581, 0.737754762172699, 0.7707531452178955, 0.7957452535629272], [0.9002125263214111, 0.7194230556488037, 0.5100850462913513, 0.31750360131263733, 0.27688878774642944, 0.30094486474990845, 0.33251455426216125, 0.3776308596134186, 0.4404609799385071, 0.5145525336265564, 0.569775402545929, 0.6206657886505127, 0.6647331118583679, 0.7073789834976196, 0.7499988079071045, 0.7895359396934509, 0.8257441520690918, 0.8619524836540222, 0.8981606960296631, 0.9321017861366272]]}, {\"marker\": {\"color\": [0.7963289218726609, 0.95, 0.8374708388010617, 0.7731047938634492, 0.2100838187468362, 0.4710397198901133, 0.7243163094450482, 0.6606796531188589, 0.6419841678995071, 0.47941613448851245, 0.41165745068563425, 0.2476853629404794, 0.3613400127865251, 0.45067600214602677, 0.41958416635903906, 0.21746291791063213, 0.5040498995285058, 0.504773384885581, 0.5022639721258529, 0.48851458236007833, 0.32924930572590644, 0.44800701419191535, 0.4317484959939039, 0.19695851301433911, 0.22414477485627474, 0.3463033691212989, 0.4095506663031099, 0.3771521991725676, 0.28509793226393076, 0.10534091075258313, 0.11221824540931948, 0.37630007916845437, 0.37452877175700927, 0.37093144018138735, 0.2283592317762059, 0.12916008945763557, 0.09513764047344998, 0.23690485519414214, 0.3508328957155223, 0.32386870199679363, 0.3342656867888549, 0.3238134606942762, 0.16591198481823763, 0.25182772029704825, 0.08341993225071011, 0.09751867333235635, 0.14131572251465765, 0.3027998218782933, 0.3218053605832753, 0.30082225701146814, 0.20883523696738804, 0.12196896250668506, 0.26558076377893425, 0.3198371404982752, 0.3185762928253492, 0.31676511951795505, 0.3020145879755322, 0.2960072324921016, 0.23711440191764752, 0.18003007783546893, 0.13585328650527365, 0.31893794260881425, 0.32741166846664543, 0.31280638526438004, 0.21361801273747638, 0.1384159968492536, 0.08195447923875288, 0.3173592788606252, 0.24916165839694304, 0.1427556904623841, 0.1048253785814643, 0.09581493045898555, 0.11382370327317366, 0.29931994329325445, 0.35159660712388946, 0.3304414955277893, 0.24481972388563775, 0.13445925829806166, 0.17439093980468798, 0.3568813865606345, 0.29949269221570385, 0.38755466924367227, 0.3577681261181445, 0.25340843026037674, 0.19939731000214436, 0.32226555936573753, 0.36271695194167075, 0.41047939777792586, 0.41046753956235843, 0.37800746116329864, 0.3028000779559857, 0.2299021955736589, 0.12342375301307147, 0.21534894988858305, 0.45943583074134203, 0.4591114705293844, 0.3568315882397822, 0.21465991615952637, 0.11615634251866201, 0.12592037168727904, 0.48592944462834625, 0.48352768045984823, 0.478883419394282, 0.4751571060303649, 0.3946655134073982, 0.3169670968372219, 0.22698468605808836, 0.13315013136646284, 0.3058511488565124, 0.3394578794758633, 0.45369184881681607, 0.2873960363312139, 0.21687318326811375, 0.13198313862356453, 0.25444443974364866, 0.5403105357101123, 0.5381471337854108, 0.5329782553902612, 0.1855855602628826, 0.26818185934380784, 0.5366341738891165, 0.5659656220006253, 0.5605295483094423, 0.2919316146661785, 0.14629985811591067, 0.24783609379239013, 0.5039895842176705, 0.1576428383106277, 0.29591585207402427, 0.33483624054663913, 0.6154656475973453, 0.5274448480659834, 0.3789036119484683, 0.2721258895699153, 0.648677173424424, 0.4809031864608978, 0.18493096275209575, 0.2492434618488904, 0.4103149969411732, 0.45540014905793363, 0.6321143036732222, 0.6726918360366193, 0.663662814068564, 0.6250359904036967, 0.5512383628900841, 0.21064243309346548, 0.29573729773324847, 0.5630115104346897, 0.6014715327709574, 0.6336817976294686, 0.7041301908209088, 0.6731954024710819, 0.6156233365140265, 0.19993626567793182, 0.17637548731241537, 0.23751503099835655, 0.3954605387254439, 0.6834040740243644, 0.7298455756832299, 0.719432935269202, 0.5385312323080607, 0.44290975262770294, 0.27811233250437645, 0.21950967204135485, 0.7243678236068333, 0.7542810213297924, 0.7475725044346073, 0.6370161689031669, 0.5856744975773706, 0.4747418682439142, 0.7313676753388335, 0.32857943894256836, 0.29616758202164034, 0.22053633021956728, 0.5564863486072538, 0.37340392604018513, 0.20561628882456826, 0.3056319993305796, 0.793706863751425, 0.7552453487629456, 0.3466218101613633, 0.2072916558123502, 0.22471646215417804, 0.3573461720572264, 0.8018544020429924, 0.7090006511537061, 0.43087968153772316, 0.3921391058854304, 0.21008381874683618, 0.2524275442536908, 0.5864479743332263, 0.6431635166047076, 0.8554452534710889, 0.8450763043571082, 0.6658478767039009, 0.5202604976296853, 0.21674777844995574, 0.32785561360126153, 0.23951617934061184, 0.3342025477554307, 0.7746367161665838, 0.8741360237947211, 0.8884240416153631, 0.7510339928767338, 0.6560046789616308, 0.26739279599309973, 0.8898490735766664, 0.7333574879715831, 0.6660961636154645, 0.6307720571156268, 0.8001867831671221, 0.8948491378590934, 0.4274734567756147, 0.2353898811009079, 0.8699276975065906, 0.45910550213432394, 0.519489440229377, 0.8977411526561268, 0.9304334163472624, 0.9049629617607762, 0.3575036323323012, 0.46367498389598366, 0.5246599239449228, 0.5885374112474016, 0.9428169867066626, 0.5280549923854406, 0.39847789343645873, 0.2583349917248565, 0.2834880667184344, 0.7820754526534869, 0.9490592246702769, 0.9280199823878809, 0.26005289828866074, 0.4706193787311008, 0.805611084062272, 0.24535651223506413, 0.95, 0.5807980185279384, 0.36469526960834386, 0.9453979567427928, 0.916298087276931, 0.6678163561382314, 0.6257473814475161, 0.24675164289142357, 0.901998549114212, 0.7081672707847128, 0.4484169585194513, 0.32942000003132704, 0.8507271491817123, 0.95], \"opacity\": 0.8, \"size\": 5}, \"mode\": \"markers\", \"type\": \"scatter3d\", \"x\": [0.05, 0.05, 0.05, 0.05, 0.05, 0.05, 0.05, 0.05, 0.05, 0.05, 0.05, 0.05, 0.061224489795918366, 0.061224489795918366, 0.08163265306122448, 0.08163265306122448, 0.08163265306122448, 0.1020408163265306, 0.1020408163265306, 0.1020408163265306, 0.1020408163265306, 0.12244897959183673, 0.12244897959183673, 0.12244897959183673, 0.12244897959183673, 0.12244897959183673, 0.14285714285714285, 0.14285714285714285, 0.14285714285714285, 0.14285714285714285, 0.14285714285714285, 0.16326530612244897, 0.16326530612244897, 0.16326530612244897, 0.16326530612244897, 0.16326530612244897, 0.16326530612244897, 0.16326530612244897, 0.18367346938775508, 0.18367346938775508, 0.2040816326530612, 0.2040816326530612, 0.2040816326530612, 0.22448979591836732, 0.22448979591836732, 0.22448979591836732, 0.22448979591836732, 0.22448979591836732, 0.22448979591836732, 0.24489795918367346, 0.24489795918367346, 0.24489795918367346, 0.24489795918367346, 0.26530612244897955, 0.26530612244897955, 0.26530612244897955, 0.26530612244897955, 0.26530612244897955, 0.26530612244897955, 0.26530612244897955, 0.26530612244897955, 0.26530612244897955, 0.2857142857142857, 0.2857142857142857, 0.2857142857142857, 0.2857142857142857, 0.2857142857142857, 0.3061224489795918, 0.3061224489795918, 0.3061224489795918, 0.3061224489795918, 0.3061224489795918, 0.3061224489795918, 0.3061224489795918, 0.32653061224489793, 0.32653061224489793, 0.32653061224489793, 0.32653061224489793, 0.32653061224489793, 0.3469387755102041, 0.3469387755102041, 0.36734693877551017, 0.36734693877551017, 0.36734693877551017, 0.36734693877551017, 0.36734693877551017, 0.36734693877551017, 0.3877551020408163, 0.3877551020408163, 0.3877551020408163, 0.3877551020408163, 0.3877551020408163, 0.3877551020408163, 0.4081632653061224, 0.42857142857142855, 0.42857142857142855, 0.42857142857142855, 0.42857142857142855, 0.42857142857142855, 0.42857142857142855, 0.44897959183673464, 0.44897959183673464, 0.44897959183673464, 0.44897959183673464, 0.44897959183673464, 0.44897959183673464, 0.44897959183673464, 0.44897959183673464, 0.44897959183673464, 0.44897959183673464, 0.44897959183673464, 0.4693877551020408, 0.4693877551020408, 0.4693877551020408, 0.4693877551020408, 0.4897959183673469, 0.4897959183673469, 0.4897959183673469, 0.4897959183673469, 0.4897959183673469, 0.4897959183673469, 0.5102040816326531, 0.5102040816326531, 0.5102040816326531, 0.5102040816326531, 0.5102040816326531, 0.5306122448979591, 0.5306122448979591, 0.5306122448979591, 0.5306122448979591, 0.5510204081632653, 0.5510204081632653, 0.5510204081632653, 0.5510204081632653, 0.5714285714285714, 0.5714285714285714, 0.5714285714285714, 0.5714285714285714, 0.5714285714285714, 0.5714285714285714, 0.5714285714285714, 0.5918367346938775, 0.5918367346938775, 0.5918367346938775, 0.5918367346938775, 0.5918367346938775, 0.5918367346938775, 0.5918367346938775, 0.5918367346938775, 0.5918367346938775, 0.6122448979591836, 0.6122448979591836, 0.6122448979591836, 0.6122448979591836, 0.6122448979591836, 0.6122448979591836, 0.6122448979591836, 0.6122448979591836, 0.6326530612244897, 0.6326530612244897, 0.6326530612244897, 0.6326530612244897, 0.6326530612244897, 0.6326530612244897, 0.6326530612244897, 0.6530612244897959, 0.6530612244897959, 0.6530612244897959, 0.6530612244897959, 0.6530612244897959, 0.6530612244897959, 0.673469387755102, 0.673469387755102, 0.673469387755102, 0.6938775510204082, 0.6938775510204082, 0.6938775510204082, 0.6938775510204082, 0.7142857142857142, 0.7142857142857142, 0.7142857142857142, 0.7142857142857142, 0.7142857142857142, 0.7142857142857142, 0.7346938775510203, 0.7346938775510203, 0.7346938775510203, 0.7346938775510203, 0.7346938775510203, 0.7346938775510203, 0.7346938775510203, 0.7346938775510203, 0.7551020408163265, 0.7551020408163265, 0.7551020408163265, 0.7551020408163265, 0.7551020408163265, 0.7551020408163265, 0.7755102040816326, 0.7755102040816326, 0.7755102040816326, 0.7755102040816326, 0.7959183673469387, 0.7959183673469387, 0.7959183673469387, 0.7959183673469387, 0.8163265306122448, 0.8163265306122448, 0.8163265306122448, 0.8163265306122448, 0.8163265306122448, 0.836734693877551, 0.836734693877551, 0.836734693877551, 0.8571428571428571, 0.8571428571428571, 0.8571428571428571, 0.8571428571428571, 0.8775510204081632, 0.8775510204081632, 0.8775510204081632, 0.8775510204081632, 0.8775510204081632, 0.8775510204081632, 0.8979591836734693, 0.8979591836734693, 0.8979591836734693, 0.8979591836734693, 0.8979591836734693, 0.8979591836734693, 0.9183673469387754, 0.9183673469387754, 0.9183673469387754, 0.9183673469387754, 0.9387755102040816, 0.9387755102040816, 0.95, 0.95, 0.95, 0.95, 0.95, 0.95, 0.95, 0.95, 0.95, 0.95, 0.95, 0.95, 0.95, 0.95], \"y\": [0.8979591836734693, 0.95, 0.08163265306122448, 0.24489795918367346, 0.6530612244897959, 0.8163265306122448, 0.14285714285714285, 0.26530612244897955, 0.2857142857142857, 0.4081632653061224, 0.44897959183673464, 0.7346938775510203, 0.44897959183673464, 0.8571428571428571, 0.36734693877551017, 0.7551020408163265, 0.9183673469387754, 0.05, 0.1020408163265306, 0.18367346938775508, 0.4081632653061224, 0.12244897959183673, 0.2040816326530612, 0.7755102040816326, 0.7959183673469387, 0.8775510204081632, 0.05, 0.24489795918367346, 0.3877551020408163, 0.673469387755102, 0.6938775510204082, 0.05, 0.1020408163265306, 0.14285714285714285, 0.42857142857142855, 0.5510204081632653, 0.6326530612244897, 0.836734693877551, 0.08163265306122448, 0.24489795918367346, 0.061224489795918366, 0.18367346938775508, 0.7959183673469387, 0.3469387755102041, 0.673469387755102, 0.7142857142857142, 0.7755102040816326, 0.9387755102040816, 0.95, 0.22448979591836732, 0.4081632653061224, 0.5306122448979591, 0.8979591836734693, 0.1020408163265306, 0.12244897959183673, 0.14285714285714285, 0.22448979591836732, 0.24489795918367346, 0.36734693877551017, 0.44897959183673464, 0.5102040816326531, 0.95, 0.05, 0.2040816326530612, 0.4081632653061224, 0.5102040816326531, 0.6530612244897959, 0.22448979591836732, 0.36734693877551017, 0.5102040816326531, 0.5714285714285714, 0.5918367346938775, 0.7346938775510203, 0.9183673469387754, 0.05, 0.22448979591836732, 0.3877551020408163, 0.7551020408163265, 0.7959183673469387, 0.18367346938775508, 0.32653061224489793, 0.08163265306122448, 0.24489795918367346, 0.4081632653061224, 0.4693877551020408, 0.8979591836734693, 0.9387755102040816, 0.05, 0.05, 0.24489795918367346, 0.36734693877551017, 0.44897959183673464, 0.7142857142857142, 0.7959183673469387, 0.05, 0.061224489795918366, 0.3469387755102041, 0.4897959183673469, 0.6326530612244897, 0.6938775510204082, 0.05, 0.1020408163265306, 0.14285714285714285, 0.16326530612244897, 0.32653061224489793, 0.4081632653061224, 0.4897959183673469, 0.6938775510204082, 0.836734693877551, 0.8571428571428571, 0.9387755102040816, 0.44897959183673464, 0.5102040816326531, 0.673469387755102, 0.7959183673469387, 0.061224489795918366, 0.1020408163265306, 0.14285714285714285, 0.5510204081632653, 0.7959183673469387, 0.95, 0.1020408163265306, 0.14285714285714285, 0.4693877551020408, 0.673469387755102, 0.7755102040816326, 0.3061224489795918, 0.6122448979591836, 0.7959183673469387, 0.8163265306122448, 0.14285714285714285, 0.3061224489795918, 0.42857142857142855, 0.7755102040816326, 0.1020408163265306, 0.36734693877551017, 0.5918367346938775, 0.7551020408163265, 0.836734693877551, 0.8571428571428571, 0.95, 0.12244897959183673, 0.16326530612244897, 0.24489795918367346, 0.32653061224489793, 0.5714285714285714, 0.7755102040816326, 0.8979591836734693, 0.9183673469387754, 0.9387755102040816, 0.061224489795918366, 0.2040816326530612, 0.2857142857142857, 0.5918367346938775, 0.6530612244897959, 0.7346938775510203, 0.8163265306122448, 0.95, 0.05, 0.14285714285714285, 0.36734693877551017, 0.42857142857142855, 0.5306122448979591, 0.7142857142857142, 0.95, 0.05, 0.12244897959183673, 0.3061224489795918, 0.3469387755102041, 0.836734693877551, 0.95, 0.5102040816326531, 0.5306122448979591, 0.5918367346938775, 0.3877551020408163, 0.4897959183673469, 0.673469387755102, 0.7551020408163265, 0.18367346938775508, 0.24489795918367346, 0.5102040816326531, 0.6326530612244897, 0.6938775510204082, 0.7755102040816326, 0.2040816326530612, 0.3061224489795918, 0.4693877551020408, 0.4897959183673469, 0.6530612244897959, 0.7142857142857142, 0.8571428571428571, 0.8775510204081632, 0.08163265306122448, 0.14285714285714285, 0.3469387755102041, 0.42857142857142855, 0.6326530612244897, 0.7551020408163265, 0.6938775510204082, 0.7551020408163265, 0.9183673469387754, 0.95, 0.061224489795918366, 0.3061224489795918, 0.36734693877551017, 0.7142857142857142, 0.14285714285714285, 0.32653061224489793, 0.36734693877551017, 0.8571428571428571, 0.9183673469387754, 0.16326530612244897, 0.4897959183673469, 0.673469387755102, 0.22448979591836732, 0.7959183673469387, 0.8163265306122448, 0.95, 0.1020408163265306, 0.18367346938775508, 0.7551020408163265, 0.7959183673469387, 0.8163265306122448, 0.836734693877551, 0.05, 0.44897959183673464, 0.5102040816326531, 0.6938775510204082, 0.7142857142857142, 0.8979591836734693, 0.05, 0.16326530612244897, 0.6938775510204082, 0.7959183673469387, 0.3061224489795918, 0.673469387755102, 0.08163265306122448, 0.42857142857142855, 0.5306122448979591, 0.14285714285714285, 0.2040816326530612, 0.3877551020408163, 0.4081632653061224, 0.673469387755102, 0.22448979591836732, 0.36734693877551017, 0.4897959183673469, 0.5510204081632653, 0.9183673469387754, 0.95], \"z\": [0.7963289218726609, 0.95, 0.8374708388010617, 0.7731047938634492, 0.2100838187468362, 0.4710397198901133, 0.7243163094450482, 0.6606796531188589, 0.6419841678995071, 0.47941613448851245, 0.41165745068563425, 0.2476853629404794, 0.3613400127865251, 0.45067600214602677, 0.41958416635903906, 0.21746291791063213, 0.5040498995285058, 0.504773384885581, 0.5022639721258529, 0.48851458236007833, 0.32924930572590644, 0.44800701419191535, 0.4317484959939039, 0.19695851301433911, 0.22414477485627474, 0.3463033691212989, 0.4095506663031099, 0.3771521991725676, 0.28509793226393076, 0.10534091075258313, 0.11221824540931948, 0.37630007916845437, 0.37452877175700927, 0.37093144018138735, 0.2283592317762059, 0.12916008945763557, 0.09513764047344998, 0.23690485519414214, 0.3508328957155223, 0.32386870199679363, 0.3342656867888549, 0.3238134606942762, 0.16591198481823763, 0.25182772029704825, 0.08341993225071011, 0.09751867333235635, 0.14131572251465765, 0.3027998218782933, 0.3218053605832753, 0.30082225701146814, 0.20883523696738804, 0.12196896250668506, 0.26558076377893425, 0.3198371404982752, 0.3185762928253492, 0.31676511951795505, 0.3020145879755322, 0.2960072324921016, 0.23711440191764752, 0.18003007783546893, 0.13585328650527365, 0.31893794260881425, 0.32741166846664543, 0.31280638526438004, 0.21361801273747638, 0.1384159968492536, 0.08195447923875288, 0.3173592788606252, 0.24916165839694304, 0.1427556904623841, 0.1048253785814643, 0.09581493045898555, 0.11382370327317366, 0.29931994329325445, 0.35159660712388946, 0.3304414955277893, 0.24481972388563775, 0.13445925829806166, 0.17439093980468798, 0.3568813865606345, 0.29949269221570385, 0.38755466924367227, 0.3577681261181445, 0.25340843026037674, 0.19939731000214436, 0.32226555936573753, 0.36271695194167075, 0.41047939777792586, 0.41046753956235843, 0.37800746116329864, 0.3028000779559857, 0.2299021955736589, 0.12342375301307147, 0.21534894988858305, 0.45943583074134203, 0.4591114705293844, 0.3568315882397822, 0.21465991615952637, 0.11615634251866201, 0.12592037168727904, 0.48592944462834625, 0.48352768045984823, 0.478883419394282, 0.4751571060303649, 0.3946655134073982, 0.3169670968372219, 0.22698468605808836, 0.13315013136646284, 0.3058511488565124, 0.3394578794758633, 0.45369184881681607, 0.2873960363312139, 0.21687318326811375, 0.13198313862356453, 0.25444443974364866, 0.5403105357101123, 0.5381471337854108, 0.5329782553902612, 0.1855855602628826, 0.26818185934380784, 0.5366341738891165, 0.5659656220006253, 0.5605295483094423, 0.2919316146661785, 0.14629985811591067, 0.24783609379239013, 0.5039895842176705, 0.1576428383106277, 0.29591585207402427, 0.33483624054663913, 0.6154656475973453, 0.5274448480659834, 0.3789036119484683, 0.2721258895699153, 0.648677173424424, 0.4809031864608978, 0.18493096275209575, 0.2492434618488904, 0.4103149969411732, 0.45540014905793363, 0.6321143036732222, 0.6726918360366193, 0.663662814068564, 0.6250359904036967, 0.5512383628900841, 0.21064243309346548, 0.29573729773324847, 0.5630115104346897, 0.6014715327709574, 0.6336817976294686, 0.7041301908209088, 0.6731954024710819, 0.6156233365140265, 0.19993626567793182, 0.17637548731241537, 0.23751503099835655, 0.3954605387254439, 0.6834040740243644, 0.7298455756832299, 0.719432935269202, 0.5385312323080607, 0.44290975262770294, 0.27811233250437645, 0.21950967204135485, 0.7243678236068333, 0.7542810213297924, 0.7475725044346073, 0.6370161689031669, 0.5856744975773706, 0.4747418682439142, 0.7313676753388335, 0.32857943894256836, 0.29616758202164034, 0.22053633021956728, 0.5564863486072538, 0.37340392604018513, 0.20561628882456826, 0.3056319993305796, 0.793706863751425, 0.7552453487629456, 0.3466218101613633, 0.2072916558123502, 0.22471646215417804, 0.3573461720572264, 0.8018544020429924, 0.7090006511537061, 0.43087968153772316, 0.3921391058854304, 0.21008381874683618, 0.2524275442536908, 0.5864479743332263, 0.6431635166047076, 0.8554452534710889, 0.8450763043571082, 0.6658478767039009, 0.5202604976296853, 0.21674777844995574, 0.32785561360126153, 0.23951617934061184, 0.3342025477554307, 0.7746367161665838, 0.8741360237947211, 0.8884240416153631, 0.7510339928767338, 0.6560046789616308, 0.26739279599309973, 0.8898490735766664, 0.7333574879715831, 0.6660961636154645, 0.6307720571156268, 0.8001867831671221, 0.8948491378590934, 0.4274734567756147, 0.2353898811009079, 0.8699276975065906, 0.45910550213432394, 0.519489440229377, 0.8977411526561268, 0.9304334163472624, 0.9049629617607762, 0.3575036323323012, 0.46367498389598366, 0.5246599239449228, 0.5885374112474016, 0.9428169867066626, 0.5280549923854406, 0.39847789343645873, 0.2583349917248565, 0.2834880667184344, 0.7820754526534869, 0.9490592246702769, 0.9280199823878809, 0.26005289828866074, 0.4706193787311008, 0.805611084062272, 0.24535651223506413, 0.95, 0.5807980185279384, 0.36469526960834386, 0.9453979567427928, 0.916298087276931, 0.6678163561382314, 0.6257473814475161, 0.24675164289142357, 0.901998549114212, 0.7081672707847128, 0.4484169585194513, 0.32942000003132704, 0.8507271491817123, 0.95]}],\n",
              "                        {\"autosize\": false, \"height\": 500, \"margin\": {\"b\": 25, \"l\": 20, \"r\": 20, \"t\": 20}, \"scene\": {\"xaxis\": {\"title\": {\"text\": \"calories\"}}, \"yaxis\": {\"title\": {\"text\": \"exercise\"}}, \"zaxis\": {\"title\": {\"text\": \"risk of death!\"}}}, \"template\": {\"data\": {\"bar\": [{\"error_x\": {\"color\": \"#2a3f5f\"}, \"error_y\": {\"color\": \"#2a3f5f\"}, \"marker\": {\"line\": {\"color\": \"#E5ECF6\", \"width\": 0.5}}, \"type\": \"bar\"}], \"barpolar\": [{\"marker\": {\"line\": {\"color\": \"#E5ECF6\", \"width\": 0.5}}, \"type\": \"barpolar\"}], \"carpet\": [{\"aaxis\": {\"endlinecolor\": \"#2a3f5f\", \"gridcolor\": \"white\", \"linecolor\": \"white\", \"minorgridcolor\": \"white\", \"startlinecolor\": \"#2a3f5f\"}, \"baxis\": {\"endlinecolor\": \"#2a3f5f\", \"gridcolor\": \"white\", \"linecolor\": \"white\", \"minorgridcolor\": \"white\", \"startlinecolor\": \"#2a3f5f\"}, \"type\": \"carpet\"}], \"choropleth\": [{\"colorbar\": {\"outlinewidth\": 0, \"ticks\": \"\"}, \"type\": \"choropleth\"}], \"contour\": [{\"colorbar\": {\"outlinewidth\": 0, \"ticks\": \"\"}, \"colorscale\": [[0.0, \"#0d0887\"], [0.1111111111111111, \"#46039f\"], [0.2222222222222222, \"#7201a8\"], [0.3333333333333333, \"#9c179e\"], [0.4444444444444444, \"#bd3786\"], [0.5555555555555556, \"#d8576b\"], [0.6666666666666666, \"#ed7953\"], [0.7777777777777778, \"#fb9f3a\"], [0.8888888888888888, \"#fdca26\"], [1.0, \"#f0f921\"]], \"type\": \"contour\"}], \"contourcarpet\": [{\"colorbar\": {\"outlinewidth\": 0, \"ticks\": \"\"}, \"type\": \"contourcarpet\"}], \"heatmap\": [{\"colorbar\": {\"outlinewidth\": 0, \"ticks\": \"\"}, \"colorscale\": [[0.0, \"#0d0887\"], [0.1111111111111111, \"#46039f\"], [0.2222222222222222, \"#7201a8\"], [0.3333333333333333, \"#9c179e\"], [0.4444444444444444, \"#bd3786\"], [0.5555555555555556, \"#d8576b\"], [0.6666666666666666, \"#ed7953\"], [0.7777777777777778, \"#fb9f3a\"], [0.8888888888888888, \"#fdca26\"], [1.0, \"#f0f921\"]], \"type\": \"heatmap\"}], \"heatmapgl\": [{\"colorbar\": {\"outlinewidth\": 0, \"ticks\": \"\"}, \"colorscale\": [[0.0, \"#0d0887\"], [0.1111111111111111, \"#46039f\"], [0.2222222222222222, \"#7201a8\"], [0.3333333333333333, \"#9c179e\"], [0.4444444444444444, \"#bd3786\"], [0.5555555555555556, \"#d8576b\"], [0.6666666666666666, \"#ed7953\"], [0.7777777777777778, \"#fb9f3a\"], [0.8888888888888888, \"#fdca26\"], [1.0, \"#f0f921\"]], \"type\": \"heatmapgl\"}], \"histogram\": [{\"marker\": {\"colorbar\": {\"outlinewidth\": 0, \"ticks\": \"\"}}, \"type\": \"histogram\"}], \"histogram2d\": [{\"colorbar\": {\"outlinewidth\": 0, \"ticks\": \"\"}, \"colorscale\": [[0.0, \"#0d0887\"], [0.1111111111111111, \"#46039f\"], [0.2222222222222222, \"#7201a8\"], [0.3333333333333333, \"#9c179e\"], [0.4444444444444444, \"#bd3786\"], [0.5555555555555556, \"#d8576b\"], [0.6666666666666666, \"#ed7953\"], [0.7777777777777778, \"#fb9f3a\"], [0.8888888888888888, \"#fdca26\"], [1.0, \"#f0f921\"]], \"type\": \"histogram2d\"}], \"histogram2dcontour\": [{\"colorbar\": {\"outlinewidth\": 0, \"ticks\": \"\"}, \"colorscale\": [[0.0, \"#0d0887\"], [0.1111111111111111, \"#46039f\"], [0.2222222222222222, \"#7201a8\"], [0.3333333333333333, \"#9c179e\"], [0.4444444444444444, \"#bd3786\"], [0.5555555555555556, \"#d8576b\"], [0.6666666666666666, \"#ed7953\"], [0.7777777777777778, \"#fb9f3a\"], [0.8888888888888888, \"#fdca26\"], [1.0, \"#f0f921\"]], \"type\": \"histogram2dcontour\"}], \"mesh3d\": [{\"colorbar\": {\"outlinewidth\": 0, \"ticks\": \"\"}, \"type\": \"mesh3d\"}], \"parcoords\": [{\"line\": {\"colorbar\": {\"outlinewidth\": 0, \"ticks\": \"\"}}, \"type\": \"parcoords\"}], \"pie\": [{\"automargin\": true, \"type\": \"pie\"}], \"scatter\": [{\"marker\": {\"colorbar\": {\"outlinewidth\": 0, \"ticks\": \"\"}}, \"type\": \"scatter\"}], \"scatter3d\": [{\"line\": {\"colorbar\": {\"outlinewidth\": 0, \"ticks\": \"\"}}, \"marker\": {\"colorbar\": {\"outlinewidth\": 0, \"ticks\": \"\"}}, \"type\": \"scatter3d\"}], \"scattercarpet\": [{\"marker\": {\"colorbar\": {\"outlinewidth\": 0, \"ticks\": \"\"}}, \"type\": \"scattercarpet\"}], \"scattergeo\": [{\"marker\": {\"colorbar\": {\"outlinewidth\": 0, \"ticks\": \"\"}}, \"type\": \"scattergeo\"}], \"scattergl\": [{\"marker\": {\"colorbar\": {\"outlinewidth\": 0, \"ticks\": \"\"}}, \"type\": \"scattergl\"}], \"scattermapbox\": [{\"marker\": {\"colorbar\": {\"outlinewidth\": 0, \"ticks\": \"\"}}, \"type\": \"scattermapbox\"}], \"scatterpolar\": [{\"marker\": {\"colorbar\": {\"outlinewidth\": 0, \"ticks\": \"\"}}, \"type\": \"scatterpolar\"}], \"scatterpolargl\": [{\"marker\": {\"colorbar\": {\"outlinewidth\": 0, \"ticks\": \"\"}}, \"type\": \"scatterpolargl\"}], \"scatterternary\": [{\"marker\": {\"colorbar\": {\"outlinewidth\": 0, \"ticks\": \"\"}}, \"type\": \"scatterternary\"}], \"surface\": [{\"colorbar\": {\"outlinewidth\": 0, \"ticks\": \"\"}, \"colorscale\": [[0.0, \"#0d0887\"], [0.1111111111111111, \"#46039f\"], [0.2222222222222222, \"#7201a8\"], [0.3333333333333333, \"#9c179e\"], [0.4444444444444444, \"#bd3786\"], [0.5555555555555556, \"#d8576b\"], [0.6666666666666666, \"#ed7953\"], [0.7777777777777778, \"#fb9f3a\"], [0.8888888888888888, \"#fdca26\"], [1.0, \"#f0f921\"]], \"type\": \"surface\"}], \"table\": [{\"cells\": {\"fill\": {\"color\": \"#EBF0F8\"}, \"line\": {\"color\": \"white\"}}, \"header\": {\"fill\": {\"color\": \"#C8D4E3\"}, \"line\": {\"color\": \"white\"}}, \"type\": \"table\"}]}, \"layout\": {\"annotationdefaults\": {\"arrowcolor\": \"#2a3f5f\", \"arrowhead\": 0, \"arrowwidth\": 1}, \"coloraxis\": {\"colorbar\": {\"outlinewidth\": 0, \"ticks\": \"\"}}, \"colorscale\": {\"diverging\": [[0, \"#8e0152\"], [0.1, \"#c51b7d\"], [0.2, \"#de77ae\"], [0.3, \"#f1b6da\"], [0.4, \"#fde0ef\"], [0.5, \"#f7f7f7\"], [0.6, \"#e6f5d0\"], [0.7, \"#b8e186\"], [0.8, \"#7fbc41\"], [0.9, \"#4d9221\"], [1, \"#276419\"]], \"sequential\": [[0.0, \"#0d0887\"], [0.1111111111111111, \"#46039f\"], [0.2222222222222222, \"#7201a8\"], [0.3333333333333333, \"#9c179e\"], [0.4444444444444444, \"#bd3786\"], [0.5555555555555556, \"#d8576b\"], [0.6666666666666666, \"#ed7953\"], [0.7777777777777778, \"#fb9f3a\"], [0.8888888888888888, \"#fdca26\"], [1.0, \"#f0f921\"]], \"sequentialminus\": [[0.0, \"#0d0887\"], [0.1111111111111111, \"#46039f\"], [0.2222222222222222, \"#7201a8\"], [0.3333333333333333, \"#9c179e\"], [0.4444444444444444, \"#bd3786\"], [0.5555555555555556, \"#d8576b\"], [0.6666666666666666, \"#ed7953\"], [0.7777777777777778, \"#fb9f3a\"], [0.8888888888888888, \"#fdca26\"], [1.0, \"#f0f921\"]]}, \"colorway\": [\"#636efa\", \"#EF553B\", \"#00cc96\", \"#ab63fa\", \"#FFA15A\", \"#19d3f3\", \"#FF6692\", \"#B6E880\", \"#FF97FF\", \"#FECB52\"], \"font\": {\"color\": \"#2a3f5f\"}, \"geo\": {\"bgcolor\": \"white\", \"lakecolor\": \"white\", \"landcolor\": \"#E5ECF6\", \"showlakes\": true, \"showland\": true, \"subunitcolor\": \"white\"}, \"hoverlabel\": {\"align\": \"left\"}, \"hovermode\": \"closest\", \"mapbox\": {\"style\": \"light\"}, \"paper_bgcolor\": \"white\", \"plot_bgcolor\": \"#E5ECF6\", \"polar\": {\"angularaxis\": {\"gridcolor\": \"white\", \"linecolor\": \"white\", \"ticks\": \"\"}, \"bgcolor\": \"#E5ECF6\", \"radialaxis\": {\"gridcolor\": \"white\", \"linecolor\": \"white\", \"ticks\": \"\"}}, \"scene\": {\"xaxis\": {\"backgroundcolor\": \"#E5ECF6\", \"gridcolor\": \"white\", \"gridwidth\": 2, \"linecolor\": \"white\", \"showbackground\": true, \"ticks\": \"\", \"zerolinecolor\": \"white\"}, \"yaxis\": {\"backgroundcolor\": \"#E5ECF6\", \"gridcolor\": \"white\", \"gridwidth\": 2, \"linecolor\": \"white\", \"showbackground\": true, \"ticks\": \"\", \"zerolinecolor\": \"white\"}, \"zaxis\": {\"backgroundcolor\": \"#E5ECF6\", \"gridcolor\": \"white\", \"gridwidth\": 2, \"linecolor\": \"white\", \"showbackground\": true, \"ticks\": \"\", \"zerolinecolor\": \"white\"}}, \"shapedefaults\": {\"line\": {\"color\": \"#2a3f5f\"}}, \"ternary\": {\"aaxis\": {\"gridcolor\": \"white\", \"linecolor\": \"white\", \"ticks\": \"\"}, \"baxis\": {\"gridcolor\": \"white\", \"linecolor\": \"white\", \"ticks\": \"\"}, \"bgcolor\": \"#E5ECF6\", \"caxis\": {\"gridcolor\": \"white\", \"linecolor\": \"white\", \"ticks\": \"\"}}, \"title\": {\"x\": 0.05}, \"xaxis\": {\"automargin\": true, \"gridcolor\": \"white\", \"linecolor\": \"white\", \"ticks\": \"\", \"title\": {\"standoff\": 15}, \"zerolinecolor\": \"white\", \"zerolinewidth\": 2}, \"yaxis\": {\"automargin\": true, \"gridcolor\": \"white\", \"linecolor\": \"white\", \"ticks\": \"\", \"title\": {\"standoff\": 15}, \"zerolinecolor\": \"white\", \"zerolinewidth\": 2}}}, \"width\": 600},\n",
              "                        {\"responsive\": true}\n",
              "                    ).then(function(){\n",
              "                            \n",
              "var gd = document.getElementById('61d20f86-4905-4e50-97db-faa0b5bb6f88');\n",
              "var x = new MutationObserver(function (mutations, observer) {{\n",
              "        var display = window.getComputedStyle(gd).display;\n",
              "        if (!display || display === 'none') {{\n",
              "            console.log([gd, 'removed!']);\n",
              "            Plotly.purge(gd);\n",
              "            observer.disconnect();\n",
              "        }}\n",
              "}});\n",
              "\n",
              "// Listen for the removal of the full notebook cells\n",
              "var notebookContainer = gd.closest('#notebook-container');\n",
              "if (notebookContainer) {{\n",
              "    x.observe(notebookContainer, {childList: true});\n",
              "}}\n",
              "\n",
              "// Listen for the clearing of the current output cell\n",
              "var outputEl = gd.closest('.output');\n",
              "if (outputEl) {{\n",
              "    x.observe(outputEl, {childList: true});\n",
              "}}\n",
              "\n",
              "                        })\n",
              "                };\n",
              "                \n",
              "            </script>\n",
              "        </div>\n",
              "</body>\n",
              "</html>"
            ]
          },
          "metadata": {}
        }
      ]
    },
    {
      "cell_type": "markdown",
      "metadata": {
        "id": "V31fhJCpbq0n"
      },
      "source": [
        "## Exercise 4: Add noise to the data\n",
        "\n",
        "Let's add a bit of noise to the data by regenerating the dataframe (from WAYY up at the top of this)"
      ]
    },
    {
      "cell_type": "code",
      "metadata": {
        "colab": {
          "base_uri": "https://localhost:8080/",
          "height": 417
        },
        "id": "QnbSlrpCbtQf",
        "outputId": "65f0dba5-7b3c-48f1-b4df-f8c203fff928"
      },
      "source": [
        "df = gen_df(noise_amp = 0.15)\n",
        "plot_df(df)  # take a look"
      ],
      "execution_count": null,
      "outputs": [
        {
          "output_type": "display_data",
          "data": {
            "text/html": [
              "<html>\n",
              "<head><meta charset=\"utf-8\" /></head>\n",
              "<body>\n",
              "    <div>\n",
              "            <script src=\"https://cdnjs.cloudflare.com/ajax/libs/mathjax/2.7.5/MathJax.js?config=TeX-AMS-MML_SVG\"></script><script type=\"text/javascript\">if (window.MathJax) {MathJax.Hub.Config({SVG: {font: \"STIX-Web\"}});}</script>\n",
              "                <script type=\"text/javascript\">window.PlotlyConfig = {MathJaxConfig: 'local'};</script>\n",
              "        <script src=\"https://cdn.plot.ly/plotly-latest.min.js\"></script>    \n",
              "            <div id=\"99111b7b-c51c-44e3-a419-d5290fd56343\" class=\"plotly-graph-div\" style=\"height:400px; width:600px;\"></div>\n",
              "            <script type=\"text/javascript\">\n",
              "                \n",
              "                    window.PLOTLYENV=window.PLOTLYENV || {};\n",
              "                    \n",
              "                if (document.getElementById(\"99111b7b-c51c-44e3-a419-d5290fd56343\")) {\n",
              "                    Plotly.newPlot(\n",
              "                        '99111b7b-c51c-44e3-a419-d5290fd56343',\n",
              "                        [{\"hoverlabel\": {\"namelength\": 0}, \"hovertemplate\": \"calories=%{x}<br>exercise=%{y}<br>death_prob=%{marker.color}\", \"legendgroup\": \"\", \"marker\": {\"color\": [0.95, 0.8720462565752648, 0.35928067129941066, 0.7980062332243321, 0.8118368489595902, 0.8082873638565384, 0.8080805355355485, 0.36517321950908166, 0.347956222141898, 0.3855260378345633, 0.34526276445358633, 0.5099090864705923, 0.8892338387834278, 0.95, 0.7274318822091219, 0.6019965987665942, 0.5093936012814493, 0.2782564905841688, 0.06073649857718168, 0.5825800431173058, 0.6552802157759577, 0.6623398450943713, 0.4583050383257405, 0.49418048274068044, 0.34099913290059114, 0.25118590272934577, 0.3286745009408588, 0.179333835980951, 0.28427196693735884, 0.37893301398772744, 0.39776089776727885, 0.47883757328588133, 0.39041822880094035, 0.16184997844572313, 0.16430729660014123, 0.5581363096024472, 0.3578812989961366, 0.1812353700396853, 0.2786466153877529, 0.2196506019534506, 0.43234499043346974, 0.4968460989568991, 0.42298732637597425, 0.39952420041863135, 0.2193651839362828, 0.2239369939121987, 0.2378423216765976, 0.1500902450593293, 0.17511933677399938, 0.12787699788487722, 0.5062875352290548, 0.4232230696724889, 0.11840069909736128, 0.17480415564637347, 0.2548416116197145, 0.22102135094596026, 0.34843392350216207, 0.5175452938576508, 0.30808623064810126, 0.5131705539959752, 0.2765364757098668, 0.10651383725502707, 0.083841370869671, 0.22137551663023897, 0.20231810874622178, 0.15925939965677782, 0.2107060565480138, 0.17999370799846806, 0.23716892558721975, 0.31135107640353843, 0.3492083483508464, 0.2641120958798888, 0.2626769417818733, 0.1955466167691473, 0.22785834639715438, 0.1296994533396474, 0.1791834218554329, 0.05, 0.2641417954275384, 0.3456387638834565, 0.41706863021394414, 0.11420685084130627, 0.21296411495779488, 0.05, 0.05, 0.29118761152357586, 0.3694502187160912, 0.43861140723453185, 0.2704250146854787, 0.3577002827069995, 0.10553598011034117, 0.05, 0.44475059082796936, 0.22881170948741714, 0.05, 0.17620935889633016, 0.4061158233838686, 0.5137445170625596, 0.6785163434553756, 0.4719886236665001, 0.49907365520080826, 0.36761181473574484, 0.21534246729712442, 0.6806826713899019, 0.33829755883697454, 0.33413029846610265, 0.4788378783411458, 0.4650938569600644, 0.5880277428069136, 0.7508575838437038, 0.5863595130547744, 0.05, 0.6747801732233668, 0.6440021759923661, 0.348211026031595, 0.21002618932659067, 0.06877070842162931, 0.11425457957051964, 0.6119664321884464, 0.747545107259192, 0.6162143074445852, 0.29626976203071703, 0.3765956299733812, 0.3281809862510099, 0.5703896635639927, 0.7482027891355857, 0.646096925355088, 0.3866367763161962, 0.349364712391665, 0.2623172577818346, 0.6806334215700153, 0.7244456861765938, 0.14198503081478575, 0.6450047106404867, 0.4772147099066225, 0.7246431060223903, 0.5063311822024985, 0.7126196907282445, 0.585613596447023, 0.45599803069751155, 0.40713623163634055, 0.35443607286185386, 0.36784531808144577, 0.24028172642451734, 0.073688700924699, 0.49779950751027097, 0.8564925206413218, 0.533566573543677, 0.46348796622898225, 0.17080130233943452, 0.17399312825795196, 0.41745348207003335, 0.6356829346840449, 0.6241922259748831, 0.7798943026199815, 0.7770405812674701, 0.6527205619340147, 0.3959607522654283, 0.3393430768599496, 0.35071184498004915, 0.95, 0.751655036673205, 0.8699011102128212, 0.6727003105333448, 0.704057312432872, 0.673282562962316, 0.7572159739061448, 0.725690333824822, 0.9450881906586508, 0.6945649371879619, 0.7701361622024009, 0.5737500698983271, 0.5090848854592361, 0.5834949202061911, 0.6140682482756636, 0.348049441093455, 0.28886628384063406, 0.95, 0.5092520314354341, 0.37480920362769443, 0.25458527554225374, 0.34931922868077536, 0.8273283490914799, 0.8331341459884596, 0.95, 0.9072775927007951, 0.4588212958846005, 0.95, 0.95, 0.95, 0.95, 0.95, 0.7377958471345725, 0.6867475517381973, 0.39674441840468727, 0.3371939199569096, 0.95, 0.41312516033759156, 0.2814088306518132, 0.95, 0.5439606359885076, 0.4421033686798707, 0.17954241517892155, 0.7236721704946737, 0.7221334647497982, 0.877736101832491, 0.8603175149036513, 0.95, 0.817104030037201, 0.8381054036336051, 0.9025054337631265, 0.541005389134001, 0.4586579214582239, 0.3847811328496019, 0.2950697476082259, 0.6766791555064772, 0.95, 0.95, 0.95, 0.95, 0.860828530577234, 0.9174753699048338, 0.7086256706143266, 0.186028164157004, 0.5031936452817934, 0.6697998704598567, 0.9167451643806634, 0.9449931394954447, 0.5649411618586535, 0.3815054650199869, 0.4906095794418956, 0.95, 0.95, 0.9410291127726503, 0.3198743538393071, 0.3234341316093737, 0.3212164623248423, 0.6053499177445912, 0.8165861938850681, 0.95], \"coloraxis\": \"coloraxis\", \"size\": 5, \"symbol\": \"circle\"}, \"mode\": \"markers\", \"name\": \"\", \"scene\": \"scene\", \"showlegend\": false, \"type\": \"scatter3d\", \"x\": [0.05, 0.05, 0.05, 0.05, 0.05, 0.05, 0.05, 0.05, 0.05, 0.05, 0.05, 0.05, 0.05, 0.05, 0.05128205128205128, 0.05128205128205128, 0.05128205128205128, 0.05128205128205128, 0.05128205128205128, 0.05128205128205128, 0.07692307692307693, 0.07692307692307693, 0.07692307692307693, 0.07692307692307693, 0.10256410256410256, 0.10256410256410256, 0.10256410256410256, 0.10256410256410256, 0.10256410256410256, 0.10256410256410256, 0.10256410256410256, 0.1282051282051282, 0.1282051282051282, 0.1282051282051282, 0.1282051282051282, 0.1282051282051282, 0.15384615384615385, 0.15384615384615385, 0.15384615384615385, 0.15384615384615385, 0.1794871794871795, 0.1794871794871795, 0.1794871794871795, 0.1794871794871795, 0.1794871794871795, 0.20512820512820512, 0.20512820512820512, 0.20512820512820512, 0.20512820512820512, 0.20512820512820512, 0.20512820512820512, 0.23076923076923075, 0.23076923076923075, 0.23076923076923075, 0.23076923076923075, 0.23076923076923075, 0.2564102564102564, 0.2564102564102564, 0.2564102564102564, 0.2564102564102564, 0.2564102564102564, 0.2564102564102564, 0.2564102564102564, 0.2564102564102564, 0.28205128205128205, 0.28205128205128205, 0.28205128205128205, 0.3076923076923077, 0.3076923076923077, 0.3076923076923077, 0.3333333333333333, 0.3333333333333333, 0.3333333333333333, 0.3333333333333333, 0.3333333333333333, 0.3333333333333333, 0.3333333333333333, 0.3333333333333333, 0.3333333333333333, 0.3333333333333333, 0.3333333333333333, 0.358974358974359, 0.358974358974359, 0.358974358974359, 0.358974358974359, 0.358974358974359, 0.358974358974359, 0.3846153846153846, 0.3846153846153846, 0.3846153846153846, 0.3846153846153846, 0.3846153846153846, 0.41025641025641024, 0.41025641025641024, 0.41025641025641024, 0.41025641025641024, 0.41025641025641024, 0.4358974358974359, 0.4358974358974359, 0.4358974358974359, 0.4358974358974359, 0.4358974358974359, 0.4358974358974359, 0.4615384615384615, 0.4615384615384615, 0.4615384615384615, 0.4615384615384615, 0.4615384615384615, 0.48717948717948717, 0.48717948717948717, 0.48717948717948717, 0.48717948717948717, 0.5128205128205128, 0.5128205128205128, 0.5128205128205128, 0.5128205128205128, 0.5128205128205128, 0.5128205128205128, 0.5128205128205128, 0.5384615384615384, 0.5384615384615384, 0.5384615384615384, 0.5384615384615384, 0.5384615384615384, 0.5384615384615384, 0.5384615384615384, 0.5641025641025641, 0.5641025641025641, 0.5641025641025641, 0.5641025641025641, 0.5897435897435898, 0.5897435897435898, 0.5897435897435898, 0.6153846153846154, 0.6153846153846154, 0.6153846153846154, 0.6153846153846154, 0.6153846153846154, 0.6153846153846154, 0.6153846153846154, 0.6153846153846154, 0.6153846153846154, 0.6153846153846154, 0.6153846153846154, 0.6153846153846154, 0.6153846153846154, 0.641025641025641, 0.641025641025641, 0.641025641025641, 0.641025641025641, 0.641025641025641, 0.641025641025641, 0.641025641025641, 0.641025641025641, 0.641025641025641, 0.6666666666666666, 0.6666666666666666, 0.6666666666666666, 0.6666666666666666, 0.6666666666666666, 0.6923076923076923, 0.6923076923076923, 0.6923076923076923, 0.6923076923076923, 0.6923076923076923, 0.6923076923076923, 0.6923076923076923, 0.717948717948718, 0.717948717948718, 0.717948717948718, 0.717948717948718, 0.717948717948718, 0.717948717948718, 0.717948717948718, 0.7435897435897436, 0.7435897435897436, 0.7435897435897436, 0.7692307692307692, 0.7692307692307692, 0.7692307692307692, 0.7692307692307692, 0.7692307692307692, 0.7692307692307692, 0.7948717948717948, 0.7948717948717948, 0.7948717948717948, 0.7948717948717948, 0.7948717948717948, 0.7948717948717948, 0.7948717948717948, 0.8205128205128205, 0.8205128205128205, 0.8205128205128205, 0.8205128205128205, 0.8205128205128205, 0.8205128205128205, 0.8205128205128205, 0.8461538461538461, 0.8461538461538461, 0.8717948717948718, 0.8717948717948718, 0.8717948717948718, 0.8717948717948718, 0.8717948717948718, 0.8717948717948718, 0.8717948717948718, 0.8974358974358974, 0.8974358974358974, 0.8974358974358974, 0.923076923076923, 0.923076923076923, 0.923076923076923, 0.923076923076923, 0.923076923076923, 0.923076923076923, 0.923076923076923, 0.923076923076923, 0.923076923076923, 0.9487179487179487, 0.9487179487179487, 0.9487179487179487, 0.9487179487179487, 0.9487179487179487, 0.9487179487179487, 0.9487179487179487, 0.9487179487179487, 0.9487179487179487, 0.95, 0.95, 0.95, 0.95, 0.95, 0.95, 0.95, 0.95, 0.95, 0.95, 0.95, 0.95, 0.95], \"y\": [0.05128205128205128, 0.20512820512820512, 0.5641025641025641, 0.8717948717948718, 0.9487179487179487, 0.05, 0.28205128205128205, 0.4358974358974359, 0.5641025641025641, 0.5897435897435898, 0.7692307692307692, 0.8461538461538461, 0.923076923076923, 0.95, 0.20512820512820512, 0.23076923076923075, 0.3333333333333333, 0.6153846153846154, 0.6666666666666666, 0.95, 0.05, 0.05128205128205128, 0.23076923076923075, 0.9487179487179487, 0.28205128205128205, 0.4358974358974359, 0.48717948717948717, 0.6666666666666666, 0.8205128205128205, 0.8974358974358974, 0.923076923076923, 0.3076923076923077, 0.4615384615384615, 0.48717948717948717, 0.7435897435897436, 0.923076923076923, 0.1794871794871795, 0.3846153846153846, 0.5128205128205128, 0.5384615384615384, 0.1282051282051282, 0.15384615384615385, 0.358974358974359, 0.3846153846153846, 0.41025641025641024, 0.4615384615384615, 0.48717948717948717, 0.5897435897435898, 0.717948717948718, 0.7435897435897436, 0.8974358974358974, 0.05, 0.3076923076923077, 0.48717948717948717, 0.5384615384615384, 0.8974358974358974, 0.05, 0.05128205128205128, 0.10256410256410256, 0.20512820512820512, 0.4615384615384615, 0.5384615384615384, 0.6666666666666666, 0.717948717948718, 0.41025641025641024, 0.48717948717948717, 0.641025641025641, 0.2564102564102564, 0.923076923076923, 0.9487179487179487, 0.05, 0.28205128205128205, 0.3846153846153846, 0.41025641025641024, 0.4615384615384615, 0.5641025641025641, 0.6153846153846154, 0.717948717948718, 0.7692307692307692, 0.7948717948717948, 0.95, 0.3333333333333333, 0.4358974358974359, 0.7435897435897436, 0.7692307692307692, 0.8717948717948718, 0.8974358974358974, 0.05, 0.10256410256410256, 0.15384615384615385, 0.5128205128205128, 0.5897435897435898, 0.20512820512820512, 0.3333333333333333, 0.7692307692307692, 0.8974358974358974, 0.95, 0.10256410256410256, 0.1794871794871795, 0.23076923076923075, 0.2564102564102564, 0.3333333333333333, 0.6923076923076923, 0.10256410256410256, 0.3846153846153846, 0.4358974358974359, 0.923076923076923, 0.9487179487179487, 0.07692307692307693, 0.15384615384615385, 0.28205128205128205, 0.5897435897435898, 0.28205128205128205, 0.358974358974359, 0.41025641025641024, 0.6153846153846154, 0.6666666666666666, 0.6923076923076923, 0.9487179487179487, 0.05, 0.05, 0.48717948717948717, 0.5128205128205128, 0.8461538461538461, 0.923076923076923, 0.95, 0.10256410256410256, 0.3333333333333333, 0.41025641025641024, 0.717948717948718, 0.1282051282051282, 0.15384615384615385, 0.717948717948718, 0.05, 0.10256410256410256, 0.1282051282051282, 0.20512820512820512, 0.23076923076923075, 0.2564102564102564, 0.3076923076923077, 0.3846153846153846, 0.4615384615384615, 0.48717948717948717, 0.5641025641025641, 0.6923076923076923, 0.95, 0.1794871794871795, 0.28205128205128205, 0.3846153846153846, 0.7435897435897436, 0.7692307692307692, 0.8461538461538461, 0.8717948717948718, 0.923076923076923, 0.95, 0.20512820512820512, 0.3076923076923077, 0.358974358974359, 0.48717948717948717, 0.8205128205128205, 0.05, 0.20512820512820512, 0.23076923076923075, 0.2564102564102564, 0.28205128205128205, 0.3333333333333333, 0.923076923076923, 0.05, 0.07692307692307693, 0.28205128205128205, 0.358974358974359, 0.4615384615384615, 0.8461538461538461, 0.8717948717948718, 0.2564102564102564, 0.6153846153846154, 0.7948717948717948, 0.05128205128205128, 0.48717948717948717, 0.5384615384615384, 0.5897435897435898, 0.6153846153846154, 0.95, 0.07692307692307693, 0.28205128205128205, 0.3076923076923077, 0.4358974358974359, 0.923076923076923, 0.95, 0.95, 0.10256410256410256, 0.1282051282051282, 0.1794871794871795, 0.3333333333333333, 0.4615384615384615, 0.5384615384615384, 0.95, 0.5641025641025641, 0.6666666666666666, 0.10256410256410256, 0.358974358974359, 0.48717948717948717, 0.5384615384615384, 0.8974358974358974, 0.923076923076923, 0.95, 0.05, 0.15384615384615385, 0.9487179487179487, 0.05128205128205128, 0.3333333333333333, 0.41025641025641024, 0.5384615384615384, 0.6153846153846154, 0.641025641025641, 0.8461538461538461, 0.9487179487179487, 0.95, 0.07692307692307693, 0.1282051282051282, 0.15384615384615385, 0.20512820512820512, 0.41025641025641024, 0.641025641025641, 0.7692307692307692, 0.8205128205128205, 0.8974358974358974, 0.28205128205128205, 0.3846153846153846, 0.6153846153846154, 0.7692307692307692, 0.9487179487179487, 0.05, 0.05128205128205128, 0.5384615384615384, 0.5641025641025641, 0.6923076923076923, 0.7948717948717948, 0.8974358974358974, 0.95], \"z\": [0.95, 0.8720462565752648, 0.35928067129941066, 0.7980062332243321, 0.8118368489595902, 0.8082873638565384, 0.8080805355355485, 0.36517321950908166, 0.347956222141898, 0.3855260378345633, 0.34526276445358633, 0.5099090864705923, 0.8892338387834278, 0.95, 0.7274318822091219, 0.6019965987665942, 0.5093936012814493, 0.2782564905841688, 0.06073649857718168, 0.5825800431173058, 0.6552802157759577, 0.6623398450943713, 0.4583050383257405, 0.49418048274068044, 0.34099913290059114, 0.25118590272934577, 0.3286745009408588, 0.179333835980951, 0.28427196693735884, 0.37893301398772744, 0.39776089776727885, 0.47883757328588133, 0.39041822880094035, 0.16184997844572313, 0.16430729660014123, 0.5581363096024472, 0.3578812989961366, 0.1812353700396853, 0.2786466153877529, 0.2196506019534506, 0.43234499043346974, 0.4968460989568991, 0.42298732637597425, 0.39952420041863135, 0.2193651839362828, 0.2239369939121987, 0.2378423216765976, 0.1500902450593293, 0.17511933677399938, 0.12787699788487722, 0.5062875352290548, 0.4232230696724889, 0.11840069909736128, 0.17480415564637347, 0.2548416116197145, 0.22102135094596026, 0.34843392350216207, 0.5175452938576508, 0.30808623064810126, 0.5131705539959752, 0.2765364757098668, 0.10651383725502707, 0.083841370869671, 0.22137551663023897, 0.20231810874622178, 0.15925939965677782, 0.2107060565480138, 0.17999370799846806, 0.23716892558721975, 0.31135107640353843, 0.3492083483508464, 0.2641120958798888, 0.2626769417818733, 0.1955466167691473, 0.22785834639715438, 0.1296994533396474, 0.1791834218554329, 0.05, 0.2641417954275384, 0.3456387638834565, 0.41706863021394414, 0.11420685084130627, 0.21296411495779488, 0.05, 0.05, 0.29118761152357586, 0.3694502187160912, 0.43861140723453185, 0.2704250146854787, 0.3577002827069995, 0.10553598011034117, 0.05, 0.44475059082796936, 0.22881170948741714, 0.05, 0.17620935889633016, 0.4061158233838686, 0.5137445170625596, 0.6785163434553756, 0.4719886236665001, 0.49907365520080826, 0.36761181473574484, 0.21534246729712442, 0.6806826713899019, 0.33829755883697454, 0.33413029846610265, 0.4788378783411458, 0.4650938569600644, 0.5880277428069136, 0.7508575838437038, 0.5863595130547744, 0.05, 0.6747801732233668, 0.6440021759923661, 0.348211026031595, 0.21002618932659067, 0.06877070842162931, 0.11425457957051964, 0.6119664321884464, 0.747545107259192, 0.6162143074445852, 0.29626976203071703, 0.3765956299733812, 0.3281809862510099, 0.5703896635639927, 0.7482027891355857, 0.646096925355088, 0.3866367763161962, 0.349364712391665, 0.2623172577818346, 0.6806334215700153, 0.7244456861765938, 0.14198503081478575, 0.6450047106404867, 0.4772147099066225, 0.7246431060223903, 0.5063311822024985, 0.7126196907282445, 0.585613596447023, 0.45599803069751155, 0.40713623163634055, 0.35443607286185386, 0.36784531808144577, 0.24028172642451734, 0.073688700924699, 0.49779950751027097, 0.8564925206413218, 0.533566573543677, 0.46348796622898225, 0.17080130233943452, 0.17399312825795196, 0.41745348207003335, 0.6356829346840449, 0.6241922259748831, 0.7798943026199815, 0.7770405812674701, 0.6527205619340147, 0.3959607522654283, 0.3393430768599496, 0.35071184498004915, 0.95, 0.751655036673205, 0.8699011102128212, 0.6727003105333448, 0.704057312432872, 0.673282562962316, 0.7572159739061448, 0.725690333824822, 0.9450881906586508, 0.6945649371879619, 0.7701361622024009, 0.5737500698983271, 0.5090848854592361, 0.5834949202061911, 0.6140682482756636, 0.348049441093455, 0.28886628384063406, 0.95, 0.5092520314354341, 0.37480920362769443, 0.25458527554225374, 0.34931922868077536, 0.8273283490914799, 0.8331341459884596, 0.95, 0.9072775927007951, 0.4588212958846005, 0.95, 0.95, 0.95, 0.95, 0.95, 0.7377958471345725, 0.6867475517381973, 0.39674441840468727, 0.3371939199569096, 0.95, 0.41312516033759156, 0.2814088306518132, 0.95, 0.5439606359885076, 0.4421033686798707, 0.17954241517892155, 0.7236721704946737, 0.7221334647497982, 0.877736101832491, 0.8603175149036513, 0.95, 0.817104030037201, 0.8381054036336051, 0.9025054337631265, 0.541005389134001, 0.4586579214582239, 0.3847811328496019, 0.2950697476082259, 0.6766791555064772, 0.95, 0.95, 0.95, 0.95, 0.860828530577234, 0.9174753699048338, 0.7086256706143266, 0.186028164157004, 0.5031936452817934, 0.6697998704598567, 0.9167451643806634, 0.9449931394954447, 0.5649411618586535, 0.3815054650199869, 0.4906095794418956, 0.95, 0.95, 0.9410291127726503, 0.3198743538393071, 0.3234341316093737, 0.3212164623248423, 0.6053499177445912, 0.8165861938850681, 0.95]}],\n",
              "                        {\"coloraxis\": {\"colorbar\": {\"title\": {\"text\": \"death_prob\"}}, \"colorscale\": [[0.0, \"#0d0887\"], [0.1111111111111111, \"#46039f\"], [0.2222222222222222, \"#7201a8\"], [0.3333333333333333, \"#9c179e\"], [0.4444444444444444, \"#bd3786\"], [0.5555555555555556, \"#d8576b\"], [0.6666666666666666, \"#ed7953\"], [0.7777777777777778, \"#fb9f3a\"], [0.8888888888888888, \"#fdca26\"], [1.0, \"#f0f921\"]]}, \"height\": 400, \"legend\": {\"tracegroupgap\": 0}, \"margin\": {\"b\": 20, \"l\": 20, \"r\": 20, \"t\": 20}, \"scene\": {\"domain\": {\"x\": [0.0, 1.0], \"y\": [0.0, 1.0]}, \"xaxis\": {\"title\": {\"text\": \"calories\"}}, \"yaxis\": {\"title\": {\"text\": \"exercise\"}}, \"zaxis\": {\"title\": {\"text\": \"death_prob\"}}}, \"template\": {\"data\": {\"bar\": [{\"error_x\": {\"color\": \"#2a3f5f\"}, \"error_y\": {\"color\": \"#2a3f5f\"}, \"marker\": {\"line\": {\"color\": \"#E5ECF6\", \"width\": 0.5}}, \"type\": \"bar\"}], \"barpolar\": [{\"marker\": {\"line\": {\"color\": \"#E5ECF6\", \"width\": 0.5}}, \"type\": \"barpolar\"}], \"carpet\": [{\"aaxis\": {\"endlinecolor\": \"#2a3f5f\", \"gridcolor\": \"white\", \"linecolor\": \"white\", \"minorgridcolor\": \"white\", \"startlinecolor\": \"#2a3f5f\"}, \"baxis\": {\"endlinecolor\": \"#2a3f5f\", \"gridcolor\": \"white\", \"linecolor\": \"white\", \"minorgridcolor\": \"white\", \"startlinecolor\": \"#2a3f5f\"}, \"type\": \"carpet\"}], \"choropleth\": [{\"colorbar\": {\"outlinewidth\": 0, \"ticks\": \"\"}, \"type\": \"choropleth\"}], \"contour\": [{\"colorbar\": {\"outlinewidth\": 0, \"ticks\": \"\"}, \"colorscale\": [[0.0, \"#0d0887\"], [0.1111111111111111, \"#46039f\"], [0.2222222222222222, \"#7201a8\"], [0.3333333333333333, \"#9c179e\"], [0.4444444444444444, \"#bd3786\"], [0.5555555555555556, \"#d8576b\"], [0.6666666666666666, \"#ed7953\"], [0.7777777777777778, \"#fb9f3a\"], [0.8888888888888888, \"#fdca26\"], [1.0, \"#f0f921\"]], \"type\": \"contour\"}], \"contourcarpet\": [{\"colorbar\": {\"outlinewidth\": 0, \"ticks\": \"\"}, \"type\": \"contourcarpet\"}], \"heatmap\": [{\"colorbar\": {\"outlinewidth\": 0, \"ticks\": \"\"}, \"colorscale\": [[0.0, \"#0d0887\"], [0.1111111111111111, \"#46039f\"], [0.2222222222222222, \"#7201a8\"], [0.3333333333333333, \"#9c179e\"], [0.4444444444444444, \"#bd3786\"], [0.5555555555555556, \"#d8576b\"], [0.6666666666666666, \"#ed7953\"], [0.7777777777777778, \"#fb9f3a\"], [0.8888888888888888, \"#fdca26\"], [1.0, \"#f0f921\"]], \"type\": \"heatmap\"}], \"heatmapgl\": [{\"colorbar\": {\"outlinewidth\": 0, \"ticks\": \"\"}, \"colorscale\": [[0.0, \"#0d0887\"], [0.1111111111111111, \"#46039f\"], [0.2222222222222222, \"#7201a8\"], [0.3333333333333333, \"#9c179e\"], [0.4444444444444444, \"#bd3786\"], [0.5555555555555556, \"#d8576b\"], [0.6666666666666666, \"#ed7953\"], [0.7777777777777778, \"#fb9f3a\"], [0.8888888888888888, \"#fdca26\"], [1.0, \"#f0f921\"]], \"type\": \"heatmapgl\"}], \"histogram\": [{\"marker\": {\"colorbar\": {\"outlinewidth\": 0, \"ticks\": \"\"}}, \"type\": \"histogram\"}], \"histogram2d\": [{\"colorbar\": {\"outlinewidth\": 0, \"ticks\": \"\"}, \"colorscale\": [[0.0, \"#0d0887\"], [0.1111111111111111, \"#46039f\"], [0.2222222222222222, \"#7201a8\"], [0.3333333333333333, \"#9c179e\"], [0.4444444444444444, \"#bd3786\"], [0.5555555555555556, \"#d8576b\"], [0.6666666666666666, \"#ed7953\"], [0.7777777777777778, \"#fb9f3a\"], [0.8888888888888888, \"#fdca26\"], [1.0, \"#f0f921\"]], \"type\": \"histogram2d\"}], \"histogram2dcontour\": [{\"colorbar\": {\"outlinewidth\": 0, \"ticks\": \"\"}, \"colorscale\": [[0.0, \"#0d0887\"], [0.1111111111111111, \"#46039f\"], [0.2222222222222222, \"#7201a8\"], [0.3333333333333333, \"#9c179e\"], [0.4444444444444444, \"#bd3786\"], [0.5555555555555556, \"#d8576b\"], [0.6666666666666666, \"#ed7953\"], [0.7777777777777778, \"#fb9f3a\"], [0.8888888888888888, \"#fdca26\"], [1.0, \"#f0f921\"]], \"type\": \"histogram2dcontour\"}], \"mesh3d\": [{\"colorbar\": {\"outlinewidth\": 0, \"ticks\": \"\"}, \"type\": \"mesh3d\"}], \"parcoords\": [{\"line\": {\"colorbar\": {\"outlinewidth\": 0, \"ticks\": \"\"}}, \"type\": \"parcoords\"}], \"pie\": [{\"automargin\": true, \"type\": \"pie\"}], \"scatter\": [{\"marker\": {\"colorbar\": {\"outlinewidth\": 0, \"ticks\": \"\"}}, \"type\": \"scatter\"}], \"scatter3d\": [{\"line\": {\"colorbar\": {\"outlinewidth\": 0, \"ticks\": \"\"}}, \"marker\": {\"colorbar\": {\"outlinewidth\": 0, \"ticks\": \"\"}}, \"type\": \"scatter3d\"}], \"scattercarpet\": [{\"marker\": {\"colorbar\": {\"outlinewidth\": 0, \"ticks\": \"\"}}, \"type\": \"scattercarpet\"}], \"scattergeo\": [{\"marker\": {\"colorbar\": {\"outlinewidth\": 0, \"ticks\": \"\"}}, \"type\": \"scattergeo\"}], \"scattergl\": [{\"marker\": {\"colorbar\": {\"outlinewidth\": 0, \"ticks\": \"\"}}, \"type\": \"scattergl\"}], \"scattermapbox\": [{\"marker\": {\"colorbar\": {\"outlinewidth\": 0, \"ticks\": \"\"}}, \"type\": \"scattermapbox\"}], \"scatterpolar\": [{\"marker\": {\"colorbar\": {\"outlinewidth\": 0, \"ticks\": \"\"}}, \"type\": \"scatterpolar\"}], \"scatterpolargl\": [{\"marker\": {\"colorbar\": {\"outlinewidth\": 0, \"ticks\": \"\"}}, \"type\": \"scatterpolargl\"}], \"scatterternary\": [{\"marker\": {\"colorbar\": {\"outlinewidth\": 0, \"ticks\": \"\"}}, \"type\": \"scatterternary\"}], \"surface\": [{\"colorbar\": {\"outlinewidth\": 0, \"ticks\": \"\"}, \"colorscale\": [[0.0, \"#0d0887\"], [0.1111111111111111, \"#46039f\"], [0.2222222222222222, \"#7201a8\"], [0.3333333333333333, \"#9c179e\"], [0.4444444444444444, \"#bd3786\"], [0.5555555555555556, \"#d8576b\"], [0.6666666666666666, \"#ed7953\"], [0.7777777777777778, \"#fb9f3a\"], [0.8888888888888888, \"#fdca26\"], [1.0, \"#f0f921\"]], \"type\": \"surface\"}], \"table\": [{\"cells\": {\"fill\": {\"color\": \"#EBF0F8\"}, \"line\": {\"color\": \"white\"}}, \"header\": {\"fill\": {\"color\": \"#C8D4E3\"}, \"line\": {\"color\": \"white\"}}, \"type\": \"table\"}]}, \"layout\": {\"annotationdefaults\": {\"arrowcolor\": \"#2a3f5f\", \"arrowhead\": 0, \"arrowwidth\": 1}, \"coloraxis\": {\"colorbar\": {\"outlinewidth\": 0, \"ticks\": \"\"}}, \"colorscale\": {\"diverging\": [[0, \"#8e0152\"], [0.1, \"#c51b7d\"], [0.2, \"#de77ae\"], [0.3, \"#f1b6da\"], [0.4, \"#fde0ef\"], [0.5, \"#f7f7f7\"], [0.6, \"#e6f5d0\"], [0.7, \"#b8e186\"], [0.8, \"#7fbc41\"], [0.9, \"#4d9221\"], [1, \"#276419\"]], \"sequential\": [[0.0, \"#0d0887\"], [0.1111111111111111, \"#46039f\"], [0.2222222222222222, \"#7201a8\"], [0.3333333333333333, \"#9c179e\"], [0.4444444444444444, \"#bd3786\"], [0.5555555555555556, \"#d8576b\"], [0.6666666666666666, \"#ed7953\"], [0.7777777777777778, \"#fb9f3a\"], [0.8888888888888888, \"#fdca26\"], [1.0, \"#f0f921\"]], \"sequentialminus\": [[0.0, \"#0d0887\"], [0.1111111111111111, \"#46039f\"], [0.2222222222222222, \"#7201a8\"], [0.3333333333333333, \"#9c179e\"], [0.4444444444444444, \"#bd3786\"], [0.5555555555555556, \"#d8576b\"], [0.6666666666666666, \"#ed7953\"], [0.7777777777777778, \"#fb9f3a\"], [0.8888888888888888, \"#fdca26\"], [1.0, \"#f0f921\"]]}, \"colorway\": [\"#636efa\", \"#EF553B\", \"#00cc96\", \"#ab63fa\", \"#FFA15A\", \"#19d3f3\", \"#FF6692\", \"#B6E880\", \"#FF97FF\", \"#FECB52\"], \"font\": {\"color\": \"#2a3f5f\"}, \"geo\": {\"bgcolor\": \"white\", \"lakecolor\": \"white\", \"landcolor\": \"#E5ECF6\", \"showlakes\": true, \"showland\": true, \"subunitcolor\": \"white\"}, \"hoverlabel\": {\"align\": \"left\"}, \"hovermode\": \"closest\", \"mapbox\": {\"style\": \"light\"}, \"paper_bgcolor\": \"white\", \"plot_bgcolor\": \"#E5ECF6\", \"polar\": {\"angularaxis\": {\"gridcolor\": \"white\", \"linecolor\": \"white\", \"ticks\": \"\"}, \"bgcolor\": \"#E5ECF6\", \"radialaxis\": {\"gridcolor\": \"white\", \"linecolor\": \"white\", \"ticks\": \"\"}}, \"scene\": {\"xaxis\": {\"backgroundcolor\": \"#E5ECF6\", \"gridcolor\": \"white\", \"gridwidth\": 2, \"linecolor\": \"white\", \"showbackground\": true, \"ticks\": \"\", \"zerolinecolor\": \"white\"}, \"yaxis\": {\"backgroundcolor\": \"#E5ECF6\", \"gridcolor\": \"white\", \"gridwidth\": 2, \"linecolor\": \"white\", \"showbackground\": true, \"ticks\": \"\", \"zerolinecolor\": \"white\"}, \"zaxis\": {\"backgroundcolor\": \"#E5ECF6\", \"gridcolor\": \"white\", \"gridwidth\": 2, \"linecolor\": \"white\", \"showbackground\": true, \"ticks\": \"\", \"zerolinecolor\": \"white\"}}, \"shapedefaults\": {\"line\": {\"color\": \"#2a3f5f\"}}, \"ternary\": {\"aaxis\": {\"gridcolor\": \"white\", \"linecolor\": \"white\", \"ticks\": \"\"}, \"baxis\": {\"gridcolor\": \"white\", \"linecolor\": \"white\", \"ticks\": \"\"}, \"bgcolor\": \"#E5ECF6\", \"caxis\": {\"gridcolor\": \"white\", \"linecolor\": \"white\", \"ticks\": \"\"}}, \"title\": {\"x\": 0.05}, \"xaxis\": {\"automargin\": true, \"gridcolor\": \"white\", \"linecolor\": \"white\", \"ticks\": \"\", \"title\": {\"standoff\": 15}, \"zerolinecolor\": \"white\", \"zerolinewidth\": 2}, \"yaxis\": {\"automargin\": true, \"gridcolor\": \"white\", \"linecolor\": \"white\", \"ticks\": \"\", \"title\": {\"standoff\": 15}, \"zerolinecolor\": \"white\", \"zerolinewidth\": 2}}}, \"width\": 600},\n",
              "                        {\"responsive\": true}\n",
              "                    ).then(function(){\n",
              "                            \n",
              "var gd = document.getElementById('99111b7b-c51c-44e3-a419-d5290fd56343');\n",
              "var x = new MutationObserver(function (mutations, observer) {{\n",
              "        var display = window.getComputedStyle(gd).display;\n",
              "        if (!display || display === 'none') {{\n",
              "            console.log([gd, 'removed!']);\n",
              "            Plotly.purge(gd);\n",
              "            observer.disconnect();\n",
              "        }}\n",
              "}});\n",
              "\n",
              "// Listen for the removal of the full notebook cells\n",
              "var notebookContainer = gd.closest('#notebook-container');\n",
              "if (notebookContainer) {{\n",
              "    x.observe(notebookContainer, {childList: true});\n",
              "}}\n",
              "\n",
              "// Listen for the clearing of the current output cell\n",
              "var outputEl = gd.closest('.output');\n",
              "if (outputEl) {{\n",
              "    x.observe(outputEl, {childList: true});\n",
              "}}\n",
              "\n",
              "                        })\n",
              "                };\n",
              "                \n",
              "            </script>\n",
              "        </div>\n",
              "</body>\n",
              "</html>"
            ]
          },
          "metadata": {}
        }
      ]
    },
    {
      "cell_type": "markdown",
      "metadata": {
        "id": "hh2xGCEddlKK"
      },
      "source": [
        "Now go back up and re-assign your dataloaders (i.e., run `dls = df_to_dls(df)`, see \"Define Datasets & DataLoaders\" above), and retrain the model.  What do you notice?\n",
        "\n",
        "Spend a lot of time on this.  In particular, you should notice that it's possible to get the Training loss to go as low as you want, but that the Validation loss will \"plateau\" at a certain value and then eventually start increasing!  This is what's known as *overfitting*.  If you plot your surface, you may see that it has lots of extra \"wiggles\" as it tries to fit every data point (in the Training set)."
      ]
    },
    {
      "cell_type": "markdown",
      "metadata": {
        "id": "Tn0R6w5Jlmw9"
      },
      "source": [
        "## Exercise 5: Mess Around with (/Explore) Karpathy's Demo\n",
        "\n",
        "We've been working with 2 input \"features\" of input and one output.  As a way of seeing the effects your neural network modifications a little faster, let's switch to 1 feature and one output using [Andrej Karpathy's \"toy 1d regression\" Demo](https://cs.stanford.edu/people/karpathy/convnetjs/demo/regression.html).  \n",
        "\n",
        "By clicking in the diplay, you can add data points that the model will try to fit to.  You can also edit the (number and size of) layers and the activations between them.\n",
        "Explore different layer layouts, try different activations (such as 'relu', 'sigmoid', 'tanh')."
      ]
    },
    {
      "cell_type": "markdown",
      "metadata": {
        "id": "s2bR94YvpFI5"
      },
      "source": [
        "## Assignment!\n",
        "\n",
        "This will be a separate notebook.  It will involve defining a PyTorch model Class called \"NewModel\" (i.e., instead of \"Net\" like we did above), with certain attributes.\n"
      ]
    },
    {
      "cell_type": "code",
      "metadata": {
        "id": "CnjyFQMAdv8O"
      },
      "source": [
        ""
      ],
      "execution_count": null,
      "outputs": []
    }
  ]
}