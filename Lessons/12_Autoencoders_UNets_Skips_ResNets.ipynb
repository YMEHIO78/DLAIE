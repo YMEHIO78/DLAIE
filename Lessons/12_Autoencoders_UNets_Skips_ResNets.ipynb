{
  "nbformat": 4,
  "nbformat_minor": 0,
  "metadata": {
    "colab": {
      "name": "12_Autoencoders_UNets_Skips_ResNets.ipynb",
      "provenance": [],
      "collapsed_sections": []
    },
    "kernelspec": {
      "name": "python3",
      "display_name": "Python 3"
    },
    "language_info": {
      "name": "python"
    },
    "accelerator": "GPU",
    "widgets": {
      "application/vnd.jupyter.widget-state+json": {
        "5405b4feef8148b494121302b0927f48": {
          "model_module": "@jupyter-widgets/controls",
          "model_name": "HBoxModel",
          "model_module_version": "1.5.0",
          "state": {
            "_view_name": "HBoxView",
            "_dom_classes": [],
            "_model_name": "HBoxModel",
            "_view_module": "@jupyter-widgets/controls",
            "_model_module_version": "1.5.0",
            "_view_count": null,
            "_view_module_version": "1.5.0",
            "box_style": "",
            "layout": "IPY_MODEL_306358387535427fad0e7847b24d60be",
            "_model_module": "@jupyter-widgets/controls",
            "children": [
              "IPY_MODEL_1b9751f6c3ff4789a1de206fbcaa995b",
              "IPY_MODEL_12a72d3582f440428d7d9892225931b0",
              "IPY_MODEL_bad5d42f314848888b5239e23d5bef9c"
            ]
          }
        },
        "306358387535427fad0e7847b24d60be": {
          "model_module": "@jupyter-widgets/base",
          "model_name": "LayoutModel",
          "model_module_version": "1.2.0",
          "state": {
            "_view_name": "LayoutView",
            "grid_template_rows": null,
            "right": null,
            "justify_content": null,
            "_view_module": "@jupyter-widgets/base",
            "overflow": null,
            "_model_module_version": "1.2.0",
            "_view_count": null,
            "flex_flow": null,
            "width": null,
            "min_width": null,
            "border": null,
            "align_items": null,
            "bottom": null,
            "_model_module": "@jupyter-widgets/base",
            "top": null,
            "grid_column": null,
            "overflow_y": null,
            "overflow_x": null,
            "grid_auto_flow": null,
            "grid_area": null,
            "grid_template_columns": null,
            "flex": null,
            "_model_name": "LayoutModel",
            "justify_items": null,
            "grid_row": null,
            "max_height": null,
            "align_content": null,
            "visibility": null,
            "align_self": null,
            "height": null,
            "min_height": null,
            "padding": null,
            "grid_auto_rows": null,
            "grid_gap": null,
            "max_width": null,
            "order": null,
            "_view_module_version": "1.2.0",
            "grid_template_areas": null,
            "object_position": null,
            "object_fit": null,
            "grid_auto_columns": null,
            "margin": null,
            "display": null,
            "left": null
          }
        },
        "1b9751f6c3ff4789a1de206fbcaa995b": {
          "model_module": "@jupyter-widgets/controls",
          "model_name": "HTMLModel",
          "model_module_version": "1.5.0",
          "state": {
            "_view_name": "HTMLView",
            "style": "IPY_MODEL_70a4f99b5a064589837044c4f32eb22c",
            "_dom_classes": [],
            "description": "",
            "_model_name": "HTMLModel",
            "placeholder": "​",
            "_view_module": "@jupyter-widgets/controls",
            "_model_module_version": "1.5.0",
            "value": "",
            "_view_count": null,
            "_view_module_version": "1.5.0",
            "description_tooltip": null,
            "_model_module": "@jupyter-widgets/controls",
            "layout": "IPY_MODEL_f738cb8001554df695f205b2842de7c5"
          }
        },
        "12a72d3582f440428d7d9892225931b0": {
          "model_module": "@jupyter-widgets/controls",
          "model_name": "FloatProgressModel",
          "model_module_version": "1.5.0",
          "state": {
            "_view_name": "ProgressView",
            "style": "IPY_MODEL_54677a08934b485ab13bbafd8fe347de",
            "_dom_classes": [],
            "description": "",
            "_model_name": "FloatProgressModel",
            "bar_style": "success",
            "max": 26421880,
            "_view_module": "@jupyter-widgets/controls",
            "_model_module_version": "1.5.0",
            "value": 26421880,
            "_view_count": null,
            "_view_module_version": "1.5.0",
            "orientation": "horizontal",
            "min": 0,
            "description_tooltip": null,
            "_model_module": "@jupyter-widgets/controls",
            "layout": "IPY_MODEL_e98bd43b71944c7f8fde3fb5029832aa"
          }
        },
        "bad5d42f314848888b5239e23d5bef9c": {
          "model_module": "@jupyter-widgets/controls",
          "model_name": "HTMLModel",
          "model_module_version": "1.5.0",
          "state": {
            "_view_name": "HTMLView",
            "style": "IPY_MODEL_e508052c34c44b15871291c1f285299c",
            "_dom_classes": [],
            "description": "",
            "_model_name": "HTMLModel",
            "placeholder": "​",
            "_view_module": "@jupyter-widgets/controls",
            "_model_module_version": "1.5.0",
            "value": " 26422272/? [00:00&lt;00:00, 93531619.83it/s]",
            "_view_count": null,
            "_view_module_version": "1.5.0",
            "description_tooltip": null,
            "_model_module": "@jupyter-widgets/controls",
            "layout": "IPY_MODEL_53b94ba533e54263843f8fe5758ba7b2"
          }
        },
        "70a4f99b5a064589837044c4f32eb22c": {
          "model_module": "@jupyter-widgets/controls",
          "model_name": "DescriptionStyleModel",
          "model_module_version": "1.5.0",
          "state": {
            "_view_name": "StyleView",
            "_model_name": "DescriptionStyleModel",
            "description_width": "",
            "_view_module": "@jupyter-widgets/base",
            "_model_module_version": "1.5.0",
            "_view_count": null,
            "_view_module_version": "1.2.0",
            "_model_module": "@jupyter-widgets/controls"
          }
        },
        "f738cb8001554df695f205b2842de7c5": {
          "model_module": "@jupyter-widgets/base",
          "model_name": "LayoutModel",
          "model_module_version": "1.2.0",
          "state": {
            "_view_name": "LayoutView",
            "grid_template_rows": null,
            "right": null,
            "justify_content": null,
            "_view_module": "@jupyter-widgets/base",
            "overflow": null,
            "_model_module_version": "1.2.0",
            "_view_count": null,
            "flex_flow": null,
            "width": null,
            "min_width": null,
            "border": null,
            "align_items": null,
            "bottom": null,
            "_model_module": "@jupyter-widgets/base",
            "top": null,
            "grid_column": null,
            "overflow_y": null,
            "overflow_x": null,
            "grid_auto_flow": null,
            "grid_area": null,
            "grid_template_columns": null,
            "flex": null,
            "_model_name": "LayoutModel",
            "justify_items": null,
            "grid_row": null,
            "max_height": null,
            "align_content": null,
            "visibility": null,
            "align_self": null,
            "height": null,
            "min_height": null,
            "padding": null,
            "grid_auto_rows": null,
            "grid_gap": null,
            "max_width": null,
            "order": null,
            "_view_module_version": "1.2.0",
            "grid_template_areas": null,
            "object_position": null,
            "object_fit": null,
            "grid_auto_columns": null,
            "margin": null,
            "display": null,
            "left": null
          }
        },
        "54677a08934b485ab13bbafd8fe347de": {
          "model_module": "@jupyter-widgets/controls",
          "model_name": "ProgressStyleModel",
          "model_module_version": "1.5.0",
          "state": {
            "_view_name": "StyleView",
            "_model_name": "ProgressStyleModel",
            "description_width": "",
            "_view_module": "@jupyter-widgets/base",
            "_model_module_version": "1.5.0",
            "_view_count": null,
            "_view_module_version": "1.2.0",
            "bar_color": null,
            "_model_module": "@jupyter-widgets/controls"
          }
        },
        "e98bd43b71944c7f8fde3fb5029832aa": {
          "model_module": "@jupyter-widgets/base",
          "model_name": "LayoutModel",
          "model_module_version": "1.2.0",
          "state": {
            "_view_name": "LayoutView",
            "grid_template_rows": null,
            "right": null,
            "justify_content": null,
            "_view_module": "@jupyter-widgets/base",
            "overflow": null,
            "_model_module_version": "1.2.0",
            "_view_count": null,
            "flex_flow": null,
            "width": null,
            "min_width": null,
            "border": null,
            "align_items": null,
            "bottom": null,
            "_model_module": "@jupyter-widgets/base",
            "top": null,
            "grid_column": null,
            "overflow_y": null,
            "overflow_x": null,
            "grid_auto_flow": null,
            "grid_area": null,
            "grid_template_columns": null,
            "flex": null,
            "_model_name": "LayoutModel",
            "justify_items": null,
            "grid_row": null,
            "max_height": null,
            "align_content": null,
            "visibility": null,
            "align_self": null,
            "height": null,
            "min_height": null,
            "padding": null,
            "grid_auto_rows": null,
            "grid_gap": null,
            "max_width": null,
            "order": null,
            "_view_module_version": "1.2.0",
            "grid_template_areas": null,
            "object_position": null,
            "object_fit": null,
            "grid_auto_columns": null,
            "margin": null,
            "display": null,
            "left": null
          }
        },
        "e508052c34c44b15871291c1f285299c": {
          "model_module": "@jupyter-widgets/controls",
          "model_name": "DescriptionStyleModel",
          "model_module_version": "1.5.0",
          "state": {
            "_view_name": "StyleView",
            "_model_name": "DescriptionStyleModel",
            "description_width": "",
            "_view_module": "@jupyter-widgets/base",
            "_model_module_version": "1.5.0",
            "_view_count": null,
            "_view_module_version": "1.2.0",
            "_model_module": "@jupyter-widgets/controls"
          }
        },
        "53b94ba533e54263843f8fe5758ba7b2": {
          "model_module": "@jupyter-widgets/base",
          "model_name": "LayoutModel",
          "model_module_version": "1.2.0",
          "state": {
            "_view_name": "LayoutView",
            "grid_template_rows": null,
            "right": null,
            "justify_content": null,
            "_view_module": "@jupyter-widgets/base",
            "overflow": null,
            "_model_module_version": "1.2.0",
            "_view_count": null,
            "flex_flow": null,
            "width": null,
            "min_width": null,
            "border": null,
            "align_items": null,
            "bottom": null,
            "_model_module": "@jupyter-widgets/base",
            "top": null,
            "grid_column": null,
            "overflow_y": null,
            "overflow_x": null,
            "grid_auto_flow": null,
            "grid_area": null,
            "grid_template_columns": null,
            "flex": null,
            "_model_name": "LayoutModel",
            "justify_items": null,
            "grid_row": null,
            "max_height": null,
            "align_content": null,
            "visibility": null,
            "align_self": null,
            "height": null,
            "min_height": null,
            "padding": null,
            "grid_auto_rows": null,
            "grid_gap": null,
            "max_width": null,
            "order": null,
            "_view_module_version": "1.2.0",
            "grid_template_areas": null,
            "object_position": null,
            "object_fit": null,
            "grid_auto_columns": null,
            "margin": null,
            "display": null,
            "left": null
          }
        },
        "d2832ab10bab494d8db7849a002433c5": {
          "model_module": "@jupyter-widgets/controls",
          "model_name": "HBoxModel",
          "model_module_version": "1.5.0",
          "state": {
            "_view_name": "HBoxView",
            "_dom_classes": [],
            "_model_name": "HBoxModel",
            "_view_module": "@jupyter-widgets/controls",
            "_model_module_version": "1.5.0",
            "_view_count": null,
            "_view_module_version": "1.5.0",
            "box_style": "",
            "layout": "IPY_MODEL_fec6df1d54834c7481558837db1afd20",
            "_model_module": "@jupyter-widgets/controls",
            "children": [
              "IPY_MODEL_315c456354014600908fb98348c95571",
              "IPY_MODEL_82148a6c1e61452b9b6452e75aeba7c8",
              "IPY_MODEL_13bc2087fcb74816bd9d033db038940c"
            ]
          }
        },
        "fec6df1d54834c7481558837db1afd20": {
          "model_module": "@jupyter-widgets/base",
          "model_name": "LayoutModel",
          "model_module_version": "1.2.0",
          "state": {
            "_view_name": "LayoutView",
            "grid_template_rows": null,
            "right": null,
            "justify_content": null,
            "_view_module": "@jupyter-widgets/base",
            "overflow": null,
            "_model_module_version": "1.2.0",
            "_view_count": null,
            "flex_flow": null,
            "width": null,
            "min_width": null,
            "border": null,
            "align_items": null,
            "bottom": null,
            "_model_module": "@jupyter-widgets/base",
            "top": null,
            "grid_column": null,
            "overflow_y": null,
            "overflow_x": null,
            "grid_auto_flow": null,
            "grid_area": null,
            "grid_template_columns": null,
            "flex": null,
            "_model_name": "LayoutModel",
            "justify_items": null,
            "grid_row": null,
            "max_height": null,
            "align_content": null,
            "visibility": null,
            "align_self": null,
            "height": null,
            "min_height": null,
            "padding": null,
            "grid_auto_rows": null,
            "grid_gap": null,
            "max_width": null,
            "order": null,
            "_view_module_version": "1.2.0",
            "grid_template_areas": null,
            "object_position": null,
            "object_fit": null,
            "grid_auto_columns": null,
            "margin": null,
            "display": null,
            "left": null
          }
        },
        "315c456354014600908fb98348c95571": {
          "model_module": "@jupyter-widgets/controls",
          "model_name": "HTMLModel",
          "model_module_version": "1.5.0",
          "state": {
            "_view_name": "HTMLView",
            "style": "IPY_MODEL_7c026d31486f4022b659c2f1fec333d4",
            "_dom_classes": [],
            "description": "",
            "_model_name": "HTMLModel",
            "placeholder": "​",
            "_view_module": "@jupyter-widgets/controls",
            "_model_module_version": "1.5.0",
            "value": "",
            "_view_count": null,
            "_view_module_version": "1.5.0",
            "description_tooltip": null,
            "_model_module": "@jupyter-widgets/controls",
            "layout": "IPY_MODEL_e5fa38b372eb45589e7fafff7ab6f302"
          }
        },
        "82148a6c1e61452b9b6452e75aeba7c8": {
          "model_module": "@jupyter-widgets/controls",
          "model_name": "FloatProgressModel",
          "model_module_version": "1.5.0",
          "state": {
            "_view_name": "ProgressView",
            "style": "IPY_MODEL_e59406f4562242a3b7f8e00816c39e11",
            "_dom_classes": [],
            "description": "",
            "_model_name": "FloatProgressModel",
            "bar_style": "success",
            "max": 29515,
            "_view_module": "@jupyter-widgets/controls",
            "_model_module_version": "1.5.0",
            "value": 29515,
            "_view_count": null,
            "_view_module_version": "1.5.0",
            "orientation": "horizontal",
            "min": 0,
            "description_tooltip": null,
            "_model_module": "@jupyter-widgets/controls",
            "layout": "IPY_MODEL_6083f39d31bf47a1ac1f9bd2c5a8aad2"
          }
        },
        "13bc2087fcb74816bd9d033db038940c": {
          "model_module": "@jupyter-widgets/controls",
          "model_name": "HTMLModel",
          "model_module_version": "1.5.0",
          "state": {
            "_view_name": "HTMLView",
            "style": "IPY_MODEL_00f5f1480324497a9bab2a951944a716",
            "_dom_classes": [],
            "description": "",
            "_model_name": "HTMLModel",
            "placeholder": "​",
            "_view_module": "@jupyter-widgets/controls",
            "_model_module_version": "1.5.0",
            "value": " 29696/? [00:00&lt;00:00, 557199.07it/s]",
            "_view_count": null,
            "_view_module_version": "1.5.0",
            "description_tooltip": null,
            "_model_module": "@jupyter-widgets/controls",
            "layout": "IPY_MODEL_20267701bfd0478582a27406d29217a7"
          }
        },
        "7c026d31486f4022b659c2f1fec333d4": {
          "model_module": "@jupyter-widgets/controls",
          "model_name": "DescriptionStyleModel",
          "model_module_version": "1.5.0",
          "state": {
            "_view_name": "StyleView",
            "_model_name": "DescriptionStyleModel",
            "description_width": "",
            "_view_module": "@jupyter-widgets/base",
            "_model_module_version": "1.5.0",
            "_view_count": null,
            "_view_module_version": "1.2.0",
            "_model_module": "@jupyter-widgets/controls"
          }
        },
        "e5fa38b372eb45589e7fafff7ab6f302": {
          "model_module": "@jupyter-widgets/base",
          "model_name": "LayoutModel",
          "model_module_version": "1.2.0",
          "state": {
            "_view_name": "LayoutView",
            "grid_template_rows": null,
            "right": null,
            "justify_content": null,
            "_view_module": "@jupyter-widgets/base",
            "overflow": null,
            "_model_module_version": "1.2.0",
            "_view_count": null,
            "flex_flow": null,
            "width": null,
            "min_width": null,
            "border": null,
            "align_items": null,
            "bottom": null,
            "_model_module": "@jupyter-widgets/base",
            "top": null,
            "grid_column": null,
            "overflow_y": null,
            "overflow_x": null,
            "grid_auto_flow": null,
            "grid_area": null,
            "grid_template_columns": null,
            "flex": null,
            "_model_name": "LayoutModel",
            "justify_items": null,
            "grid_row": null,
            "max_height": null,
            "align_content": null,
            "visibility": null,
            "align_self": null,
            "height": null,
            "min_height": null,
            "padding": null,
            "grid_auto_rows": null,
            "grid_gap": null,
            "max_width": null,
            "order": null,
            "_view_module_version": "1.2.0",
            "grid_template_areas": null,
            "object_position": null,
            "object_fit": null,
            "grid_auto_columns": null,
            "margin": null,
            "display": null,
            "left": null
          }
        },
        "e59406f4562242a3b7f8e00816c39e11": {
          "model_module": "@jupyter-widgets/controls",
          "model_name": "ProgressStyleModel",
          "model_module_version": "1.5.0",
          "state": {
            "_view_name": "StyleView",
            "_model_name": "ProgressStyleModel",
            "description_width": "",
            "_view_module": "@jupyter-widgets/base",
            "_model_module_version": "1.5.0",
            "_view_count": null,
            "_view_module_version": "1.2.0",
            "bar_color": null,
            "_model_module": "@jupyter-widgets/controls"
          }
        },
        "6083f39d31bf47a1ac1f9bd2c5a8aad2": {
          "model_module": "@jupyter-widgets/base",
          "model_name": "LayoutModel",
          "model_module_version": "1.2.0",
          "state": {
            "_view_name": "LayoutView",
            "grid_template_rows": null,
            "right": null,
            "justify_content": null,
            "_view_module": "@jupyter-widgets/base",
            "overflow": null,
            "_model_module_version": "1.2.0",
            "_view_count": null,
            "flex_flow": null,
            "width": null,
            "min_width": null,
            "border": null,
            "align_items": null,
            "bottom": null,
            "_model_module": "@jupyter-widgets/base",
            "top": null,
            "grid_column": null,
            "overflow_y": null,
            "overflow_x": null,
            "grid_auto_flow": null,
            "grid_area": null,
            "grid_template_columns": null,
            "flex": null,
            "_model_name": "LayoutModel",
            "justify_items": null,
            "grid_row": null,
            "max_height": null,
            "align_content": null,
            "visibility": null,
            "align_self": null,
            "height": null,
            "min_height": null,
            "padding": null,
            "grid_auto_rows": null,
            "grid_gap": null,
            "max_width": null,
            "order": null,
            "_view_module_version": "1.2.0",
            "grid_template_areas": null,
            "object_position": null,
            "object_fit": null,
            "grid_auto_columns": null,
            "margin": null,
            "display": null,
            "left": null
          }
        },
        "00f5f1480324497a9bab2a951944a716": {
          "model_module": "@jupyter-widgets/controls",
          "model_name": "DescriptionStyleModel",
          "model_module_version": "1.5.0",
          "state": {
            "_view_name": "StyleView",
            "_model_name": "DescriptionStyleModel",
            "description_width": "",
            "_view_module": "@jupyter-widgets/base",
            "_model_module_version": "1.5.0",
            "_view_count": null,
            "_view_module_version": "1.2.0",
            "_model_module": "@jupyter-widgets/controls"
          }
        },
        "20267701bfd0478582a27406d29217a7": {
          "model_module": "@jupyter-widgets/base",
          "model_name": "LayoutModel",
          "model_module_version": "1.2.0",
          "state": {
            "_view_name": "LayoutView",
            "grid_template_rows": null,
            "right": null,
            "justify_content": null,
            "_view_module": "@jupyter-widgets/base",
            "overflow": null,
            "_model_module_version": "1.2.0",
            "_view_count": null,
            "flex_flow": null,
            "width": null,
            "min_width": null,
            "border": null,
            "align_items": null,
            "bottom": null,
            "_model_module": "@jupyter-widgets/base",
            "top": null,
            "grid_column": null,
            "overflow_y": null,
            "overflow_x": null,
            "grid_auto_flow": null,
            "grid_area": null,
            "grid_template_columns": null,
            "flex": null,
            "_model_name": "LayoutModel",
            "justify_items": null,
            "grid_row": null,
            "max_height": null,
            "align_content": null,
            "visibility": null,
            "align_self": null,
            "height": null,
            "min_height": null,
            "padding": null,
            "grid_auto_rows": null,
            "grid_gap": null,
            "max_width": null,
            "order": null,
            "_view_module_version": "1.2.0",
            "grid_template_areas": null,
            "object_position": null,
            "object_fit": null,
            "grid_auto_columns": null,
            "margin": null,
            "display": null,
            "left": null
          }
        },
        "92f9798c46444116bf01ecb2bef24af0": {
          "model_module": "@jupyter-widgets/controls",
          "model_name": "HBoxModel",
          "model_module_version": "1.5.0",
          "state": {
            "_view_name": "HBoxView",
            "_dom_classes": [],
            "_model_name": "HBoxModel",
            "_view_module": "@jupyter-widgets/controls",
            "_model_module_version": "1.5.0",
            "_view_count": null,
            "_view_module_version": "1.5.0",
            "box_style": "",
            "layout": "IPY_MODEL_ae0265541fe24b69b97a8f25b9252354",
            "_model_module": "@jupyter-widgets/controls",
            "children": [
              "IPY_MODEL_1532772e6a4b4cd098f3555389f726c0",
              "IPY_MODEL_2206d3a27b2c4ea8b711c2c1612d6f6c",
              "IPY_MODEL_9966eaa23ed74e49b47b414dd3d9519c"
            ]
          }
        },
        "ae0265541fe24b69b97a8f25b9252354": {
          "model_module": "@jupyter-widgets/base",
          "model_name": "LayoutModel",
          "model_module_version": "1.2.0",
          "state": {
            "_view_name": "LayoutView",
            "grid_template_rows": null,
            "right": null,
            "justify_content": null,
            "_view_module": "@jupyter-widgets/base",
            "overflow": null,
            "_model_module_version": "1.2.0",
            "_view_count": null,
            "flex_flow": null,
            "width": null,
            "min_width": null,
            "border": null,
            "align_items": null,
            "bottom": null,
            "_model_module": "@jupyter-widgets/base",
            "top": null,
            "grid_column": null,
            "overflow_y": null,
            "overflow_x": null,
            "grid_auto_flow": null,
            "grid_area": null,
            "grid_template_columns": null,
            "flex": null,
            "_model_name": "LayoutModel",
            "justify_items": null,
            "grid_row": null,
            "max_height": null,
            "align_content": null,
            "visibility": null,
            "align_self": null,
            "height": null,
            "min_height": null,
            "padding": null,
            "grid_auto_rows": null,
            "grid_gap": null,
            "max_width": null,
            "order": null,
            "_view_module_version": "1.2.0",
            "grid_template_areas": null,
            "object_position": null,
            "object_fit": null,
            "grid_auto_columns": null,
            "margin": null,
            "display": null,
            "left": null
          }
        },
        "1532772e6a4b4cd098f3555389f726c0": {
          "model_module": "@jupyter-widgets/controls",
          "model_name": "HTMLModel",
          "model_module_version": "1.5.0",
          "state": {
            "_view_name": "HTMLView",
            "style": "IPY_MODEL_070c8792c50a4b2899e09d811873173f",
            "_dom_classes": [],
            "description": "",
            "_model_name": "HTMLModel",
            "placeholder": "​",
            "_view_module": "@jupyter-widgets/controls",
            "_model_module_version": "1.5.0",
            "value": "",
            "_view_count": null,
            "_view_module_version": "1.5.0",
            "description_tooltip": null,
            "_model_module": "@jupyter-widgets/controls",
            "layout": "IPY_MODEL_db72176e3f394605aa8aa9e9cd03f78f"
          }
        },
        "2206d3a27b2c4ea8b711c2c1612d6f6c": {
          "model_module": "@jupyter-widgets/controls",
          "model_name": "FloatProgressModel",
          "model_module_version": "1.5.0",
          "state": {
            "_view_name": "ProgressView",
            "style": "IPY_MODEL_946a3861690342abb9b9ae68b672ffc7",
            "_dom_classes": [],
            "description": "",
            "_model_name": "FloatProgressModel",
            "bar_style": "success",
            "max": 4422102,
            "_view_module": "@jupyter-widgets/controls",
            "_model_module_version": "1.5.0",
            "value": 4422102,
            "_view_count": null,
            "_view_module_version": "1.5.0",
            "orientation": "horizontal",
            "min": 0,
            "description_tooltip": null,
            "_model_module": "@jupyter-widgets/controls",
            "layout": "IPY_MODEL_39beedf127924a2d90a5f6c5f27a3906"
          }
        },
        "9966eaa23ed74e49b47b414dd3d9519c": {
          "model_module": "@jupyter-widgets/controls",
          "model_name": "HTMLModel",
          "model_module_version": "1.5.0",
          "state": {
            "_view_name": "HTMLView",
            "style": "IPY_MODEL_9ddd62a6643f406299e18bec4844fe20",
            "_dom_classes": [],
            "description": "",
            "_model_name": "HTMLModel",
            "placeholder": "​",
            "_view_module": "@jupyter-widgets/controls",
            "_model_module_version": "1.5.0",
            "value": " 4422656/? [00:00&lt;00:00, 39178183.96it/s]",
            "_view_count": null,
            "_view_module_version": "1.5.0",
            "description_tooltip": null,
            "_model_module": "@jupyter-widgets/controls",
            "layout": "IPY_MODEL_c1b973bb65cf492b9d311491586af185"
          }
        },
        "070c8792c50a4b2899e09d811873173f": {
          "model_module": "@jupyter-widgets/controls",
          "model_name": "DescriptionStyleModel",
          "model_module_version": "1.5.0",
          "state": {
            "_view_name": "StyleView",
            "_model_name": "DescriptionStyleModel",
            "description_width": "",
            "_view_module": "@jupyter-widgets/base",
            "_model_module_version": "1.5.0",
            "_view_count": null,
            "_view_module_version": "1.2.0",
            "_model_module": "@jupyter-widgets/controls"
          }
        },
        "db72176e3f394605aa8aa9e9cd03f78f": {
          "model_module": "@jupyter-widgets/base",
          "model_name": "LayoutModel",
          "model_module_version": "1.2.0",
          "state": {
            "_view_name": "LayoutView",
            "grid_template_rows": null,
            "right": null,
            "justify_content": null,
            "_view_module": "@jupyter-widgets/base",
            "overflow": null,
            "_model_module_version": "1.2.0",
            "_view_count": null,
            "flex_flow": null,
            "width": null,
            "min_width": null,
            "border": null,
            "align_items": null,
            "bottom": null,
            "_model_module": "@jupyter-widgets/base",
            "top": null,
            "grid_column": null,
            "overflow_y": null,
            "overflow_x": null,
            "grid_auto_flow": null,
            "grid_area": null,
            "grid_template_columns": null,
            "flex": null,
            "_model_name": "LayoutModel",
            "justify_items": null,
            "grid_row": null,
            "max_height": null,
            "align_content": null,
            "visibility": null,
            "align_self": null,
            "height": null,
            "min_height": null,
            "padding": null,
            "grid_auto_rows": null,
            "grid_gap": null,
            "max_width": null,
            "order": null,
            "_view_module_version": "1.2.0",
            "grid_template_areas": null,
            "object_position": null,
            "object_fit": null,
            "grid_auto_columns": null,
            "margin": null,
            "display": null,
            "left": null
          }
        },
        "946a3861690342abb9b9ae68b672ffc7": {
          "model_module": "@jupyter-widgets/controls",
          "model_name": "ProgressStyleModel",
          "model_module_version": "1.5.0",
          "state": {
            "_view_name": "StyleView",
            "_model_name": "ProgressStyleModel",
            "description_width": "",
            "_view_module": "@jupyter-widgets/base",
            "_model_module_version": "1.5.0",
            "_view_count": null,
            "_view_module_version": "1.2.0",
            "bar_color": null,
            "_model_module": "@jupyter-widgets/controls"
          }
        },
        "39beedf127924a2d90a5f6c5f27a3906": {
          "model_module": "@jupyter-widgets/base",
          "model_name": "LayoutModel",
          "model_module_version": "1.2.0",
          "state": {
            "_view_name": "LayoutView",
            "grid_template_rows": null,
            "right": null,
            "justify_content": null,
            "_view_module": "@jupyter-widgets/base",
            "overflow": null,
            "_model_module_version": "1.2.0",
            "_view_count": null,
            "flex_flow": null,
            "width": null,
            "min_width": null,
            "border": null,
            "align_items": null,
            "bottom": null,
            "_model_module": "@jupyter-widgets/base",
            "top": null,
            "grid_column": null,
            "overflow_y": null,
            "overflow_x": null,
            "grid_auto_flow": null,
            "grid_area": null,
            "grid_template_columns": null,
            "flex": null,
            "_model_name": "LayoutModel",
            "justify_items": null,
            "grid_row": null,
            "max_height": null,
            "align_content": null,
            "visibility": null,
            "align_self": null,
            "height": null,
            "min_height": null,
            "padding": null,
            "grid_auto_rows": null,
            "grid_gap": null,
            "max_width": null,
            "order": null,
            "_view_module_version": "1.2.0",
            "grid_template_areas": null,
            "object_position": null,
            "object_fit": null,
            "grid_auto_columns": null,
            "margin": null,
            "display": null,
            "left": null
          }
        },
        "9ddd62a6643f406299e18bec4844fe20": {
          "model_module": "@jupyter-widgets/controls",
          "model_name": "DescriptionStyleModel",
          "model_module_version": "1.5.0",
          "state": {
            "_view_name": "StyleView",
            "_model_name": "DescriptionStyleModel",
            "description_width": "",
            "_view_module": "@jupyter-widgets/base",
            "_model_module_version": "1.5.0",
            "_view_count": null,
            "_view_module_version": "1.2.0",
            "_model_module": "@jupyter-widgets/controls"
          }
        },
        "c1b973bb65cf492b9d311491586af185": {
          "model_module": "@jupyter-widgets/base",
          "model_name": "LayoutModel",
          "model_module_version": "1.2.0",
          "state": {
            "_view_name": "LayoutView",
            "grid_template_rows": null,
            "right": null,
            "justify_content": null,
            "_view_module": "@jupyter-widgets/base",
            "overflow": null,
            "_model_module_version": "1.2.0",
            "_view_count": null,
            "flex_flow": null,
            "width": null,
            "min_width": null,
            "border": null,
            "align_items": null,
            "bottom": null,
            "_model_module": "@jupyter-widgets/base",
            "top": null,
            "grid_column": null,
            "overflow_y": null,
            "overflow_x": null,
            "grid_auto_flow": null,
            "grid_area": null,
            "grid_template_columns": null,
            "flex": null,
            "_model_name": "LayoutModel",
            "justify_items": null,
            "grid_row": null,
            "max_height": null,
            "align_content": null,
            "visibility": null,
            "align_self": null,
            "height": null,
            "min_height": null,
            "padding": null,
            "grid_auto_rows": null,
            "grid_gap": null,
            "max_width": null,
            "order": null,
            "_view_module_version": "1.2.0",
            "grid_template_areas": null,
            "object_position": null,
            "object_fit": null,
            "grid_auto_columns": null,
            "margin": null,
            "display": null,
            "left": null
          }
        },
        "42a55c033ddf4d10bc2b69dcada1f246": {
          "model_module": "@jupyter-widgets/controls",
          "model_name": "HBoxModel",
          "model_module_version": "1.5.0",
          "state": {
            "_view_name": "HBoxView",
            "_dom_classes": [],
            "_model_name": "HBoxModel",
            "_view_module": "@jupyter-widgets/controls",
            "_model_module_version": "1.5.0",
            "_view_count": null,
            "_view_module_version": "1.5.0",
            "box_style": "",
            "layout": "IPY_MODEL_9f7c91cf1f5f4b94893049ae46479ba6",
            "_model_module": "@jupyter-widgets/controls",
            "children": [
              "IPY_MODEL_8706b7708f7145fbbd850faa42e459df",
              "IPY_MODEL_7bb38068eb204787aea3dc8b31b99a58",
              "IPY_MODEL_ce9a97987cae43ac9b60d5533416e078"
            ]
          }
        },
        "9f7c91cf1f5f4b94893049ae46479ba6": {
          "model_module": "@jupyter-widgets/base",
          "model_name": "LayoutModel",
          "model_module_version": "1.2.0",
          "state": {
            "_view_name": "LayoutView",
            "grid_template_rows": null,
            "right": null,
            "justify_content": null,
            "_view_module": "@jupyter-widgets/base",
            "overflow": null,
            "_model_module_version": "1.2.0",
            "_view_count": null,
            "flex_flow": null,
            "width": null,
            "min_width": null,
            "border": null,
            "align_items": null,
            "bottom": null,
            "_model_module": "@jupyter-widgets/base",
            "top": null,
            "grid_column": null,
            "overflow_y": null,
            "overflow_x": null,
            "grid_auto_flow": null,
            "grid_area": null,
            "grid_template_columns": null,
            "flex": null,
            "_model_name": "LayoutModel",
            "justify_items": null,
            "grid_row": null,
            "max_height": null,
            "align_content": null,
            "visibility": null,
            "align_self": null,
            "height": null,
            "min_height": null,
            "padding": null,
            "grid_auto_rows": null,
            "grid_gap": null,
            "max_width": null,
            "order": null,
            "_view_module_version": "1.2.0",
            "grid_template_areas": null,
            "object_position": null,
            "object_fit": null,
            "grid_auto_columns": null,
            "margin": null,
            "display": null,
            "left": null
          }
        },
        "8706b7708f7145fbbd850faa42e459df": {
          "model_module": "@jupyter-widgets/controls",
          "model_name": "HTMLModel",
          "model_module_version": "1.5.0",
          "state": {
            "_view_name": "HTMLView",
            "style": "IPY_MODEL_4f102ecd5dbe4d059dd66bb07c45b392",
            "_dom_classes": [],
            "description": "",
            "_model_name": "HTMLModel",
            "placeholder": "​",
            "_view_module": "@jupyter-widgets/controls",
            "_model_module_version": "1.5.0",
            "value": "",
            "_view_count": null,
            "_view_module_version": "1.5.0",
            "description_tooltip": null,
            "_model_module": "@jupyter-widgets/controls",
            "layout": "IPY_MODEL_e0b2f0cb57344cbd878399c849230725"
          }
        },
        "7bb38068eb204787aea3dc8b31b99a58": {
          "model_module": "@jupyter-widgets/controls",
          "model_name": "FloatProgressModel",
          "model_module_version": "1.5.0",
          "state": {
            "_view_name": "ProgressView",
            "style": "IPY_MODEL_899604b734a543c2aeef84930a4bee48",
            "_dom_classes": [],
            "description": "",
            "_model_name": "FloatProgressModel",
            "bar_style": "success",
            "max": 5148,
            "_view_module": "@jupyter-widgets/controls",
            "_model_module_version": "1.5.0",
            "value": 5148,
            "_view_count": null,
            "_view_module_version": "1.5.0",
            "orientation": "horizontal",
            "min": 0,
            "description_tooltip": null,
            "_model_module": "@jupyter-widgets/controls",
            "layout": "IPY_MODEL_da06307621e9414a9486333d91090418"
          }
        },
        "ce9a97987cae43ac9b60d5533416e078": {
          "model_module": "@jupyter-widgets/controls",
          "model_name": "HTMLModel",
          "model_module_version": "1.5.0",
          "state": {
            "_view_name": "HTMLView",
            "style": "IPY_MODEL_6438587d164e4ca28c8dd7dad88762b5",
            "_dom_classes": [],
            "description": "",
            "_model_name": "HTMLModel",
            "placeholder": "​",
            "_view_module": "@jupyter-widgets/controls",
            "_model_module_version": "1.5.0",
            "value": " 6144/? [00:00&lt;00:00, 181828.34it/s]",
            "_view_count": null,
            "_view_module_version": "1.5.0",
            "description_tooltip": null,
            "_model_module": "@jupyter-widgets/controls",
            "layout": "IPY_MODEL_e855f75c88194bc89d40b626f2b4ff46"
          }
        },
        "4f102ecd5dbe4d059dd66bb07c45b392": {
          "model_module": "@jupyter-widgets/controls",
          "model_name": "DescriptionStyleModel",
          "model_module_version": "1.5.0",
          "state": {
            "_view_name": "StyleView",
            "_model_name": "DescriptionStyleModel",
            "description_width": "",
            "_view_module": "@jupyter-widgets/base",
            "_model_module_version": "1.5.0",
            "_view_count": null,
            "_view_module_version": "1.2.0",
            "_model_module": "@jupyter-widgets/controls"
          }
        },
        "e0b2f0cb57344cbd878399c849230725": {
          "model_module": "@jupyter-widgets/base",
          "model_name": "LayoutModel",
          "model_module_version": "1.2.0",
          "state": {
            "_view_name": "LayoutView",
            "grid_template_rows": null,
            "right": null,
            "justify_content": null,
            "_view_module": "@jupyter-widgets/base",
            "overflow": null,
            "_model_module_version": "1.2.0",
            "_view_count": null,
            "flex_flow": null,
            "width": null,
            "min_width": null,
            "border": null,
            "align_items": null,
            "bottom": null,
            "_model_module": "@jupyter-widgets/base",
            "top": null,
            "grid_column": null,
            "overflow_y": null,
            "overflow_x": null,
            "grid_auto_flow": null,
            "grid_area": null,
            "grid_template_columns": null,
            "flex": null,
            "_model_name": "LayoutModel",
            "justify_items": null,
            "grid_row": null,
            "max_height": null,
            "align_content": null,
            "visibility": null,
            "align_self": null,
            "height": null,
            "min_height": null,
            "padding": null,
            "grid_auto_rows": null,
            "grid_gap": null,
            "max_width": null,
            "order": null,
            "_view_module_version": "1.2.0",
            "grid_template_areas": null,
            "object_position": null,
            "object_fit": null,
            "grid_auto_columns": null,
            "margin": null,
            "display": null,
            "left": null
          }
        },
        "899604b734a543c2aeef84930a4bee48": {
          "model_module": "@jupyter-widgets/controls",
          "model_name": "ProgressStyleModel",
          "model_module_version": "1.5.0",
          "state": {
            "_view_name": "StyleView",
            "_model_name": "ProgressStyleModel",
            "description_width": "",
            "_view_module": "@jupyter-widgets/base",
            "_model_module_version": "1.5.0",
            "_view_count": null,
            "_view_module_version": "1.2.0",
            "bar_color": null,
            "_model_module": "@jupyter-widgets/controls"
          }
        },
        "da06307621e9414a9486333d91090418": {
          "model_module": "@jupyter-widgets/base",
          "model_name": "LayoutModel",
          "model_module_version": "1.2.0",
          "state": {
            "_view_name": "LayoutView",
            "grid_template_rows": null,
            "right": null,
            "justify_content": null,
            "_view_module": "@jupyter-widgets/base",
            "overflow": null,
            "_model_module_version": "1.2.0",
            "_view_count": null,
            "flex_flow": null,
            "width": null,
            "min_width": null,
            "border": null,
            "align_items": null,
            "bottom": null,
            "_model_module": "@jupyter-widgets/base",
            "top": null,
            "grid_column": null,
            "overflow_y": null,
            "overflow_x": null,
            "grid_auto_flow": null,
            "grid_area": null,
            "grid_template_columns": null,
            "flex": null,
            "_model_name": "LayoutModel",
            "justify_items": null,
            "grid_row": null,
            "max_height": null,
            "align_content": null,
            "visibility": null,
            "align_self": null,
            "height": null,
            "min_height": null,
            "padding": null,
            "grid_auto_rows": null,
            "grid_gap": null,
            "max_width": null,
            "order": null,
            "_view_module_version": "1.2.0",
            "grid_template_areas": null,
            "object_position": null,
            "object_fit": null,
            "grid_auto_columns": null,
            "margin": null,
            "display": null,
            "left": null
          }
        },
        "6438587d164e4ca28c8dd7dad88762b5": {
          "model_module": "@jupyter-widgets/controls",
          "model_name": "DescriptionStyleModel",
          "model_module_version": "1.5.0",
          "state": {
            "_view_name": "StyleView",
            "_model_name": "DescriptionStyleModel",
            "description_width": "",
            "_view_module": "@jupyter-widgets/base",
            "_model_module_version": "1.5.0",
            "_view_count": null,
            "_view_module_version": "1.2.0",
            "_model_module": "@jupyter-widgets/controls"
          }
        },
        "e855f75c88194bc89d40b626f2b4ff46": {
          "model_module": "@jupyter-widgets/base",
          "model_name": "LayoutModel",
          "model_module_version": "1.2.0",
          "state": {
            "_view_name": "LayoutView",
            "grid_template_rows": null,
            "right": null,
            "justify_content": null,
            "_view_module": "@jupyter-widgets/base",
            "overflow": null,
            "_model_module_version": "1.2.0",
            "_view_count": null,
            "flex_flow": null,
            "width": null,
            "min_width": null,
            "border": null,
            "align_items": null,
            "bottom": null,
            "_model_module": "@jupyter-widgets/base",
            "top": null,
            "grid_column": null,
            "overflow_y": null,
            "overflow_x": null,
            "grid_auto_flow": null,
            "grid_area": null,
            "grid_template_columns": null,
            "flex": null,
            "_model_name": "LayoutModel",
            "justify_items": null,
            "grid_row": null,
            "max_height": null,
            "align_content": null,
            "visibility": null,
            "align_self": null,
            "height": null,
            "min_height": null,
            "padding": null,
            "grid_auto_rows": null,
            "grid_gap": null,
            "max_width": null,
            "order": null,
            "_view_module_version": "1.2.0",
            "grid_template_areas": null,
            "object_position": null,
            "object_fit": null,
            "grid_auto_columns": null,
            "margin": null,
            "display": null,
            "left": null
          }
        }
      }
    }
  },
  "cells": [
    {
      "cell_type": "markdown",
      "metadata": {
        "id": "iom3nnqMB_Rf"
      },
      "source": [
        "Right-click the \"Open in Colab\" badge to see all content: \n",
        "\n",
        "[![open in colab](https://colab.research.google.com/assets/colab-badge.svg)](https://colab.research.google.com/drive/1IsVGT9joaBmBrdz3igp0xboDeXiVCs3H?usp=sharing)"
      ]
    },
    {
      "cell_type": "markdown",
      "metadata": {
        "id": "4D5TdUvgwP8k"
      },
      "source": [
        "# Architectures Choice: AutoEncoders, Skip Connections, UNets, ResNets,...\n",
        "\n",
        "TODO: needs more text. ;-) In the meantime, I'll post the video capture below.   \n",
        "\n",
        "### Scroll wayyy down to find the code for **\"Coloring Fashion MNIST Based on Clothing Type\"**"
      ]
    },
    {
      "cell_type": "code",
      "metadata": {
        "colab": {
          "base_uri": "https://localhost:8080/",
          "height": 322
        },
        "id": "pK6JhRBe03NB",
        "outputId": "cd34cf68-6fdb-454a-d85c-70539f3b8540"
      },
      "source": [
        "# screen capture of speaking in class today (20 minutes)\n",
        "from IPython.display import YouTubeVideo\n",
        "YouTubeVideo('qYYHSocWEIM')"
      ],
      "execution_count": 82,
      "outputs": [
        {
          "output_type": "execute_result",
          "data": {
            "text/html": [
              "\n",
              "        <iframe\n",
              "            width=\"400\"\n",
              "            height=\"300\"\n",
              "            src=\"https://www.youtube.com/embed/qYYHSocWEIM\"\n",
              "            frameborder=\"0\"\n",
              "            allowfullscreen\n",
              "        ></iframe>\n",
              "        "
            ],
            "text/plain": [
              "<IPython.lib.display.YouTubeVideo at 0x7f473e1549d0>"
            ],
            "image/jpeg": "[encoded data removed]"
          },
          "metadata": {},
          "execution_count": 82
        }
      ]
    },
    {
      "cell_type": "markdown",
      "metadata": {
        "id": "EGzmIDC0wW39"
      },
      "source": [
        "## Basic Autoencoder"
      ]
    },
    {
      "cell_type": "markdown",
      "metadata": {
        "id": "NGzLGL9wOX3h"
      },
      "source": [
        "<img src=\"https://github.com/drscotthawley/DLAIE/blob/main/images/AutoEncoder.png?raw=true\" height=\"300px\">"
      ]
    },
    {
      "cell_type": "markdown",
      "metadata": {
        "id": "5KxpApkLOuGF"
      },
      "source": [
        "![audio aec](https://raw.githubusercontent.com/drscotthawley/DLAIE/main/images/audio_autoencoder.png) *(Source: [Hawley, Chatziioannou, &amp; Morrison, Acoustics Today, 2020](https://acousticstoday.org/synthesis-of-musical-instrument-sounds-physics-based-modeling-or-machine-learning-scott-h-hawley-vasileios-chatziioannou-and-andrew-morrison/))*"
      ]
    },
    {
      "cell_type": "markdown",
      "metadata": {
        "id": "EXDWSztQtkcQ"
      },
      "source": [
        "## UNets: Concatenative Skips\n",
        "\n",
        "<img src=\"https://fastai1.fast.ai/imgs/u-net-architecture.png\" alt=\"unet architecture\" width=\"100%\">\n",
        "\n",
        "*Source: [fastai vision](https://fastai1.fast.ai/vision.models.unet.html)\n",
        "\n",
        "Often used for (and first applied to) medical image segmentation: \n",
        "\n",
        "<img src=\"https://developer-blogs.nvidia.com/wp-content/uploads/2020/04/image4-1.jpg\" alt=\"medical image segmentation example\" width=\"100%\">\n",
        "\n",
        "*Source: [NVIDIA](https://developer.nvidia.com/blog/accelerating-medical-image-segmentation-tensor-cores-tensorflow-2/)"
      ]
    },
    {
      "cell_type": "code",
      "metadata": {
        "id": "0IkDeMPetjv7"
      },
      "source": [
        ""
      ],
      "execution_count": null,
      "outputs": []
    },
    {
      "cell_type": "markdown",
      "metadata": {
        "id": "823NNaRT0XeH"
      },
      "source": [
        "## ResNets:  Additive / \"Residual\" Connections\n",
        "![residual picture](https://miro.medium.com/max/683/0*0r0vS8myiqyOb79L.jpg)\n",
        "\n",
        "*Source: [ResNet paper](https://arxiv.org/pdf/1512.03385.pdf)*\n",
        "\n",
        "\n",
        "![resnet_bigger](https://i.imgur.com/mbi6ktD.png)"
      ]
    },
    {
      "cell_type": "markdown",
      "metadata": {
        "id": "lfVHYyM3u7j3"
      },
      "source": [
        "## Residual Smooths the Los surface\n",
        "\n",
        "![loss surface image](https://miro.medium.com/max/2000/1*ME5zYSkdsQT3pEIDDGE1Fg.png)\n",
        "\n",
        "*Source: [\"Visualizing the Loss Landscape of Neural Nets\"](https://arxiv.org/pdf/1712.09913.pdf)"
      ]
    },
    {
      "cell_type": "markdown",
      "metadata": {
        "id": "5ZxcCahC0dnN"
      },
      "source": [
        "## Inception Models / Block\n",
        "\n",
        "![inception comparison](https://glassboxmedicine.files.wordpress.com/2020/12/vgg-resnet-googlenet-1.png) \n",
        "\n",
        "![inception block](https://miro.medium.com/max/865/0*CJZdXZULMr_on1Ao.jpg)"
      ]
    },
    {
      "cell_type": "markdown",
      "metadata": {
        "id": "mU0QvPwovVRZ"
      },
      "source": [
        "## Multiplicative Skips: \"Skip Filter\"\n",
        "\n",
        "cf. \"Gain\" connection in SignalTrain Model:\n",
        "\n",
        "<img src=\"https://signaltrain.herokuapp.com/model_diagram.png\" alt=\"signaltrain arch image\" width=\"500px\">\n",
        "\n",
        "Source: [Hawley et al](https://www.aes.org/e-lib/browse.cfm?elib=20595)\n",
        "\n",
        "### Difference that Skips Can Make in Training\n",
        "\n",
        "![training image for signaltrain](https://pbs.twimg.com/media/DbqPiP_W0AAFX8j?format=jpg&name=900x900)"
      ]
    },
    {
      "cell_type": "markdown",
      "metadata": {
        "id": "7AZbugNo0rJz"
      },
      "source": [
        "## ~~Generative Adversarial Networks (GANs)~~\n",
        "Will save GANs for a later lesson.\n",
        "\n",
        "~~img src=\"https://raw.githubusercontent.com/drscotthawley/DLAIE/main/images/audio_gan.jpg\" height=\"500px\">~~\n",
        "\n",
        "~~*(Source: [Hawley, Chatziioannou, &amp; Morrison, Acoustics Today, 2020](https://acousticstoday.org/synthesis-of-musical-instrument-sounds-physics-based-modeling-or-machine-learning-scott-h-hawley-vasileios-chatziioannou-and-andrew-morrison/))*~~\n"
      ]
    },
    {
      "cell_type": "markdown",
      "metadata": {
        "id": "dF4in5pT1lCL"
      },
      "source": [
        "# Example: Coloring Fashion-MNIST Based on Clothing Type\n",
        "\n",
        "> *i.e, Autoencode Fashion-MNIST*\n",
        "\n",
        "We're going to make a UNet-style network that will learn to color different types of clothing in the [Fashion MNIST](https://github.com/zalandoresearch/fashion-mnist) dataset, which consists of tiny 28x28 grayscale images of 10 different types of clothing, such as these examples:\n",
        "\n",
        "![fashion mnist example](https://raw.githubusercontent.com/zalandoresearch/fashion-mnist/master/doc/img/fashion-mnist-sprite.png)\n",
        "\n",
        "**Questions:** \"Why would anyone want such a code?? And isn't this overkill anyway? Because Fashion-MNIST is supposed to be used for image classification, so instead of using an autoencorder (overkill), couldn't we just classify the images and THEN colorize them by class?\"  \n",
        "\n",
        "**Answers:** Well,...yeah...but.. this is just supposed to be a simple autoencoder / image translation example. My other idea was to do arithmetic with MNIST.  (We could still do arithmetic with closing, I suppose!)"
      ]
    },
    {
      "cell_type": "markdown",
      "metadata": {
        "id": "TO4D-Wo4o1Ij"
      },
      "source": [
        "To start off with the code, let's upgrade fastai on colab and do our imports"
      ]
    },
    {
      "cell_type": "code",
      "metadata": {
        "colab": {
          "base_uri": "https://localhost:8080/"
        },
        "id": "Xtp4cRJ84IuI",
        "outputId": "1fc90b44-26f9-4128-ea27-450b0e02cbaa"
      },
      "source": [
        "! [ -e /content ] && pip install -Uqq fastai  # Colab only: upgrade fastai"
      ],
      "execution_count": 1,
      "outputs": [
        {
          "output_type": "stream",
          "name": "stdout",
          "text": [
            "\u001b[K     |████████████████████████████████| 189 kB 12.9 MB/s \n",
            "\u001b[K     |████████████████████████████████| 56 kB 6.0 MB/s \n",
            "\u001b[?25h"
          ]
        }
      ]
    },
    {
      "cell_type": "code",
      "metadata": {
        "id": "6nB9NgQD0Zli"
      },
      "source": [
        "from fastai.vision.all import *\n",
        "import torch\n",
        "from torchvision import datasets\n",
        "from fastai.torch_basics import *\n",
        "from fastdownload import FastDownload\n",
        "from functools import lru_cache\n",
        "import fastai.data\n",
        "import matplotlib.pyplot as plt \n",
        "from PIL import Image, ImageOps, ImageDraw\n",
        "from IPython.display import display # to display images\n",
        "import struct \n",
        "import numpy as np "
      ],
      "execution_count": 2,
      "outputs": []
    },
    {
      "cell_type": "markdown",
      "metadata": {
        "id": "PRIkDGCJB0B0"
      },
      "source": [
        "### Get the data"
      ]
    },
    {
      "cell_type": "code",
      "metadata": {
        "colab": {
          "base_uri": "https://localhost:8080/",
          "height": 434,
          "referenced_widgets": [
            "5405b4feef8148b494121302b0927f48",
            "306358387535427fad0e7847b24d60be",
            "1b9751f6c3ff4789a1de206fbcaa995b",
            "12a72d3582f440428d7d9892225931b0",
            "bad5d42f314848888b5239e23d5bef9c",
            "70a4f99b5a064589837044c4f32eb22c",
            "f738cb8001554df695f205b2842de7c5",
            "54677a08934b485ab13bbafd8fe347de",
            "e98bd43b71944c7f8fde3fb5029832aa",
            "e508052c34c44b15871291c1f285299c",
            "53b94ba533e54263843f8fe5758ba7b2",
            "d2832ab10bab494d8db7849a002433c5",
            "fec6df1d54834c7481558837db1afd20",
            "315c456354014600908fb98348c95571",
            "82148a6c1e61452b9b6452e75aeba7c8",
            "13bc2087fcb74816bd9d033db038940c",
            "7c026d31486f4022b659c2f1fec333d4",
            "e5fa38b372eb45589e7fafff7ab6f302",
            "e59406f4562242a3b7f8e00816c39e11",
            "6083f39d31bf47a1ac1f9bd2c5a8aad2",
            "00f5f1480324497a9bab2a951944a716",
            "20267701bfd0478582a27406d29217a7",
            "92f9798c46444116bf01ecb2bef24af0",
            "ae0265541fe24b69b97a8f25b9252354",
            "1532772e6a4b4cd098f3555389f726c0",
            "2206d3a27b2c4ea8b711c2c1612d6f6c",
            "9966eaa23ed74e49b47b414dd3d9519c",
            "070c8792c50a4b2899e09d811873173f",
            "db72176e3f394605aa8aa9e9cd03f78f",
            "946a3861690342abb9b9ae68b672ffc7",
            "39beedf127924a2d90a5f6c5f27a3906",
            "9ddd62a6643f406299e18bec4844fe20",
            "c1b973bb65cf492b9d311491586af185",
            "42a55c033ddf4d10bc2b69dcada1f246",
            "9f7c91cf1f5f4b94893049ae46479ba6",
            "8706b7708f7145fbbd850faa42e459df",
            "7bb38068eb204787aea3dc8b31b99a58",
            "ce9a97987cae43ac9b60d5533416e078",
            "4f102ecd5dbe4d059dd66bb07c45b392",
            "e0b2f0cb57344cbd878399c849230725",
            "899604b734a543c2aeef84930a4bee48",
            "da06307621e9414a9486333d91090418",
            "6438587d164e4ca28c8dd7dad88762b5",
            "e855f75c88194bc89d40b626f2b4ff46"
          ]
        },
        "id": "Uhda7L5I4Mbn",
        "outputId": "6986575a-5114-483a-8a27-aff1e6b28a5a"
      },
      "source": [
        "# download the dataset\n",
        "ptds = datasets.FashionMNIST('.',download=True) #pytorch dataset object, which we won't actually use"
      ],
      "execution_count": 3,
      "outputs": [
        {
          "output_type": "stream",
          "name": "stdout",
          "text": [
            "Downloading http://fashion-mnist.s3-website.eu-central-1.amazonaws.com/train-images-idx3-ubyte.gz\n",
            "Downloading http://fashion-mnist.s3-website.eu-central-1.amazonaws.com/train-images-idx3-ubyte.gz to ./FashionMNIST/raw/train-images-idx3-ubyte.gz\n"
          ]
        },
        {
          "output_type": "display_data",
          "data": {
            "application/vnd.jupyter.widget-view+json": {
              "model_id": "5405b4feef8148b494121302b0927f48",
              "version_minor": 0,
              "version_major": 2
            },
            "text/plain": [
              "  0%|          | 0/26421880 [00:00<?, ?it/s]"
            ]
          },
          "metadata": {}
        },
        {
          "output_type": "stream",
          "name": "stdout",
          "text": [
            "Extracting ./FashionMNIST/raw/train-images-idx3-ubyte.gz to ./FashionMNIST/raw\n",
            "\n",
            "Downloading http://fashion-mnist.s3-website.eu-central-1.amazonaws.com/train-labels-idx1-ubyte.gz\n",
            "Downloading http://fashion-mnist.s3-website.eu-central-1.amazonaws.com/train-labels-idx1-ubyte.gz to ./FashionMNIST/raw/train-labels-idx1-ubyte.gz\n"
          ]
        },
        {
          "output_type": "display_data",
          "data": {
            "application/vnd.jupyter.widget-view+json": {
              "model_id": "d2832ab10bab494d8db7849a002433c5",
              "version_minor": 0,
              "version_major": 2
            },
            "text/plain": [
              "  0%|          | 0/29515 [00:00<?, ?it/s]"
            ]
          },
          "metadata": {}
        },
        {
          "output_type": "stream",
          "name": "stdout",
          "text": [
            "Extracting ./FashionMNIST/raw/train-labels-idx1-ubyte.gz to ./FashionMNIST/raw\n",
            "\n",
            "Downloading http://fashion-mnist.s3-website.eu-central-1.amazonaws.com/t10k-images-idx3-ubyte.gz\n",
            "Downloading http://fashion-mnist.s3-website.eu-central-1.amazonaws.com/t10k-images-idx3-ubyte.gz to ./FashionMNIST/raw/t10k-images-idx3-ubyte.gz\n"
          ]
        },
        {
          "output_type": "display_data",
          "data": {
            "application/vnd.jupyter.widget-view+json": {
              "model_id": "92f9798c46444116bf01ecb2bef24af0",
              "version_minor": 0,
              "version_major": 2
            },
            "text/plain": [
              "  0%|          | 0/4422102 [00:00<?, ?it/s]"
            ]
          },
          "metadata": {}
        },
        {
          "output_type": "stream",
          "name": "stdout",
          "text": [
            "Extracting ./FashionMNIST/raw/t10k-images-idx3-ubyte.gz to ./FashionMNIST/raw\n",
            "\n",
            "Downloading http://fashion-mnist.s3-website.eu-central-1.amazonaws.com/t10k-labels-idx1-ubyte.gz\n",
            "Downloading http://fashion-mnist.s3-website.eu-central-1.amazonaws.com/t10k-labels-idx1-ubyte.gz to ./FashionMNIST/raw/t10k-labels-idx1-ubyte.gz\n"
          ]
        },
        {
          "output_type": "display_data",
          "data": {
            "application/vnd.jupyter.widget-view+json": {
              "model_id": "42a55c033ddf4d10bc2b69dcada1f246",
              "version_minor": 0,
              "version_major": 2
            },
            "text/plain": [
              "  0%|          | 0/5148 [00:00<?, ?it/s]"
            ]
          },
          "metadata": {}
        },
        {
          "output_type": "stream",
          "name": "stdout",
          "text": [
            "Extracting ./FashionMNIST/raw/t10k-labels-idx1-ubyte.gz to ./FashionMNIST/raw\n",
            "\n"
          ]
        }
      ]
    },
    {
      "cell_type": "code",
      "metadata": {
        "colab": {
          "base_uri": "https://localhost:8080/"
        },
        "id": "jnhcirHk5WhN",
        "outputId": "09762072-3907-42a9-a23f-b1fa51d09b8c"
      },
      "source": [
        "path = Path('FashionMNIST/raw')\n",
        "path.ls()"
      ],
      "execution_count": 4,
      "outputs": [
        {
          "output_type": "execute_result",
          "data": {
            "text/plain": [
              "(#8) [Path('FashionMNIST/raw/train-images-idx3-ubyte'),Path('FashionMNIST/raw/t10k-labels-idx1-ubyte.gz'),Path('FashionMNIST/raw/t10k-labels-idx1-ubyte'),Path('FashionMNIST/raw/train-labels-idx1-ubyte.gz'),Path('FashionMNIST/raw/train-labels-idx1-ubyte'),Path('FashionMNIST/raw/t10k-images-idx3-ubyte'),Path('FashionMNIST/raw/t10k-images-idx3-ubyte.gz'),Path('FashionMNIST/raw/train-images-idx3-ubyte.gz')]"
            ]
          },
          "metadata": {},
          "execution_count": 4
        }
      ]
    },
    {
      "cell_type": "markdown",
      "metadata": {
        "id": "TCJrnFoFBgXc"
      },
      "source": [
        "The meanings of these different filenames is explained on [Yann Lecun's Original MNIST web page](http://yann.lecun.com/exdb/mnist/):  \n",
        "\n",
        "```\n",
        "train-images-idx3-ubyte.gz:  training set images\n",
        "train-labels-idx1-ubyte.gz:  training set labels\n",
        "t10k-images-idx3-ubyte.gz:   test set images \n",
        "t10k-labels-idx1-ubyte.gz:   test set labels \n",
        "```\n",
        "\n",
        "We can use the following code to read these files:"
      ]
    },
    {
      "cell_type": "code",
      "metadata": {
        "id": "9C0kQAC26_3d"
      },
      "source": [
        "# source: https://gist.github.com/tylerneylon/ce60e8a06e7506ac45788443f7269e40\n",
        "\n",
        "def read_idx_file(filename):\n",
        "    with open(filename, 'rb') as f:\n",
        "        zero, data_type, dims = struct.unpack('>HBB', f.read(4))\n",
        "        shape = tuple(struct.unpack('>I', f.read(4))[0] for d in range(dims))\n",
        "        return np.frombuffer(f.read(), dtype=np.uint8).reshape(shape)"
      ],
      "execution_count": 6,
      "outputs": []
    },
    {
      "cell_type": "code",
      "metadata": {
        "colab": {
          "base_uri": "https://localhost:8080/"
        },
        "id": "7URcx7aPAj36",
        "outputId": "190500ee-eb03-42e5-89d7-a77a94a69fc5"
      },
      "source": [
        "test_labels = read_idx_file(Path('FashionMNIST/raw')/'t10k-labels-idx1-ubyte')\n",
        "test_labels "
      ],
      "execution_count": 7,
      "outputs": [
        {
          "output_type": "execute_result",
          "data": {
            "text/plain": [
              "array([9, 2, 1, ..., 8, 1, 5], dtype=uint8)"
            ]
          },
          "metadata": {},
          "execution_count": 7
        }
      ]
    },
    {
      "cell_type": "markdown",
      "metadata": {
        "id": "kq4xr0n_CKB6"
      },
      "source": [
        "....except that the [meanings of these digits](https://github.com/zalandoresearch/fashion-mnist#labels) refer to items of clothing: \n",
        "\n",
        "| Label | Description |\n",
        "| --- | --- |\n",
        "| 0 | T-shirt/top |\n",
        "| 1 | Trouser |\n",
        "| 2 | Pullover |\n",
        "| 3 | Dress |\n",
        "| 4 | Coat |\n",
        "| 5 | Sandal |\n",
        "| 6 | Shirt |\n",
        "| 7 | Sneaker |\n",
        "| 8 | Bag |\n",
        "| 9 | Ankle boot |\n",
        "\n",
        "And let's look at a few images:"
      ]
    },
    {
      "cell_type": "code",
      "metadata": {
        "colab": {
          "base_uri": "https://localhost:8080/"
        },
        "id": "LaQNWbFNGuDI",
        "outputId": "f5c6b23e-f2a5-4cce-bcf1-89933954e610"
      },
      "source": [
        "test_images = read_idx_file(Path('FashionMNIST/raw')/'t10k-images-idx3-ubyte')\n",
        "test_images.shape "
      ],
      "execution_count": 8,
      "outputs": [
        {
          "output_type": "execute_result",
          "data": {
            "text/plain": [
              "(10000, 28, 28)"
            ]
          },
          "metadata": {},
          "execution_count": 8
        }
      ]
    },
    {
      "cell_type": "code",
      "metadata": {
        "colab": {
          "base_uri": "https://localhost:8080/"
        },
        "id": "YAonpOzYKE_M",
        "outputId": "532e3b1f-0601-4b76-cc76-cb057dfcc086"
      },
      "source": [
        "# the values inside are greyscale intensity values for 28x28 pixels:\n",
        "print(test_images[0])"
      ],
      "execution_count": 9,
      "outputs": [
        {
          "output_type": "stream",
          "name": "stdout",
          "text": [
            "[[  0   0   0   0   0   0   0   0   0   0   0   0   0   0   0   0   0   0\n",
            "    0   0   0   0   0   0   0   0   0   0]\n",
            " [  0   0   0   0   0   0   0   0   0   0   0   0   0   0   0   0   0   0\n",
            "    0   0   0   0   0   0   0   0   0   0]\n",
            " [  0   0   0   0   0   0   0   0   0   0   0   0   0   0   0   0   0   0\n",
            "    0   0   0   0   0   0   0   0   0   0]\n",
            " [  0   0   0   0   0   0   0   0   0   0   0   0   0   0   0   0   0   0\n",
            "    0   0   0   0   0   0   0   0   0   0]\n",
            " [  0   0   0   0   0   0   0   0   0   0   0   0   0   0   0   0   0   0\n",
            "    0   0   0   0   0   0   0   0   0   0]\n",
            " [  0   0   0   0   0   0   0   0   0   0   0   0   0   0   0   0   0   0\n",
            "    0   0   0   0   0   0   0   0   0   0]\n",
            " [  0   0   0   0   0   0   0   0   0   0   0   0   0   0   0   0   0   0\n",
            "    0   0   0   0   0   0   0   0   0   0]\n",
            " [  0   0   0   0   0   0   0   0   0   0   0   0   0   0   0   0   0   0\n",
            "    0   3   1   0   0   7   0  37   0   0]\n",
            " [  0   0   0   0   0   0   0   0   0   0   0   0   0   1   2   0  27  84\n",
            "   11   0   0   0   0   0   0 119   0   0]\n",
            " [  0   0   0   0   0   0   0   0   0   0   0   0   0   1   0   0  88 143\n",
            "  110   0   0   0   0  22  93 106   0   0]\n",
            " [  0   0   0   0   0   0   0   0   0   0   0   0   0   4   0  53 129 120\n",
            "  147 175 157 166 135 154 168 140   0   0]\n",
            " [  0   0   0   0   0   0   0   0   0   0   0   0   2   0  11 137 130 128\n",
            "  160 176 159 167 178 149 151 144   0   0]\n",
            " [  0   0   0   0   0   0   1   0   2   1   0   3   0   0 115 114 106 137\n",
            "  168 153 156 165 167 143 157 158  11   0]\n",
            " [  0   0   0   0   1   0   0   0   0   0   3   0   0  89 139  90  94 153\n",
            "  149 131 151 169 172 143 159 169  48   0]\n",
            " [  0   0   0   0   0   0   2   4   1   0   0   0  98 136 110 109 110 162\n",
            "  135 144 149 159 167 144 158 169 119   0]\n",
            " [  0   0   2   2   1   2   0   0   0   0  26 108 117  99 111 117 136 156\n",
            "  134 154 154 156 160 141 147 156 178   0]\n",
            " [  3   0   0   0   0   0   0  21  53  92 117 111 103 115 129 134 143 154\n",
            "  165 170 154 151 154 143 138 150 165  43]\n",
            " [  0   0  23  54  65  76  85 118 128 123 111 113 118 127 125 139 133 136\n",
            "  160 140 155 161 144 155 172 161 189  62]\n",
            " [  0  68  94  90 111 114 111 114 115 127 135 136 143 126 127 151 154 143\n",
            "  148 125 162 162 144 138 153 162 196  58]\n",
            " [ 70 169 129 104  98 100  94  97  98 102 108 106 119 120 129 149 156 167\n",
            "  190 190 196 198 198 187 197 189 184  36]\n",
            " [ 16 126 171 188 188 184 171 153 135 120 126 127 146 185 195 209 208 255\n",
            "  209 177 245 252 251 251 247 220 206  49]\n",
            " [  0   0   0  12  67 106 164 185 199 210 211 210 208 190 150  82   8   0\n",
            "    0   0 178 208 188 175 162 158 151  11]\n",
            " [  0   0   0   0   0   0   0   0   0   0   0   0   0   0   0   0   0   0\n",
            "    0   0   0   0   0   0   0   0   0   0]\n",
            " [  0   0   0   0   0   0   0   0   0   0   0   0   0   0   0   0   0   0\n",
            "    0   0   0   0   0   0   0   0   0   0]\n",
            " [  0   0   0   0   0   0   0   0   0   0   0   0   0   0   0   0   0   0\n",
            "    0   0   0   0   0   0   0   0   0   0]\n",
            " [  0   0   0   0   0   0   0   0   0   0   0   0   0   0   0   0   0   0\n",
            "    0   0   0   0   0   0   0   0   0   0]\n",
            " [  0   0   0   0   0   0   0   0   0   0   0   0   0   0   0   0   0   0\n",
            "    0   0   0   0   0   0   0   0   0   0]\n",
            " [  0   0   0   0   0   0   0   0   0   0   0   0   0   0   0   0   0   0\n",
            "    0   0   0   0   0   0   0   0   0   0]]\n"
          ]
        }
      ]
    },
    {
      "cell_type": "code",
      "metadata": {
        "colab": {
          "base_uri": "https://localhost:8080/",
          "height": 1000
        },
        "id": "W_Ps8shaG9a7",
        "outputId": "265b526e-da70-4e75-bd9f-db2389a212b7"
      },
      "source": [
        "# we can also plot them:\n",
        "for i in range(5): \n",
        "    plt.imshow(test_images[i], cmap='gray')\n",
        "    plt.show() "
      ],
      "execution_count": 10,
      "outputs": [
        {
          "output_type": "display_data",
          "data": {
            "image/png": "[encoded data removed]",
            "text/plain": [
              "<Figure size 432x288 with 1 Axes>"
            ]
          },
          "metadata": {
            "needs_background": "light"
          }
        },
        {
          "output_type": "display_data",
          "data": {
            "image/png": "[encoded data removed]",
            "text/plain": [
              "<Figure size 432x288 with 1 Axes>"
            ]
          },
          "metadata": {
            "needs_background": "light"
          }
        },
        {
          "output_type": "display_data",
          "data": {
            "image/png": "[encoded data removed]",
            "text/plain": [
              "<Figure size 432x288 with 1 Axes>"
            ]
          },
          "metadata": {
            "needs_background": "light"
          }
        },
        {
          "output_type": "display_data",
          "data": {
            "image/png": "[encoded data removed]",
            "text/plain": [
              "<Figure size 432x288 with 1 Axes>"
            ]
          },
          "metadata": {
            "needs_background": "light"
          }
        },
        {
          "output_type": "display_data",
          "data": {
            "image/png": "[encoded data removed]",
            "text/plain": [
              "<Figure size 432x288 with 1 Axes>"
            ]
          },
          "metadata": {
            "needs_background": "light"
          }
        }
      ]
    },
    {
      "cell_type": "markdown",
      "metadata": {
        "id": "HGfoZBuzTn_K"
      },
      "source": [
        "...although note that these are really tiny 28x28 pixel images. "
      ]
    },
    {
      "cell_type": "markdown",
      "metadata": {
        "id": "9V3hELSECEv5"
      },
      "source": [
        "Now...to make things easier as we go on, what I want to do first is to make the file structure of this look more like  the relevant fastai example. Although I don't think the fastai MNIST example is appropriate. Instead, the idea that I've dreamed up for Fashion MNIST is for the autoencoder to color different items by their class -- i.e, it'll be a really simple image segmentation problem. The fastai example dataset for segmentation is called CAMVID. Let's take a look at the setup of the CAMVID_TINY dataset provided by fastai, and then we can make our Fashion MNIST dataset mimic that:"
      ]
    },
    {
      "cell_type": "code",
      "metadata": {
        "colab": {
          "base_uri": "https://localhost:8080/",
          "height": 74
        },
        "id": "AAK16O4g8K9b",
        "outputId": "045ed553-fd17-40a1-ef39-6299984ce210"
      },
      "source": [
        "path = untar_data(URLs.CAMVID_TINY)\n",
        "path.ls()"
      ],
      "execution_count": 11,
      "outputs": [
        {
          "output_type": "display_data",
          "data": {
            "text/html": [
              "\n",
              "    <div>\n",
              "        <style>\n",
              "            /* Turns off some styling */\n",
              "            progress {\n",
              "                /* gets rid of default border in Firefox and Opera. */\n",
              "                border: none;\n",
              "                /* Needs to be in here for Safari polyfill so background images work as expected. */\n",
              "                background-size: auto;\n",
              "            }\n",
              "            .progress-bar-interrupted, .progress-bar-interrupted::-webkit-progress-bar {\n",
              "                background: #F44336;\n",
              "            }\n",
              "        </style>\n",
              "      <progress value='2318336' class='' max='2314212' style='width:300px; height:20px; vertical-align: middle;'></progress>\n",
              "      100.18% [2318336/2314212 00:00<00:00]\n",
              "    </div>\n",
              "    "
            ],
            "text/plain": [
              "<IPython.core.display.HTML object>"
            ]
          },
          "metadata": {}
        },
        {
          "output_type": "execute_result",
          "data": {
            "text/plain": [
              "(#3) [Path('/root/.fastai/data/camvid_tiny/labels'),Path('/root/.fastai/data/camvid_tiny/images'),Path('/root/.fastai/data/camvid_tiny/codes.txt')]"
            ]
          },
          "metadata": {},
          "execution_count": 11
        }
      ]
    },
    {
      "cell_type": "markdown",
      "metadata": {
        "id": "fU40OwhbFYPc"
      },
      "source": [
        "The input images are just called 'images':"
      ]
    },
    {
      "cell_type": "code",
      "metadata": {
        "colab": {
          "base_uri": "https://localhost:8080/"
        },
        "id": "MBbM-jtT8MLD",
        "outputId": "00fc12a8-5ddc-4469-bf82-38382edb1e1a"
      },
      "source": [
        "!ls {path/ 'images'}"
      ],
      "execution_count": 12,
      "outputs": [
        {
          "output_type": "stream",
          "name": "stdout",
          "text": [
            "0001TP_006750.png  0006R0_f03210.png  0016E5_07979.png\t  Seq05VD_f00990.png\n",
            "0001TP_006840.png  0006R0_f03240.png  0016E5_07995.png\t  Seq05VD_f01080.png\n",
            "0001TP_007500.png  0006R0_f03330.png  0016E5_07997.png\t  Seq05VD_f01260.png\n",
            "0001TP_007860.png  0006R0_f03450.png  0016E5_08001.png\t  Seq05VD_f01320.png\n",
            "0001TP_008070.png  0006R0_f03630.png  0016E5_08009.png\t  Seq05VD_f01440.png\n",
            "0001TP_008160.png  0006R0_f03720.png  0016E5_08057.png\t  Seq05VD_f01830.png\n",
            "0001TP_008400.png  0016E5_00720.png   0016E5_08085.png\t  Seq05VD_f01890.png\n",
            "0001TP_008580.png  0016E5_00840.png   0016E5_08089.png\t  Seq05VD_f01950.png\n",
            "0001TP_008670.png  0016E5_01260.png   0016E5_08093.png\t  Seq05VD_f02070.png\n",
            "0001TP_008700.png  0016E5_01500.png   0016E5_08101.png\t  Seq05VD_f02370.png\n",
            "0001TP_008760.png  0016E5_01920.png   0016E5_08125.png\t  Seq05VD_f02640.png\n",
            "0001TP_008940.png  0016E5_02250.png   0016E5_08137.png\t  Seq05VD_f02880.png\n",
            "0001TP_009000.png  0016E5_05190.png   0016E5_08141.png\t  Seq05VD_f02940.png\n",
            "0001TP_009150.png  0016E5_05310.png   0016E5_08155.png\t  Seq05VD_f03060.png\n",
            "0001TP_009360.png  0016E5_05730.png   0016E5_08280.png\t  Seq05VD_f03090.png\n",
            "0001TP_009840.png  0016E5_05940.png   0016E5_08340.png\t  Seq05VD_f03150.png\n",
            "0001TP_009930.png  0016E5_06090.png   0016E5_08370.png\t  Seq05VD_f03210.png\n",
            "0001TP_010200.png  0016E5_06240.png   0016E5_08400.png\t  Seq05VD_f03660.png\n",
            "0006R0_f00960.png  0016E5_06300.png   0016E5_08550.png\t  Seq05VD_f03750.png\n",
            "0006R0_f01710.png  0016E5_06570.png   Seq05VD_f00000.png  Seq05VD_f03960.png\n",
            "0006R0_f02490.png  0016E5_06810.png   Seq05VD_f00090.png  Seq05VD_f04530.png\n",
            "0006R0_f02550.png  0016E5_06870.png   Seq05VD_f00210.png  Seq05VD_f04620.png\n",
            "0006R0_f02610.png  0016E5_06990.png   Seq05VD_f00420.png  Seq05VD_f04650.png\n",
            "0006R0_f02910.png  0016E5_07290.png   Seq05VD_f00480.png  Seq05VD_f04950.png\n",
            "0006R0_f03180.png  0016E5_07973.png   Seq05VD_f00810.png  Seq05VD_f04980.png\n"
          ]
        }
      ]
    },
    {
      "cell_type": "markdown",
      "metadata": {
        "id": "87m8ysyGFgGS"
      },
      "source": [
        "The output images are called 'labels', and all the files there match the corresponding input imaages except the labels have a `_P` in the filename:"
      ]
    },
    {
      "cell_type": "code",
      "metadata": {
        "colab": {
          "base_uri": "https://localhost:8080/"
        },
        "id": "mIUw1bjj9B6M",
        "outputId": "e92eb73b-7f9f-4e7a-8149-0e43e70c5e45"
      },
      "source": [
        "!ls {path / 'labels'}"
      ],
      "execution_count": 13,
      "outputs": [
        {
          "output_type": "stream",
          "name": "stdout",
          "text": [
            "0001TP_006750_P.png  0016E5_01500_P.png  0016E5_08550_P.png\n",
            "0001TP_006840_P.png  0016E5_01920_P.png  Seq05VD_f00000_P.png\n",
            "0001TP_007500_P.png  0016E5_02250_P.png  Seq05VD_f00090_P.png\n",
            "0001TP_007860_P.png  0016E5_05190_P.png  Seq05VD_f00210_P.png\n",
            "0001TP_008070_P.png  0016E5_05310_P.png  Seq05VD_f00420_P.png\n",
            "0001TP_008160_P.png  0016E5_05730_P.png  Seq05VD_f00480_P.png\n",
            "0001TP_008400_P.png  0016E5_05940_P.png  Seq05VD_f00810_P.png\n",
            "0001TP_008580_P.png  0016E5_06090_P.png  Seq05VD_f00990_P.png\n",
            "0001TP_008670_P.png  0016E5_06240_P.png  Seq05VD_f01080_P.png\n",
            "0001TP_008700_P.png  0016E5_06300_P.png  Seq05VD_f01260_P.png\n",
            "0001TP_008760_P.png  0016E5_06570_P.png  Seq05VD_f01320_P.png\n",
            "0001TP_008940_P.png  0016E5_06810_P.png  Seq05VD_f01440_P.png\n",
            "0001TP_009000_P.png  0016E5_06870_P.png  Seq05VD_f01830_P.png\n",
            "0001TP_009150_P.png  0016E5_06990_P.png  Seq05VD_f01890_P.png\n",
            "0001TP_009360_P.png  0016E5_07290_P.png  Seq05VD_f01950_P.png\n",
            "0001TP_009840_P.png  0016E5_07973_P.png  Seq05VD_f02070_P.png\n",
            "0001TP_009930_P.png  0016E5_07979_P.png  Seq05VD_f02370_P.png\n",
            "0001TP_010200_P.png  0016E5_07995_P.png  Seq05VD_f02640_P.png\n",
            "0006R0_f00960_P.png  0016E5_07997_P.png  Seq05VD_f02880_P.png\n",
            "0006R0_f01710_P.png  0016E5_08001_P.png  Seq05VD_f02940_P.png\n",
            "0006R0_f02490_P.png  0016E5_08009_P.png  Seq05VD_f03060_P.png\n",
            "0006R0_f02550_P.png  0016E5_08057_P.png  Seq05VD_f03090_P.png\n",
            "0006R0_f02610_P.png  0016E5_08085_P.png  Seq05VD_f03150_P.png\n",
            "0006R0_f02910_P.png  0016E5_08089_P.png  Seq05VD_f03210_P.png\n",
            "0006R0_f03180_P.png  0016E5_08093_P.png  Seq05VD_f03660_P.png\n",
            "0006R0_f03210_P.png  0016E5_08101_P.png  Seq05VD_f03750_P.png\n",
            "0006R0_f03240_P.png  0016E5_08125_P.png  Seq05VD_f03960_P.png\n",
            "0006R0_f03330_P.png  0016E5_08137_P.png  Seq05VD_f04530_P.png\n",
            "0006R0_f03450_P.png  0016E5_08141_P.png  Seq05VD_f04620_P.png\n",
            "0006R0_f03630_P.png  0016E5_08155_P.png  Seq05VD_f04650_P.png\n",
            "0006R0_f03720_P.png  0016E5_08280_P.png  Seq05VD_f04950_P.png\n",
            "0016E5_00720_P.png   0016E5_08340_P.png  Seq05VD_f04980_P.png\n",
            "0016E5_00840_P.png   0016E5_08370_P.png\n",
            "0016E5_01260_P.png   0016E5_08400_P.png\n"
          ]
        }
      ]
    },
    {
      "cell_type": "markdown",
      "metadata": {
        "id": "2zkyqTxvFxQV"
      },
      "source": [
        "...and then theres the `codes` file that tells you what the colors of each pixel will mean, where the number of the row (not shown) will serve as the index. But we already know our codes:"
      ]
    },
    {
      "cell_type": "code",
      "metadata": {
        "id": "0wXWkz0MMEJR"
      },
      "source": [
        "codes = {0:'T-shirt/top', 1:'Trouser', 2:'Pullover', 3:'Dress', 4:'Coat', 5:'Sandal',6:'Shirt',7:'Sneaker',8:'Bag', 9:'Ankle boot'}"
      ],
      "execution_count": 14,
      "outputs": []
    },
    {
      "cell_type": "markdown",
      "metadata": {
        "id": "c9ESD-i-GJf8"
      },
      "source": [
        "### Generate our CAMVID-style Fashion MNIST segmentation dataset\n",
        "Now watch as we make our own Fashion-MNIST version of the CAMVID dataset: ;-) "
      ]
    },
    {
      "cell_type": "code",
      "metadata": {
        "id": "nKWd7rwrGkK9"
      },
      "source": [
        "# set up directories\n",
        "newpath = path.parent /'fashion_mnist'\n",
        "!rm -rf {newpath}\n",
        "newpath.mkdir()\n",
        "image_path, label_path = newpath /'images', newpath / 'labels'\n",
        "image_path.mkdir() \n",
        "label_path.mkdir() "
      ],
      "execution_count": 15,
      "outputs": []
    },
    {
      "cell_type": "markdown",
      "metadata": {
        "id": "0tchapOvMKMv"
      },
      "source": [
        "What we're going to do now is go through every image, save the original in `images/` then colorize it accoring to which class it is and save the result in `labels/`.  And we'll go ahead an merge the `train` and `test` directories and let fastai do our train-val split later:"
      ]
    },
    {
      "cell_type": "code",
      "metadata": {
        "colab": {
          "base_uri": "https://localhost:8080/"
        },
        "id": "HpU1oBYsH_-7",
        "outputId": "7432db9e-e778-48ea-fd0a-cfdbd1ca3e6b"
      },
      "source": [
        "train_labels = read_idx_file(Path('FashionMNIST/raw')/'train-labels-idx1-ubyte')\n",
        "train_images = read_idx_file(Path('FashionMNIST/raw')/'train-images-idx3-ubyte')\n",
        "images = np.vstack((train_images, test_images))\n",
        "labels = np.hstack((train_labels, test_labels))\n",
        "images.shape, labels.shape "
      ],
      "execution_count": 16,
      "outputs": [
        {
          "output_type": "execute_result",
          "data": {
            "text/plain": [
              "((70000, 28, 28), (70000,))"
            ]
          },
          "metadata": {},
          "execution_count": 16
        }
      ]
    },
    {
      "cell_type": "markdown",
      "metadata": {
        "id": "MYjvdZm_O1bh"
      },
      "source": [
        "And let's make a little function to colorize the image according to the class number.  Essentially we'll make the image pixel values the intensity of one of 10 hues:"
      ]
    },
    {
      "cell_type": "code",
      "metadata": {
        "colab": {
          "base_uri": "https://localhost:8080/",
          "height": 1000
        },
        "id": "NWf2vu0qPa_k",
        "outputId": "182b1b9c-42cd-4cbc-91ba-be4f3759448d"
      },
      "source": [
        "# try to choose 10 distinct colors from the PIL library\n",
        "colors = [\"red\", \"orange\",  \"yellow\",  \"lime\",  \"cyan\", \"cornflowerblue\", \"mediumpurple\",  \"magenta\", \"hotpink\", \"blue\"]\n",
        "\n",
        "def color_it(grayscale_img, class_num):\n",
        "    img = Image.fromarray(grayscale_img)\n",
        "    img = ImageOps.colorize(img, black =\"black\", white = colors[class_num])\n",
        "    return img \n",
        "\n",
        "\n",
        "## EXTRA DIFFICULTY: Actually, let's make it even harder for the \"AI\": make it draw, do \"math\", and more...\n",
        "draw_numbers = True  # Not too hard. draws the class number on the output image. harder than just colorizing though\n",
        "flip_these = None #=[3,4,5] #= Extremely hard. certain classes get turned upside down. UNet was not designed for this; renders skip connection near-useless.\n",
        "\n",
        "def draw_text(img, text):\n",
        "    ImageDraw.Draw(img).text( (10, 10), text, (255,255,255))\n",
        "    return img \n",
        "\n",
        "\n",
        "\n",
        "def gen_target(grayscale_img, class_num, draw_num=False, flip_these=None):\n",
        "    \"Routine for producing target output based on input\"\n",
        "    img = color_it(grayscale_img, class_num)\n",
        "    if (flip_these is not None) and (class_num in flip_these): img =  img.transpose(Image.FLIP_TOP_BOTTOM)  # too hard for UNet\n",
        "    if draw_num: img = draw_text(img, str(class_num))  # for added difficulty!! ;-) \n",
        "    return img \n",
        "\n",
        "\n",
        "# let's show off one of each class \n",
        "for class_num in range(10):\n",
        "    i = np.where(labels == class_num)[0][0]\n",
        "    label, code = labels[i], codes[labels[i]]\n",
        "    img1 = gen_target(images[i],label, draw_num=draw_numbers, flip_these=flip_these)       \n",
        "    print(f\"\\n{label} {code}: {np.array(Image.fromarray(images[i])).shape} -> {np.array(img1).shape}\")\n",
        "\n",
        "    fig, ax = plt.subplots(1,2, figsize=(2,1))\n",
        "    ax[0].imshow(images[i], cmap='gray');\n",
        "    ax[1].imshow(img1);\n",
        "    #display(img1)\n",
        "    plt.show()\n"
      ],
      "execution_count": 167,
      "outputs": [
        {
          "output_type": "stream",
          "name": "stdout",
          "text": [
            "\n",
            "0 T-shirt/top: (28, 28) -> (28, 28, 3)\n"
          ]
        },
        {
          "output_type": "display_data",
          "data": {
            "image/png": "[encoded data removed]",
            "text/plain": [
              "<Figure size 144x72 with 2 Axes>"
            ]
          },
          "metadata": {
            "needs_background": "light"
          }
        },
        {
          "output_type": "stream",
          "name": "stdout",
          "text": [
            "\n",
            "1 Trouser: (28, 28) -> (28, 28, 3)\n"
          ]
        },
        {
          "output_type": "display_data",
          "data": {
            "image/png": "[encoded data removed]",
            "text/plain": [
              "<Figure size 144x72 with 2 Axes>"
            ]
          },
          "metadata": {
            "needs_background": "light"
          }
        },
        {
          "output_type": "stream",
          "name": "stdout",
          "text": [
            "\n",
            "2 Pullover: (28, 28) -> (28, 28, 3)\n"
          ]
        },
        {
          "output_type": "display_data",
          "data": {
            "image/png": "[encoded data removed]",
            "text/plain": [
              "<Figure size 144x72 with 2 Axes>"
            ]
          },
          "metadata": {
            "needs_background": "light"
          }
        },
        {
          "output_type": "stream",
          "name": "stdout",
          "text": [
            "\n",
            "3 Dress: (28, 28) -> (28, 28, 3)\n"
          ]
        },
        {
          "output_type": "display_data",
          "data": {
            "image/png": "[encoded data removed]",
            "text/plain": [
              "<Figure size 144x72 with 2 Axes>"
            ]
          },
          "metadata": {
            "needs_background": "light"
          }
        },
        {
          "output_type": "stream",
          "name": "stdout",
          "text": [
            "\n",
            "4 Coat: (28, 28) -> (28, 28, 3)\n"
          ]
        },
        {
          "output_type": "display_data",
          "data": {
            "image/png": "[encoded data removed]",
            "text/plain": [
              "<Figure size 144x72 with 2 Axes>"
            ]
          },
          "metadata": {
            "needs_background": "light"
          }
        },
        {
          "output_type": "stream",
          "name": "stdout",
          "text": [
            "\n",
            "5 Sandal: (28, 28) -> (28, 28, 3)\n"
          ]
        },
        {
          "output_type": "display_data",
          "data": {
            "image/png": "[encoded data removed]",
            "text/plain": [
              "<Figure size 144x72 with 2 Axes>"
            ]
          },
          "metadata": {
            "needs_background": "light"
          }
        },
        {
          "output_type": "stream",
          "name": "stdout",
          "text": [
            "\n",
            "6 Shirt: (28, 28) -> (28, 28, 3)\n"
          ]
        },
        {
          "output_type": "display_data",
          "data": {
            "image/png": "[encoded data removed]",
            "text/plain": [
              "<Figure size 144x72 with 2 Axes>"
            ]
          },
          "metadata": {
            "needs_background": "light"
          }
        },
        {
          "output_type": "stream",
          "name": "stdout",
          "text": [
            "\n",
            "7 Sneaker: (28, 28) -> (28, 28, 3)\n"
          ]
        },
        {
          "output_type": "display_data",
          "data": {
            "image/png": "[encoded data removed]",
            "text/plain": [
              "<Figure size 144x72 with 2 Axes>"
            ]
          },
          "metadata": {
            "needs_background": "light"
          }
        },
        {
          "output_type": "stream",
          "name": "stdout",
          "text": [
            "\n",
            "8 Bag: (28, 28) -> (28, 28, 3)\n"
          ]
        },
        {
          "output_type": "display_data",
          "data": {
            "image/png": "[encoded data removed]",
            "text/plain": [
              "<Figure size 144x72 with 2 Axes>"
            ]
          },
          "metadata": {
            "needs_background": "light"
          }
        },
        {
          "output_type": "stream",
          "name": "stdout",
          "text": [
            "\n",
            "9 Ankle boot: (28, 28) -> (28, 28, 3)\n"
          ]
        },
        {
          "output_type": "display_data",
          "data": {
            "image/png": "[encoded data removed]",
            "text/plain": [
              "<Figure size 144x72 with 2 Axes>"
            ]
          },
          "metadata": {
            "needs_background": "light"
          }
        }
      ]
    },
    {
      "cell_type": "markdown",
      "metadata": {
        "id": "QHmdzcrRWncc"
      },
      "source": [
        "New we're ready to write to our new dataset!  This will take about a minute to run:"
      ]
    },
    {
      "cell_type": "code",
      "metadata": {
        "colab": {
          "base_uri": "https://localhost:8080/",
          "height": 330
        },
        "id": "p664qBBgM0UK",
        "outputId": "19151672-92f6-4a63-a6d5-38e1053b83f0"
      },
      "source": [
        "for i in range(labels.shape[0]):\n",
        "    # how about if we start with the image's unique number and follow with the class number\n",
        "    filename = f\"{i}_{labels[i]}\" \n",
        "    out_image = gen_target(images[i], labels[i], draw_num=draw_numbers, flip_these=flip_these)\n",
        "    in_image = Image.fromarray(images[i]).convert('RGB')   # go ahead and make it a full RGB image even though it's grayscale\n",
        "    in_image.save(str(image_path)+'/'+filename+'.png')  # save...\n",
        "    out_image.save(str(label_path)+'/'+filename+'_P.png')\n",
        "    if (i+1) % 10000 == 0: \n",
        "        print(f\"Just saved image {i+1} of {len(labels)}: {filename} ({codes[labels[i]]})\")\n",
        "        display(out_image)"
      ],
      "execution_count": 168,
      "outputs": [
        {
          "output_type": "stream",
          "name": "stdout",
          "text": [
            "Just saved image 10000 of 70000: 9999_6 (Shirt)\n"
          ]
        },
        {
          "output_type": "display_data",
          "data": {
            "image/png": "[encoded data removed]",
            "text/plain": [
              "<PIL.Image.Image image mode=RGB size=28x28 at 0x7F4766B47310>"
            ]
          },
          "metadata": {}
        },
        {
          "output_type": "stream",
          "name": "stdout",
          "text": [
            "Just saved image 20000 of 70000: 19999_4 (Coat)\n"
          ]
        },
        {
          "output_type": "display_data",
          "data": {
            "image/png": "[encoded data removed]",
            "text/plain": [
              "<PIL.Image.Image image mode=RGB size=28x28 at 0x7F473E154B90>"
            ]
          },
          "metadata": {}
        },
        {
          "output_type": "stream",
          "name": "stdout",
          "text": [
            "Just saved image 30000 of 70000: 29999_8 (Bag)\n"
          ]
        },
        {
          "output_type": "display_data",
          "data": {
            "image/png": "[encoded data removed]",
            "text/plain": [
              "<PIL.Image.Image image mode=RGB size=28x28 at 0x7F466897EFD0>"
            ]
          },
          "metadata": {}
        },
        {
          "output_type": "stream",
          "name": "stdout",
          "text": [
            "Just saved image 40000 of 70000: 39999_0 (T-shirt/top)\n"
          ]
        },
        {
          "output_type": "display_data",
          "data": {
            "image/png": "[encoded data removed]",
            "text/plain": [
              "<PIL.Image.Image image mode=RGB size=28x28 at 0x7F467F9512D0>"
            ]
          },
          "metadata": {}
        },
        {
          "output_type": "stream",
          "name": "stdout",
          "text": [
            "Just saved image 50000 of 70000: 49999_7 (Sneaker)\n"
          ]
        },
        {
          "output_type": "display_data",
          "data": {
            "image/png": "[encoded data removed]",
            "text/plain": [
              "<PIL.Image.Image image mode=RGB size=28x28 at 0x7F4764259350>"
            ]
          },
          "metadata": {}
        },
        {
          "output_type": "stream",
          "name": "stdout",
          "text": [
            "Just saved image 60000 of 70000: 59999_5 (Sandal)\n"
          ]
        },
        {
          "output_type": "display_data",
          "data": {
            "image/png": "[encoded data removed]",
            "text/plain": [
              "<PIL.Image.Image image mode=RGB size=28x28 at 0x7F467F80E4D0>"
            ]
          },
          "metadata": {}
        },
        {
          "output_type": "stream",
          "name": "stdout",
          "text": [
            "Just saved image 70000 of 70000: 69999_5 (Sandal)\n"
          ]
        },
        {
          "output_type": "display_data",
          "data": {
            "image/png": "[encoded data removed]",
            "text/plain": [
              "<PIL.Image.Image image mode=RGB size=28x28 at 0x7F47676A0C90>"
            ]
          },
          "metadata": {}
        }
      ]
    },
    {
      "cell_type": "markdown",
      "metadata": {
        "id": "ZDuRsk8oXV7w"
      },
      "source": [
        "Now we're ready to define our model.  Although.... one more thing: fastai likes to have a function called `get_y` that will convert an input filename to an output filename. So we'll do that:"
      ]
    },
    {
      "cell_type": "code",
      "metadata": {
        "id": "Nvfo8JQ3Xh8l"
      },
      "source": [
        "def get_y(in_name): \n",
        "    return str(in_name).replace('images','labels').replace('.png','_P.png')"
      ],
      "execution_count": 95,
      "outputs": []
    },
    {
      "cell_type": "code",
      "metadata": {
        "colab": {
          "base_uri": "https://localhost:8080/"
        },
        "id": "F0uGpIopmkkD",
        "outputId": "ab861128-faba-457e-8648-0b0048e40a69"
      },
      "source": [
        "# tests to make sure get_y works:\n",
        "in_name = sorted((newpath / 'images').ls())[0]\n",
        "out_name = sorted((newpath / 'labels').ls())[0]\n",
        "print(str(in_name),\" goes to...\")\n",
        "print(get_y(in_name))  # should be the same as ...\n",
        "print(str(out_name))  # should be the same ^\n",
        "\n",
        "assert get_y(in_name) == str(out_name)  # did we get the same thing?\n",
        "assert out_name.is_file()  # does this out file really exist on the disk?"
      ],
      "execution_count": 96,
      "outputs": [
        {
          "output_type": "stream",
          "name": "stdout",
          "text": [
            "/root/.fastai/data/fashion_mnist/images/0_9.png  goes to...\n",
            "/root/.fastai/data/fashion_mnist/labels/0_9_P.png\n",
            "/root/.fastai/data/fashion_mnist/labels/0_9_P.png\n"
          ]
        }
      ]
    },
    {
      "cell_type": "markdown",
      "metadata": {
        "id": "nDJYc2Qeadfe"
      },
      "source": [
        "# Define Fastai Dataset"
      ]
    },
    {
      "cell_type": "code",
      "metadata": {
        "colab": {
          "base_uri": "https://localhost:8080/",
          "height": 520
        },
        "id": "kE2fQ1jaZAwC",
        "outputId": "4c1d16ec-d2a3-4a3a-b178-53d6948c16fb"
      },
      "source": [
        "# Drawing numbers limits our data augmentation options, sadly. Otherwise we can go nuts!\n",
        "tmfs = aug_transforms(do_flip=False, max_warp=0.0, max_rotate=0) if draw_numbers else aug_transforms()\n",
        "\n",
        "fmnist_block = DataBlock(blocks=(ImageBlock, ImageBlock),  # map from image to image\n",
        "                   get_items=get_image_files,   # get_image_files is part of fastai \n",
        "                   splitter=RandomSplitter(),\n",
        "                   get_y=get_y,\n",
        "                   batch_tfms=[IntToFloatTensor(), *tmfs, Normalize()])\n",
        "\n",
        "dls = fmnist_block.dataloaders(newpath/'images', bs=64)\n",
        "dls.show_batch()"
      ],
      "execution_count": 171,
      "outputs": [
        {
          "output_type": "display_data",
          "data": {
            "image/png": "[encoded data removed]",
            "text/plain": [
              "<Figure size 1296x648 with 18 Axes>"
            ]
          },
          "metadata": {
            "needs_background": "light"
          }
        }
      ]
    },
    {
      "cell_type": "code",
      "metadata": {
        "id": "G9Z0cbJquVa-"
      },
      "source": [
        "# let's define an accuracy metric that just compares (colors of) pixels\n",
        "def acc_fmnist(pred, targ, tol=1.0):\n",
        "    where_correct = (pred-targ).abs() < tol  # 1's wherever we're within tolerance, 0's elsewhere\n",
        "    return torch.flatten(where_correct).float().mean()"
      ],
      "execution_count": 172,
      "outputs": []
    },
    {
      "cell_type": "markdown",
      "metadata": {
        "id": "AhbGz9YdnndC"
      },
      "source": [
        "### Define the Learner"
      ]
    },
    {
      "cell_type": "code",
      "metadata": {
        "id": "L4G6hOCicBfL"
      },
      "source": [
        "opt = ranger\n",
        "learn = unet_learner(dls, resnet34, loss_func=MSELossFlat(), n_out=3, # output 3 color channels\n",
        "                     self_attention=True, metrics=acc_fmnist, act_cls=Mish, opt_func=opt)"
      ],
      "execution_count": 173,
      "outputs": []
    },
    {
      "cell_type": "code",
      "metadata": {
        "colab": {
          "base_uri": "https://localhost:8080/",
          "height": 300
        },
        "id": "S8zJuHDSclt3",
        "outputId": "449c7df8-a22f-402c-9cfe-d4f2b55108df"
      },
      "source": [
        "learn.lr_find()"
      ],
      "execution_count": 174,
      "outputs": [
        {
          "output_type": "display_data",
          "data": {
            "text/html": [
              ""
            ],
            "text/plain": [
              "<IPython.core.display.HTML object>"
            ]
          },
          "metadata": {}
        },
        {
          "output_type": "execute_result",
          "data": {
            "text/plain": [
              "SuggestedLRs(valley=0.00013182566908653826)"
            ]
          },
          "metadata": {},
          "execution_count": 174
        },
        {
          "output_type": "display_data",
          "data": {
            "image/png": "[encoded data removed]",
            "text/plain": [
              "<Figure size 432x288 with 1 Axes>"
            ]
          },
          "metadata": {
            "needs_background": "light"
          }
        }
      ]
    },
    {
      "cell_type": "markdown",
      "metadata": {
        "id": "CVh1uoobnqA6"
      },
      "source": [
        "### Train the model "
      ]
    },
    {
      "cell_type": "code",
      "metadata": {
        "colab": {
          "base_uri": "https://localhost:8080/",
          "height": 234
        },
        "id": "Bo4czocGdBaK",
        "outputId": "0cf015d4-acfb-47c1-804d-348d54305ecf"
      },
      "source": [
        "lr = 1e-4\n",
        "learn.fit_flat_cos(6, slice(lr))  # this will take ~2 minutes per epoch on Colab"
      ],
      "execution_count": 175,
      "outputs": [
        {
          "output_type": "display_data",
          "data": {
            "text/html": [
              "<table border=\"1\" class=\"dataframe\">\n",
              "  <thead>\n",
              "    <tr style=\"text-align: left;\">\n",
              "      <th>epoch</th>\n",
              "      <th>train_loss</th>\n",
              "      <th>valid_loss</th>\n",
              "      <th>acc_fmnist</th>\n",
              "      <th>time</th>\n",
              "    </tr>\n",
              "  </thead>\n",
              "  <tbody>\n",
              "    <tr>\n",
              "      <td>0</td>\n",
              "      <td>0.115360</td>\n",
              "      <td>0.111730</td>\n",
              "      <td>0.972748</td>\n",
              "      <td>02:03</td>\n",
              "    </tr>\n",
              "    <tr>\n",
              "      <td>1</td>\n",
              "      <td>0.092149</td>\n",
              "      <td>0.080181</td>\n",
              "      <td>0.980952</td>\n",
              "      <td>01:57</td>\n",
              "    </tr>\n",
              "    <tr>\n",
              "      <td>2</td>\n",
              "      <td>0.078902</td>\n",
              "      <td>0.070919</td>\n",
              "      <td>0.982596</td>\n",
              "      <td>01:56</td>\n",
              "    </tr>\n",
              "    <tr>\n",
              "      <td>3</td>\n",
              "      <td>0.073766</td>\n",
              "      <td>0.064198</td>\n",
              "      <td>0.984295</td>\n",
              "      <td>01:56</td>\n",
              "    </tr>\n",
              "    <tr>\n",
              "      <td>4</td>\n",
              "      <td>0.071223</td>\n",
              "      <td>0.061947</td>\n",
              "      <td>0.984503</td>\n",
              "      <td>01:56</td>\n",
              "    </tr>\n",
              "    <tr>\n",
              "      <td>5</td>\n",
              "      <td>0.060297</td>\n",
              "      <td>0.057271</td>\n",
              "      <td>0.985598</td>\n",
              "      <td>01:57</td>\n",
              "    </tr>\n",
              "  </tbody>\n",
              "</table>"
            ],
            "text/plain": [
              "<IPython.core.display.HTML object>"
            ]
          },
          "metadata": {}
        }
      ]
    },
    {
      "cell_type": "code",
      "metadata": {
        "colab": {
          "base_uri": "https://localhost:8080/"
        },
        "id": "CWLUk6f3kMuS",
        "outputId": "822e2279-bb8f-4fcc-ce39-6685dba8c479"
      },
      "source": [
        "learn.save('fmnist-1') # save a checkpoint\n",
        "learn.load('fmnist-1')"
      ],
      "execution_count": 176,
      "outputs": [
        {
          "output_type": "execute_result",
          "data": {
            "text/plain": [
              "<fastai.learner.Learner at 0x7f473e1e2110>"
            ]
          },
          "metadata": {},
          "execution_count": 176
        }
      ]
    },
    {
      "cell_type": "markdown",
      "metadata": {
        "id": "PFeBWJCAnyQM"
      },
      "source": [
        "The training above was with key parts of the model frozen.  Let's unfreeze and train a little longer..."
      ]
    },
    {
      "cell_type": "code",
      "metadata": {
        "id": "N9gFSp4XnXBL"
      },
      "source": [
        "# now shrink learning rate(s) and unfreeze, then train some more\n",
        "lrs = slice(lr/400, lr/4)\n",
        "learn.unfreeze()"
      ],
      "execution_count": 177,
      "outputs": []
    },
    {
      "cell_type": "code",
      "metadata": {
        "colab": {
          "base_uri": "https://localhost:8080/",
          "height": 234
        },
        "id": "9WHXg9qenfLW",
        "outputId": "24271328-cef0-4451-d43d-06396a659e9e"
      },
      "source": [
        "learn.fit_flat_cos(6, lrs)"
      ],
      "execution_count": 178,
      "outputs": [
        {
          "output_type": "display_data",
          "data": {
            "text/html": [
              "<table border=\"1\" class=\"dataframe\">\n",
              "  <thead>\n",
              "    <tr style=\"text-align: left;\">\n",
              "      <th>epoch</th>\n",
              "      <th>train_loss</th>\n",
              "      <th>valid_loss</th>\n",
              "      <th>acc_fmnist</th>\n",
              "      <th>time</th>\n",
              "    </tr>\n",
              "  </thead>\n",
              "  <tbody>\n",
              "    <tr>\n",
              "      <td>0</td>\n",
              "      <td>0.060962</td>\n",
              "      <td>0.057983</td>\n",
              "      <td>0.985363</td>\n",
              "      <td>02:04</td>\n",
              "    </tr>\n",
              "    <tr>\n",
              "      <td>1</td>\n",
              "      <td>0.060401</td>\n",
              "      <td>0.057816</td>\n",
              "      <td>0.985326</td>\n",
              "      <td>02:02</td>\n",
              "    </tr>\n",
              "    <tr>\n",
              "      <td>2</td>\n",
              "      <td>0.053792</td>\n",
              "      <td>0.057215</td>\n",
              "      <td>0.985588</td>\n",
              "      <td>02:03</td>\n",
              "    </tr>\n",
              "    <tr>\n",
              "      <td>3</td>\n",
              "      <td>0.054581</td>\n",
              "      <td>0.059281</td>\n",
              "      <td>0.984866</td>\n",
              "      <td>02:02</td>\n",
              "    </tr>\n",
              "    <tr>\n",
              "      <td>4</td>\n",
              "      <td>0.053544</td>\n",
              "      <td>0.055827</td>\n",
              "      <td>0.985624</td>\n",
              "      <td>02:02</td>\n",
              "    </tr>\n",
              "    <tr>\n",
              "      <td>5</td>\n",
              "      <td>0.048946</td>\n",
              "      <td>0.054314</td>\n",
              "      <td>0.986020</td>\n",
              "      <td>02:02</td>\n",
              "    </tr>\n",
              "  </tbody>\n",
              "</table>"
            ],
            "text/plain": [
              "<IPython.core.display.HTML object>"
            ]
          },
          "metadata": {}
        }
      ]
    },
    {
      "cell_type": "markdown",
      "metadata": {
        "id": "_34yWiqv1Xug"
      },
      "source": [
        "...and we could keep training longer to see how much better we can do, but this is pretty good for now. ;-) "
      ]
    },
    {
      "cell_type": "code",
      "metadata": {
        "colab": {
          "base_uri": "https://localhost:8080/"
        },
        "id": "vU8CPd25n37O",
        "outputId": "633c3609-3072-4af9-bfd8-a5c6dc689465"
      },
      "source": [
        "learn.save('fmnist-2') # save a checkpoint for the unfrozen training result\n",
        "learn.load('fmnist-2')"
      ],
      "execution_count": 179,
      "outputs": [
        {
          "output_type": "execute_result",
          "data": {
            "text/plain": [
              "<fastai.learner.Learner at 0x7f473e1e2110>"
            ]
          },
          "metadata": {},
          "execution_count": 179
        }
      ]
    },
    {
      "cell_type": "markdown",
      "metadata": {
        "id": "4t2ldwhsoEx_"
      },
      "source": [
        "Let's make a pair of Target/Prediction columns:"
      ]
    },
    {
      "cell_type": "code",
      "metadata": {
        "colab": {
          "base_uri": "https://localhost:8080/",
          "height": 1000
        },
        "id": "tUDTQuZzn7VA",
        "outputId": "8b11a505-021f-4266-ac06-9702dcf9014a"
      },
      "source": [
        "learn.show_results(max_n=15, figsize=(14,20))"
      ],
      "execution_count": 187,
      "outputs": [
        {
          "output_type": "display_data",
          "data": {
            "text/html": [
              ""
            ],
            "text/plain": [
              "<IPython.core.display.HTML object>"
            ]
          },
          "metadata": {}
        },
        {
          "output_type": "display_data",
          "data": {
            "image/png": "[encoded data removed]",
            "text/plain": [
              "<Figure size 1008x1440 with 45 Axes>"
            ]
          },
          "metadata": {
            "needs_background": "light"
          }
        }
      ]
    },
    {
      "cell_type": "markdown",
      "metadata": {
        "id": "4yMk1OFtvojj"
      },
      "source": [
        "If you keep running `learn.show_results()` over and over again, you'll notice the occasional mistake, such as a dress with arms that gets mistaken for a shirt, or a shirt that gets mistaken for a coat, etc., but on the whole it does pretty well!"
      ]
    },
    {
      "cell_type": "markdown",
      "metadata": {
        "id": "OjZa7fVQr0bL"
      },
      "source": [
        "## Further thoughts\n",
        "\n",
        "* **TODO:** Write a really awful, inefficient UNet/autoencoder model lacking skip connections, to show how much worse it is...?\n",
        "\n",
        "* **What I'd rather see someone try:** \n",
        "Go up to the part where it's writing the digit on the image, but replace that with some kind of integer (mod 10) arithmetic operation. ;-) \n",
        "\n",
        "* **Another application: Restoration**.  We could add defects to the input images (noise, scratches, missing pixels, etc.) and train the autoencoder to remove them. This has many potential applications for audio archiving or restoring old photographs. **For reflection:** Think about how you'd actually create the input and output files for that.\n",
        "\n",
        "* **Lead-Up to GANs:** Want to convert shoes into handbags? For that, our autoencoder would probably have a bad time since that process is (arguably) non-deterministic. Instead, check out [DiscoGAN](https://github.com/SKTBrain/DiscoGAN)!"
      ]
    },
    {
      "cell_type": "code",
      "metadata": {
        "id": "KkIacvLXr6em"
      },
      "source": [
        ""
      ],
      "execution_count": null,
      "outputs": []
    }
  ]
}