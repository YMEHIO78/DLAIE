{
  "nbformat": 4,
  "nbformat_minor": 0,
  "metadata": {
    "colab": {
      "name": "9_Audio.ipynb",
      "provenance": [],
      "collapsed_sections": []
    },
    "kernelspec": {
      "name": "python3",
      "display_name": "Python 3"
    },
    "language_info": {
      "name": "python"
    }
  },
  "cells": [
    {
      "cell_type": "markdown",
      "metadata": {
        "id": "uUB5ZShuzves"
      },
      "source": [
        "# Lesson 9 - Audio\n",
        "\n",
        "## Part I: [Introduction to Audio](https://colab.research.google.com/drive/1hH_FY_OjN0KmH3obnCms5VZCq9UVcfs8?usp=sharing)\n",
        "To gget an overview on some of the important concepts of audio preocessing, read and execute the code in the fastaudio tutorial, [Introduction to Audio](https://colab.research.google.com/drive/1hH_FY_OjN0KmH3obnCms5VZCq9UVcfs8?usp=sharing) notebook.   If you find certain specifics difficult to follow (e.g. `n_hops` in short-time fourier transforms), don't worry, just skip ahead to the other parts of the document and pick up from where you can follow more."
      ]
    },
    {
      "cell_type": "markdown",
      "metadata": {
        "id": "LX6TYCxM0Yix"
      },
      "source": [
        "## Part II: Audio Classification (via Spectrograms and ConvNets)\n",
        "\n",
        "By converting audio files to spectrograms, we can perform audio classification using image processing methods.  Read and execute the notebook from the fastaudio tutorial, [ESC50: Environmental Sound Classification](https://colab.research.google.com/drive/1B_Nn5U8Y4hmxdWVn_zxUK0sFj88iqnSy?usp=sharing).  \n",
        "\n",
        "*Oct 25: Note that there will be some additional analysis code added later this week.*\n"
      ]
    },
    {
      "cell_type": "markdown",
      "metadata": {
        "id": "UYGqWy7A0bXG"
      },
      "source": [
        "## Part III:  Audio Processing in the Time Domain\n",
        "\n",
        "Follow and exectute the code in my tutorial, [Demo of End-to-End Time Domain Audio with fastai](https://drscotthawley.github.io/fastproaudio/td_demo.html). Our speaker Monday November 1 will be [Christian Steinmetz](https://www.christiansteinmetz.com/), the author of the model and code this demo is based on.  \n",
        "\n",
        "*Oct 25: Note that there will be some additional analysis code added later this week.*"
      ]
    },
    {
      "cell_type": "code",
      "metadata": {
        "id": "tQjrSDm80myA"
      },
      "source": [
        ""
      ],
      "execution_count": null,
      "outputs": []
    }
  ]
}